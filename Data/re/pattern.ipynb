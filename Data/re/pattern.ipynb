{
 "cells": [
  {
   "cell_type": "code",
   "execution_count": 67,
   "metadata": {},
   "outputs": [],
   "source": [
    "import re\n",
    "import pprint\n",
    "import rich"
   ]
  },
  {
   "cell_type": "code",
   "execution_count": 78,
   "metadata": {},
   "outputs": [],
   "source": [
    "pp = lambda x : pprint.pprint(x,  width=3)"
   ]
  },
  {
   "cell_type": "markdown",
   "metadata": {},
   "source": [
    "# CLASSES"
   ]
  },
  {
   "cell_type": "code",
   "execution_count": 207,
   "metadata": {},
   "outputs": [],
   "source": [
    "class PATTERNS:\n",
    "   'CLASS of regex PATTERNS'\n",
    "   \n",
    "   AMINOACID = \"[\\s^]([A-Z]\\d+[A-Z]\\/*[A-Z]*)[\\W\\D]\"\n",
    "   \n",
    "   NUCLEOTIDE = \"[\\s^]([ACGTacgt]\\d+[ACGTacgt]\\/*[ACGTacgt]*)[\\W\\D]\"\n",
    "   \n",
    "   MDTABLE = \"\\n\\n(.+\\n\\|(-+|)*-*\\|*\\n.*?)\\n\\n\"\n",
    "   \n",
    "   \n",
    "   def list_():\n",
    "      return [ x for x in PATTERNS.__dict__.keys() if str(x).startswith(\"__\")==False ]\n",
    "   \n"
   ]
  },
  {
   "cell_type": "code",
   "execution_count": 192,
   "metadata": {},
   "outputs": [],
   "source": [
    "class TEST:\n",
    "   \n",
    "   AANT_1 = \"The nucleotides were mutated as A789G and C33322A. This resulted in Amino Acid Subsitutions A123F and P3234G.\"\n",
    "   \n",
    "   TABLEINLINE = \"\"\"\n",
    "   #Section 1\n",
    "   \n",
    "   \n",
    "   ```py\n",
    "      def a(j):\n",
    "         return j\n",
    "   ```\n",
    "   *Table*\n",
    "   \n",
    "   Def | Ref\n",
    "   ----|-----\n",
    "   yada | yada\n",
    "   yada | blah\n",
    "   goo | foo\n",
    "   \n",
    "   DOnt pick this up!\n",
    "   \n",
    "   \"\"\"\n",
    "   \n",
    "   def list_():\n",
    "      return [ x for x in TEST.__dict__.keys() if str(x).startswith(\"__\")==False ]\n"
   ]
  },
  {
   "cell_type": "markdown",
   "metadata": {},
   "source": [
    "# FUNCTIONS"
   ]
  },
  {
   "cell_type": "code",
   "execution_count": 135,
   "metadata": {},
   "outputs": [
    {
     "data": {
      "text/html": [
       "<pre style=\"white-space:pre;overflow-x:auto;line-height:normal;font-family:Menlo,'DejaVu Sans Mono',consolas,'Courier New',monospace\">aa_and_nt :              Extracts AA and NT Mutation substrings from raw text\n",
       "</pre>\n"
      ],
      "text/plain": [
       "aa_and_nt :              Extracts AA and NT Mutation substrings from raw text\n"
      ]
     },
     "metadata": {},
     "output_type": "display_data"
    },
    {
     "data": {
      "text/html": [
       "<pre style=\"white-space:pre;overflow-x:auto;line-height:normal;font-family:Menlo,'DejaVu Sans Mono',consolas,'Courier New',monospace\">parse_pyclass :                  Parse a python CLASS into a readable STRING\n",
       "</pre>\n"
      ],
      "text/plain": [
       "parse_pyclass :                  Parse a python CLASS into a readable STRING\n"
      ]
     },
     "metadata": {},
     "output_type": "display_data"
    }
   ],
   "source": [
    "def parse_pyclass    (cls):\n",
    "   \"\"\"Parse a python CLASS into a readable STRING\"\"\"\n",
    "   out = {}\n",
    "   for x in dict(cls.__dict__).keys():\n",
    "      if x.startswith(\"__\"):\n",
    "         pass\n",
    "      else:\n",
    "         out.update({x:dict(cls.__dict__)[x]})\n",
    "   return out\n",
    "\n",
    "def aa_and_nt        (string):\n",
    "   \"\"\"Extracts AA and NT Mutation substrings from raw text\"\"\"\n",
    "   nt = re.findall(PATTERNS.NUCLEOTIDE, string)\n",
    "   aa = []\n",
    "   aant = re.findall(PATTERNS.AMINOACID, string)\n",
    "   for x in aant:\n",
    "      if x not in nt:\n",
    "         aa.append(x)\n",
    "   return({\"aa\":aa,\"nt\":nt})\n",
    "\n",
    "class FX:\n",
    "   ALL = [aa_and_nt,  parse_pyclass] # : \"get DICT of aa's and nt's mutation strs from RAW TEXT\"}\n",
    "   \n",
    "   def list_():\n",
    "      l = [(x.__name__,x.__doc__) for x in FX.ALL]\n",
    "      for x in l:\n",
    "         print(\"%s : \\t\\t %s\" % (x[0],x[1]))\n",
    "         \n",
    "FX.list_()"
   ]
  },
  {
   "cell_type": "code",
   "execution_count": 137,
   "metadata": {},
   "outputs": [
    {
     "data": {
      "text/html": [
       "<pre style=\"white-space:pre;overflow-x:auto;line-height:normal;font-family:Menlo,'DejaVu Sans Mono',consolas,'Courier New',monospace\">The nucleotides were mutated as A789G and C33322A. This resulted in Amino Acid Subsitutions \n",
       "A123F and P3234G.\n",
       "</pre>\n"
      ],
      "text/plain": [
       "The nucleotides were mutated as A789G and C33322A. This resulted in Amino Acid Subsitutions \n",
       "A123F and P3234G.\n"
      ]
     },
     "metadata": {},
     "output_type": "display_data"
    },
    {
     "name": "stdout",
     "output_type": "stream",
     "text": [
      "{'aa': ['A123F',\n",
      "        'P3234G'],\n",
      " 'nt': ['A789G',\n",
      "        'C33322A']}\n"
     ]
    }
   ],
   "source": [
    "def EX_aa_and_nt_separation():\n",
    "   aant = aa_and_nt(TEST.AANT_1)\n",
    "   print(TEST.AANT_1)\n",
    "   pp(aant)\n",
    "EX_aa_and_nt_separation()"
   ]
  },
  {
   "cell_type": "code",
   "execution_count": 147,
   "metadata": {},
   "outputs": [
    {
     "data": {
      "text/plain": [
       "{'AMINOACID': <property at 0x11d0387c0>,\n",
       " 'NUCLEOTIDE': <property at 0x11d077e00>,\n",
       " 'list_': <function __main__.PATTERNS.list_()>}"
      ]
     },
     "execution_count": 147,
     "metadata": {},
     "output_type": "execute_result"
    }
   ],
   "source": [
    "def EX_parse_pyclass():\n",
    "   return parse_pyclass(PATTERNS)\n",
    "EX_parse_pyclass()"
   ]
  },
  {
   "cell_type": "code",
   "execution_count": 211,
   "metadata": {},
   "outputs": [
    {
     "data": {
      "text/plain": [
       "[]"
      ]
     },
     "execution_count": 211,
     "metadata": {},
     "output_type": "execute_result"
    }
   ],
   "source": [
    "def EX_getTable ():\n",
    "   P = PATTERNS.MDTABLE\n",
    "   T = TEST.TABLEINLINE\n",
    "   return re.findall(P,T)\n",
    "EX_getTable()"
   ]
  }
 ],
 "metadata": {
  "interpreter": {
   "hash": "31f2aee4e71d21fbe5cf8b01ff0e069b9275f58929596ceb00d14d90e3e16cd6"
  },
  "kernelspec": {
   "display_name": "Python 3.8.2 64-bit",
   "language": "python",
   "name": "python3"
  },
  "language_info": {
   "codemirror_mode": {
    "name": "ipython",
    "version": 3
   },
   "file_extension": ".py",
   "mimetype": "text/x-python",
   "name": "python",
   "nbconvert_exporter": "python",
   "pygments_lexer": "ipython3",
   "version": "3.8.2"
  },
  "orig_nbformat": 4
 },
 "nbformat": 4,
 "nbformat_minor": 2
}
