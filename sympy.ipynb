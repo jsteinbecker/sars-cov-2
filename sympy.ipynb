{
 "cells": [
  {
   "cell_type": "code",
   "execution_count": 11,
   "metadata": {},
   "outputs": [],
   "source": [
    "import sympy as sp\n",
    "from IPython.display import display, Markdown"
   ]
  },
  {
   "cell_type": "markdown",
   "metadata": {},
   "source": [
    "DEFINE SYMBOLS"
   ]
  },
  {
   "cell_type": "code",
   "execution_count": 12,
   "metadata": {},
   "outputs": [],
   "source": [
    "pH, pOH, pKW , h3o = sp.var(\"pH pOH pK_W [H_{3}O^+]\")"
   ]
  },
  {
   "cell_type": "code",
   "execution_count": 13,
   "metadata": {},
   "outputs": [
    {
     "data": {
      "text/latex": [
       "$\\displaystyle pH = - \\log{\\left([H_{3}O^+] \\right)}$"
      ],
      "text/plain": [
       "Eq(pH, -log([H_{3}O^+]))"
      ]
     },
     "metadata": {},
     "output_type": "display_data"
    },
    {
     "data": {
      "text/latex": [
       "$\\displaystyle pH + pOH = 14$"
      ],
      "text/plain": [
       "Eq(pH + pOH, 14)"
      ]
     },
     "metadata": {},
     "output_type": "display_data"
    }
   ],
   "source": [
    "pH_pOH_Sum = sp.Eq(pH + pOH, 14)\n",
    "pH_equation = sp.Eq(pH,-sp.log(h3o))\n",
    "display(pH_equation)\n",
    "display(pH_pOH_Sum)"
   ]
  },
  {
   "cell_type": "markdown",
   "metadata": {},
   "source": [
    "Solve for Variable Rearrangement\n",
    "```py\n",
    "sp.solve (1:Eq, 2:var_to_isolate)\n",
    "```"
   ]
  },
  {
   "cell_type": "code",
   "execution_count": 14,
   "metadata": {},
   "outputs": [],
   "source": [
    "def solveEq (equation,solvefor):\n",
    "   \"\"\"\n",
    "   |--MARKDOWN DISPLAY FUNCTION--------------------|\n",
    "   |  SOLVE SYMPY EQUATION, DISPLAYS BOXED ANSWER  |\n",
    "   |===============================================|\n",
    "   \"\"\"\n",
    "   display(equation)\n",
    "   display(Markdown(\"*Solve for \" + solvefor._repr_latex_() + \":*\"))\n",
    "   s = sp.solve(equation,solvefor)[0]\n",
    "   eq = sp.Eq(solvefor,s)\n",
    "   display (Markdown(\"$~~~~~~~~~~\\\\boxed{\"+eq._repr_latex_().replace(\"$\",\"\")+\"}$\"))\n",
    "   return eq"
   ]
  },
  {
   "cell_type": "code",
   "execution_count": 15,
   "metadata": {},
   "outputs": [
    {
     "data": {
      "text/latex": [
       "$\\displaystyle pH = - \\log{\\left([H_{3}O^+] \\right)}$"
      ],
      "text/plain": [
       "Eq(pH, -log([H_{3}O^+]))"
      ]
     },
     "metadata": {},
     "output_type": "display_data"
    },
    {
     "data": {
      "text/markdown": [
       "*Solve for $\\displaystyle [H_{3}O^+]$:*"
      ],
      "text/plain": [
       "<IPython.core.display.Markdown object>"
      ]
     },
     "metadata": {},
     "output_type": "display_data"
    },
    {
     "data": {
      "text/markdown": [
       "$~~~~~~~~~~\\boxed{\\displaystyle [H_{3}O^+] = e^{- pH}}$"
      ],
      "text/plain": [
       "<IPython.core.display.Markdown object>"
      ]
     },
     "metadata": {},
     "output_type": "display_data"
    },
    {
     "data": {
      "text/latex": [
       "$\\displaystyle [H_{3}O^+] = e^{- pH}$"
      ],
      "text/plain": [
       "Eq([H_{3}O^+], exp(-pH))"
      ]
     },
     "execution_count": 15,
     "metadata": {},
     "output_type": "execute_result"
    }
   ],
   "source": [
    "solveEq(pH_equation,h3o)"
   ]
  },
  {
   "cell_type": "code",
   "execution_count": 16,
   "metadata": {},
   "outputs": [
    {
     "data": {
      "text/latex": [
       "$\\displaystyle pH + pOH = 14$"
      ],
      "text/plain": [
       "Eq(pH + pOH, 14)"
      ]
     },
     "metadata": {},
     "output_type": "display_data"
    },
    {
     "data": {
      "text/markdown": [
       "*Solve for $\\displaystyle pH$:*"
      ],
      "text/plain": [
       "<IPython.core.display.Markdown object>"
      ]
     },
     "metadata": {},
     "output_type": "display_data"
    },
    {
     "data": {
      "text/markdown": [
       "$~~~~~~~~~~\\boxed{\\displaystyle pH = 14 - pOH}$"
      ],
      "text/plain": [
       "<IPython.core.display.Markdown object>"
      ]
     },
     "metadata": {},
     "output_type": "display_data"
    },
    {
     "data": {
      "text/latex": [
       "$\\displaystyle pH = 14 - pOH$"
      ],
      "text/plain": [
       "Eq(pH, 14 - pOH)"
      ]
     },
     "execution_count": 16,
     "metadata": {},
     "output_type": "execute_result"
    }
   ],
   "source": [
    "solveEq(pH_pOH_Sum,pH)"
   ]
  },
  {
   "cell_type": "code",
   "execution_count": 17,
   "metadata": {},
   "outputs": [
    {
     "data": {
      "text/latex": [
       "$\\displaystyle \\lambda = \\frac{3 x^{2}}{\\beta y}$"
      ],
      "text/plain": [
       "Eq(lambda, 3*x**2/(beta*y))"
      ]
     },
     "metadata": {},
     "output_type": "display_data"
    },
    {
     "data": {
      "text/markdown": [
       "*Solve for $\\displaystyle y$:*"
      ],
      "text/plain": [
       "<IPython.core.display.Markdown object>"
      ]
     },
     "metadata": {},
     "output_type": "display_data"
    },
    {
     "data": {
      "text/markdown": [
       "$~~~~~~~~~~\\boxed{\\displaystyle y = \\frac{3 x^{2}}{\\beta \\lambda}}$"
      ],
      "text/plain": [
       "<IPython.core.display.Markdown object>"
      ]
     },
     "metadata": {},
     "output_type": "display_data"
    },
    {
     "data": {
      "text/latex": [
       "$\\displaystyle y = \\frac{3 x^{2}}{\\beta \\lambda}$"
      ],
      "text/plain": [
       "Eq(y, 3*x**2/(beta*lambda))"
      ]
     },
     "metadata": {},
     "output_type": "display_data"
    },
    {
     "data": {
      "text/markdown": [
       "---"
      ],
      "text/plain": [
       "<IPython.core.display.Markdown object>"
      ]
     },
     "metadata": {},
     "output_type": "display_data"
    },
    {
     "data": {
      "text/latex": [
       "$\\displaystyle \\lambda = \\frac{3 x^{2}}{\\beta y}$"
      ],
      "text/plain": [
       "Eq(lambda, 3*x**2/(beta*y))"
      ]
     },
     "metadata": {},
     "output_type": "display_data"
    },
    {
     "data": {
      "text/markdown": [
       "*Solve for $\\displaystyle x$:*"
      ],
      "text/plain": [
       "<IPython.core.display.Markdown object>"
      ]
     },
     "metadata": {},
     "output_type": "display_data"
    },
    {
     "data": {
      "text/markdown": [
       "$~~~~~~~~~~\\boxed{\\displaystyle x = - \\frac{\\sqrt{3} \\sqrt{\\beta \\lambda y}}{3}}$"
      ],
      "text/plain": [
       "<IPython.core.display.Markdown object>"
      ]
     },
     "metadata": {},
     "output_type": "display_data"
    },
    {
     "data": {
      "text/latex": [
       "$\\displaystyle x = - \\frac{\\sqrt{3} \\sqrt{\\beta \\lambda y}}{3}$"
      ],
      "text/plain": [
       "Eq(x, -sqrt(3)*sqrt(beta*lambda*y)/3)"
      ]
     },
     "metadata": {},
     "output_type": "display_data"
    }
   ],
   "source": [
    "x, y, b, lam= sp.symbols(\"x y beta lambda\")\n",
    "EQN = sp.Eq(lam, 3*x**2/(b*y))\n",
    "\n",
    "display(solveEq(EQN,y))\n",
    "display(Markdown(\"---\"))\n",
    "display(solveEq(EQN,x))"
   ]
  },
  {
   "cell_type": "code",
   "execution_count": 29,
   "metadata": {},
   "outputs": [
    {
     "data": {
      "text/latex": [
       "$\\displaystyle y = 3 \\sin{\\left(x^{2} \\right)}$"
      ],
      "text/plain": [
       "Eq(y, 3*sin(x**2))"
      ]
     },
     "metadata": {},
     "output_type": "display_data"
    },
    {
     "data": {
      "text/markdown": [
       "*Solve for $\\displaystyle x$:*"
      ],
      "text/plain": [
       "<IPython.core.display.Markdown object>"
      ]
     },
     "metadata": {},
     "output_type": "display_data"
    },
    {
     "data": {
      "text/markdown": [
       "$~~~~~~~~~~\\boxed{\\displaystyle x = - \\sqrt{\\pi - \\operatorname{asin}{\\left(\\frac{y}{3} \\right)}}}$"
      ],
      "text/plain": [
       "<IPython.core.display.Markdown object>"
      ]
     },
     "metadata": {},
     "output_type": "display_data"
    },
    {
     "data": {
      "text/latex": [
       "$\\displaystyle x = - \\sqrt{\\pi - \\operatorname{asin}{\\left(\\frac{y}{3} \\right)}}$"
      ],
      "text/plain": [
       "Eq(x, -sqrt(pi - asin(y/3)))"
      ]
     },
     "execution_count": 29,
     "metadata": {},
     "output_type": "execute_result"
    }
   ],
   "source": [
    "EQ = sp.Eq(y,3*sp.sin(x**2))\n",
    "solveEq(EQ,x)"
   ]
  },
  {
   "cell_type": "code",
   "execution_count": 19,
   "metadata": {},
   "outputs": [
    {
     "data": {
      "text/latex": [
       "$\\displaystyle y = 3 \\sin{\\left(x^{2} \\right)}$"
      ],
      "text/plain": [
       "Eq(y, 3*sin(x**2))"
      ]
     },
     "metadata": {},
     "output_type": "display_data"
    },
    {
     "data": {
      "image/png": "[encoded data removed]",
      "text/plain": [
       "<Figure size 432x288 with 1 Axes>"
      ]
     },
     "metadata": {
      "needs_background": "light"
     },
     "output_type": "display_data"
    },
    {
     "data": {
      "text/plain": [
       "<sympy.plotting.plot.Plot at 0x11a2557c0>"
      ]
     },
     "metadata": {},
     "output_type": "display_data"
    }
   ],
   "source": [
    "display (EQ)\n",
    "display (sp.plot_implicit(EQ))"
   ]
  }
 ],
 "metadata": {
  "interpreter": {
   "hash": "8fd295a7007e560b192f709854f66b36915a5382ae77c4fca9f0e6f21003d31e"
  },
  "kernelspec": {
   "display_name": "Python 3.9.5 ('base')",
   "language": "python",
   "name": "python3"
  },
  "language_info": {
   "codemirror_mode": {
    "name": "ipython",
    "version": 3
   },
   "file_extension": ".py",
   "mimetype": "text/x-python",
   "name": "python",
   "nbconvert_exporter": "python",
   "pygments_lexer": "ipython3",
   "version": "3.8.2"
  },
  "orig_nbformat": 4
 },
 "nbformat": 4,
 "nbformat_minor": 2
}
