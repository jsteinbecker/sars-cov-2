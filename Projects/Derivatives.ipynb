{
 "cells": [
  {
   "cell_type": "code",
   "execution_count": 11,
   "metadata": {},
   "outputs": [],
   "source": [
    "import sympy as sp\n",
    "import pandas as pd\n",
    "from IPython.display import Markdown\n",
    "from sympy import Equality"
   ]
  },
  {
   "cell_type": "code",
   "execution_count": 12,
   "metadata": {},
   "outputs": [],
   "source": [
    "x , th , y , z = sp.symbols(\"x theta y z\")\n",
    "from sympy import sin, cos, tan, E, log, oo, Eq"
   ]
  },
  {
   "cell_type": "code",
   "execution_count": 13,
   "metadata": {},
   "outputs": [],
   "source": [
    "def derivative (func, withRespectTo=None):\n",
    "   if type(func) == Equality:\n",
    "      R = sp.diff (func.rhs,withRespectTo)\n",
    "      return R\n",
    "   dfdx = sp.diff (func)\n",
    "   return dfdx"
   ]
  },
  {
   "cell_type": "code",
   "execution_count": 14,
   "metadata": {},
   "outputs": [],
   "source": [
    "def showDerivative (func):\n",
    "   dfdx = derivative(func)\n",
    "   display(func)\n",
    "   str_ddx = \"$ \\\\frac {d}{dx} = <<>>\"\n",
    "   ddx = str_ddx.replace(\"<<>>\", dfdx._repr_latex_())\n",
    "   output = ddx.replace(\"$\\\\displaystyle\", \"\")\n",
    "   display(Markdown(output))\n",
    "   "
   ]
  },
  {
   "cell_type": "code",
   "execution_count": 15,
   "metadata": {},
   "outputs": [
    {
     "data": {
      "text/latex": [
       "$\\displaystyle y = \\frac{3 x^{4}}{2}$"
      ],
      "text/plain": [
       "Eq(y, 3*x**4/2)"
      ]
     },
     "execution_count": 15,
     "metadata": {},
     "output_type": "execute_result"
    }
   ],
   "source": [
    "# EXAMPLE EQUATIONS\n",
    "\n",
    "class ExampleEquations :\n",
    "   #example of a Equality Equation\n",
    "   EQ1 = Eq (y,\n",
    "             3*x**3 / 2*x)\n",
    "   #example of 1sided expression \n",
    "   EQ2 = sin(x) - 1/ cos(x)\n",
    "   \n",
    "EE = ExampleEquations()\n",
    "EE.EQ1"
   ]
  },
  {
   "cell_type": "code",
   "execution_count": 16,
   "metadata": {},
   "outputs": [
    {
     "data": {
      "text/latex": [
       "$\\displaystyle \\frac{\\sin{\\left(x^{2} \\right)}}{2}$"
      ],
      "text/plain": [
       "sin(x**2)/2"
      ]
     },
     "metadata": {},
     "output_type": "display_data"
    },
    {
     "data": {
      "text/markdown": [
       "$ \\frac {d}{dx} =  x \\cos{\\left(x^{2} \\right)}$"
      ],
      "text/plain": [
       "<IPython.core.display.Markdown object>"
      ]
     },
     "metadata": {},
     "output_type": "display_data"
    }
   ],
   "source": [
    "fx = sp.sin(x**2) / 2\n",
    "showDerivative(fx)"
   ]
  },
  {
   "cell_type": "code",
   "execution_count": 17,
   "metadata": {},
   "outputs": [
    {
     "data": {
      "text/latex": [
       "$\\displaystyle x \\cos{\\left(x^{2} \\right)}$"
      ],
      "text/plain": [
       "x*cos(x**2)"
      ]
     },
     "execution_count": 17,
     "metadata": {},
     "output_type": "execute_result"
    }
   ],
   "source": [
    "dfdx = sp.diff(fx)\n",
    "dfdx"
   ]
  },
  {
   "cell_type": "code",
   "execution_count": 18,
   "metadata": {},
   "outputs": [
    {
     "data": {
      "text/latex": [
       "$\\displaystyle \\tan{\\left(\\theta \\right)}$"
      ],
      "text/plain": [
       "tan(theta)"
      ]
     },
     "execution_count": 18,
     "metadata": {},
     "output_type": "execute_result"
    }
   ],
   "source": [
    "gx = sp.tan(th)\n",
    "gx"
   ]
  },
  {
   "cell_type": "code",
   "execution_count": 19,
   "metadata": {},
   "outputs": [
    {
     "data": {
      "text/latex": [
       "$\\displaystyle \\tan^{2}{\\left(\\theta \\right)} + 1$"
      ],
      "text/plain": [
       "tan(theta)**2 + 1"
      ]
     },
     "execution_count": 19,
     "metadata": {},
     "output_type": "execute_result"
    }
   ],
   "source": [
    "dgdx = sp.diff(gx)\n",
    "dgdx"
   ]
  },
  {
   "cell_type": "code",
   "execution_count": 27,
   "metadata": {},
   "outputs": [
    {
     "data": {
      "text/markdown": [
       "|    | 0                                                   | 1                                          |\n",
       "|---:|:----------------------------------------------------|:-------------------------------------------|\n",
       "|  0 | $\\displaystyle \\frac{\\sin{\\left(x^{2} \\right)}}{2}$ | $\\displaystyle \\tan{\\left(\\theta \\right)}$ |\n",
       "|  1 | x*cos(x**2)                                         | tan(theta)**2 + 1                          |"
      ],
      "text/plain": [
       "<IPython.core.display.Markdown object>"
      ]
     },
     "execution_count": 27,
     "metadata": {},
     "output_type": "execute_result"
    }
   ],
   "source": [
    "from IPython.display import Markdown\n",
    "FUNCS = [fx._repr_latex_(), gx._repr_latex_()]\n",
    "DERIVS = [dfdx, dgdx]\n",
    "df = pd.DataFrame((FUNCS,DERIVS))\n",
    "Markdown(df.to_markdown())"
   ]
  },
  {
   "cell_type": "code",
   "execution_count": null,
   "metadata": {},
   "outputs": [
    {
     "data": {
      "text/html": [
       "<div>\n",
       "<style scoped>\n",
       "    .dataframe tbody tr th:only-of-type {\n",
       "        vertical-align: middle;\n",
       "    }\n",
       "\n",
       "    .dataframe tbody tr th {\n",
       "        vertical-align: top;\n",
       "    }\n",
       "\n",
       "    .dataframe thead th {\n",
       "        text-align: right;\n",
       "    }\n",
       "</style>\n",
       "<table border=\"1\" class=\"dataframe\">\n",
       "  <thead>\n",
       "    <tr style=\"text-align: right;\">\n",
       "      <th></th>\n",
       "      <th>0</th>\n",
       "      <th>1</th>\n",
       "    </tr>\n",
       "  </thead>\n",
       "  <tbody>\n",
       "    <tr>\n",
       "      <th>0</th>\n",
       "      <td>&lt;IPython.core.display.Markdown object&gt;</td>\n",
       "      <td>&lt;IPython.core.display.Markdown object&gt;</td>\n",
       "    </tr>\n",
       "    <tr>\n",
       "      <th>1</th>\n",
       "      <td>&lt;IPython.core.display.Markdown object&gt;</td>\n",
       "      <td>&lt;IPython.core.display.Markdown object&gt;</td>\n",
       "    </tr>\n",
       "  </tbody>\n",
       "</table>\n",
       "</div>"
      ],
      "text/plain": [
       "                                        0  \\\n",
       "0  <IPython.core.display.Markdown object>   \n",
       "1  <IPython.core.display.Markdown object>   \n",
       "\n",
       "                                        1  \n",
       "0  <IPython.core.display.Markdown object>  \n",
       "1  <IPython.core.display.Markdown object>  "
      ]
     },
     "execution_count": 27,
     "metadata": {},
     "output_type": "execute_result"
    }
   ],
   "source": [
    "funcs = (Md(\"$sin(x^2)$\"),Md(\"$tan(\\theta)$\"))\n",
    "derivs = (Md(\"$x cos(x^2)$\"),Md(\"$tan^2(\\theta) + 1$\"))\n",
    "df = pd.DataFrame([funcs,derivs])\n",
    "df."
   ]
  },
  {
   "cell_type": "code",
   "execution_count": null,
   "metadata": {},
   "outputs": [],
   "source": [
    "from IPython.display import Markdown\n",
    "add_MD_Dollars_               = lambda math : \"$\" + math + \"$\"\n",
    "add_MD_Dollars_Display_       = lambda string : Markdown(add_MD_Dollars_(string))"
   ]
  },
  {
   "cell_type": "code",
   "execution_count": null,
   "metadata": {},
   "outputs": [
    {
     "data": {
      "text/plain": [
       "'$3x^5 = 2\\\\beta$'"
      ]
     },
     "execution_count": 5,
     "metadata": {},
     "output_type": "execute_result"
    }
   ],
   "source": [
    "add_MD_Dollars_(\"3x^5 = 2\\\\beta\")"
   ]
  },
  {
   "cell_type": "code",
   "execution_count": null,
   "metadata": {},
   "outputs": [],
   "source": []
  }
 ],
 "metadata": {
  "interpreter": {
   "hash": "31f2aee4e71d21fbe5cf8b01ff0e069b9275f58929596ceb00d14d90e3e16cd6"
  },
  "kernelspec": {
   "display_name": "Python 3.8.2 64-bit",
   "language": "python",
   "name": "python3"
  },
  "language_info": {
   "codemirror_mode": {
    "name": "ipython",
    "version": 3
   },
   "file_extension": ".py",
   "mimetype": "text/x-python",
   "name": "python",
   "nbconvert_exporter": "python",
   "pygments_lexer": "ipython3",
   "version": "3.8.2"
  },
  "orig_nbformat": 4
 },
 "nbformat": 4,
 "nbformat_minor": 2
}
