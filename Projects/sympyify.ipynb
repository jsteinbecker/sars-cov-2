{
 "cells": [
  {
   "cell_type": "code",
   "execution_count": 83,
   "metadata": {},
   "outputs": [],
   "source": [
    "import sympy as sp\n",
    "import sympy.physics.units as u\n",
    "from IPython.display import Markdown\n",
    "from sympy import exp as e"
   ]
  },
  {
   "cell_type": "code",
   "execution_count": 77,
   "metadata": {},
   "outputs": [],
   "source": [
    "sp.printing.str.StrPrinter._default_settings['abbrev'] = True"
   ]
  },
  {
   "cell_type": "markdown",
   "metadata": {},
   "source": [
    "## Units"
   ]
  },
  {
   "cell_type": "code",
   "execution_count": null,
   "metadata": {},
   "outputs": [],
   "source": [
    "\n",
    "# DEFINING UNITS TO GLOBAL NAMESPACE\n",
    "MM = u.millimeters\n",
    "CM = u.centimeters\n",
    "M  = u.meters\n",
    "KM = u.kilometers\n",
    "IN = u.inches\n",
    "FT = u.feet\n",
    "MI = u.miles\n",
    "YD = u.yards\n",
    "UM = u.micrometers\n",
    "\n",
    "MG = u.milligrams\n",
    "GM = u.grams\n",
    "KG = u.kilograms\n",
    "UG = u.micrograms\n",
    "LBS= u.pounds\n",
    "MOL = u.moles\n",
    "MMOL = u.milli * u.moles\n",
    "\n",
    "ML = u.milliliters\n",
    "L  = u.liters\n",
    "DL = u.deciliters\n",
    "\n",
    "DAY = u.days\n",
    "HR = u.hours\n",
    "MIN= u.minutes\n",
    "SEC= u.seconds\n",
    "YR = u.years\n",
    "\n",
    "MOL = u.mol\n",
    "\n",
    "\n",
    "def convert (value_and_units,   to):\n",
    "    \"\"\"\n",
    "    ~~~~~~~~~ Convert Units Function ~~~~~~~~~\n",
    "    ~~~~~~~~~~~~~~~~~~~~~~~~~~~~~~~~~~~~~~~~~~\n",
    "    Args:\n",
    "        >>> valuewUnits      75 * MI/HR\n",
    "        >>> to                    M/SEC\n",
    "    ------------------------------------------\n",
    "    Output                                    -->  Quantity (with new units)\n",
    "    ==========================================================================\n",
    "    \"\"\"\n",
    "\n",
    "    f = open (\"SYMPYUNITS_LOG.txt\",\"a\")\n",
    "    f.write(f'{value_and_units} --->  {sp.N(u.convert_to(value_and_units,to))}\\n')\n",
    "    f.close()\n",
    "    return Markdown( \"$\\Large \" + sp.latex(sp.N(u.convert_to(value_and_units,to))) + \"$\")\n",
    "\n",
    "def printLatex (data):\n",
    "    return  Markdown( \"$\\large \" +sp.latex(data) + \"$\")"
   ]
  },
  {
   "cell_type": "code",
   "execution_count": 60,
   "metadata": {},
   "outputs": [],
   "source": [
    "def solveEq(equation, solvefor):\n",
    "    \"\"\"\n",
    "    |--MARKDOWN DISPLAY FUNCTION--------------------|\n",
    "    |  SOLVE SYMPY EQUATION, DISPLAYS BOXED ANSWER  |\n",
    "    |===============================================|\n",
    "            >>> equation\n",
    "            >>> solvefor        : symbol\n",
    "    |===============================================|       \n",
    "    \"\"\"\n",
    "    import sympy as sp\n",
    "    from IPython.display import Markdown, display\n",
    "\n",
    "    display(equation)\n",
    "    display(Markdown(\"*Solve for \" + solvefor._repr_latex_() + \":*\"))\n",
    "\n",
    "    s = sp.solve(equation, solvefor)[0]\n",
    "    eq = sp.Eq(solvefor, s)\n",
    "\n",
    "    display(\n",
    "        Markdown(\"$~~~~~~~~~~\\\\boxed{\"+eq._repr_latex_().replace(\"$\", \"\")+\"}$\"))\n",
    "\n",
    "    return eq\n",
    "    # -------------------------------------------------\n"
   ]
  },
  {
   "cell_type": "code",
   "execution_count": 61,
   "metadata": {},
   "outputs": [
    {
     "data": {
      "text/latex": [
       "$\\displaystyle \\alpha + \\beta - \\delta \\gamma$"
      ],
      "text/plain": [
       "alpha + beta - delta*gamma"
      ]
     },
     "execution_count": 61,
     "metadata": {},
     "output_type": "execute_result"
    }
   ],
   "source": [
    "x , y , z , b, a, c, bt, al, gm, dl = sp.symbols (\"x y z b a c beta alpha gamma delta\")\n",
    "H3O, pH, pOH, OH_ = sp.symbols(\"[H_3O^{+}] pH pOH [OH^{-}]\")\n",
    "bt + al - gm * dl"
   ]
  },
  {
   "cell_type": "markdown",
   "metadata": {},
   "source": [
    "#### Pythagorean Theorem"
   ]
  },
  {
   "cell_type": "code",
   "execution_count": 62,
   "metadata": {},
   "outputs": [
    {
     "data": {
      "text/latex": [
       "$\\displaystyle a^{2} + b^{2} = c^{2}$"
      ],
      "text/plain": [
       "Eq(a**2 + b**2, c**2)"
      ]
     },
     "execution_count": 62,
     "metadata": {},
     "output_type": "execute_result"
    }
   ],
   "source": [
    "PYTHAGOREAN_THEOREM = sp.Eq (a**2 + b**2 ,\n",
    "                             c**2)\n",
    "PYTHAGOREAN_THEOREM"
   ]
  },
  {
   "cell_type": "code",
   "execution_count": 63,
   "metadata": {},
   "outputs": [
    {
     "data": {
      "text/latex": [
       "$\\displaystyle a^{2} + b^{2} = c^{2}$"
      ],
      "text/plain": [
       "Eq(a**2 + b**2, c**2)"
      ]
     },
     "metadata": {},
     "output_type": "display_data"
    },
    {
     "data": {
      "text/markdown": [
       "*Solve for $\\displaystyle b^{2}$:*"
      ],
      "text/plain": [
       "<IPython.core.display.Markdown object>"
      ]
     },
     "metadata": {},
     "output_type": "display_data"
    },
    {
     "data": {
      "text/markdown": [
       "$~~~~~~~~~~\\boxed{\\displaystyle b^{2} = - a^{2} + c^{2}}$"
      ],
      "text/plain": [
       "<IPython.core.display.Markdown object>"
      ]
     },
     "metadata": {},
     "output_type": "display_data"
    },
    {
     "data": {
      "text/latex": [
       "$\\displaystyle - 35 \\sqrt{31}$"
      ],
      "text/plain": [
       "-35*sqrt(31)"
      ]
     },
     "execution_count": 63,
     "metadata": {},
     "output_type": "execute_result"
    }
   ],
   "source": [
    "bsquared = solveEq(PYTHAGOREAN_THEOREM,b**2)\n",
    "\n",
    "bsquared = bsquared.subs ({\n",
    "   a: 45,\n",
    "   c: 200\n",
    "})\n",
    "\n",
    "sp.solve(bsquared, b)[0]"
   ]
  },
  {
   "cell_type": "markdown",
   "metadata": {},
   "source": [
    "#### pH Equation"
   ]
  },
  {
   "cell_type": "code",
   "execution_count": 64,
   "metadata": {},
   "outputs": [
    {
     "data": {
      "text/latex": [
       "$\\displaystyle pH = - \\log{\\left([H_3O^{+}] \\right)}$"
      ],
      "text/plain": [
       "Eq(pH, -log([H_3O^{+}]))"
      ]
     },
     "execution_count": 64,
     "metadata": {},
     "output_type": "execute_result"
    }
   ],
   "source": [
    "H3O_PH_EQUATION = sp.Eq (\n",
    "   pH,\n",
    "   - sp.log(H3O)\n",
    ")\n",
    "H3O_PH_EQUATION"
   ]
  },
  {
   "cell_type": "code",
   "execution_count": 65,
   "metadata": {},
   "outputs": [
    {
     "data": {
      "text/latex": [
       "$\\displaystyle 2.1 = - \\log{\\left([H_3O^{+}] \\right)}$"
      ],
      "text/plain": [
       "Eq(2.1, -log([H_3O^{+}]))"
      ]
     },
     "metadata": {},
     "output_type": "display_data"
    },
    {
     "data": {
      "text/markdown": [
       "*Solve for $\\displaystyle [H_3O^{+}]$:*"
      ],
      "text/plain": [
       "<IPython.core.display.Markdown object>"
      ]
     },
     "metadata": {},
     "output_type": "display_data"
    },
    {
     "data": {
      "text/markdown": [
       "$~~~~~~~~~~\\boxed{\\displaystyle [H_3O^{+}] = 0.122456428252982}$"
      ],
      "text/plain": [
       "<IPython.core.display.Markdown object>"
      ]
     },
     "metadata": {},
     "output_type": "display_data"
    },
    {
     "data": {
      "text/latex": [
       "$\\displaystyle [H_3O^{+}] = 0.122456428252982$"
      ],
      "text/plain": [
       "Eq([H_3O^{+}], 0.122456428252982)"
      ]
     },
     "execution_count": 65,
     "metadata": {},
     "output_type": "execute_result"
    }
   ],
   "source": [
    "_PH_ = H3O_PH_EQUATION.subs({\n",
    "   pH: 2.1\n",
    "})\n",
    "solveEq (_PH_, solvefor= H3O)"
   ]
  },
  {
   "cell_type": "markdown",
   "metadata": {},
   "source": [
    "## Vancomycin"
   ]
  },
  {
   "cell_type": "code",
   "execution_count": 127,
   "metadata": {},
   "outputs": [],
   "source": [
    "class VancomycinCalc :\n",
    "   \n",
    "   VOL_DIST_VANCOMYCIN = VD = 0.7 # L/kg\n",
    "   \n",
    "   ke, CrCl , D, tprime ,tau , Vd, Cmax, Cmin = sp.symbols (\"k_e CrCl D t' tau V_d C_{max} C_{min}\")\n",
    "   \n",
    "   KE_VANCOMYCIN_EQ = sp.Eq (\n",
    "      ke,\n",
    "      0.00083 * CrCl + 0.0044\n",
    "   )\n",
    "   \n",
    "   EQ_EST_CMAX = sp.Eq(\n",
    "      Cmax,\n",
    "      ((D / tprime)/ (Vd*ke))*((1-e(-ke*tprime))/(1-e(-ke*tau)))\n",
    "   )\n",
    "   EQ_EST_CMAX_DESCRIPTION = \"\"\"\n",
    "      D     = Dose in mg\n",
    "      t'    = infusion time in hr\n",
    "      Tau   = interval in hr\n",
    "      ke    = Elim. constant\n",
    "      Vd    = Vol of distribution in L/kg\"\"\"\n",
    "      \n",
    "      \n",
    "   EQ_EST_CMIN = sp.Eq (\n",
    "      Cmin,\n",
    "      Cmax * e (-ke * (tau - tprime))\n",
    "   )\n",
    "   EQ_EST_CMIN_DESCRIPTION = \"\"\"\n",
    "      t'    = infusion time in hr\n",
    "      Tau   = interval in hr\n",
    "      ke    = Elim. constant\n",
    "      Cmax  = [Drug]peak in mcg/mL\"\"\"\n"
   ]
  },
  {
   "cell_type": "code",
   "execution_count": 128,
   "metadata": {},
   "outputs": [
    {
     "data": {
      "text/plain": [
       "'CrCl = 122'"
      ]
     },
     "metadata": {},
     "output_type": "display_data"
    },
    {
     "data": {
      "text/latex": [
       "$\\displaystyle k_{e} = 0.10566$"
      ],
      "text/plain": [
       "Eq(k_e, 0.10566)"
      ]
     },
     "metadata": {},
     "output_type": "display_data"
    },
    {
     "data": {
      "text/markdown": [
       "---"
      ],
      "text/plain": [
       "<IPython.core.display.Markdown object>"
      ]
     },
     "metadata": {},
     "output_type": "display_data"
    },
    {
     "data": {
      "text/plain": [
       "'CrCl = 33'"
      ]
     },
     "metadata": {},
     "output_type": "display_data"
    },
    {
     "data": {
      "text/latex": [
       "$\\displaystyle k_{e} = 0.03179$"
      ],
      "text/plain": [
       "Eq(k_e, 0.03179)"
      ]
     },
     "metadata": {},
     "output_type": "display_data"
    }
   ],
   "source": [
    "\n",
    "EQ = VancomycinCalc()\n",
    "\n",
    "display(\"CrCl = 122\", EQ.KE_VANCOMYCIN_EQ.subs({EQ.CrCl: 122}))\n",
    "display(Markdown(\"---\"))\n",
    "display(\"CrCl = 33\" , EQ.KE_VANCOMYCIN_EQ.subs({EQ.CrCl: 33}))"
   ]
  },
  {
   "cell_type": "code",
   "execution_count": 129,
   "metadata": {},
   "outputs": [
    {
     "data": {
      "text/latex": [
       "$\\displaystyle C_{max} = \\frac{D \\left(1 - e^{- k_{e} t'}\\right)}{V_{d} k_{e} t' \\left(1 - e^{- k_{e} \\tau}\\right)}$"
      ],
      "text/plain": [
       "Eq(C_{max}, D*(1 - exp(-k_e*t'))/(V_d*k_e*t'*(1 - exp(-k_e*tau))))"
      ]
     },
     "metadata": {},
     "output_type": "display_data"
    },
    {
     "data": {
      "text/latex": [
       "$\\displaystyle C_{max} = 32.8448967862415$"
      ],
      "text/plain": [
       "Eq(C_{max}, 32.8448967862415)"
      ]
     },
     "metadata": {},
     "output_type": "display_data"
    },
    {
     "name": "stdout",
     "output_type": "stream",
     "text": [
      "\n",
      "      D     = Dose in mg\n",
      "      t'    = infusion time in hr\n",
      "      Tau   = interval in hr\n",
      "      ke    = Elim. constant\n",
      "      Vd    = Vol of distribution in L/kg\n"
     ]
    }
   ],
   "source": [
    "display(EQ.EQ_EST_CMAX)\n",
    "\n",
    "peak = EQ.EQ_EST_CMAX.subs(\n",
    "   {\n",
    "      EQ.D :      1250,\n",
    "      EQ.tprime : 2,\n",
    "      EQ.Vd :     56,\n",
    "      EQ.ke :     0.1165,\n",
    "      EQ.tau :    8\n",
    "   }\n",
    ")\n",
    "display(peak)\n",
    "\n",
    "print (EQ.EQ_EST_CMAX_DESCRIPTION)"
   ]
  },
  {
   "cell_type": "code",
   "execution_count": 131,
   "metadata": {},
   "outputs": [
    {
     "data": {
      "text/latex": [
       "$\\displaystyle C_{min} = C_{max} e^{- k_{e} \\left(- t' + \\tau\\right)}$"
      ],
      "text/plain": [
       "Eq(C_{min}, C_{max}*exp(-k_e*(-t' + tau)))"
      ]
     },
     "metadata": {},
     "output_type": "display_data"
    },
    {
     "data": {
      "text/latex": [
       "$\\displaystyle C_{min} = 16.3261657230856$"
      ],
      "text/plain": [
       "Eq(C_{min}, 16.3261657230856)"
      ]
     },
     "metadata": {},
     "output_type": "display_data"
    },
    {
     "name": "stdout",
     "output_type": "stream",
     "text": [
      "\n",
      "      t'    = infusion time in hr\n",
      "      Tau   = interval in hr\n",
      "      ke    = Elim. constant\n",
      "      Cmax  = [Drug]peak in mcg/mL\n"
     ]
    }
   ],
   "source": [
    "display (EQ.EQ_EST_CMIN)\n",
    "\n",
    "trough = EQ.EQ_EST_CMIN.subs (\n",
    "   {\n",
    "      EQ.Cmax : 32.844,\n",
    "      EQ.ke : 0.1165,\n",
    "      EQ.tau : 8,\n",
    "      EQ.tprime : 2\n",
    "   }\n",
    ")\n",
    "display(trough)\n",
    "\n",
    "print(EQ.EQ_EST_CMIN_DESCRIPTION)"
   ]
  },
  {
   "cell_type": "code",
   "execution_count": null,
   "metadata": {},
   "outputs": [],
   "source": []
  },
  {
   "cell_type": "markdown",
   "metadata": {},
   "source": [
    "## Convert"
   ]
  },
  {
   "cell_type": "code",
   "execution_count": 67,
   "metadata": {},
   "outputs": [
    {
     "data": {
      "text/markdown": [
       "$\\Large \\frac{160.9344 \\text{km}}{\\text{hour}}$"
      ],
      "text/plain": [
       "<IPython.core.display.Markdown object>"
      ]
     },
     "execution_count": 67,
     "metadata": {},
     "output_type": "execute_result"
    }
   ],
   "source": [
    "convert (\n",
    "   100 * MI/HR,\n",
    "   to=   KM/HR\n",
    ")"
   ]
  },
  {
   "cell_type": "code",
   "execution_count": 76,
   "metadata": {},
   "outputs": [
    {
     "data": {
      "text/markdown": [
       "$\\Large 134.481979932775 \\text{pound}$"
      ],
      "text/plain": [
       "<IPython.core.display.Markdown object>"
      ]
     },
     "execution_count": 76,
     "metadata": {},
     "output_type": "execute_result"
    }
   ],
   "source": [
    "convert (\n",
    "   61 * KG,\n",
    "   LBS\n",
    ")"
   ]
  },
  {
   "cell_type": "markdown",
   "metadata": {},
   "source": []
  },
  {
   "cell_type": "markdown",
   "metadata": {},
   "source": []
  }
 ],
 "metadata": {
  "interpreter": {
   "hash": "31f2aee4e71d21fbe5cf8b01ff0e069b9275f58929596ceb00d14d90e3e16cd6"
  },
  "kernelspec": {
   "display_name": "Python 3.8.2 64-bit",
   "language": "python",
   "name": "python3"
  },
  "language_info": {
   "codemirror_mode": {
    "name": "ipython",
    "version": 3
   },
   "file_extension": ".py",
   "mimetype": "text/x-python",
   "name": "python",
   "nbconvert_exporter": "python",
   "pygments_lexer": "ipython3",
   "version": "3.8.2"
  },
  "orig_nbformat": 4
 },
 "nbformat": 4,
 "nbformat_minor": 2
}
