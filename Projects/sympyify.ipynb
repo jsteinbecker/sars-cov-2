{
 "cells": [
  {
   "cell_type": "code",
   "execution_count": 4,
   "metadata": {},
   "outputs": [],
   "source": [
    "import sympy as sp\n",
    "import sympy.physics.units as u\n",
    "from IPython.display import Markdown\n",
    "from sympy import exp as e\n",
    "import pandas as pd\n",
    "import matplotlib.pyplot as plt\n",
    "import seaborn as sns\n",
    "from sympy import Equality\n",
    "from IPython.core.interactiveshell import InteractiveShell\n",
    "InteractiveShell.ast_node_interactivity = \"all\""
   ]
  },
  {
   "cell_type": "code",
   "execution_count": 5,
   "metadata": {},
   "outputs": [],
   "source": [
    "sp.printing.str.StrPrinter._default_settings['abbrev'] = True"
   ]
  },
  {
   "cell_type": "markdown",
   "metadata": {},
   "source": [
    "## Units"
   ]
  },
  {
   "cell_type": "code",
   "execution_count": 6,
   "metadata": {},
   "outputs": [],
   "source": [
    "\n",
    "# DEFINING UNITS TO GLOBAL NAMESPACE\n",
    "MM = u.millimeters\n",
    "CM = u.centimeters\n",
    "M  = u.meters\n",
    "KM = u.kilometers\n",
    "IN = u.inches\n",
    "FT = u.feet\n",
    "MI = u.miles\n",
    "YD = u.yards\n",
    "UM = u.micrometers\n",
    "\n",
    "MG = u.milligrams\n",
    "GM = u.grams\n",
    "KG = u.kilograms\n",
    "UG = u.micrograms\n",
    "LBS= u.pounds\n",
    "MOL = u.moles\n",
    "MMOL = u.milli * u.moles\n",
    "MOLAR = u.moles / u.liter\n",
    "\n",
    "ML = u.milliliters\n",
    "L  = u.liters\n",
    "DL = u.deciliters\n",
    "\n",
    "DAY = u.days\n",
    "HR = u.hours\n",
    "MIN= u.minutes\n",
    "SEC= u.seconds\n",
    "YR = u.years\n",
    "\n",
    "MOL = u.mol\n",
    "\n",
    "\n",
    "def convert (value_and_units,   to):\n",
    "    \"\"\"\n",
    "    ~~~~~~~~~ Convert Units Function ~~~~~~~~~\n",
    "    ~~~~~~~~~~~~~~~~~~~~~~~~~~~~~~~~~~~~~~~~~~\n",
    "    Args:\n",
    "        >>> valuewUnits      75 * MI/HR\n",
    "        >>> to                    M/SEC\n",
    "    ------------------------------------------\n",
    "    Output                                       -->  Quantity (with new units)\n",
    "    ==========================================\n",
    "    \"\"\"\n",
    "\n",
    "    f = open (\"SYMPYUNITS_LOG.txt\",\"a\")\n",
    "    f.write(f'{value_and_units} --->  {sp.N(u.convert_to(value_and_units,to))}\\n')\n",
    "    f.close()\n",
    "    return Markdown( \"$\\Large \" + sp.latex(sp.N(u.convert_to(value_and_units,to))) + \"$\")\n",
    "\n",
    "def printLatex (data):\n",
    "    return  Markdown( \"$\\large \" +sp.latex(data) + \"$\")"
   ]
  },
  {
   "cell_type": "code",
   "execution_count": 7,
   "metadata": {},
   "outputs": [],
   "source": [
    "def solveEq(equation, solvefor):\n",
    "    \"\"\"\n",
    "    |--MARKDOWN DISPLAY FUNCTION--------------------|\n",
    "    |  SOLVE SYMPY EQUATION, DISPLAYS BOXED ANSWER  |\n",
    "    |===============================================|\n",
    "            >>> equation\n",
    "            >>> solvefor        : symbol\n",
    "    |===============================================|       \n",
    "    \"\"\"\n",
    "    import sympy as sp\n",
    "    from IPython.display import Markdown, display\n",
    "\n",
    "    display(equation)\n",
    "    display(Markdown(\"*Solve for \" + solvefor._repr_latex_() + \":*\"))\n",
    "\n",
    "    s = sp.solve(equation, solvefor)[0]\n",
    "    eq = sp.Eq(solvefor, s)\n",
    "\n",
    "    display(\n",
    "        Markdown(\"$~~~~~~~~~~\\\\boxed{\"+eq._repr_latex_().replace(\"$\", \"\")+\"}$\"))\n",
    "\n",
    "    return eq\n",
    "    # -------------------------------------------------\n",
    "\n",
    "def spEqTable(equation,  solvefor):\n",
    "    if type(equation) == sp.core.relational.Equality:\n",
    "        Eq = equation\n",
    "    elif type(equation) == str:\n",
    "        eq1,eq2 = equation.split(\"=\")\n",
    "        Eq = sp.Eq(sp.sympify(eq1),sp.sympify(eq2)) #sp.Eq\n",
    "    else:\n",
    "        pass\n",
    "    sf = sp.sympify (solvefor) #sp.Symbol\n",
    "\n",
    "    CELLSOLVE = '$\\\\boxed {' + sp.solve(Eq, sf)[0]._repr_latex_().replace(\"$\",\"\") + '}$'\n",
    "    #MD = f\"Equation | Symbol to Isolate | Solution\\n-------|---------|------------|\\n{CELL1} | {CELL2} | {CELL3}\\n\"\n",
    "    MD = f\"\"\"\n",
    "| Equation | Solve for {solvefor._repr_latex_()} = |\n",
    "|----------|----------------------|\n",
    "| {Eq._repr_latex_()} | {CELLSOLVE} |\n",
    "    \n",
    "    \"\"\"\n",
    "    \n",
    "    return MD"
   ]
  },
  {
   "cell_type": "code",
   "execution_count": 8,
   "metadata": {},
   "outputs": [],
   "source": [
    "x , y , z , b, a, c, bt, al, gm, dl         = sp.symbols (\"x y z b a c beta alpha gamma delta\")\n",
    "H3O, pH, pOH, OH_                           = sp.symbols(\"[H_3O^{+}] pH pOH [OH^{-}]\")"
   ]
  },
  {
   "cell_type": "markdown",
   "metadata": {},
   "source": [
    "#### Pythagorean Theorem"
   ]
  },
  {
   "cell_type": "code",
   "execution_count": 9,
   "metadata": {},
   "outputs": [
    {
     "data": {
      "text/markdown": [
       "\n",
       "| Equation | Solve for $\\displaystyle b$ = |\n",
       "|----------|----------------------|\n",
       "| $\\displaystyle a^{2} + b^{2} = c^{2}$ | $\\boxed {\\displaystyle - \\sqrt{- a^{2} + c^{2}}}$ |\n",
       "    \n",
       "    \n",
       "\n",
       "---\n",
       "\n",
       "| Equation | Solve for $\\displaystyle a$ = |\n",
       "|----------|----------------------|\n",
       "| $\\displaystyle a^{2} + b^{2} = c^{2}$ | $\\boxed {\\displaystyle - \\sqrt{- b^{2} + c^{2}}}$ |\n",
       "    \n",
       "    \n",
       "\n",
       "---\n",
       "\n",
       "| Equation | Solve for $\\displaystyle c$ = |\n",
       "|----------|----------------------|\n",
       "| $\\displaystyle a^{2} + b^{2} = c^{2}$ | $\\boxed {\\displaystyle - \\sqrt{a^{2} + b^{2}}}$ |\n",
       "    \n",
       "    \n",
       "\n",
       "---\n"
      ],
      "text/plain": [
       "<IPython.core.display.Markdown object>"
      ]
     },
     "execution_count": 9,
     "metadata": {},
     "output_type": "execute_result"
    },
    {
     "data": {
      "text/plain": [
       "[-sqrt(-a**2 + c**2), sqrt(-a**2 + c**2)]"
      ]
     },
     "execution_count": 9,
     "metadata": {},
     "output_type": "execute_result"
    }
   ],
   "source": [
    "PYTHAGOREAN_THEOREM = sp.Eq(a**2 + b**2 , c**2)\n",
    "md = \"\"\n",
    "for var in PYTHAGOREAN_THEOREM.free_symbols:\n",
    "   md += spEqTable (PYTHAGOREAN_THEOREM, solvefor=var)\n",
    "   md += \"\\n\\n---\\n\"\n",
    "Markdown(md)\n",
    "\n",
    "sp.solve(PYTHAGOREAN_THEOREM, b)"
   ]
  },
  {
   "cell_type": "code",
   "execution_count": 10,
   "metadata": {},
   "outputs": [
    {
     "data": {
      "text/markdown": [
       "{'eq': '$ a^{2} + b^{2} = c^{2}$', 'vars': {b, a, c}}"
      ],
      "text/plain": [
       "<IPython.core.display.Markdown object>"
      ]
     },
     "execution_count": 10,
     "metadata": {},
     "output_type": "execute_result"
    }
   ],
   "source": [
    "PYTHAG = {\n",
    "   'eq' : sp.Eq(a**2 + b**2 , c**2),\n",
    "}\n",
    "PYTHAG.update({'vars': PYTHAG['eq'].free_symbols})\n",
    "\n",
    "def preparelatexDict (dic:dict):\n",
    "   d = dic\n",
    "   d.update({'eq'  :  dic['eq']._repr_latex_().replace(\"\\\\displaystyle\",\"\")})\n",
    "   return d\n",
    "\n",
    "Markdown(str(preparelatexDict(PYTHAG)))"
   ]
  },
  {
   "cell_type": "markdown",
   "metadata": {},
   "source": [
    "#### pH Equation"
   ]
  },
  {
   "cell_type": "code",
   "execution_count": 11,
   "metadata": {},
   "outputs": [
    {
     "data": {
      "text/latex": [
       "$\\displaystyle pH = - \\log{\\left([H_3O^{+}] \\right)}$"
      ],
      "text/plain": [
       "Eq(pH, -log([H_3O^{+}]))"
      ]
     },
     "execution_count": 11,
     "metadata": {},
     "output_type": "execute_result"
    }
   ],
   "source": [
    "H3O_PH_EQUATION = sp.Eq (\n",
    "   pH,\n",
    "   - sp.log(H3O)\n",
    ")\n",
    "H3O_PH_EQUATION"
   ]
  },
  {
   "cell_type": "code",
   "execution_count": 12,
   "metadata": {},
   "outputs": [
    {
     "data": {
      "text/latex": [
       "$\\displaystyle 2.1 = - \\log{\\left([H_3O^{+}] \\right)}$"
      ],
      "text/plain": [
       "Eq(2.1, -log([H_3O^{+}]))"
      ]
     },
     "metadata": {},
     "output_type": "display_data"
    },
    {
     "data": {
      "text/markdown": [
       "*Solve for $\\displaystyle [H_3O^{+}]$:*"
      ],
      "text/plain": [
       "<IPython.core.display.Markdown object>"
      ]
     },
     "metadata": {},
     "output_type": "display_data"
    },
    {
     "data": {
      "text/markdown": [
       "$~~~~~~~~~~\\boxed{\\displaystyle [H_3O^{+}] = 0.122456428252982}$"
      ],
      "text/plain": [
       "<IPython.core.display.Markdown object>"
      ]
     },
     "metadata": {},
     "output_type": "display_data"
    },
    {
     "data": {
      "text/latex": [
       "$\\displaystyle [H_3O^{+}] = 0.122456428252982$"
      ],
      "text/plain": [
       "Eq([H_3O^{+}], 0.122456428252982)"
      ]
     },
     "execution_count": 12,
     "metadata": {},
     "output_type": "execute_result"
    }
   ],
   "source": [
    "_PH_ = H3O_PH_EQUATION.subs({\n",
    "   pH: 2.1\n",
    "})\n",
    "solveEq (_PH_, solvefor= H3O)"
   ]
  },
  {
   "cell_type": "markdown",
   "metadata": {},
   "source": [
    "## Vancomycin"
   ]
  },
  {
   "cell_type": "code",
   "execution_count": 13,
   "metadata": {},
   "outputs": [],
   "source": [
    "class VancomycinCalc :\n",
    "   \n",
    "   VOL_DIST_VANCOMYCIN = VD = 0.7 # L/kg\n",
    "   \n",
    "   # SYMBOLS\n",
    "   ke, CrCl , D, tprime ,tau , Vd, Cmax, Cmin = sp.symbols (\"k_e CrCl D t' tau V_d C_{max} C_{min}\")\n",
    "   \n",
    "   # EQUATIONS\n",
    "   KE_VANCOMYCIN_EQ = sp.Eq (\n",
    "      ke,\n",
    "      0.00083 * CrCl + 0.0044\n",
    "   )\n",
    "   \n",
    "   EQ_EST_CMAX = sp.Eq(\n",
    "      Cmax,\n",
    "      ((D / tprime)/ (Vd * ke)) * ((1 - e(-ke * tprime)) / (1 - e(-ke * tau)))\n",
    "   )\n",
    "   EQ_EST_CMAX_DESCRIPTION = \"\"\"\n",
    "      D     = Dose in mg\n",
    "      t'    = infusion time in hr\n",
    "      Tau   = interval in hr\n",
    "      ke    = Elim. constant\n",
    "      Vd    = Vol of distribution in L/kg\"\"\"\n",
    "      \n",
    "   EQ_EST_CMIN = sp.Eq (\n",
    "      Cmin,\n",
    "      Cmax * e (-ke * (tau - tprime))\n",
    "   )\n",
    "   EQ_EST_CMIN_DESCRIPTION = \"\"\"\n",
    "      t'    = infusion time in hr\n",
    "      Tau   = interval in hr\n",
    "      ke    = Elim. constant\n",
    "      Cmax  = [Drug]peak in mcg/mL\"\"\"\n",
    "\n",
    "\n",
    "class VancoPatient () :\n",
    "   \n",
    "   def __init__(self, patientName, weight_kg, height_cm, CrClearance):\n",
    "      self.name = patientName\n",
    "      self.weight = weight_kg\n",
    "      self.height = height_cm\n",
    "      self.CrCl = CrClearance\n",
    "   \n",
    "   def IBW (self,height):\n",
    "      pass\n",
    "   "
   ]
  },
  {
   "cell_type": "code",
   "execution_count": 14,
   "metadata": {},
   "outputs": [],
   "source": [
    "class EQ_EstCmax :\n",
    "    ke, CrCl , D, tprime ,tau , Vd, Cmax, Cmin = sp.symbols (\"k_e CrCl D t' tau V_d C_{max} C_{min}\")\n",
    "\n",
    "    formula = [\n",
    "        sp.Eq (Cmax,((D / tprime)/ (Vd*ke))*((1-e(-ke*tprime))/(1-e(-ke*tau)))),\n",
    "        sp.Eq (Cmin, Cmax * sp.exp(-ke * (-tprime + tau)))\n",
    "    ]\n",
    "    name = Markdown(\"#### EQ_EstCmax\")\n",
    "    help = Markdown(\"Req'd In:     ***CrCl, D, t', $\\\\tau$, weight***\")\n",
    "    desc = Markdown(\"\"\"\\n- D     = Dose in mg\\n- t'    = infusion time in hr\\n- $\\\\tau$   = interval in hr\\n- ke    = Elim. constant\\n- $V_d$    = Vol of distribution in L/kg\"\"\")\n",
    "\n",
    "\n",
    "    def solve (self, weight, D, CrCl, tprime, tau ):\n",
    "        \"\"\"D, CrCl, T', Tau\"\"\"\n",
    "        ke = 0.00083 * CrCl + 0.0044\n",
    "        eq = self.formula[0].subs({self.ke:ke, self.D:D, self.tprime:tprime, self.tau:tau, self.Vd:0.7*weight})\n",
    "        display(self.name,self.desc)\n",
    "        Cmax = float(sp.solve(eq,self.Cmax)[0])\n",
    "        display (sp.Subs(self.formula[0],(self.ke,self.D,self.tprime,self.tau,self.Vd),(ke,D,tprime,tau,0.7*weight)))\n",
    "        display(sp.Eq(self.Cmax,sp.solve(eq, EQ_EstCmax.Cmax)[0]))\n",
    "        display (sp.Subs(self.formula[1],(self.Cmax,self.ke,self.tprime,self.tau),(Cmax,ke,tprime,tau)))\n",
    "        Cmin = sp.solve(self.formula[1].subs({self.Cmax:Cmax,self.ke:ke,self.tprime:tprime,self.tau:tau}),self.Cmin)[0]\n",
    "        display(Markdown(\"$\\Large \\\\boxed {C_{min} = \" +  str(Cmin) +\"}$\"))\n",
    "        return float(Cmax), float(Cmin)\n",
    "\n",
    "class EQ_Vd_Vanco :\n",
    "    ke, CrCl = sp.symbols(\"k_e CrCl\")\n",
    "    formula = sp.Eq(ke,0.00083 * CrCl + 0.0044)\n",
    "    help = Markdown(\"`Req'd [IN]:` ***CrCl***\")\n",
    "    @property\n",
    "    def desc (self):\n",
    "        display(Markdown(\"---\\n#### Vol of Distr (Vanco)\"),self.formula,Markdown(\"- $k_e$ : Elimination constant\\n- $CrCl$ : Creatinine clearance\\n\\n---\"))\n",
    "    def solve (self, CrCl):\n",
    "        display(Markdown(f\"`INPUT` : $CrCl$: {CrCl}\"),Markdown(f\"`SOLUTION` : {float(sp.solve(self.formula.subs({self.CrCl:CrCl}),self.ke)[0])}\"))\n",
    "        return ('ke',float(sp.solve(self.formula.subs({self.CrCl:CrCl}),self.ke)[0]))"
   ]
  },
  {
   "cell_type": "code",
   "execution_count": 15,
   "metadata": {},
   "outputs": [
    {
     "data": {
      "text/plain": [
       "'CrCl = 122'"
      ]
     },
     "metadata": {},
     "output_type": "display_data"
    },
    {
     "data": {
      "text/latex": [
       "$\\displaystyle k_{e} = 0.10566$"
      ],
      "text/plain": [
       "Eq(k_e, 0.10566)"
      ]
     },
     "metadata": {},
     "output_type": "display_data"
    },
    {
     "data": {
      "text/markdown": [
       "---"
      ],
      "text/plain": [
       "<IPython.core.display.Markdown object>"
      ]
     },
     "metadata": {},
     "output_type": "display_data"
    },
    {
     "data": {
      "text/plain": [
       "'CrCl = 33'"
      ]
     },
     "metadata": {},
     "output_type": "display_data"
    },
    {
     "data": {
      "text/latex": [
       "$\\displaystyle k_{e} = 0.03179$"
      ],
      "text/plain": [
       "Eq(k_e, 0.03179)"
      ]
     },
     "metadata": {},
     "output_type": "display_data"
    },
    {
     "data": {
      "text/markdown": [
       "---"
      ],
      "text/plain": [
       "<IPython.core.display.Markdown object>"
      ]
     },
     "metadata": {},
     "output_type": "display_data"
    },
    {
     "data": {
      "text/markdown": [
       "$\\large CrCl$ | $\\Large k_e$ | ***Directly Proportional***\n",
       "---|---|---\n",
       " | |"
      ],
      "text/plain": [
       "<IPython.core.display.Markdown object>"
      ]
     },
     "metadata": {},
     "output_type": "display_data"
    }
   ],
   "source": [
    "\n",
    "EQ = VancomycinCalc()\n",
    "\n",
    "\n",
    "display(\"CrCl = 122\", EQ.KE_VANCOMYCIN_EQ.subs({EQ.CrCl: 122}))\n",
    "\n",
    "display(Markdown(\"---\"))\n",
    "\n",
    "display(\"CrCl = 33\" , EQ.KE_VANCOMYCIN_EQ.subs({EQ.CrCl: 33}))\n",
    "\n",
    "display(Markdown(\"---\"))\n",
    "\n",
    "display(Markdown(\"$\\large CrCl$ | $\\Large k_e$ | ***Directly Proportional***\\n---|---|---\\n | |\"))"
   ]
  },
  {
   "cell_type": "code",
   "execution_count": 16,
   "metadata": {},
   "outputs": [
    {
     "name": "stdout",
     "output_type": "stream",
     "text": [
      "\n",
      "      D     = Dose in mg\n",
      "      t'    = infusion time in hr\n",
      "      Tau   = interval in hr\n",
      "      ke    = Elim. constant\n",
      "      Vd    = Vol of distribution in L/kg\n"
     ]
    },
    {
     "data": {
      "text/latex": [
       "$\\displaystyle C_{max} = \\frac{D \\left(1 - e^{- k_{e} t'}\\right)}{V_{d} k_{e} t' \\left(1 - e^{- k_{e} \\tau}\\right)}$"
      ],
      "text/plain": [
       "Eq(C_{max}, D*(1 - exp(-k_e*t'))/(V_d*k_e*t'*(1 - exp(-k_e*tau))))"
      ]
     },
     "metadata": {},
     "output_type": "display_data"
    },
    {
     "data": {
      "text/latex": [
       "$\\displaystyle C_{max} = 25.1747978138997$"
      ],
      "text/plain": [
       "Eq(C_{max}, 25.1747978138997)"
      ]
     },
     "metadata": {},
     "output_type": "display_data"
    }
   ],
   "source": [
    "\n",
    "print (EQ.EQ_EST_CMAX_DESCRIPTION)\n",
    "display(EQ.EQ_EST_CMAX)\n",
    "\n",
    "peak = EQ.EQ_EST_CMAX.subs(\n",
    "   {\n",
    "      EQ.D :      1250,\n",
    "      EQ.tprime : 7,\n",
    "      EQ.Vd :     56,\n",
    "      EQ.ke :     0.1165,\n",
    "      EQ.tau :    8\n",
    "   }\n",
    ")\n",
    "display(peak)\n",
    "\n",
    "\n",
    "peakval = sp.solve(peak,EQ.Cmax)[0]"
   ]
  },
  {
   "cell_type": "code",
   "execution_count": 17,
   "metadata": {},
   "outputs": [
    {
     "name": "stdout",
     "output_type": "stream",
     "text": [
      "\n",
      "      t'    = infusion time in hr\n",
      "      Tau   = interval in hr\n",
      "      ke    = Elim. constant\n",
      "      Cmax  = [Drug]peak in mcg/mL\n"
     ]
    },
    {
     "data": {
      "text/latex": [
       "$\\displaystyle C_{min} = C_{max} e^{- k_{e} \\left(- t' + \\tau\\right)}$"
      ],
      "text/plain": [
       "Eq(C_{min}, C_{max}*exp(-k_e*(-t' + tau)))"
      ]
     },
     "metadata": {},
     "output_type": "display_data"
    },
    {
     "data": {
      "text/latex": [
       "$\\displaystyle C_{min} = 22.4063277396734$"
      ],
      "text/plain": [
       "Eq(C_{min}, 22.4063277396734)"
      ]
     },
     "metadata": {},
     "output_type": "display_data"
    }
   ],
   "source": [
    "print(EQ.EQ_EST_CMIN_DESCRIPTION)\n",
    "display (EQ.EQ_EST_CMIN)\n",
    "\n",
    "trough = EQ.EQ_EST_CMIN.subs (\n",
    "   {\n",
    "      EQ.Cmax : peakval,\n",
    "      EQ.ke : 0.1165,\n",
    "      EQ.tau : 8,\n",
    "      EQ.tprime : 7\n",
    "   }\n",
    ")\n",
    "display(trough)\n",
    "\n"
   ]
  },
  {
   "cell_type": "code",
   "execution_count": 18,
   "metadata": {},
   "outputs": [],
   "source": [
    "def text_to_boxedLatexDisplay (text):\n",
    "   spaced = text.replace(\" \",\"~\")\n",
    "   boxed = \"$ \\\\boxed { \\\\tt \" + spaced + \"}$\"\n",
    "   display(Markdown(boxed))"
   ]
  },
  {
   "cell_type": "code",
   "execution_count": 19,
   "metadata": {},
   "outputs": [
    {
     "data": {
      "text/latex": [
       "$\\displaystyle \\frac{[D]}{[C_{min}^{obs}]} = \\frac{[D^{pref}]}{[C_{min}^{pref}]}$"
      ],
      "text/plain": [
       "Eq([D]/[C_{min}^{obs}], [D^{pref}]/[C_{min}^{pref}])"
      ]
     },
     "metadata": {},
     "output_type": "display_data"
    },
    {
     "data": {
      "text/markdown": [
       "\n",
       "   $x$  | $result$ | $notes$\n",
       "   -----|----------|----\n",
       "   $Dose$ | `2000mg` | \n",
       "   $C_{min}^{pref}$ | `14` | $\\tt \\red {low~ \\downarrow}$ \n",
       "   $C_{min}^{pref}$ | `17` | \n",
       "   "
      ],
      "text/plain": [
       "<IPython.core.display.Markdown object>"
      ]
     },
     "metadata": {},
     "output_type": "display_data"
    },
    {
     "data": {
      "text/latex": [
       "$\\displaystyle \\frac{1000}{7} = \\frac{[D^{pref}]}{17}$"
      ],
      "text/plain": [
       "Eq(1000/7, [D^{pref}]/17)"
      ]
     },
     "metadata": {},
     "output_type": "display_data"
    },
    {
     "data": {
      "text/markdown": [
       "$ \\boxed { \\tt Optimal~dose~predicted~at~2428mg~VANCOMYCIN}$"
      ],
      "text/plain": [
       "<IPython.core.display.Markdown object>"
      ]
     },
     "metadata": {},
     "output_type": "display_data"
    }
   ],
   "source": [
    "D, Dpref , CminObs , CminPref = sp.symbols (\"[D] [D^{pref}] [C_{min}^{obs}] [C_{min}^{pref}]\")\n",
    "EQ_PROPORTIONAL_TROUGHS = sp.Eq (\n",
    "   D / CminObs,\n",
    "   Dpref / CminPref\n",
    ")\n",
    "display (EQ_PROPORTIONAL_TROUGHS)\n",
    "\n",
    "def table ():\n",
    "   mdstr = \"\"\"\n",
    "   $x$  | $result$ | $notes$\n",
    "   -----|----------|----\n",
    "   $Dose$ | `2000mg` | \n",
    "   $C_{min}^{pref}$ | `14` | $\\\\tt \\\\red {low~ \\downarrow}$ \n",
    "   $C_{min}^{pref}$ | `17` | \n",
    "   \"\"\"\n",
    "   return Markdown(mdstr)\n",
    "display(table())   \n",
    "\n",
    "subd = EQ_PROPORTIONAL_TROUGHS.subs({\n",
    "   CminPref    : 17,\n",
    "   D           : 2000,\n",
    "   CminObs     : 14\n",
    "})\n",
    "display(subd)\n",
    "\n",
    "OPT_DOSE = int(sp.solve (subd, Dpref)[0] )\n",
    "text_to_boxedLatexDisplay (f'Optimal dose predicted at {OPT_DOSE}mg VANCOMYCIN')"
   ]
  },
  {
   "cell_type": "markdown",
   "metadata": {},
   "source": [
    "## Convert"
   ]
  },
  {
   "cell_type": "code",
   "execution_count": 20,
   "metadata": {},
   "outputs": [
    {
     "data": {
      "text/plain": [
       "'100 mi/hr'"
      ]
     },
     "metadata": {},
     "output_type": "display_data"
    },
    {
     "data": {
      "text/markdown": [
       "$\\Large \\frac{160.9344 \\text{km}}{\\text{hour}}$"
      ],
      "text/plain": [
       "<IPython.core.display.Markdown object>"
      ]
     },
     "execution_count": 20,
     "metadata": {},
     "output_type": "execute_result"
    }
   ],
   "source": [
    "display(\"100 mi/hr\")\n",
    "x = convert (\n",
    "   100 * MI/HR,\n",
    "   to=   KM/HR\n",
    ")\n",
    "x"
   ]
  },
  {
   "cell_type": "code",
   "execution_count": 21,
   "metadata": {},
   "outputs": [
    {
     "data": {
      "text/plain": [
       "'61 kg'"
      ]
     },
     "metadata": {},
     "output_type": "display_data"
    },
    {
     "data": {
      "text/markdown": [
       "$\\Large 134.481979932775 \\text{pound}$"
      ],
      "text/plain": [
       "<IPython.core.display.Markdown object>"
      ]
     },
     "execution_count": 21,
     "metadata": {},
     "output_type": "execute_result"
    }
   ],
   "source": [
    "display (\"61 kg\")\n",
    "convert (\n",
    "   61 * KG,\n",
    "   LBS\n",
    ")"
   ]
  },
  {
   "cell_type": "code",
   "execution_count": 22,
   "metadata": {},
   "outputs": [
    {
     "data": {
      "text/latex": [
       "$\\displaystyle 55 = \\beta_{x}$"
      ],
      "text/plain": [
       "Eq(55, beta_x)"
      ]
     },
     "execution_count": 22,
     "metadata": {},
     "output_type": "execute_result"
    },
    {
     "data": {
      "text/markdown": [
       "0\t\t$\\displaystyle \\Delta$"
      ],
      "text/plain": [
       "<IPython.core.display.Markdown object>"
      ]
     },
     "metadata": {},
     "output_type": "display_data"
    },
    {
     "data": {
      "text/markdown": [
       "1\t\t$\\displaystyle \\Gamma$"
      ],
      "text/plain": [
       "<IPython.core.display.Markdown object>"
      ]
     },
     "metadata": {},
     "output_type": "display_data"
    },
    {
     "data": {
      "text/markdown": [
       "2\t\t$\\displaystyle \\epsilon$"
      ],
      "text/plain": [
       "<IPython.core.display.Markdown object>"
      ]
     },
     "metadata": {},
     "output_type": "display_data"
    },
    {
     "data": {
      "text/markdown": [
       "3\t\t$\\displaystyle \\alpha_{5}$"
      ],
      "text/plain": [
       "<IPython.core.display.Markdown object>"
      ]
     },
     "metadata": {},
     "output_type": "display_data"
    }
   ],
   "source": [
    "S =   lambda n : sp.Symbol(n)\n",
    "EQ =  lambda left, right : sp.Eq(left,right)\n",
    "\n",
    "\n",
    "myeq = EQ (S(\"alpha\"), S(\"beta_x\") + sp.sin(sp.pi * S(\"S\")))\n",
    "myeq.subs({\n",
    "   S(\"alpha\")  : 55,\n",
    "   S(\"S\")      : 6 * S(\"alpha\")\n",
    "})\n",
    "\n",
    "Symbs = lambda symbstr : [S(x) for x in symbstr.split(\" \")]\n",
    "\n",
    "SYMBS = Symbs(\"Delta Gamma epsilon alpha_5\")\n",
    "for x, s in enumerate(SYMBS):\n",
    "   display(Markdown(f'{x}\\t\\t{s._repr_latex_()}'))"
   ]
  },
  {
   "cell_type": "code",
   "execution_count": 23,
   "metadata": {},
   "outputs": [
    {
     "data": {
      "text/markdown": [
       "|                     | vars                                                                                                                          |   n_Vars | eq                                                                                                                   |\n",
       "|:--------------------|:------------------------------------------------------------------------------------------------------------------------------|---------:|:---------------------------------------------------------------------------------------------------------------------|\n",
       "| Pythagorean Theorem | $ b$ <br>$ a$  = sideA<br>$ c$  = hypotenuse                                                                                  |        3 | $\\displaystyle a^{2} + b^{2} = c^{2}$                                                                                |\n",
       "| H3O/ pH Equation    | $ pH$  = -Log of Conc. Hydronium<br>$ [H_3O^{+}]$                                                                             |        2 | $\\displaystyle pH = - \\log{\\left([H_3O^{+}] \\right)}$                                                                |\n",
       "| Cmax                | $ k_{e}$ <br>$ \\tau$  = interval<br>$ D$  = Dose<br>$ t'$  = infusion time<br>$ C_{max}$ <br>$ V_{d}$  = Vol. of distribution |        6 | $\\displaystyle C_{max} = \\frac{D \\left(1 - e^{- k_{e} t'}\\right)}{V_{d} k_{e} t' \\left(1 - e^{- k_{e} \\tau}\\right)}$ |"
      ],
      "text/plain": [
       "<IPython.core.display.Markdown object>"
      ]
     },
     "execution_count": 23,
     "metadata": {},
     "output_type": "execute_result"
    }
   ],
   "source": [
    "\n",
    "a, b ,c, pH = sp.symbols('a b c pH')\n",
    "hplus = sp.symbols('[H_{3}O^+]')\n",
    "D, ke, tprime, tau, cmax, cmin, Vd = sp.symbols(\"D k_e t' tau Cmax Cmin V_d\")\n",
    "\n",
    "SYMBOLDESC = {\n",
    "   a : \"sideA\",\n",
    "   c : \"hypotenuse\",\n",
    "   D : \"Dose\",\n",
    "   tau :\"interval\",\n",
    "   hplus : \"Conc. Hydronium\",\n",
    "   tprime : \"infusion time\",\n",
    "   pH : \"-Log of Conc. Hydronium\",\n",
    "   Vd : \"Vol. of distribution\"\n",
    "}\n",
    "\n",
    "\n",
    "df = pd.DataFrame (\n",
    "   [PYTHAGOREAN_THEOREM,\n",
    "    H3O_PH_EQUATION,\n",
    "    EQ_EstCmax.formula[0]\n",
    "    ],  \n",
    "   index=[\"Pythagorean Theorem\",\"H3O/ pH Equation\",\"Cmax\"],  \n",
    "   columns=[\"Equation\"]\n",
    "   )\n",
    "\n",
    "\n",
    "df['Vars'] = [eq.free_symbols for eq in df.Equation]\n",
    "\n",
    "\n",
    "def getVarDescr (var):\n",
    "   if var in SYMBOLDESC:\n",
    "      return \" = \" + SYMBOLDESC[var] \n",
    "   else:\n",
    "      return \"\"\n",
    "   \n",
    "   \n",
    "\n",
    "rlat = lambda x : [v._repr_latex_().replace(\"\\\\displaystyle\",\"\") + \" \" + getVarDescr(v)  for v in x]\n",
    "df['vars'] = [\"<br>\".join(rlat(eq)) for eq in df.Vars]\n",
    "df['n_Vars'] = [len(x) for x in df.Vars]\n",
    "\n",
    "df['eq'] = [eq._repr_latex_() for eq in df.Equation]\n",
    "\n",
    "Markdown(df.iloc[:,2:].to_markdown())"
   ]
  },
  {
   "cell_type": "code",
   "execution_count": 24,
   "metadata": {},
   "outputs": [
    {
     "data": {
      "text/plain": [
       "([[-sqrt(-a**2 + c**2), sqrt(-a**2 + c**2)],\n",
       "  [-sqrt(-b**2 + c**2), sqrt(-b**2 + c**2)],\n",
       "  [-sqrt(a**2 + b**2), sqrt(a**2 + b**2)]],\n",
       " [b, a, c])"
      ]
     },
     "execution_count": 24,
     "metadata": {},
     "output_type": "execute_result"
    },
    {
     "data": {
      "text/markdown": [
       "|             | Equations                                                          | eq                                                                                                                   | solves                                                                                                                                                                                                                                                                                                                                                                                                                                                                                                                                                                                                                                                             |\n",
       "|:------------|:-------------------------------------------------------------------|:---------------------------------------------------------------------------------------------------------------------|:-------------------------------------------------------------------------------------------------------------------------------------------------------------------------------------------------------------------------------------------------------------------------------------------------------------------------------------------------------------------------------------------------------------------------------------------------------------------------------------------------------------------------------------------------------------------------------------------------------------------------------------------------------------------|\n",
       "| Pythagorean | Eq(a**2 + b**2, c**2)                                              | $\\displaystyle a^{2} + b^{2} = c^{2}$                                                                                | ([[-sqrt(-a**2 + c**2), sqrt(-a**2 + c**2)], [-sqrt(-b**2 + c**2), sqrt(-b**2 + c**2)], [-sqrt(a**2 + b**2), sqrt(a**2 + b**2)]], [b, a, c])                                                                                                                                                                                                                                                                                                                                                                                                                                                                                                                       |\n",
       "| Cmax        | Eq(C_{max}, D*(1 - exp(-k_e*t'))/(V_d*k_e*t'*(1 - exp(-k_e*tau)))) | $\\displaystyle C_{max} = \\frac{D \\left(1 - e^{- k_{e} t'}\\right)}{V_{d} k_{e} t' \\left(1 - e^{- k_{e} \\tau}\\right)}$ | ([[log(C_{max}*V_d*k_e*t'*exp(k_e*t')/(C_{max}*V_d*k_e*t'*exp(k_e*t') - D*exp(k_e*t') + D))/k_e], [-C_{max}*V_d*k_e*t'*(exp(k_e*t') - exp(k_e*(t' + tau)))*exp(-k_e*tau)/(exp(k_e*t') - 1)], [-(-C_{max}*V_d*(exp(k_e*tau) - 1)*LambertW(exp(-(C_{max}*V_d*(1 - exp(k_e*tau))*log(-D*exp(k_e*tau)) + D*exp(k_e*tau))/(C_{max}*V_d*(exp(k_e*tau) - 1)))/(C_{max}*V_d*(exp(k_e*tau) - 1))) - D*exp(k_e*tau))/(C_{max}*V_d*k_e*(exp(k_e*tau) - 1))], [-D*(exp(k_e*tau) - exp(k_e*(t' + tau)))*exp(-k_e*t')/(V_d*k_e*t'*(exp(k_e*tau) - 1))], [-D*(exp(k_e*tau) - exp(k_e*(t' + tau)))*exp(-k_e*t')/(C_{max}*k_e*t'*(exp(k_e*tau) - 1))]], [tau, D, t', C_{max}, V_d]) |\n",
       "| Cmin        | Eq(C_{min}, C_{max}*exp(-k_e*(-t' + tau)))                         | $\\displaystyle C_{min} = C_{max} e^{- k_{e} \\left(- t' + \\tau\\right)}$                                               | ([[-log(C_{max}/C_{min})/(t' - tau)], [log(C_{max}*exp(k_e*t')/C_{min})/k_e], [log(C_{min}*exp(k_e*tau)/C_{max})/k_e], [C_{max}*exp(k_e*(t' - tau))], [C_{min}*exp(k_e*(-t' + tau))]], [k_e, tau, t', C_{min}, C_{max}])                                                                                                                                                                                                                                                                                                                                                                                                                                           |"
      ],
      "text/plain": [
       "<IPython.core.display.Markdown object>"
      ]
     },
     "execution_count": 24,
     "metadata": {},
     "output_type": "execute_result"
    }
   ],
   "source": [
    "df = pd.DataFrame(\n",
    "   [PYTHAGOREAN_THEOREM,  EQ_EstCmax.formula[0], EQ_EstCmax.formula[1]] ,\n",
    "   index= [\"Pythagorean\",\"Cmax\", \"Cmin\"] ,\n",
    "   columns = ['Equations']\n",
    ")\n",
    "df['eq'] = [x._repr_latex_() for x in df.Equations]\n",
    "\n",
    "def solveForEach (equation):\n",
    "   eqs = []\n",
    "   vs = []\n",
    "   for v in equation.free_symbols:\n",
    "      try:\n",
    "         eqs.append(sp.solve(equation,v))\n",
    "         vs.append(v)\n",
    "      except:\n",
    "         NotImplementedError\n",
    "   return eqs, vs\n",
    "\n",
    "df['solves'] = [solveForEach(x) for x in df.Equations]\n",
    "df.solves[0]\n",
    "Markdown(df.to_markdown())"
   ]
  },
  {
   "cell_type": "code",
   "execution_count": 25,
   "metadata": {},
   "outputs": [
    {
     "data": {
      "text/markdown": [
       "|                     | equation              | eqn                                   | vars   | solve                                    |\n",
       "|:--------------------|:----------------------|:--------------------------------------|:-------|:-----------------------------------------|\n",
       "| Pythagorean Theorem | Eq(a**2 + b**2, c**2) | $\\displaystyle a^{2} + b^{2} = c^{2}$ | b      | $\\displaystyle - \\sqrt{- a^{2} + c^{2}}$ |\n",
       "| Pythagorean Theorem | Eq(a**2 + b**2, c**2) | $\\displaystyle a^{2} + b^{2} = c^{2}$ | b      | $\\displaystyle \\sqrt{- a^{2} + c^{2}}$   |\n",
       "| Pythagorean Theorem | Eq(a**2 + b**2, c**2) | $\\displaystyle a^{2} + b^{2} = c^{2}$ | a      | $\\displaystyle - \\sqrt{- b^{2} + c^{2}}$ |\n",
       "| Pythagorean Theorem | Eq(a**2 + b**2, c**2) | $\\displaystyle a^{2} + b^{2} = c^{2}$ | a      | $\\displaystyle \\sqrt{- b^{2} + c^{2}}$   |\n",
       "| Pythagorean Theorem | Eq(a**2 + b**2, c**2) | $\\displaystyle a^{2} + b^{2} = c^{2}$ | c      | $\\displaystyle - \\sqrt{a^{2} + b^{2}}$   |\n",
       "| Pythagorean Theorem | Eq(a**2 + b**2, c**2) | $\\displaystyle a^{2} + b^{2} = c^{2}$ | c      | $\\displaystyle \\sqrt{a^{2} + b^{2}}$     |"
      ],
      "text/plain": [
       "<IPython.core.display.Markdown object>"
      ]
     },
     "execution_count": 25,
     "metadata": {},
     "output_type": "execute_result"
    }
   ],
   "source": [
    "df = pd.DataFrame (\n",
    "   data        = [PYTHAGOREAN_THEOREM],\n",
    "   columns     = ['equation'],\n",
    "   index       = ['Pythagorean Theorem']\n",
    ")\n",
    "df['eqn'] = [E._repr_latex_() for E in df.equation]\n",
    "df['vars'] = [E.free_symbols for E in df.equation]\n",
    "df = df.explode('vars')\n",
    "\n",
    "df['solve'] = [sp.solve(df.equation[i] , df.vars[i]) for i in range(len(df))]\n",
    "df = df.explode('solve')\n",
    "df['solve'] = [x._repr_latex_() for x in df.solve]\n",
    "Markdown (df.to_markdown())"
   ]
  },
  {
   "cell_type": "code",
   "execution_count": 41,
   "metadata": {},
   "outputs": [],
   "source": [
    "def multivarSolveTable (eqan , name:str):\n",
    "   df = pd.DataFrame (\n",
    "      data        = [eqan],\n",
    "      columns     = ['equation'],\n",
    "      index       = [name]\n",
    "   )\n",
    "   df['eqn'] = [E._repr_latex_() for E in df.equation]\n",
    "   df['vars'] = [E.free_symbols for E in df.equation]\n",
    "   df = df.explode('vars')\n",
    "   # df['vars'] = [\"$\" + str(v) + \"$\" for v in df.vars]\n",
    "   df['solve'] = [sp.solve(df.equation[i] , df.vars[i]) for i in range(len(df))]\n",
    "   df = df.explode('solve')\n",
    "   df['solve'] = [x._repr_latex_() for x in df.solve]\n",
    "   df = df.set_index('vars')\n",
    "   df.index = [x._repr_latex_() for x in df.index]\n",
    "   eq = df['eqn'][0]\n",
    "   table =  df.iloc[:,2:3].to_markdown()\n",
    "   return \"## *\" + name + \"*\\n\\n---\\n\" + eq + \"\\n\\n\" + table"
   ]
  },
  {
   "cell_type": "code",
   "execution_count": 42,
   "metadata": {},
   "outputs": [
    {
     "data": {
      "text/markdown": [
       "## *Cmin*\n",
       "\n",
       "---\n",
       "$\\displaystyle C_{min} = C_{max} e^{- k_{e} \\left(- t' + \\tau\\right)}$\n",
       "\n",
       "|                         | solve                                                                                    |\n",
       "|:------------------------|:-----------------------------------------------------------------------------------------|\n",
       "| $\\displaystyle k_{e}$   | $\\displaystyle - \\frac{\\log{\\left(\\frac{C_{max}}{C_{min}} \\right)}}{t' - \\tau}$          |\n",
       "| $\\displaystyle \\tau$    | $\\displaystyle \\frac{\\log{\\left(\\frac{C_{max} e^{k_{e} t'}}{C_{min}} \\right)}}{k_{e}}$   |\n",
       "| $\\displaystyle t'$      | $\\displaystyle \\frac{\\log{\\left(\\frac{C_{min} e^{k_{e} \\tau}}{C_{max}} \\right)}}{k_{e}}$ |\n",
       "| $\\displaystyle C_{min}$ | $\\displaystyle C_{max} e^{k_{e} \\left(t' - \\tau\\right)}$                                 |\n",
       "| $\\displaystyle C_{max}$ | $\\displaystyle C_{min} e^{k_{e} \\left(- t' + \\tau\\right)}$                               |"
      ],
      "text/plain": [
       "<IPython.core.display.Markdown object>"
      ]
     },
     "execution_count": 42,
     "metadata": {},
     "output_type": "execute_result"
    }
   ],
   "source": [
    "df = multivarSolveTable (EQ_EstCmax.formula[1],\"Cmin\")\n",
    "Markdown(df)"
   ]
  },
  {
   "cell_type": "code",
   "execution_count": 45,
   "metadata": {},
   "outputs": [
    {
     "data": {
      "text/markdown": [
       "## *Trough Proportion Estimation*\n",
       "\n",
       "---\n",
       "$\\displaystyle \\frac{[D]}{[C_{min}^{obs}]} = \\frac{[D^{pref}]}{[C_{min}^{pref}]}$\n",
       "\n",
       "|                                  | solve                                                               |\n",
       "|:---------------------------------|:--------------------------------------------------------------------|\n",
       "| $\\displaystyle [C_{min}^{obs}]$  | $\\displaystyle \\frac{[C_{min}^{pref}] [D]}{[D^{pref}]}$             |\n",
       "| $\\displaystyle [C_{min}^{pref}]$ | $\\displaystyle \\frac{[C_{min}^{obs}] [D^{pref}]}{[D]}$              |\n",
       "| $\\displaystyle [D^{pref}]$       | $\\displaystyle \\frac{[C_{min}^{pref}] [D]}{[C_{min}^{obs}]}$        |\n",
       "| $\\displaystyle [D]$              | $\\displaystyle \\frac{[C_{min}^{obs}] [D^{pref}]}{[C_{min}^{pref}]}$ |"
      ],
      "text/plain": [
       "<IPython.core.display.Markdown object>"
      ]
     },
     "execution_count": 45,
     "metadata": {},
     "output_type": "execute_result"
    }
   ],
   "source": [
    "df = multivarSolveTable (EQ_PROPORTIONAL_TROUGHS,\"Trough Proportion Estimation\")\n",
    "Markdown(df)"
   ]
  },
  {
   "cell_type": "code",
   "execution_count": null,
   "metadata": {},
   "outputs": [],
   "source": []
  }
 ],
 "metadata": {
  "interpreter": {
   "hash": "31f2aee4e71d21fbe5cf8b01ff0e069b9275f58929596ceb00d14d90e3e16cd6"
  },
  "kernelspec": {
   "display_name": "Python 3.8.2 64-bit",
   "language": "python",
   "name": "python3"
  },
  "language_info": {
   "codemirror_mode": {
    "name": "ipython",
    "version": 3
   },
   "file_extension": ".py",
   "mimetype": "text/x-python",
   "name": "python",
   "nbconvert_exporter": "python",
   "pygments_lexer": "ipython3",
   "version": "3.8.2"
  },
  "orig_nbformat": 4
 },
 "nbformat": 4,
 "nbformat_minor": 2
}
