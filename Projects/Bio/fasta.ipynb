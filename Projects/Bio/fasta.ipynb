{
 "cells": [
  {
   "cell_type": "code",
   "execution_count": 1,
   "metadata": {},
   "outputs": [],
   "source": [
    "import Bio\n",
    "from Bio import SeqIO as io\n",
    "import re"
   ]
  },
  {
   "cell_type": "code",
   "execution_count": 2,
   "metadata": {},
   "outputs": [
    {
     "name": "stdout",
     "output_type": "stream",
     "text": [
      "OL454625.1\n"
     ]
    },
    {
     "name": "stderr",
     "output_type": "stream",
     "text": [
      "/Users/joshsteinbecker/Library/r-miniconda/lib/python3.9/site-packages/Bio/GenBank/__init__.py:1380: BiopythonParserWarning: Expected sequence length 29777, found 28894 (OL454625.1).\n",
      "  warnings.warn(\n"
     ]
    }
   ],
   "source": [
    "for r in io.parse(\"/Users/joshsteinbecker/jts_project/jts_project/SC2_Isolate.Geno.10282020.Kenya.fasta\",\"genbank\"):\n",
    "   print(r.id)"
   ]
  },
  {
   "cell_type": "code",
   "execution_count": 7,
   "metadata": {},
   "outputs": [
    {
     "data": {
      "text/plain": [
       "Seq('TTGTAGATCTGTTCTCTAAACGAACTTTAAAATCTGTGTGGCTGTCACTCGGCT...GTA')"
      ]
     },
     "execution_count": 7,
     "metadata": {},
     "output_type": "execute_result"
    }
   ],
   "source": [
    "record = io.read(\"/Users/joshsteinbecker/jts_project/jts_project/SC2_Isolate.Geno.10282020.Kenya.fasta\",\"gb\")\n",
    "record.seq\n"
   ]
  },
  {
   "cell_type": "code",
   "execution_count": 10,
   "metadata": {},
   "outputs": [
    {
     "name": "stdout",
     "output_type": "stream",
     "text": [
      "SEQUENCE LENGTH:\t\t28894\n"
     ]
    }
   ],
   "source": [
    "seqlen = len(record.seq)\n",
    "print (f'SEQUENCE LENGTH:\\t\\t{seqlen}')"
   ]
  },
  {
   "cell_type": "code",
   "execution_count": 11,
   "metadata": {},
   "outputs": [
    {
     "name": "stdout",
     "output_type": "stream",
     "text": [
      "65\n",
      "['[', 'P', '2', '2', '3', 'B', 'P', ']', 'E', 'X', 'P', 'N', 'D', 'N', 'S', '[', 'P', '2', '5', '3', 'B', 'P', ']', 'E', 'X', 'P', 'N', 'D', 'N', 'S', 'N', '[', 'P', '2', '7', '0', 'B', 'P', ']', 'E', 'X', 'P', 'N', 'D', 'N', 'S', '[', 'P', '2', '0', '9', 'B', 'P', ']', 'E', 'X', 'P', 'N', 'D', 'N', 'S', 'N', 'N', 'N', 'N']\n"
     ]
    }
   ],
   "source": [
    "ct_x = 0\n",
    "x = []\n",
    "for nt in record.seq:\n",
    "   if nt != \"A\" and nt != \"T\" and nt != \"C\" and nt != \"G\":\n",
    "      x.append(nt)\n",
    "      ct_x += 1\n",
    "print(ct_x)\n",
    "print(x)\n",
    "\n",
    "# This note is stuck inside the sequence. Need to remove and add appropriate amount of X nt.\n"
   ]
  },
  {
   "cell_type": "code",
   "execution_count": 6,
   "metadata": {},
   "outputs": [
    {
     "data": {
      "text/plain": [
       "(6503, 6504)"
      ]
     },
     "execution_count": 6,
     "metadata": {},
     "output_type": "execute_result"
    }
   ],
   "source": [
    "match = re.search(\"\\[\",str(record.seq))\n",
    "match.span()"
   ]
  }
 ],
 "metadata": {
  "interpreter": {
   "hash": "8fd295a7007e560b192f709854f66b36915a5382ae77c4fca9f0e6f21003d31e"
  },
  "kernelspec": {
   "display_name": "Python 3.9.5 64-bit ('base': conda)",
   "language": "python",
   "name": "python3"
  },
  "language_info": {
   "codemirror_mode": {
    "name": "ipython",
    "version": 3
   },
   "file_extension": ".py",
   "mimetype": "text/x-python",
   "name": "python",
   "nbconvert_exporter": "python",
   "pygments_lexer": "ipython3",
   "version": "3.9.5"
  },
  "orig_nbformat": 4
 },
 "nbformat": 4,
 "nbformat_minor": 2
}
