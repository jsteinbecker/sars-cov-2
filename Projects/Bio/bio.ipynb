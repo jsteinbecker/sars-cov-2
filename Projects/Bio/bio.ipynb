{
 "cells": [
  {
   "cell_type": "code",
   "execution_count": 29,
   "metadata": {},
   "outputs": [],
   "source": [
    "import Bio\n",
    "from Bio import Entrez, SeqIO, Seq\n",
    "import pandas as pd"
   ]
  },
  {
   "cell_type": "code",
   "execution_count": 2,
   "metadata": {},
   "outputs": [],
   "source": [
    "Entrez.email = \"joshsteinbecker@gmail.com\""
   ]
  },
  {
   "cell_type": "code",
   "execution_count": 5,
   "metadata": {},
   "outputs": [],
   "source": [
    "handle =       Entrez.efetch( \n",
    "                             db=\"nucleotide\", \n",
    "                             id=\"NC_006577.2\", \n",
    "                             rettype=\"gb\", \n",
    "                             retmode=\"text\") #IOWRAPPER\n",
    "obj            = SeqIO.read(handle,'gb')"
   ]
  },
  {
   "cell_type": "code",
   "execution_count": 35,
   "metadata": {},
   "outputs": [
    {
     "data": {
      "text/plain": [
       "(     gene  start    end  length\n",
       " 0  ORF1ab    205  21753   21548\n",
       " 1      HE  21772  22933    1161\n",
       " 2       S  22941  27012    4071\n",
       " 3    orf4  27050  27380     330\n",
       " 4       E  27372  27621     249\n",
       " 5       M  27632  28304     672\n",
       " 6       N  28319  29645    1326\n",
       " 7      N2  28341  28959     618,\n",
       " 'Human coronavirus HKU1, complete genome')"
      ]
     },
     "execution_count": 35,
     "metadata": {},
     "output_type": "execute_result"
    }
   ],
   "source": [
    "SEQ            = obj.seq\n",
    "LEN            = len(SEQ)\n",
    "TAXO           = obj.annotations['taxonomy']\n",
    "NAME           = obj.description\n",
    "\n",
    "GENES          = [obj.features[x] for x in range(len(obj.features)) if obj.features[x].type == \"gene\"]\n",
    "GNAMES         = [GENES[i].__dict__['qualifiers']['gene'][0] for i in range(len(GENES))]\n",
    "GSTARTS        = [int(GENES[i].location.start) for i in range(len(GENES))]\n",
    "GENDS          = [int(GENES[i].location.end)   for i in range(len(GENES))]\n",
    "GLENS          = [GENDS[i] - GSTARTS[i]        for i in range(len(GENES))]\n",
    "\n",
    "df = pd.DataFrame ({\n",
    "   \"gene\":GNAMES,\n",
    "   \"start\":GSTARTS,\n",
    "   \"end\":GENDS,\n",
    "   \"length\":GLENS\n",
    "})\n",
    "df, NAME"
   ]
  },
  {
   "cell_type": "code",
   "execution_count": 31,
   "metadata": {},
   "outputs": [],
   "source": [
    "defs = {\n",
    "   \"Good Suffix Rule\" : \n",
    "      {\"desc\" : \"If Suffix Matches then thats a good thing\",\n",
    "       \"example\": \"ASS -- ASD\"}\n",
    "}"
   ]
  },
  {
   "cell_type": "code",
   "execution_count": 32,
   "metadata": {},
   "outputs": [
    {
     "data": {
      "text/plain": [
       "{'Good Suffix Rule': {'desc': 'If Suffix Matches then thats a good thing',\n",
       "  'example': 'ASS -- ASD'}}"
      ]
     },
     "execution_count": 32,
     "metadata": {},
     "output_type": "execute_result"
    }
   ],
   "source": [
    "defs"
   ]
  },
  {
   "cell_type": "code",
   "execution_count": 34,
   "metadata": {},
   "outputs": [],
   "source": [
    "import matplotlib.pyplot as plt\n",
    "import pandas as pd\n",
    "import sympy as sp\n",
    "import random\n",
    "import sklearn as skl"
   ]
  },
  {
   "cell_type": "code",
   "execution_count": 91,
   "metadata": {},
   "outputs": [
    {
     "data": {
      "text/html": [
       "\n",
       "<!DOCTYPE html>\n",
       "<html>\n",
       "<head>\n",
       "<style>\n",
       "h1   {color: powderblue;}\n",
       "p    {color: cyan;}\n",
       "</style>\n",
       "</head>\n",
       "<body>\n",
       "\n",
       "<h1>This is a heading</h1>\n",
       "<p>This is a paragraph.</p>\n",
       "\n",
       "</body>\n",
       "</html>"
      ],
      "text/plain": [
       "<IPython.core.display.HTML object>"
      ]
     },
     "execution_count": 91,
     "metadata": {},
     "output_type": "execute_result"
    }
   ],
   "source": [
    "import barcode as bc\n",
    "from IPython.display import Image\n",
    "html = \"\"\"\n",
    "<!DOCTYPE html>\n",
    "\n",
    "<html>\n",
    "\n",
    "<head>\n",
    "   <style>\n",
    "   h1   {color: powderblue;}\n",
    "   p    {color: cyan;}\n",
    "   </style>\n",
    "</head>\n",
    "\n",
    "<body>\n",
    "\n",
    "   <h1>This is a heading</h1>\n",
    "   \n",
    "   <p>This is a paragraph.</p>\n",
    "\n",
    "</body>\n",
    "\n",
    "</html>\"\"\"\n",
    "\n",
    "\n",
    "HTML(html)"
   ]
  },
  {
   "cell_type": "code",
   "execution_count": null,
   "metadata": {},
   "outputs": [],
   "source": []
  }
 ],
 "metadata": {
  "interpreter": {
   "hash": "31f2aee4e71d21fbe5cf8b01ff0e069b9275f58929596ceb00d14d90e3e16cd6"
  },
  "kernelspec": {
   "display_name": "Python 3.8.2 64-bit",
   "language": "python",
   "name": "python3"
  },
  "language_info": {
   "codemirror_mode": {
    "name": "ipython",
    "version": 3
   },
   "file_extension": ".py",
   "mimetype": "text/x-python",
   "name": "python",
   "nbconvert_exporter": "python",
   "pygments_lexer": "ipython3",
   "version": "3.8.2"
  },
  "orig_nbformat": 4
 },
 "nbformat": 4,
 "nbformat_minor": 2
}
