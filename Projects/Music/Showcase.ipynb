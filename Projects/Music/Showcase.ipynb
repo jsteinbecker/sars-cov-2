{
 "cells": [
  {
   "cell_type": "code",
   "execution_count": 137,
   "metadata": {},
   "outputs": [],
   "source": [
    "import pandas as pd\n",
    "from pydantic import BaseModel\n",
    "from pydantic.dataclasses import dataclass\n",
    "from typing import Optional"
   ]
  },
  {
   "cell_type": "code",
   "execution_count": 133,
   "metadata": {},
   "outputs": [
    {
     "data": {
      "text/plain": [
       "Instrument(abbvr='VN', name='Violin')"
      ]
     },
     "execution_count": 133,
     "metadata": {},
     "output_type": "execute_result"
    }
   ],
   "source": [
    "@dataclass\n",
    "class Instrument:\n",
    "   abbvr:str = None\n",
    "   name:str  = None\n",
    "   \n",
    "VN = Instrument(abbvr=\"VN\",name=\"Violin\")\n",
    "OB = Instrument(abbvr=\"OB\",name=\"Oboe\")\n",
    "CO = Instrument(abbvr=\"CO\",name=\"Cello\")\n",
    "CT = Instrument(abbvr=\"CT\",name=\"Clarinet\")\n",
    "VN"
   ]
  },
  {
   "cell_type": "code",
   "execution_count": 139,
   "metadata": {},
   "outputs": [
    {
     "ename": "TypeError",
     "evalue": "__init__() missing 1 required positional argument: 'abbvr'",
     "output_type": "error",
     "traceback": [
      "\u001b[0;31m---------------------------------------------------------------------------\u001b[0m",
      "\u001b[0;31mTypeError\u001b[0m                                 Traceback (most recent call last)",
      "\u001b[1;32m/Users/joshsteinbecker/jts_project/Projects/Music/Showcase.ipynb Cell 3'\u001b[0m in \u001b[0;36m<module>\u001b[0;34m\u001b[0m\n\u001b[1;32m      <a href='vscode-notebook-cell:/Users/joshsteinbecker/jts_project/Projects/Music/Showcase.ipynb#ch0000008?line=2'>3</a>\u001b[0m    name:\u001b[39mstr\u001b[39m\n\u001b[1;32m      <a href='vscode-notebook-cell:/Users/joshsteinbecker/jts_project/Projects/Music/Showcase.ipynb#ch0000008?line=3'>4</a>\u001b[0m    abbvr:Optional[\u001b[39mstr\u001b[39m] \u001b[39m=\u001b[39m \u001b[39mNone\u001b[39;00m\n\u001b[0;32m----> <a href='vscode-notebook-cell:/Users/joshsteinbecker/jts_project/Projects/Music/Showcase.ipynb#ch0000008?line=6'>7</a>\u001b[0m Bach \u001b[39m=\u001b[39m Composer(name\u001b[39m=\u001b[39;49m\u001b[39m\"\u001b[39;49m\u001b[39mBach\u001b[39;49m\u001b[39m\"\u001b[39;49m)\n\u001b[1;32m      <a href='vscode-notebook-cell:/Users/joshsteinbecker/jts_project/Projects/Music/Showcase.ipynb#ch0000008?line=7'>8</a>\u001b[0m Composer(name\u001b[39m=\u001b[39m\u001b[39m\"\u001b[39m\u001b[39mMozart\u001b[39m\u001b[39m\"\u001b[39m)\n",
      "\u001b[0;31mTypeError\u001b[0m: __init__() missing 1 required positional argument: 'abbvr'"
     ]
    }
   ],
   "source": [
    "@dataclass\n",
    "class Composer (BaseModel):\n",
    "   name:str\n",
    "   abbvr:Optional[str] = None\n",
    "\n",
    "   \n",
    "Bach = Composer(name=\"Bach\")\n",
    "Composer(name=\"Mozart\")\n",
    "\n"
   ]
  },
  {
   "cell_type": "code",
   "execution_count": null,
   "metadata": {},
   "outputs": [],
   "source": [
    "class Work (BaseModel):\n",
    "   abbvr:str\n",
    "   cmpr:str\n",
    "   name:str  = None\n",
    "   mvt:str   = None\n",
    "   \n",
    "BRTKSQ4_5 = Work (abbvr=\"BRTKSQ4[V]\",cmpr=\"Bartok\",name=\"String Quartet No. 4\",mvt=\"V. Finale\")\n",
    "BRTKSQ5_5 = Work (abbvr=\"BRTKSQ5[V]\",cmpr=\"Bartok\",name=\"String Quartet No. 5\", mvt=\"V. Finale\")\n",
    "MZRTOBCT_3 = Work(abbvr=\"MZRTOBCTO[III]\",cmpr=\"Mozart\",name=\"Oboe Concerto No. 3\", mvt=\"III. Rondo\")\n",
    "   \n",
    "\n",
    "\n",
    "class Excerpt (BaseModel):\n",
    "   composer:str\n",
    "   work:Work\n",
    "   section:str\n",
    "   inst:Instrument\n",
    "\n",
    "E1 = Excerpt(composer=\"Bartok\",work=BRTKSQ4_5,section=\"Dissonance/4-Stops\",inst=VN)\n",
    "E2 = Excerpt(composer=\"Bartok\",work=BRTKSQ5_5,section=\"Creepy Half Step Modulation\",inst=VN)\n",
    "E3 = Excerpt(composer=\"Mozart\",work=MZRTOBCT_3,section=\"Melody\",inst=OB)\n",
    "\n"
   ]
  },
  {
   "cell_type": "code",
   "execution_count": 106,
   "metadata": {},
   "outputs": [],
   "source": [
    "def explodeDict  (df,  colname:str)    -> pd.DataFrame:\n",
    "   \"\"\"Explode DF Column of Dicts\n",
    "   >>> [form]      DataFrame(df.col.values.tolist(),      index=df.index)\n",
    "   \"\"\"\n",
    "   df_temp =   pd.DataFrame(df[colname].values.tolist(),  index=df.index)\n",
    "   newcols =   [colname + \"_\" + x for x in df_temp.columns.tolist()]\n",
    "   df_temp.columns = newcols\n",
    "   df =        pd.concat([df,df_temp],  axis=1)\n",
    "   del df[colname]\n",
    "   \n",
    "   return df\n"
   ]
  },
  {
   "cell_type": "code",
   "execution_count": 119,
   "metadata": {},
   "outputs": [
    {
     "data": {
      "text/html": [
       "<div>\n",
       "<style scoped>\n",
       "    .dataframe tbody tr th:only-of-type {\n",
       "        vertical-align: middle;\n",
       "    }\n",
       "\n",
       "    .dataframe tbody tr th {\n",
       "        vertical-align: top;\n",
       "    }\n",
       "\n",
       "    .dataframe thead th {\n",
       "        text-align: right;\n",
       "    }\n",
       "</style>\n",
       "<table border=\"1\" class=\"dataframe\">\n",
       "  <thead>\n",
       "    <tr style=\"text-align: right;\">\n",
       "      <th></th>\n",
       "      <th></th>\n",
       "      <th>section</th>\n",
       "      <th>work_abbvr</th>\n",
       "      <th>work_cmpr</th>\n",
       "      <th>work_name</th>\n",
       "      <th>work_mvt</th>\n",
       "      <th>inst_name</th>\n",
       "    </tr>\n",
       "    <tr>\n",
       "      <th>composer</th>\n",
       "      <th>inst_abbvr</th>\n",
       "      <th></th>\n",
       "      <th></th>\n",
       "      <th></th>\n",
       "      <th></th>\n",
       "      <th></th>\n",
       "      <th></th>\n",
       "    </tr>\n",
       "  </thead>\n",
       "  <tbody>\n",
       "    <tr>\n",
       "      <th rowspan=\"2\" valign=\"top\">Bartok</th>\n",
       "      <th>VN</th>\n",
       "      <td>Dissonance/4-Stops</td>\n",
       "      <td>BRTKSQ4[V]</td>\n",
       "      <td>Bartok</td>\n",
       "      <td>String Quartet No. 4</td>\n",
       "      <td>V. Finale</td>\n",
       "      <td>Violin</td>\n",
       "    </tr>\n",
       "    <tr>\n",
       "      <th>VN</th>\n",
       "      <td>Creepy Half Step Modulation</td>\n",
       "      <td>BRTKSQ5[V]</td>\n",
       "      <td>Bartok</td>\n",
       "      <td>String Quartet No. 5</td>\n",
       "      <td>V. Finale</td>\n",
       "      <td>Violin</td>\n",
       "    </tr>\n",
       "    <tr>\n",
       "      <th>Mozart</th>\n",
       "      <th>OB</th>\n",
       "      <td>Melody</td>\n",
       "      <td>MZRTOBCTO[III]</td>\n",
       "      <td>Mozart</td>\n",
       "      <td>Oboe Concerto No. 3</td>\n",
       "      <td>III. Rondo</td>\n",
       "      <td>Oboe</td>\n",
       "    </tr>\n",
       "  </tbody>\n",
       "</table>\n",
       "</div>"
      ],
      "text/plain": [
       "                                         section      work_abbvr work_cmpr  \\\n",
       "composer inst_abbvr                                                          \n",
       "Bartok   VN                   Dissonance/4-Stops      BRTKSQ4[V]    Bartok   \n",
       "         VN          Creepy Half Step Modulation      BRTKSQ5[V]    Bartok   \n",
       "Mozart   OB                               Melody  MZRTOBCTO[III]    Mozart   \n",
       "\n",
       "                                work_name    work_mvt inst_name  \n",
       "composer inst_abbvr                                              \n",
       "Bartok   VN          String Quartet No. 4   V. Finale    Violin  \n",
       "         VN          String Quartet No. 5   V. Finale    Violin  \n",
       "Mozart   OB           Oboe Concerto No. 3  III. Rondo      Oboe  "
      ]
     },
     "execution_count": 119,
     "metadata": {},
     "output_type": "execute_result"
    }
   ],
   "source": [
    "df = pd.DataFrame ([E1.dict(),E2.dict(),E3.dict()])\n",
    "df = explodeDict  (df,'work')\n",
    "df = explodeDict  (df,'inst')\n",
    "df\n",
    "df.set_index(['composer','inst_abbvr'])"
   ]
  }
 ],
 "metadata": {
  "interpreter": {
   "hash": "31f2aee4e71d21fbe5cf8b01ff0e069b9275f58929596ceb00d14d90e3e16cd6"
  },
  "kernelspec": {
   "display_name": "Python 3.8.2 64-bit",
   "language": "python",
   "name": "python3"
  },
  "language_info": {
   "codemirror_mode": {
    "name": "ipython",
    "version": 3
   },
   "file_extension": ".py",
   "mimetype": "text/x-python",
   "name": "python",
   "nbconvert_exporter": "python",
   "pygments_lexer": "ipython3",
   "version": "3.8.2"
  },
  "orig_nbformat": 4
 },
 "nbformat": 4,
 "nbformat_minor": 2
}
