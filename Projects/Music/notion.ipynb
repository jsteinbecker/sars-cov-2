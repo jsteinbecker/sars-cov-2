{
 "cells": [
  {
   "cell_type": "code",
   "execution_count": 14,
   "metadata": {},
   "outputs": [],
   "source": [
    "import requests\n",
    "import pandas as pd\n",
    "from notion.client import NotionClient"
   ]
  },
  {
   "cell_type": "code",
   "execution_count": 19,
   "metadata": {},
   "outputs": [],
   "source": [
    "database_id = 'e7fee5c30f564ebe8b56b7d29bd5d691'\n",
    "token = '7928569b186d999e1ffc337cd3632b37093208ec43eca01be7fdb137e2d5ab6f32429e14f1b95c26926451ef6bd9449fd1bdec550a837bddde97ec0a0ffb93bb35bdf2e183607572e776755997d9'"
   ]
  },
  {
   "cell_type": "code",
   "execution_count": 21,
   "metadata": {},
   "outputs": [],
   "source": [
    "client = NotionClient(token)"
   ]
  },
  {
   "cell_type": "code",
   "execution_count": 42,
   "metadata": {},
   "outputs": [
    {
     "ename": "NotionValidationError",
     "evalue": "Invalid input.",
     "output_type": "error",
     "traceback": [
      "\u001b[0;31m---------------------------------------------------------------------------\u001b[0m",
      "\u001b[0;31mNotionValidationError\u001b[0m                     Traceback (most recent call last)",
      "\u001b[1;32m/Users/joshsteinbecker/jts_project/Projects/Music/notion.ipynb Cell 4'\u001b[0m in \u001b[0;36m<module>\u001b[0;34m\u001b[0m\n\u001b[1;32m      <a href='vscode-notebook-cell:/Users/joshsteinbecker/jts_project/Projects/Music/notion.ipynb#ch0000004?line=0'>1</a>\u001b[0m cv \u001b[39m=\u001b[39m client\u001b[39m.\u001b[39mget_collection_view(\u001b[39m\"\u001b[39m\u001b[39mhttps://www.notion.so/e7fee5c30f564ebe8b56b7d29bd5d691?v=85c82b8d3cf543efa61a09aad642a1db\u001b[39m\u001b[39m\"\u001b[39m)\n\u001b[0;32m----> <a href='vscode-notebook-cell:/Users/joshsteinbecker/jts_project/Projects/Music/notion.ipynb#ch0000004?line=1'>2</a>\u001b[0m \u001b[39mfor\u001b[39;00m x \u001b[39min\u001b[39;00m cv\u001b[39m.\u001b[39;49mcollection\u001b[39m.\u001b[39;49mget_rows():\n\u001b[1;32m      <a href='vscode-notebook-cell:/Users/joshsteinbecker/jts_project/Projects/Music/notion.ipynb#ch0000004?line=2'>3</a>\u001b[0m    \u001b[39mprint\u001b[39m(x)\n",
      "File \u001b[0;32m~/Library/Python/3.8/lib/python/site-packages/notion/block/collection/basic.py:163\u001b[0m, in \u001b[0;36mCollectionBlock.get_rows\u001b[0;34m(self, **kwargs)\u001b[0m\n\u001b[1;32m    <a href='file:///Users/joshsteinbecker/Library/Python/3.8/lib/python/site-packages/notion/block/collection/basic.py?line=152'>153</a>\u001b[0m \u001b[39mdef\u001b[39;00m \u001b[39mget_rows\u001b[39m(\u001b[39mself\u001b[39m, \u001b[39m*\u001b[39m\u001b[39m*\u001b[39mkwargs):\n\u001b[1;32m    <a href='file:///Users/joshsteinbecker/Library/Python/3.8/lib/python/site-packages/notion/block/collection/basic.py?line=153'>154</a>\u001b[0m     \u001b[39m\"\"\"\u001b[39;00m\n\u001b[1;32m    <a href='file:///Users/joshsteinbecker/Library/Python/3.8/lib/python/site-packages/notion/block/collection/basic.py?line=154'>155</a>\u001b[0m \u001b[39m    Get all rows from a collection.\u001b[39;00m\n\u001b[1;32m    <a href='file:///Users/joshsteinbecker/Library/Python/3.8/lib/python/site-packages/notion/block/collection/basic.py?line=155'>156</a>\u001b[0m \n\u001b[0;32m   (...)\u001b[0m\n\u001b[1;32m    <a href='file:///Users/joshsteinbecker/Library/Python/3.8/lib/python/site-packages/notion/block/collection/basic.py?line=160'>161</a>\u001b[0m \u001b[39m        All rows.\u001b[39;00m\n\u001b[1;32m    <a href='file:///Users/joshsteinbecker/Library/Python/3.8/lib/python/site-packages/notion/block/collection/basic.py?line=161'>162</a>\u001b[0m \u001b[39m    \"\"\"\u001b[39;00m\n\u001b[0;32m--> <a href='file:///Users/joshsteinbecker/Library/Python/3.8/lib/python/site-packages/notion/block/collection/basic.py?line=162'>163</a>\u001b[0m     \u001b[39mreturn\u001b[39;00m \u001b[39mself\u001b[39;49m\u001b[39m.\u001b[39;49mquery(\u001b[39m*\u001b[39;49m\u001b[39m*\u001b[39;49mkwargs)\n",
      "File \u001b[0;32m~/Library/Python/3.8/lib/python/site-packages/notion/block/collection/basic.py:151\u001b[0m, in \u001b[0;36mCollectionBlock.query\u001b[0;34m(self, **kwargs)\u001b[0m\n\u001b[1;32m    <a href='file:///Users/joshsteinbecker/Library/Python/3.8/lib/python/site-packages/notion/block/collection/basic.py?line=140'>141</a>\u001b[0m \u001b[39mdef\u001b[39;00m \u001b[39mquery\u001b[39m(\u001b[39mself\u001b[39m, \u001b[39m*\u001b[39m\u001b[39m*\u001b[39mkwargs):\n\u001b[1;32m    <a href='file:///Users/joshsteinbecker/Library/Python/3.8/lib/python/site-packages/notion/block/collection/basic.py?line=141'>142</a>\u001b[0m     \u001b[39m\"\"\"\u001b[39;00m\n\u001b[1;32m    <a href='file:///Users/joshsteinbecker/Library/Python/3.8/lib/python/site-packages/notion/block/collection/basic.py?line=142'>143</a>\u001b[0m \u001b[39m    Run a query inline and return the results.\u001b[39;00m\n\u001b[1;32m    <a href='file:///Users/joshsteinbecker/Library/Python/3.8/lib/python/site-packages/notion/block/collection/basic.py?line=143'>144</a>\u001b[0m \n\u001b[0;32m   (...)\u001b[0m\n\u001b[1;32m    <a href='file:///Users/joshsteinbecker/Library/Python/3.8/lib/python/site-packages/notion/block/collection/basic.py?line=148'>149</a>\u001b[0m \u001b[39m        Result of passed query.\u001b[39;00m\n\u001b[1;32m    <a href='file:///Users/joshsteinbecker/Library/Python/3.8/lib/python/site-packages/notion/block/collection/basic.py?line=149'>150</a>\u001b[0m \u001b[39m    \"\"\"\u001b[39;00m\n\u001b[0;32m--> <a href='file:///Users/joshsteinbecker/Library/Python/3.8/lib/python/site-packages/notion/block/collection/basic.py?line=150'>151</a>\u001b[0m     \u001b[39mreturn\u001b[39;00m CollectionQuery(\u001b[39mself\u001b[39;49m, \u001b[39mself\u001b[39;49m\u001b[39m.\u001b[39;49m_get_a_collection_view(), \u001b[39m*\u001b[39;49m\u001b[39m*\u001b[39;49mkwargs)\u001b[39m.\u001b[39;49mexecute()\n",
      "File \u001b[0;32m~/Library/Python/3.8/lib/python/site-packages/notion/block/collection/query.py:60\u001b[0m, in \u001b[0;36mCollectionQuery.execute\u001b[0;34m(self)\u001b[0m\n\u001b[1;32m     <a href='file:///Users/joshsteinbecker/Library/Python/3.8/lib/python/site-packages/notion/block/collection/query.py?line=45'>46</a>\u001b[0m \u001b[39m\"\"\"\u001b[39;00m\n\u001b[1;32m     <a href='file:///Users/joshsteinbecker/Library/Python/3.8/lib/python/site-packages/notion/block/collection/query.py?line=46'>47</a>\u001b[0m \u001b[39mExecute the query.\u001b[39;00m\n\u001b[1;32m     <a href='file:///Users/joshsteinbecker/Library/Python/3.8/lib/python/site-packages/notion/block/collection/query.py?line=47'>48</a>\u001b[0m \n\u001b[0;32m   (...)\u001b[0m\n\u001b[1;32m     <a href='file:///Users/joshsteinbecker/Library/Python/3.8/lib/python/site-packages/notion/block/collection/query.py?line=52'>53</a>\u001b[0m \u001b[39m    Result of the query.\u001b[39;00m\n\u001b[1;32m     <a href='file:///Users/joshsteinbecker/Library/Python/3.8/lib/python/site-packages/notion/block/collection/query.py?line=53'>54</a>\u001b[0m \u001b[39m\"\"\"\u001b[39;00m\n\u001b[1;32m     <a href='file:///Users/joshsteinbecker/Library/Python/3.8/lib/python/site-packages/notion/block/collection/query.py?line=55'>56</a>\u001b[0m klass \u001b[39m=\u001b[39m get_collection_query_result_type(\u001b[39mself\u001b[39m\u001b[39m.\u001b[39mtype)\n\u001b[1;32m     <a href='file:///Users/joshsteinbecker/Library/Python/3.8/lib/python/site-packages/notion/block/collection/query.py?line=57'>58</a>\u001b[0m \u001b[39mreturn\u001b[39;00m klass(\n\u001b[1;32m     <a href='file:///Users/joshsteinbecker/Library/Python/3.8/lib/python/site-packages/notion/block/collection/query.py?line=58'>59</a>\u001b[0m     \u001b[39mself\u001b[39m\u001b[39m.\u001b[39mcollection,\n\u001b[0;32m---> <a href='file:///Users/joshsteinbecker/Library/Python/3.8/lib/python/site-packages/notion/block/collection/query.py?line=59'>60</a>\u001b[0m     \u001b[39mself\u001b[39;49m\u001b[39m.\u001b[39;49m_client\u001b[39m.\u001b[39;49m_store\u001b[39m.\u001b[39;49mcall_query_collection(\n\u001b[1;32m     <a href='file:///Users/joshsteinbecker/Library/Python/3.8/lib/python/site-packages/notion/block/collection/query.py?line=60'>61</a>\u001b[0m         collection_id\u001b[39m=\u001b[39;49m\u001b[39mself\u001b[39;49m\u001b[39m.\u001b[39;49mcollection\u001b[39m.\u001b[39;49mid,\n\u001b[1;32m     <a href='file:///Users/joshsteinbecker/Library/Python/3.8/lib/python/site-packages/notion/block/collection/query.py?line=61'>62</a>\u001b[0m         collection_view_id\u001b[39m=\u001b[39;49m\u001b[39mself\u001b[39;49m\u001b[39m.\u001b[39;49mcollection_view\u001b[39m.\u001b[39;49mid,\n\u001b[1;32m     <a href='file:///Users/joshsteinbecker/Library/Python/3.8/lib/python/site-packages/notion/block/collection/query.py?line=62'>63</a>\u001b[0m         search\u001b[39m=\u001b[39;49m\u001b[39mself\u001b[39;49m\u001b[39m.\u001b[39;49msearch,\n\u001b[1;32m     <a href='file:///Users/joshsteinbecker/Library/Python/3.8/lib/python/site-packages/notion/block/collection/query.py?line=63'>64</a>\u001b[0m         \u001b[39mtype\u001b[39;49m\u001b[39m=\u001b[39;49m\u001b[39mself\u001b[39;49m\u001b[39m.\u001b[39;49mtype,\n\u001b[1;32m     <a href='file:///Users/joshsteinbecker/Library/Python/3.8/lib/python/site-packages/notion/block/collection/query.py?line=64'>65</a>\u001b[0m         aggregate\u001b[39m=\u001b[39;49m\u001b[39mself\u001b[39;49m\u001b[39m.\u001b[39;49maggregate,\n\u001b[1;32m     <a href='file:///Users/joshsteinbecker/Library/Python/3.8/lib/python/site-packages/notion/block/collection/query.py?line=65'>66</a>\u001b[0m         aggregations\u001b[39m=\u001b[39;49m\u001b[39mself\u001b[39;49m\u001b[39m.\u001b[39;49maggregations,\n\u001b[1;32m     <a href='file:///Users/joshsteinbecker/Library/Python/3.8/lib/python/site-packages/notion/block/collection/query.py?line=66'>67</a>\u001b[0m         \u001b[39mfilter\u001b[39;49m\u001b[39m=\u001b[39;49m\u001b[39mself\u001b[39;49m\u001b[39m.\u001b[39;49mfilter,\n\u001b[1;32m     <a href='file:///Users/joshsteinbecker/Library/Python/3.8/lib/python/site-packages/notion/block/collection/query.py?line=67'>68</a>\u001b[0m         sort\u001b[39m=\u001b[39;49m\u001b[39mself\u001b[39;49m\u001b[39m.\u001b[39;49msort,\n\u001b[1;32m     <a href='file:///Users/joshsteinbecker/Library/Python/3.8/lib/python/site-packages/notion/block/collection/query.py?line=68'>69</a>\u001b[0m         calendar_by\u001b[39m=\u001b[39;49m\u001b[39mself\u001b[39;49m\u001b[39m.\u001b[39;49mcalendar_by,\n\u001b[1;32m     <a href='file:///Users/joshsteinbecker/Library/Python/3.8/lib/python/site-packages/notion/block/collection/query.py?line=69'>70</a>\u001b[0m         group_by\u001b[39m=\u001b[39;49m\u001b[39mself\u001b[39;49m\u001b[39m.\u001b[39;49mgroup_by,\n\u001b[1;32m     <a href='file:///Users/joshsteinbecker/Library/Python/3.8/lib/python/site-packages/notion/block/collection/query.py?line=70'>71</a>\u001b[0m     ),\n\u001b[1;32m     <a href='file:///Users/joshsteinbecker/Library/Python/3.8/lib/python/site-packages/notion/block/collection/query.py?line=71'>72</a>\u001b[0m     \u001b[39mself\u001b[39m,\n\u001b[1;32m     <a href='file:///Users/joshsteinbecker/Library/Python/3.8/lib/python/site-packages/notion/block/collection/query.py?line=72'>73</a>\u001b[0m )\n",
      "File \u001b[0;32m~/Library/Python/3.8/lib/python/site-packages/notion/store.py:354\u001b[0m, in \u001b[0;36mRecordStore.call_query_collection\u001b[0;34m(self, collection_id, collection_view_id, search, type, aggregate, aggregations, filter, filter_operator, sort, calendar_by, group_by)\u001b[0m\n\u001b[1;32m    <a href='file:///Users/joshsteinbecker/Library/Python/3.8/lib/python/site-packages/notion/store.py?line=330'>331</a>\u001b[0m sort \u001b[39m=\u001b[39m to_list(sort \u001b[39mor\u001b[39;00m [])\n\u001b[1;32m    <a href='file:///Users/joshsteinbecker/Library/Python/3.8/lib/python/site-packages/notion/store.py?line=332'>333</a>\u001b[0m data \u001b[39m=\u001b[39m {\n\u001b[1;32m    <a href='file:///Users/joshsteinbecker/Library/Python/3.8/lib/python/site-packages/notion/store.py?line=333'>334</a>\u001b[0m     \u001b[39m\"\u001b[39m\u001b[39mcollectionId\u001b[39m\u001b[39m\"\u001b[39m: collection_id,\n\u001b[1;32m    <a href='file:///Users/joshsteinbecker/Library/Python/3.8/lib/python/site-packages/notion/store.py?line=334'>335</a>\u001b[0m     \u001b[39m\"\u001b[39m\u001b[39mcollectionViewId\u001b[39m\u001b[39m\"\u001b[39m: collection_view_id,\n\u001b[0;32m   (...)\u001b[0m\n\u001b[1;32m    <a href='file:///Users/joshsteinbecker/Library/Python/3.8/lib/python/site-packages/notion/store.py?line=351'>352</a>\u001b[0m     },\n\u001b[1;32m    <a href='file:///Users/joshsteinbecker/Library/Python/3.8/lib/python/site-packages/notion/store.py?line=352'>353</a>\u001b[0m }\n\u001b[0;32m--> <a href='file:///Users/joshsteinbecker/Library/Python/3.8/lib/python/site-packages/notion/store.py?line=353'>354</a>\u001b[0m data \u001b[39m=\u001b[39m \u001b[39mself\u001b[39;49m\u001b[39m.\u001b[39;49m_client\u001b[39m.\u001b[39;49mpost(\u001b[39m\"\u001b[39;49m\u001b[39mqueryCollection\u001b[39;49m\u001b[39m\"\u001b[39;49m, data)\u001b[39m.\u001b[39mjson()\n\u001b[1;32m    <a href='file:///Users/joshsteinbecker/Library/Python/3.8/lib/python/site-packages/notion/store.py?line=354'>355</a>\u001b[0m \u001b[39mself\u001b[39m\u001b[39m.\u001b[39mstore_record_map(data)\n\u001b[1;32m    <a href='file:///Users/joshsteinbecker/Library/Python/3.8/lib/python/site-packages/notion/store.py?line=356'>357</a>\u001b[0m \u001b[39mreturn\u001b[39;00m data[\u001b[39m\"\u001b[39m\u001b[39mresult\u001b[39m\u001b[39m\"\u001b[39m]\n",
      "File \u001b[0;32m~/Library/Python/3.8/lib/python/site-packages/notion/client.py:716\u001b[0m, in \u001b[0;36mNotionClient.post\u001b[0;34m(self, endpoint, data, **kwargs)\u001b[0m\n\u001b[1;32m    <a href='file:///Users/joshsteinbecker/Library/Python/3.8/lib/python/site-packages/notion/client.py?line=712'>713</a>\u001b[0m msg \u001b[39m=\u001b[39m res_data\u001b[39m.\u001b[39mget(\u001b[39m\"\u001b[39m\u001b[39mmessage\u001b[39m\u001b[39m\"\u001b[39m) \u001b[39mor\u001b[39;00m \u001b[39m\"\u001b[39m\u001b[39m<message was not provided>\u001b[39m\u001b[39m\"\u001b[39m\n\u001b[1;32m    <a href='file:///Users/joshsteinbecker/Library/Python/3.8/lib/python/site-packages/notion/client.py?line=714'>715</a>\u001b[0m \u001b[39mif\u001b[39;00m code \u001b[39m==\u001b[39m \u001b[39m400\u001b[39m:\n\u001b[0;32m--> <a href='file:///Users/joshsteinbecker/Library/Python/3.8/lib/python/site-packages/notion/client.py?line=715'>716</a>\u001b[0m     \u001b[39mraise\u001b[39;00m NotionValidationError(msg, extra\u001b[39m=\u001b[39mres_data)\n\u001b[1;32m    <a href='file:///Users/joshsteinbecker/Library/Python/3.8/lib/python/site-packages/notion/client.py?line=717'>718</a>\u001b[0m \u001b[39mif\u001b[39;00m code \u001b[39m==\u001b[39m \u001b[39m401\u001b[39m:\n\u001b[1;32m    <a href='file:///Users/joshsteinbecker/Library/Python/3.8/lib/python/site-packages/notion/client.py?line=718'>719</a>\u001b[0m     \u001b[39mraise\u001b[39;00m NotionUnauthorizedError(msg, extra\u001b[39m=\u001b[39mres_data)\n",
      "\u001b[0;31mNotionValidationError\u001b[0m: Invalid input."
     ]
    }
   ],
   "source": [
    "cv = client.get_collection_view(\"https://www.notion.so/e7fee5c30f564ebe8b56b7d29bd5d691?v=85c82b8d3cf543efa61a09aad642a1db\")\n",
    "for x in cv.collection.get_rows():\n",
    "   print(x)"
   ]
  },
  {
   "cell_type": "code",
   "execution_count": null,
   "metadata": {},
   "outputs": [],
   "source": []
  }
 ],
 "metadata": {
  "interpreter": {
   "hash": "31f2aee4e71d21fbe5cf8b01ff0e069b9275f58929596ceb00d14d90e3e16cd6"
  },
  "kernelspec": {
   "display_name": "Python 3.8.2 64-bit",
   "language": "python",
   "name": "python3"
  },
  "language_info": {
   "codemirror_mode": {
    "name": "ipython",
    "version": 3
   },
   "file_extension": ".py",
   "mimetype": "text/x-python",
   "name": "python",
   "nbconvert_exporter": "python",
   "pygments_lexer": "ipython3",
   "version": "3.8.2"
  },
  "orig_nbformat": 4
 },
 "nbformat": 4,
 "nbformat_minor": 2
}
