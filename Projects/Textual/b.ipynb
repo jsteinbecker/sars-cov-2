{
 "cells": [
  {
   "cell_type": "code",
   "execution_count": 11,
   "metadata": {},
   "outputs": [
    {
     "data": {
      "text/html": [
       "<pre style=\"white-space:pre;overflow-x:auto;line-height:normal;font-family:Menlo,'DejaVu Sans Mono',consolas,'Courier New',monospace\">╭───────────────────────────────────────────────────────────────────────────────────────────╮\n",
       "│ Group A                                                                                   │\n",
       "│ <span style=\"color: #008080; text-decoration-color: #008080\">╭───────────────────────────────────────────────────────────────────────────────────────╮</span> │\n",
       "│ <span style=\"color: #008080; text-decoration-color: #008080\">│ Hello                                                                                 │</span> │\n",
       "│ <span style=\"color: #008080; text-decoration-color: #008080\">╰───────────────────────────────────────────────────────────────────────────────────────╯</span> │\n",
       "│ <span style=\"color: #c0c0c0; text-decoration-color: #c0c0c0\">╭───────────────────────────────────────────────────────────────────────────────────────╮</span> │\n",
       "│ <span style=\"color: #c0c0c0; text-decoration-color: #c0c0c0\">│ World                                                                                 │</span> │\n",
       "│ <span style=\"color: #c0c0c0; text-decoration-color: #c0c0c0\">╰───────────────────────────────────────────────────────────────────────────────────────╯</span> │\n",
       "╰───────────────────────────────────────────────────────────────────────────────────────────╯\n",
       "</pre>\n"
      ],
      "text/plain": [
       "╭───────────────────────────────────────────────────────────────────────────────────────────╮\n",
       "│ Group A                                                                                   │\n",
       "│ \u001b[36m╭───────────────────────────────────────────────────────────────────────────────────────╮\u001b[0m │\n",
       "│ \u001b[36m│\u001b[0m\u001b[36m \u001b[0m\u001b[36mHello\u001b[0m\u001b[36m                                                                                \u001b[0m\u001b[36m \u001b[0m\u001b[36m│\u001b[0m │\n",
       "│ \u001b[36m╰───────────────────────────────────────────────────────────────────────────────────────╯\u001b[0m │\n",
       "│ \u001b[37m╭───────────────────────────────────────────────────────────────────────────────────────╮\u001b[0m │\n",
       "│ \u001b[37m│\u001b[0m\u001b[37m \u001b[0m\u001b[37mWorld\u001b[0m\u001b[37m                                                                                \u001b[0m\u001b[37m \u001b[0m\u001b[37m│\u001b[0m │\n",
       "│ \u001b[37m╰───────────────────────────────────────────────────────────────────────────────────────╯\u001b[0m │\n",
       "╰───────────────────────────────────────────────────────────────────────────────────────────╯\n"
      ]
     },
     "metadata": {},
     "output_type": "display_data"
    }
   ],
   "source": [
    "from rich import print\n",
    "from rich.console import Group\n",
    "from rich.panel import Panel\n",
    "\n",
    "panel_group = Group(\n",
    "   \"Group A\",\n",
    "    Panel(\"Hello\", style=\"cyan\"),\n",
    "    Panel(\"World\", style=\"white\"),\n",
    ")\n",
    "print(Panel(panel_group))"
   ]
  },
  {
   "cell_type": "code",
   "execution_count": 14,
   "metadata": {},
   "outputs": [
    {
     "data": {
      "text/html": [
       "<pre style=\"white-space:pre;overflow-x:auto;line-height:normal;font-family:Menlo,'DejaVu Sans Mono',consolas,'Courier New',monospace\">╭───────────────────────╮ ╭───────────────────╮ ╭─────────────────────╮ ╭──────────────────╮\n",
       "│ <span style=\"font-weight: bold\">Jon Bhatti</span>            │ │ <span style=\"font-weight: bold\">Jaques Ribeiro</span>    │ │ <span style=\"font-weight: bold\">Hans-Erich Grünwald</span> │ │ <span style=\"font-weight: bold\">Tammy Simmmons</span>   │\n",
       "│ <span style=\"color: #808000; text-decoration-color: #808000\">Norway</span>                │ │ <span style=\"color: #808000; text-decoration-color: #808000\">Brazil</span>            │ │ <span style=\"color: #808000; text-decoration-color: #808000\">Germany</span>             │ │ <span style=\"color: #808000; text-decoration-color: #808000\">United Kingdom</span>   │\n",
       "╰───────────────────────╯ ╰───────────────────╯ ╰─────────────────────╯ ╰──────────────────╯\n",
       "╭───────────────────────╮ ╭───────────────────╮ ╭─────────────────────╮ ╭──────────────────╮\n",
       "│ <span style=\"font-weight: bold\">Alicia Diez</span>           │ │ <span style=\"font-weight: bold\">Fernando Wallace</span>  │ │ <span style=\"font-weight: bold\">محمدپارسا زارعی</span>     │ │ <span style=\"font-weight: bold\">Daniel Bernard</span>   │\n",
       "│ <span style=\"color: #808000; text-decoration-color: #808000\">Spain</span>                 │ │ <span style=\"color: #808000; text-decoration-color: #808000\">Ireland</span>           │ │ <span style=\"color: #808000; text-decoration-color: #808000\">Iran</span>                │ │ <span style=\"color: #808000; text-decoration-color: #808000\">Switzerland</span>      │\n",
       "╰───────────────────────╯ ╰───────────────────╯ ╰─────────────────────╯ ╰──────────────────╯\n",
       "╭───────────────────────╮ ╭───────────────────╮ ╭─────────────────────╮ ╭──────────────────╮\n",
       "│ <span style=\"font-weight: bold\">Rolinde Van der Weele</span> │ │ <span style=\"font-weight: bold\">Johannus Meerwijk</span> │ │ <span style=\"font-weight: bold\">Maia Morris</span>         │ │ <span style=\"font-weight: bold\">Damian Lefebvre</span>  │\n",
       "│ <span style=\"color: #808000; text-decoration-color: #808000\">Netherlands</span>           │ │ <span style=\"color: #808000; text-decoration-color: #808000\">Netherlands</span>       │ │ <span style=\"color: #808000; text-decoration-color: #808000\">New Zealand</span>         │ │ <span style=\"color: #808000; text-decoration-color: #808000\">Switzerland</span>      │\n",
       "╰───────────────────────╯ ╰───────────────────╯ ╰─────────────────────╯ ╰──────────────────╯\n",
       "╭───────────────────────╮ ╭───────────────────╮ ╭─────────────────────╮ ╭──────────────────╮\n",
       "│ <span style=\"font-weight: bold\">Barbara Pena</span>          │ │ <span style=\"font-weight: bold\">Heidi Berry</span>       │ │ <span style=\"font-weight: bold\">Milla Laugen</span>        │ │ <span style=\"font-weight: bold\">Barb Warren</span>      │\n",
       "│ <span style=\"color: #808000; text-decoration-color: #808000\">United Kingdom</span>        │ │ <span style=\"color: #808000; text-decoration-color: #808000\">Australia</span>         │ │ <span style=\"color: #808000; text-decoration-color: #808000\">Norway</span>              │ │ <span style=\"color: #808000; text-decoration-color: #808000\">United Kingdom</span>   │\n",
       "╰───────────────────────╯ ╰───────────────────╯ ╰─────────────────────╯ ╰──────────────────╯\n",
       "╭───────────────────────╮ ╭───────────────────╮ ╭─────────────────────╮ ╭──────────────────╮\n",
       "│ <span style=\"font-weight: bold\">Tammy Piket</span>           │ │ <span style=\"font-weight: bold\">Begüm Erdoğan</span>     │ │ <span style=\"font-weight: bold\">Nizar Huijskens</span>     │ │ <span style=\"font-weight: bold\">Andreas Sørensen</span> │\n",
       "│ <span style=\"color: #808000; text-decoration-color: #808000\">Netherlands</span>           │ │ <span style=\"color: #808000; text-decoration-color: #808000\">Turkey</span>            │ │ <span style=\"color: #808000; text-decoration-color: #808000\">Netherlands</span>         │ │ <span style=\"color: #808000; text-decoration-color: #808000\">Denmark</span>          │\n",
       "╰───────────────────────╯ ╰───────────────────╯ ╰─────────────────────╯ ╰──────────────────╯\n",
       "</pre>\n"
      ],
      "text/plain": [
       "╭───────────────────────╮ ╭───────────────────╮ ╭─────────────────────╮ ╭──────────────────╮\n",
       "│ \u001b[1mJon Bhatti\u001b[0m            │ │ \u001b[1mJaques Ribeiro\u001b[0m    │ │ \u001b[1mHans-Erich Grünwald\u001b[0m │ │ \u001b[1mTammy Simmmons\u001b[0m   │\n",
       "│ \u001b[33mNorway\u001b[0m                │ │ \u001b[33mBrazil\u001b[0m            │ │ \u001b[33mGermany\u001b[0m             │ │ \u001b[33mUnited Kingdom\u001b[0m   │\n",
       "╰───────────────────────╯ ╰───────────────────╯ ╰─────────────────────╯ ╰──────────────────╯\n",
       "╭───────────────────────╮ ╭───────────────────╮ ╭─────────────────────╮ ╭──────────────────╮\n",
       "│ \u001b[1mAlicia Diez\u001b[0m           │ │ \u001b[1mFernando Wallace\u001b[0m  │ │ \u001b[1mمحمدپارسا زارعی\u001b[0m     │ │ \u001b[1mDaniel Bernard\u001b[0m   │\n",
       "│ \u001b[33mSpain\u001b[0m                 │ │ \u001b[33mIreland\u001b[0m           │ │ \u001b[33mIran\u001b[0m                │ │ \u001b[33mSwitzerland\u001b[0m      │\n",
       "╰───────────────────────╯ ╰───────────────────╯ ╰─────────────────────╯ ╰──────────────────╯\n",
       "╭───────────────────────╮ ╭───────────────────╮ ╭─────────────────────╮ ╭──────────────────╮\n",
       "│ \u001b[1mRolinde Van der Weele\u001b[0m │ │ \u001b[1mJohannus Meerwijk\u001b[0m │ │ \u001b[1mMaia Morris\u001b[0m         │ │ \u001b[1mDamian Lefebvre\u001b[0m  │\n",
       "│ \u001b[33mNetherlands\u001b[0m           │ │ \u001b[33mNetherlands\u001b[0m       │ │ \u001b[33mNew Zealand\u001b[0m         │ │ \u001b[33mSwitzerland\u001b[0m      │\n",
       "╰───────────────────────╯ ╰───────────────────╯ ╰─────────────────────╯ ╰──────────────────╯\n",
       "╭───────────────────────╮ ╭───────────────────╮ ╭─────────────────────╮ ╭──────────────────╮\n",
       "│ \u001b[1mBarbara Pena\u001b[0m          │ │ \u001b[1mHeidi Berry\u001b[0m       │ │ \u001b[1mMilla Laugen\u001b[0m        │ │ \u001b[1mBarb Warren\u001b[0m      │\n",
       "│ \u001b[33mUnited Kingdom\u001b[0m        │ │ \u001b[33mAustralia\u001b[0m         │ │ \u001b[33mNorway\u001b[0m              │ │ \u001b[33mUnited Kingdom\u001b[0m   │\n",
       "╰───────────────────────╯ ╰───────────────────╯ ╰─────────────────────╯ ╰──────────────────╯\n",
       "╭───────────────────────╮ ╭───────────────────╮ ╭─────────────────────╮ ╭──────────────────╮\n",
       "│ \u001b[1mTammy Piket\u001b[0m           │ │ \u001b[1mBegüm Erdoğan\u001b[0m     │ │ \u001b[1mNizar Huijskens\u001b[0m     │ │ \u001b[1mAndreas Sørensen\u001b[0m │\n",
       "│ \u001b[33mNetherlands\u001b[0m           │ │ \u001b[33mTurkey\u001b[0m            │ │ \u001b[33mNetherlands\u001b[0m         │ │ \u001b[33mDenmark\u001b[0m          │\n",
       "╰───────────────────────╯ ╰───────────────────╯ ╰─────────────────────╯ ╰──────────────────╯\n"
      ]
     },
     "metadata": {},
     "output_type": "display_data"
    }
   ],
   "source": [
    "\"\"\"\n",
    "This example shows how to display content in columns.\n",
    "\n",
    "The data is pulled from https://randomuser.me\n",
    "\"\"\"\n",
    "\n",
    "import json\n",
    "from urllib.request import urlopen\n",
    "\n",
    "from rich.console import Console\n",
    "from rich.columns import Columns\n",
    "from rich.panel import Panel\n",
    "\n",
    "\n",
    "def get_content(user):\n",
    "    \"\"\"Extract text from user dict.\"\"\"\n",
    "    country = user[\"location\"][\"country\"]\n",
    "    name = f\"{user['name']['first']} {user['name']['last']}\"\n",
    "    return f\"[b]{name}[/b]\\n[yellow]{country}\"\n",
    "\n",
    "\n",
    "console = Console()\n",
    "\n",
    "\n",
    "users = json.loads(urlopen(\"https://randomuser.me/api/?results=20\").read())[\"results\"]\n",
    "#console.print(users, overflow=\"ignore\", crop=False)\n",
    "user_renderables = [Panel(get_content(user), expand=True) for user in users]\n",
    "console.print(Columns (user_renderables))"
   ]
  },
  {
   "cell_type": "code",
   "execution_count": null,
   "metadata": {},
   "outputs": [],
   "source": []
  }
 ],
 "metadata": {
  "interpreter": {
   "hash": "31f2aee4e71d21fbe5cf8b01ff0e069b9275f58929596ceb00d14d90e3e16cd6"
  },
  "kernelspec": {
   "display_name": "Python 3.8.2 64-bit",
   "language": "python",
   "name": "python3"
  },
  "language_info": {
   "codemirror_mode": {
    "name": "ipython",
    "version": 3
   },
   "file_extension": ".py",
   "mimetype": "text/x-python",
   "name": "python",
   "nbconvert_exporter": "python",
   "pygments_lexer": "ipython3",
   "version": "3.8.2"
  },
  "orig_nbformat": 4
 },
 "nbformat": 4,
 "nbformat_minor": 2
}
