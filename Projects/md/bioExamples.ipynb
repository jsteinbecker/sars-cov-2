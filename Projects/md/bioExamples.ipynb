{
 "cells": [
  {
   "cell_type": "code",
   "execution_count": 2,
   "metadata": {},
   "outputs": [],
   "source": [
    "import Bio\n",
    "from Bio import Seq\n"
   ]
  },
  {
   "cell_type": "code",
   "execution_count": 16,
   "metadata": {},
   "outputs": [
    {
     "name": "stdout",
     "output_type": "stream",
     "text": [
      "Seq:\tacttcatttccc\n",
      "Len:\t\t12\n"
     ]
    }
   ],
   "source": [
    "# BASICS\n",
    "s = Seq.Seq(data='acttcatttccc')    ;print(f'Seq:\\t{s}')  # DEFINE SEQ FROM STR\n",
    "seqLen = s.__len__()          ;print(f'Len:\\t\\t{seqLen}')  # GET LENGTH OF SEQ\n"
   ]
  },
  {
   "cell_type": "code",
   "execution_count": 15,
   "metadata": {},
   "outputs": [
    {
     "name": "stdout",
     "output_type": "stream",
     "text": [
      "Find index of \"ccc\":\t 9\n",
      "Count Substr \"tt\":\t\t2\n",
      "Count Substr \"tt\" w/overlap:\t\t3\n"
     ]
    }
   ],
   "source": [
    "# SEARCH\n",
    "find_ind = s.find('ccc')      ;print(f'Find index of \"ccc\":\\t {find_ind}') # 1st INDEX OF SUBSTRING\n",
    "count_substr = s.count('tt')     ;print(f'Count Substr \"tt\":\\t\\t{count_substr}') # COUNT OCCURENCES OF SUBSTRING\n",
    "count_substr_withoverlap = s.count_overlap('tt')      ;print(f'Count Substr \"tt\" w/overlap:\\t\\t{count_substr_withoverlap}') # COUNT OCCURENCES, ALLOW OVERLAPS"
   ]
  },
  {
   "cell_type": "code",
   "execution_count": 13,
   "metadata": {},
   "outputs": [
    {
     "name": "stdout",
     "output_type": "stream",
     "text": [
      "Transcribe to RNA:\t\tacuucauuuccc\n",
      "Back-transcribe to DNA:\tacttcatttccc\n",
      "Complement:\t\ttgaagtaaaggg\n",
      "Translate:\tTSFP\n"
     ]
    }
   ],
   "source": [
    "# SEQUENCE OPERATIONS\n",
    "rna = s.transcribe()    ;print(f'Transcribe to RNA:\\t\\t{rna}') # DNA -> RNA\n",
    "rna_back_tx = rna.back_transcribe()   ;print(f'Back-transcribe to DNA:\\t{rna_back_tx}') # RNA -> DNA\n",
    "\n",
    "com= s.complement()    ;print(f'Complement:\\t\\t{com}')# COMPLEMENT STRAND OF SEQ\n",
    "\n",
    "aa = s.translate()   ;print(f'Translate:\\t{aa}')# DNA/RNA TO PROTEIN SEQ\n"
   ]
  },
  {
   "cell_type": "code",
   "execution_count": 17,
   "metadata": {},
   "outputs": [],
   "source": [
    "from Bio import Align"
   ]
  },
  {
   "cell_type": "code",
   "execution_count": 29,
   "metadata": {},
   "outputs": [
    {
     "name": "stdout",
     "output_type": "stream",
     "text": [
      "acct-ctacc-\n",
      "|||--||||--\n",
      "acc-actac-g\n",
      " 7.0\n"
     ]
    }
   ],
   "source": [
    "seq1 = 'acctctacc'   ; seq1 = Seq.Seq(seq1)\n",
    "seq2 = 'accactacg'   ; seq2 = Seq.Seq(seq2)\n",
    "\n",
    "aligner = Align.PairwiseAligner()\n",
    "alignments = aligner.align(seq1,seq2)\n",
    "print(alignments[0],alignments[0].score)"
   ]
  },
  {
   "cell_type": "markdown",
   "metadata": {},
   "source": [
    "```\n",
    "acct-ctacc-\n",
    "|||--||||--\n",
    "acc-actac-g\n",
    "```"
   ]
  }
 ],
 "metadata": {
  "interpreter": {
   "hash": "8fd295a7007e560b192f709854f66b36915a5382ae77c4fca9f0e6f21003d31e"
  },
  "kernelspec": {
   "display_name": "Python 3.9.5 ('base')",
   "language": "python",
   "name": "python3"
  },
  "language_info": {
   "codemirror_mode": {
    "name": "ipython",
    "version": 3
   },
   "file_extension": ".py",
   "mimetype": "text/x-python",
   "name": "python",
   "nbconvert_exporter": "python",
   "pygments_lexer": "ipython3",
   "version": "3.9.5"
  },
  "orig_nbformat": 4
 },
 "nbformat": 4,
 "nbformat_minor": 2
}
