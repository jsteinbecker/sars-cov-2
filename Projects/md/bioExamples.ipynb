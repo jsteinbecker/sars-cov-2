{
 "cells": [
  {
   "cell_type": "code",
   "execution_count": 3,
   "metadata": {},
   "outputs": [],
   "source": [
    "import Bio\n",
    "from Bio import Seq\n",
    "import pandas as pd"
   ]
  },
  {
   "cell_type": "code",
   "execution_count": 20,
   "metadata": {},
   "outputs": [
    {
     "data": {
      "text/html": [
       "<div>\n",
       "<style scoped>\n",
       "    .dataframe tbody tr th:only-of-type {\n",
       "        vertical-align: middle;\n",
       "    }\n",
       "\n",
       "    .dataframe tbody tr th {\n",
       "        vertical-align: top;\n",
       "    }\n",
       "\n",
       "    .dataframe thead th {\n",
       "        text-align: right;\n",
       "    }\n",
       "</style>\n",
       "<table border=\"1\" class=\"dataframe\">\n",
       "  <thead>\n",
       "    <tr style=\"text-align: right;\">\n",
       "      <th></th>\n",
       "      <th>seqs</th>\n",
       "      <th>seqslen</th>\n",
       "      <th>a</th>\n",
       "      <th>c</th>\n",
       "      <th>g</th>\n",
       "      <th>t</th>\n",
       "    </tr>\n",
       "  </thead>\n",
       "  <tbody>\n",
       "    <tr>\n",
       "      <th>0</th>\n",
       "      <td>(a, c, t, t, t, c, g, c, t, g, g, g)</td>\n",
       "      <td>12</td>\n",
       "      <td>1</td>\n",
       "      <td>3</td>\n",
       "      <td>4</td>\n",
       "      <td>4</td>\n",
       "    </tr>\n",
       "    <tr>\n",
       "      <th>1</th>\n",
       "      <td>(c, a, g, g, c, t, a, a, c, a, c, t)</td>\n",
       "      <td>12</td>\n",
       "      <td>4</td>\n",
       "      <td>4</td>\n",
       "      <td>2</td>\n",
       "      <td>2</td>\n",
       "    </tr>\n",
       "    <tr>\n",
       "      <th>2</th>\n",
       "      <td>(g, g, c, t, a, c, g, c, t, a, c, g, g, g, g, ...</td>\n",
       "      <td>18</td>\n",
       "      <td>2</td>\n",
       "      <td>7</td>\n",
       "      <td>7</td>\n",
       "      <td>2</td>\n",
       "    </tr>\n",
       "  </tbody>\n",
       "</table>\n",
       "</div>"
      ],
      "text/plain": [
       "                                                seqs  seqslen  a  c  g  t\n",
       "0               (a, c, t, t, t, c, g, c, t, g, g, g)       12  1  3  4  4\n",
       "1               (c, a, g, g, c, t, a, a, c, a, c, t)       12  4  4  2  2\n",
       "2  (g, g, c, t, a, c, g, c, t, a, c, g, g, g, g, ...       18  2  7  7  2"
      ]
     },
     "execution_count": 20,
     "metadata": {},
     "output_type": "execute_result"
    }
   ],
   "source": [
    "seqsdata = [\n",
    "   \"actttcgctggg\",\n",
    "   \"caggctaacact\",\n",
    "   \"ggctacgctacggggccc\"\n",
    "]\n",
    "seqs = [Seq.Seq(x) for x in seqsdata]\n",
    "seqslen = [len(x) for x in seqs]\n",
    "\n",
    "findnt  =  lambda nt : [x.count(nt) for x in seqsdata]\n",
    "\n",
    "a = findnt(\"a\")\n",
    "g = findnt(\"g\")\n",
    "c = findnt(\"c\")\n",
    "t = findnt(\"t\")\n",
    "\n",
    "\n",
    "Dict = {\n",
    "   \"seqs\": seqs,\n",
    "   \"seqslen\" : seqslen,\n",
    "   \"a\" : a,\n",
    "   \"c\" : c,\n",
    "   \"g\" : g,\n",
    "   \"t\" : t\n",
    "}\n",
    "df = pd.DataFrame(Dict)\n",
    "df"
   ]
  },
  {
   "cell_type": "code",
   "execution_count": 15,
   "metadata": {},
   "outputs": [
    {
     "name": "stdout",
     "output_type": "stream",
     "text": [
      "Find index of \"ccc\":\t 9\n",
      "Count Substr \"tt\":\t\t2\n",
      "Count Substr \"tt\" w/overlap:\t\t3\n"
     ]
    }
   ],
   "source": [
    "# SEARCH\n",
    "find_ind = s.find('ccc')      ;print(f'Find index of \"ccc\":\\t {find_ind}') # 1st INDEX OF SUBSTRING\n",
    "count_substr = s.count('tt')     ;print(f'Count Substr \"tt\":\\t\\t{count_substr}') # COUNT OCCURENCES OF SUBSTRING\n",
    "count_substr_withoverlap = s.count_overlap('tt')      ;print(f'Count Substr \"tt\" w/overlap:\\t\\t{count_substr_withoverlap}') # COUNT OCCURENCES, ALLOW OVERLAPS"
   ]
  },
  {
   "cell_type": "code",
   "execution_count": 13,
   "metadata": {},
   "outputs": [
    {
     "name": "stdout",
     "output_type": "stream",
     "text": [
      "Transcribe to RNA:\t\tacuucauuuccc\n",
      "Back-transcribe to DNA:\tacttcatttccc\n",
      "Complement:\t\ttgaagtaaaggg\n",
      "Translate:\tTSFP\n"
     ]
    }
   ],
   "source": [
    "# SEQUENCE OPERATIONS\n",
    "rna = s.transcribe()    ;print(f'Transcribe to RNA:\\t\\t{rna}') # DNA -> RNA\n",
    "rna_back_tx = rna.back_transcribe()   ;print(f'Back-transcribe to DNA:\\t{rna_back_tx}') # RNA -> DNA\n",
    "\n",
    "com= s.complement()    ;print(f'Complement:\\t\\t{com}')# COMPLEMENT STRAND OF SEQ\n",
    "\n",
    "aa = s.translate()   ;print(f'Translate:\\t{aa}')# DNA/RNA TO PROTEIN SEQ\n"
   ]
  },
  {
   "cell_type": "code",
   "execution_count": 17,
   "metadata": {},
   "outputs": [],
   "source": [
    "from Bio import Align"
   ]
  },
  {
   "cell_type": "code",
   "execution_count": 29,
   "metadata": {},
   "outputs": [
    {
     "name": "stdout",
     "output_type": "stream",
     "text": [
      "acct-ctacc-\n",
      "|||--||||--\n",
      "acc-actac-g\n",
      " 7.0\n"
     ]
    }
   ],
   "source": [
    "seq1 = 'acctctacc'   ; seq1 = Seq.Seq(seq1)\n",
    "seq2 = 'accactacg'   ; seq2 = Seq.Seq(seq2)\n",
    "\n",
    "aligner = Align.PairwiseAligner()\n",
    "alignments = aligner.align(seq1,seq2)\n",
    "print(alignments[0],alignments[0].score)"
   ]
  }
 ],
 "metadata": {
  "interpreter": {
   "hash": "31f2aee4e71d21fbe5cf8b01ff0e069b9275f58929596ceb00d14d90e3e16cd6"
  },
  "kernelspec": {
   "display_name": "Python 3.8.2 64-bit",
   "language": "python",
   "name": "python3"
  },
  "language_info": {
   "codemirror_mode": {
    "name": "ipython",
    "version": 3
   },
   "file_extension": ".py",
   "mimetype": "text/x-python",
   "name": "python",
   "nbconvert_exporter": "python",
   "pygments_lexer": "ipython3",
   "version": "3.8.2"
  },
  "orig_nbformat": 4
 },
 "nbformat": 4,
 "nbformat_minor": 2
}
