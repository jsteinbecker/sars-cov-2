{
 "cells": [
  {
   "cell_type": "code",
   "execution_count": 1,
   "metadata": {},
   "outputs": [],
   "source": [
    "import sympy as sp"
   ]
  },
  {
   "cell_type": "code",
   "execution_count": 2,
   "metadata": {},
   "outputs": [
    {
     "data": {
      "text/latex": [
       "$\\displaystyle mo.Pmnt = \\frac{P r \\left(r + 1\\right)^{n}}{\\left(r + 1\\right)^{n} - 1}$"
      ],
      "text/plain": [
       "Eq(mo.Pmnt, P*r*(r + 1)**n/((r + 1)**n - 1))"
      ]
     },
     "execution_count": 2,
     "metadata": {},
     "output_type": "execute_result"
    }
   ],
   "source": [
    "P, r, n, mp= sp.symbols(\"P r n mo.Pmnt\")\n",
    "mo_payment = sp.Eq(mp,P * r * (((1 + r)** n) / ((1 + r)** n - 1)))\n",
    "mo_payment"
   ]
  },
  {
   "cell_type": "code",
   "execution_count": 32,
   "metadata": {},
   "outputs": [],
   "source": [
    "def mortgagepayment (P,apr,yrs):\n",
    "   r = apr / 12\n",
    "   n = yrs * 12\n",
    "   mp = round(P * r * ((r+1)**n) / ((r+1)**n-1) , 2)\n",
    "   print (f'Monthly Payment:\\t\\t${mp}')\n",
    "   return mp"
   ]
  },
  {
   "cell_type": "code",
   "execution_count": 33,
   "metadata": {},
   "outputs": [
    {
     "name": "stdout",
     "output_type": "stream",
     "text": [
      "Monthly Payment:\t\t$1230.97\n"
     ]
    },
    {
     "data": {
      "text/plain": [
       "1230.97"
      ]
     },
     "execution_count": 33,
     "metadata": {},
     "output_type": "execute_result"
    }
   ],
   "source": [
    "mortgagepayment (249_000 , apr=0.0285 , yrs=23)\n"
   ]
  },
  {
   "cell_type": "code",
   "execution_count": 34,
   "metadata": {},
   "outputs": [
    {
     "name": "stdout",
     "output_type": "stream",
     "text": [
      "Monthly Payment:\t\t$649.63\n"
     ]
    },
    {
     "data": {
      "text/plain": [
       "649.63"
      ]
     },
     "execution_count": 34,
     "metadata": {},
     "output_type": "execute_result"
    }
   ],
   "source": [
    "mortgagepayment (89_000 , apr=0.07 , yrs=23)"
   ]
  },
  {
   "cell_type": "code",
   "execution_count": 35,
   "metadata": {},
   "outputs": [],
   "source": [
    "def mort_apr_table (maxAPR:float,principle:float,years:int):\n",
    "   st = []\n",
    "   for x in range (1,maxAPR):\n",
    "      mo = mortgagepayment(principle,apr=x/100,yrs=years)\n",
    "      st.append(mo)\n",
    "      print (f'Monthly Payment    ( {x}% APR ):\\t\\t\\t{mortgagepayment(100000,apr=x/100,yrs=15)}')\n",
    "      \n",
    "   print(\"-\"*60)\n",
    "   for i in range(1,len(st)):\n",
    "      diff = round(st[i] - st[i-1],2)\n",
    "      print (f\"∆1%APR:\\t\\t\\t\\t\\t\\t\\t\\t+ ${diff} to cost\")"
   ]
  },
  {
   "cell_type": "code",
   "execution_count": 36,
   "metadata": {},
   "outputs": [
    {
     "name": "stdout",
     "output_type": "stream",
     "text": [
      "Monthly Payment:\t\t$486.88\n",
      "Monthly Payment:\t\t$598.49\n",
      "Monthly Payment    ( 1% APR ):\t\t\t598.49\n",
      "Monthly Payment:\t\t$542.78\n",
      "Monthly Payment:\t\t$643.51\n",
      "Monthly Payment    ( 2% APR ):\t\t\t643.51\n",
      "Monthly Payment:\t\t$602.42\n",
      "Monthly Payment:\t\t$690.58\n",
      "Monthly Payment    ( 3% APR ):\t\t\t690.58\n",
      "Monthly Payment:\t\t$665.7\n",
      "Monthly Payment:\t\t$739.69\n",
      "Monthly Payment    ( 4% APR ):\t\t\t739.69\n",
      "Monthly Payment:\t\t$732.49\n",
      "Monthly Payment:\t\t$790.79\n",
      "Monthly Payment    ( 5% APR ):\t\t\t790.79\n",
      "Monthly Payment:\t\t$802.62\n",
      "Monthly Payment:\t\t$843.86\n",
      "Monthly Payment    ( 6% APR ):\t\t\t843.86\n",
      "Monthly Payment:\t\t$875.9\n",
      "Monthly Payment:\t\t$898.83\n",
      "Monthly Payment    ( 7% APR ):\t\t\t898.83\n",
      "Monthly Payment:\t\t$952.14\n",
      "Monthly Payment:\t\t$955.65\n",
      "Monthly Payment    ( 8% APR ):\t\t\t955.65\n",
      "Monthly Payment:\t\t$1031.12\n",
      "Monthly Payment:\t\t$1014.27\n",
      "Monthly Payment    ( 9% APR ):\t\t\t1014.27\n",
      "Monthly Payment:\t\t$1112.62\n",
      "Monthly Payment:\t\t$1074.61\n",
      "Monthly Payment    ( 10% APR ):\t\t\t1074.61\n",
      "Monthly Payment:\t\t$1196.41\n",
      "Monthly Payment:\t\t$1136.6\n",
      "Monthly Payment    ( 11% APR ):\t\t\t1136.6\n",
      "------------------------------------------------------------\n",
      "∆1%APR:\t\t\t\t\t\t\t\t+ $55.9 to cost\n",
      "∆1%APR:\t\t\t\t\t\t\t\t+ $59.64 to cost\n",
      "∆1%APR:\t\t\t\t\t\t\t\t+ $63.28 to cost\n",
      "∆1%APR:\t\t\t\t\t\t\t\t+ $66.79 to cost\n",
      "∆1%APR:\t\t\t\t\t\t\t\t+ $70.13 to cost\n",
      "∆1%APR:\t\t\t\t\t\t\t\t+ $73.28 to cost\n",
      "∆1%APR:\t\t\t\t\t\t\t\t+ $76.24 to cost\n",
      "∆1%APR:\t\t\t\t\t\t\t\t+ $78.98 to cost\n",
      "∆1%APR:\t\t\t\t\t\t\t\t+ $81.5 to cost\n",
      "∆1%APR:\t\t\t\t\t\t\t\t+ $83.79 to cost\n"
     ]
    }
   ],
   "source": [
    "mort_apr_table (maxAPR= 12, principle=120_000, years=23)"
   ]
  },
  {
   "cell_type": "code",
   "execution_count": 7,
   "metadata": {},
   "outputs": [
    {
     "name": "stdout",
     "output_type": "stream",
     "text": [
      "Monthly Payment    ( 10 years ):\t\t\t1060.66\n",
      "Monthly Payment    ( 12 years ):\t\t\t924.89\n",
      "Monthly Payment    ( 14 years ):\t\t\t828.87\n",
      "Monthly Payment    ( 16 years ):\t\t\t757.68\n",
      "Monthly Payment    ( 18 years ):\t\t\t703.03\n",
      "Monthly Payment    ( 20 years ):\t\t\t659.96\n"
     ]
    }
   ],
   "source": [
    "for x in range (10,21,2):\n",
    "   print (f'Monthly Payment    ( {x} years ):\\t\\t\\t{mortgagepayment(100000,apr=0.05,yrs=x)}')"
   ]
  },
  {
   "cell_type": "markdown",
   "metadata": {},
   "source": [
    "SYMBOL | Represents\n",
    "-------|-----------------\n",
    "$moPmnt$|`MONTHLY PAYMENT`\n",
    "$P$|`PRINCIPLE`\n",
    "$n$|`No. MONTHS`\n",
    "$r$|`INTEREST RATE (MONTHLY)`"
   ]
  },
  {
   "cell_type": "code",
   "execution_count": 8,
   "metadata": {},
   "outputs": [
    {
     "name": "stdout",
     "output_type": "stream",
     "text": [
      "MONTHS =\t\t\t\t240\n",
      "MONTHLY INT.RATE =\t\t0.00125\n",
      "PRINCIPLE =\t\t\t\t120000\n"
     ]
    }
   ],
   "source": [
    "# MONTHS OF TERM\n",
    "years = 20\n",
    "mo_per_yr = 12\n",
    "months = years * mo_per_yr\n",
    "print(f'MONTHS =\\t\\t\\t\\t{months}')\n",
    "yr_int_rt = 0.015 # 1.5%\n",
    "mo_int_rt = yr_int_rt / 12\n",
    "print(f'MONTHLY INT.RATE =\\t\\t{mo_int_rt}')\n",
    "principle = 120_000\n",
    "print (f'PRINCIPLE =\\t\\t\\t\\t{principle}')"
   ]
  },
  {
   "cell_type": "code",
   "execution_count": 12,
   "metadata": {},
   "outputs": [
    {
     "data": {
      "text/latex": [
       "$\\displaystyle mo.Pmnt = 579.054490658354$"
      ],
      "text/plain": [
       "Eq(mo.Pmnt, 579.054490658354)"
      ]
     },
     "execution_count": 12,
     "metadata": {},
     "output_type": "execute_result"
    }
   ],
   "source": [
    "# with 1.5% APR\n",
    "mo_payment.subs({P:principle, r:mo_int_rt, n:months})"
   ]
  },
  {
   "cell_type": "code",
   "execution_count": 10,
   "metadata": {},
   "outputs": [
    {
     "data": {
      "text/latex": [
       "$\\displaystyle mo.Pmnt = 695.95166157971$"
      ],
      "text/plain": [
       "Eq(mo.Pmnt, 695.95166157971)"
      ]
     },
     "execution_count": 10,
     "metadata": {},
     "output_type": "execute_result"
    }
   ],
   "source": [
    "# with 3.5% APR\n",
    "mo_payment.subs({P:principle,r:0.035/12,n:240})"
   ]
  },
  {
   "cell_type": "code",
   "execution_count": 11,
   "metadata": {},
   "outputs": [
    {
     "data": {
      "text/latex": [
       "$\\displaystyle mo.Pmnt = 894.68776261812$"
      ],
      "text/plain": [
       "Eq(mo.Pmnt, 894.68776261812)"
      ]
     },
     "execution_count": 11,
     "metadata": {},
     "output_type": "execute_result"
    }
   ],
   "source": [
    "# with 6.5% APR\n",
    "mo_payment.subs({P:principle,r:0.065/12,n:240})"
   ]
  },
  {
   "cell_type": "code",
   "execution_count": 29,
   "metadata": {},
   "outputs": [],
   "source": [
    "def apr_vs_cost_change (apr1,apr2,cost1,cost2) :\n",
    "   ch_apr = apr2 - apr1\n",
    "   ch_mo_pmnt = round((cost2 / cost1-1)*100, 1)\n",
    "   output = f'{ch_apr}% change APR -> \\n{ch_mo_pmnt}% change monthly cost'\n",
    "   print (output)"
   ]
  },
  {
   "cell_type": "code",
   "execution_count": 30,
   "metadata": {},
   "outputs": [
    {
     "name": "stdout",
     "output_type": "stream",
     "text": [
      "2.0% change APR -> \n",
      "20.0% change monthly cost\n"
     ]
    }
   ],
   "source": [
    "apr_vs_cost_change (1.5 , 3.5, 579, 695)"
   ]
  },
  {
   "cell_type": "code",
   "execution_count": 31,
   "metadata": {},
   "outputs": [
    {
     "name": "stdout",
     "output_type": "stream",
     "text": [
      "5.0% change APR -> \n",
      "54.4% change monthly cost\n"
     ]
    }
   ],
   "source": [
    "apr_vs_cost_change (1.5,6.5,579,894)"
   ]
  }
 ],
 "metadata": {
  "interpreter": {
   "hash": "8fd295a7007e560b192f709854f66b36915a5382ae77c4fca9f0e6f21003d31e"
  },
  "kernelspec": {
   "display_name": "Python 3.9.5 ('base')",
   "language": "python",
   "name": "python3"
  },
  "language_info": {
   "codemirror_mode": {
    "name": "ipython",
    "version": 3
   },
   "file_extension": ".py",
   "mimetype": "text/x-python",
   "name": "python",
   "nbconvert_exporter": "python",
   "pygments_lexer": "ipython3",
   "version": "3.9.5"
  },
  "orig_nbformat": 4
 },
 "nbformat": 4,
 "nbformat_minor": 2
}
