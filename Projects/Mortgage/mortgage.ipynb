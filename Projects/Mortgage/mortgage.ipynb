{
 "cells": [
  {
   "cell_type": "code",
   "execution_count": 2,
   "metadata": {},
   "outputs": [],
   "source": [
    "import sympy as sp"
   ]
  },
  {
   "cell_type": "code",
   "execution_count": 10,
   "metadata": {},
   "outputs": [
    {
     "data": {
      "text/latex": [
       "$\\displaystyle mo.Pmnt = \\frac{P r \\left(r + 1\\right)^{n}}{\\left(r + 1\\right)^{n} - 1}$"
      ],
      "text/plain": [
       "Eq(mo.Pmnt, P*r*(r + 1)**n/((r + 1)**n - 1))"
      ]
     },
     "execution_count": 10,
     "metadata": {},
     "output_type": "execute_result"
    }
   ],
   "source": [
    "P, r, n, mp= sp.symbols(\"P r n mo.Pmnt\")\n",
    "mo_payment = sp.Eq(mp,P * r * (((1 + r)** n) / ((1 + r)** n - 1)))\n",
    "mo_payment"
   ]
  },
  {
   "cell_type": "code",
   "execution_count": 37,
   "metadata": {},
   "outputs": [],
   "source": [
    "def mortgagepayment (P,apr,yrs):\n",
    "   r = apr / 12\n",
    "   n = yrs * 12\n",
    "   mp = round(P * r * ((r+1)**n) / ((r+1)**n-1) , 2)\n",
    "   return mp"
   ]
  },
  {
   "cell_type": "code",
   "execution_count": 40,
   "metadata": {},
   "outputs": [
    {
     "name": "stdout",
     "output_type": "stream",
     "text": [
      "Monthly Payment:\t\t$1230.97\n"
     ]
    }
   ],
   "source": [
    "mort = mortgagepayment (249_000 , apr=0.0285 , yrs=23)\n",
    "print (f\"Monthly Payment:\\t\\t${mort}\")"
   ]
  },
  {
   "cell_type": "code",
   "execution_count": 43,
   "metadata": {},
   "outputs": [
    {
     "name": "stdout",
     "output_type": "stream",
     "text": [
      "Monthly Payment:\t\t$649.63\n"
     ]
    }
   ],
   "source": [
    "mort = mortgagepayment (89_000 , apr=0.07 , yrs=23)\n",
    "print (f\"Monthly Payment:\\t\\t${mort}\")"
   ]
  },
  {
   "cell_type": "code",
   "execution_count": 75,
   "metadata": {},
   "outputs": [
    {
     "name": "stdout",
     "output_type": "stream",
     "text": [
      "Monthly Payment    ( 1% APR ):\t\t\t598.49\n",
      "Monthly Payment    ( 2% APR ):\t\t\t643.51\n",
      "Monthly Payment    ( 3% APR ):\t\t\t690.58\n",
      "Monthly Payment    ( 4% APR ):\t\t\t739.69\n",
      "Monthly Payment    ( 5% APR ):\t\t\t790.79\n",
      "Monthly Payment    ( 6% APR ):\t\t\t843.86\n",
      "Monthly Payment    ( 7% APR ):\t\t\t898.83\n",
      "Monthly Payment    ( 8% APR ):\t\t\t955.65\n",
      "Monthly Payment    ( 9% APR ):\t\t\t1014.27\n",
      "------------------------------------------------------------\n",
      "∆1%APR:\t\t\t\t\t\t\t\t+ $45.02 to cost\n",
      "∆1%APR:\t\t\t\t\t\t\t\t+ $47.07 to cost\n",
      "∆1%APR:\t\t\t\t\t\t\t\t+ $49.11 to cost\n",
      "∆1%APR:\t\t\t\t\t\t\t\t+ $51.1 to cost\n",
      "∆1%APR:\t\t\t\t\t\t\t\t+ $53.07 to cost\n",
      "∆1%APR:\t\t\t\t\t\t\t\t+ $54.97 to cost\n",
      "∆1%APR:\t\t\t\t\t\t\t\t+ $56.82 to cost\n",
      "∆1%APR:\t\t\t\t\t\t\t\t+ $58.62 to cost\n"
     ]
    }
   ],
   "source": [
    "st = []\n",
    "for x in range (1,10):\n",
    "   mo = mortgagepayment(100000,apr=x/100,yrs=15)\n",
    "   st.append(mo)\n",
    "   print (f'Monthly Payment    ( {x}% APR ):\\t\\t\\t{mortgagepayment(100000,apr=x/100,yrs=15)}')\n",
    "   \n",
    "print(\"-\"*60)\n",
    "for i in range(1,len(st)):\n",
    "   diff = round(st[i] - st[i-1],2)\n",
    "   print (f\"∆1%APR:\\t\\t\\t\\t\\t\\t\\t\\t+ ${diff} to cost\")"
   ]
  },
  {
   "cell_type": "code",
   "execution_count": 58,
   "metadata": {},
   "outputs": [
    {
     "name": "stdout",
     "output_type": "stream",
     "text": [
      "Monthly Payment    ( 10 years ):\t\t\t1060.66\n",
      "Monthly Payment    ( 12 years ):\t\t\t924.89\n",
      "Monthly Payment    ( 14 years ):\t\t\t828.87\n",
      "Monthly Payment    ( 16 years ):\t\t\t757.68\n",
      "Monthly Payment    ( 18 years ):\t\t\t703.03\n",
      "Monthly Payment    ( 20 years ):\t\t\t659.96\n"
     ]
    }
   ],
   "source": [
    "for x in range (10,21,2):\n",
    "   print (f'Monthly Payment    ( {x} years ):\\t\\t\\t{mortgagepayment(100000,apr=0.05,yrs=x)}')"
   ]
  },
  {
   "cell_type": "markdown",
   "metadata": {},
   "source": [
    "SYMBOL | Represents\n",
    "-------|-----------------\n",
    "$moPmnt$|`MONTHLY PAYMENT`\n",
    "$P$|`PRINCIPLE`\n",
    "$n$|`No. MONTHS`\n",
    "$r$|`INTEREST RATE (MONTHLY)`"
   ]
  },
  {
   "cell_type": "code",
   "execution_count": 35,
   "metadata": {},
   "outputs": [
    {
     "name": "stdout",
     "output_type": "stream",
     "text": [
      "MONTHS =\t\t\t\t240\n",
      "MONTHLY INT.RATE =\t\t0.00125\n",
      "PRINCIPLE =\t\t\t\t120000\n"
     ]
    }
   ],
   "source": [
    "# MONTHS OF TERM\n",
    "years = 20\n",
    "mo_per_yr = 12\n",
    "months = years * mo_per_yr\n",
    "print(f'MONTHS =\\t\\t\\t\\t{months}')\n",
    "yr_int_rt = 0.015 # 1.5%\n",
    "mo_int_rt = yr_int_rt / 12\n",
    "print(f'MONTHLY INT.RATE =\\t\\t{mo_int_rt}')\n",
    "principle = 120_000\n",
    "print (f'PRINCIPLE =\\t\\t\\t\\t{principle}')"
   ]
  },
  {
   "cell_type": "code",
   "execution_count": 26,
   "metadata": {},
   "outputs": [
    {
     "data": {
      "text/latex": [
       "$\\displaystyle mo.Pmnt = 579.054490658354$"
      ],
      "text/plain": [
       "Eq(mo.Pmnt, 579.054490658354)"
      ]
     },
     "execution_count": 26,
     "metadata": {},
     "output_type": "execute_result"
    }
   ],
   "source": [
    "# with 1.5% APR\n",
    "mo_payment.subs({P:principle, r:mo_int_rt, n:months})"
   ]
  },
  {
   "cell_type": "code",
   "execution_count": 28,
   "metadata": {},
   "outputs": [
    {
     "data": {
      "text/latex": [
       "$\\displaystyle mo.Pmnt = 695.95166157971$"
      ],
      "text/plain": [
       "Eq(mo.Pmnt, 695.95166157971)"
      ]
     },
     "execution_count": 28,
     "metadata": {},
     "output_type": "execute_result"
    }
   ],
   "source": [
    "# with 3.5% APR\n",
    "mo_payment.subs({P:principle,r:0.035/12,n:240})"
   ]
  },
  {
   "cell_type": "code",
   "execution_count": 29,
   "metadata": {},
   "outputs": [
    {
     "data": {
      "text/latex": [
       "$\\displaystyle mo.Pmnt = 894.68776261812$"
      ],
      "text/plain": [
       "Eq(mo.Pmnt, 894.68776261812)"
      ]
     },
     "execution_count": 29,
     "metadata": {},
     "output_type": "execute_result"
    }
   ],
   "source": [
    "# with 6.5% APR\n",
    "mo_payment.subs({P:principle,r:0.065/12,n:240})"
   ]
  }
 ],
 "metadata": {
  "interpreter": {
   "hash": "8fd295a7007e560b192f709854f66b36915a5382ae77c4fca9f0e6f21003d31e"
  },
  "kernelspec": {
   "display_name": "Python 3.9.5 ('base')",
   "language": "python",
   "name": "python3"
  },
  "language_info": {
   "codemirror_mode": {
    "name": "ipython",
    "version": 3
   },
   "file_extension": ".py",
   "mimetype": "text/x-python",
   "name": "python",
   "nbconvert_exporter": "python",
   "pygments_lexer": "ipython3",
   "version": "3.9.5"
  },
  "orig_nbformat": 4
 },
 "nbformat": 4,
 "nbformat_minor": 2
}
