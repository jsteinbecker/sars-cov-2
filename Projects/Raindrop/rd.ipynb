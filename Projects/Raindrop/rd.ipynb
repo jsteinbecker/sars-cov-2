{
 "cells": [
  {
   "cell_type": "code",
   "execution_count": 3,
   "metadata": {},
   "outputs": [
    {
     "name": "stdout",
     "output_type": "stream",
     "text": [
      "Object `Raindrop.collection` not found.\n"
     ]
    }
   ],
   "source": [
    "import os\n",
    "\n",
    "from raindropio import *\n",
    "\n",
    "api = API(\"1164e198-65e1-4f86-ab90-9f19c07e2eb9\")\n",
    "\n",
    "Raindrop.collection?"
   ]
  },
  {
   "cell_type": "code",
   "execution_count": 15,
   "metadata": {},
   "outputs": [
    {
     "ename": "TypeError",
     "evalue": "__init__() missing 1 required positional argument: 'values'",
     "output_type": "error",
     "traceback": [
      "\u001b[0;31m---------------------------------------------------------------------------\u001b[0m",
      "\u001b[0;31mTypeError\u001b[0m                                 Traceback (most recent call last)",
      "\u001b[1;32m/Users/joshsteinbecker/jts_project/Projects/Raindrop/rd.ipynb Cell 2'\u001b[0m in \u001b[0;36m<module>\u001b[0;34m\u001b[0m\n\u001b[1;32m     <a href='vscode-notebook-cell:/Users/joshsteinbecker/jts_project/Projects/Raindrop/rd.ipynb#ch0000001?line=21'>22</a>\u001b[0m     \u001b[39mprint\u001b[39m(\u001b[39m\"\u001b[39m\u001b[39muser\u001b[39m\u001b[39m\"\u001b[39m, c\u001b[39m.\u001b[39muser)\n\u001b[1;32m     <a href='vscode-notebook-cell:/Users/joshsteinbecker/jts_project/Projects/Raindrop/rd.ipynb#ch0000001?line=22'>23</a>\u001b[0m     \u001b[39mprint\u001b[39m(\u001b[39m\"\u001b[39m\u001b[39mview\u001b[39m\u001b[39m\"\u001b[39m, c\u001b[39m.\u001b[39mview)\n\u001b[0;32m---> <a href='vscode-notebook-cell:/Users/joshsteinbecker/jts_project/Projects/Raindrop/rd.ipynb#ch0000001?line=25'>26</a>\u001b[0m rain\u001b[39m.\u001b[39;49mUserFiles()\n",
      "\u001b[0;31mTypeError\u001b[0m: __init__() missing 1 required positional argument: 'values'"
     ]
    }
   ],
   "source": [
    "\n",
    "import os\n",
    "\n",
    "import raindropio as rain \n",
    "\n",
    "api = API(\"1164e198-65e1-4f86-ab90-9f19c07e2eb9\")\n",
    "\n",
    "def print_collection(c):\n",
    "    print(\"------------------------------\")\n",
    "    print(\"id\", c.id)\n",
    "    print(\"access\", c.access.level, c.access.draggable)\n",
    "    print(\"collaborators\", c.collaborators)\n",
    "    print(\"color\", c.color)\n",
    "    print(\"count\", c.count)\n",
    "    print(\"cover\", c.cover)\n",
    "    print(\"created\", c.created)\n",
    "    print(\"expanded\", c.expanded)\n",
    "    print(\"lastUpdate\", c.lastUpdate)\n",
    "    print(\"parent\", c.parent)\n",
    "    print(\"public\", c.public)\n",
    "    print(\"sort\", c.sort)\n",
    "    print(\"title\", c.title)\n",
    "    print(\"user\", c.user)\n",
    "    print(\"view\", c.view)\n",
    "\n",
    "\n",
    "rain.UserFiles()"
   ]
  },
  {
   "cell_type": "code",
   "execution_count": 43,
   "metadata": {},
   "outputs": [],
   "source": [
    "def reversDict (Dict:dict):\n",
    "   \"\"\"Make the values of a dict the new keys\n",
    "   >>> Dict\n",
    "   ---------------------------------------\n",
    "   example:\n",
    "   {a:1,  b:2,  c:3} ==> {1:a,  2:b,  3:c}\n",
    "   --------------------------------------- \n",
    "   \"\"\"\n",
    "   return {s[1]:s[0] for s in Dict.items()}"
   ]
  },
  {
   "cell_type": "code",
   "execution_count": 44,
   "metadata": {},
   "outputs": [],
   "source": [
    "dic = {\n",
    "   \"a\":1,\n",
    "   \"b\":22,\n",
    "   \"c\":17\n",
    "}"
   ]
  },
  {
   "cell_type": "code",
   "execution_count": 45,
   "metadata": {},
   "outputs": [
    {
     "data": {
      "text/plain": [
       "{1: 'a', 22: 'b', 17: 'c'}"
      ]
     },
     "execution_count": 45,
     "metadata": {},
     "output_type": "execute_result"
    }
   ],
   "source": [
    "reversDict(dic)"
   ]
  },
  {
   "cell_type": "code",
   "execution_count": null,
   "metadata": {},
   "outputs": [],
   "source": []
  }
 ],
 "metadata": {
  "interpreter": {
   "hash": "31f2aee4e71d21fbe5cf8b01ff0e069b9275f58929596ceb00d14d90e3e16cd6"
  },
  "kernelspec": {
   "display_name": "Python 3.8.2 64-bit",
   "language": "python",
   "name": "python3"
  },
  "language_info": {
   "codemirror_mode": {
    "name": "ipython",
    "version": 3
   },
   "file_extension": ".py",
   "mimetype": "text/x-python",
   "name": "python",
   "nbconvert_exporter": "python",
   "pygments_lexer": "ipython3",
   "version": "3.8.2"
  },
  "orig_nbformat": 4
 },
 "nbformat": 4,
 "nbformat_minor": 2
}
