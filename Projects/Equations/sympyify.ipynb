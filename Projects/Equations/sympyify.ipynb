{
 "cells": [
  {
   "cell_type": "code",
   "execution_count": 2,
   "metadata": {},
   "outputs": [],
   "source": [
    "import sympy as sp\n",
    "import sympy.physics.units as u\n",
    "from IPython.display import Markdown\n",
    "from sympy import exp as e\n",
    "import pandas as pd\n",
    "import matplotlib.pyplot as plt\n",
    "import seaborn as sns\n",
    "\n",
    "from IPython.core.interactiveshell import InteractiveShell\n",
    "InteractiveShell.ast_node_interactivity = \"all\""
   ]
  },
  {
   "cell_type": "code",
   "execution_count": 3,
   "metadata": {},
   "outputs": [],
   "source": [
    "sp.printing.str.StrPrinter._default_settings['abbrev'] = True"
   ]
  },
  {
   "cell_type": "markdown",
   "metadata": {},
   "source": [
    "## Units"
   ]
  },
  {
   "cell_type": "code",
   "execution_count": 4,
   "metadata": {},
   "outputs": [],
   "source": [
    "\n",
    "# DEFINING UNITS TO GLOBAL NAMESPACE\n",
    "MM = u.millimeters\n",
    "CM = u.centimeters\n",
    "M  = u.meters\n",
    "KM = u.kilometers\n",
    "IN = u.inches\n",
    "FT = u.feet\n",
    "MI = u.miles\n",
    "YD = u.yards\n",
    "UM = u.micrometers\n",
    "\n",
    "MG = u.milligrams\n",
    "GM = u.grams\n",
    "KG = u.kilograms\n",
    "UG = u.micrograms\n",
    "LBS= u.pounds\n",
    "MOL = u.moles\n",
    "MMOL = u.milli * u.moles\n",
    "MOLAR = u.moles / u.liter\n",
    "\n",
    "ML = u.milliliters\n",
    "L  = u.liters\n",
    "DL = u.deciliters\n",
    "\n",
    "DAY = u.days\n",
    "HR = u.hours\n",
    "MIN= u.minutes\n",
    "SEC= u.seconds\n",
    "YR = u.years\n",
    "\n",
    "MOL = u.mol\n",
    "\n",
    "\n",
    "def convert (value_and_units,   to):\n",
    "    \"\"\"\n",
    "    ~~~~~~~~~ Convert Units Function ~~~~~~~~~\n",
    "    ~~~~~~~~~~~~~~~~~~~~~~~~~~~~~~~~~~~~~~~~~~\n",
    "    Args:\n",
    "        >>> valuewUnits      75 * MI/HR\n",
    "        >>> to                    M/SEC\n",
    "    ------------------------------------------\n",
    "    Output                                    -->  Quantity (with new units)\n",
    "    ==========================================================================\n",
    "    \"\"\"\n",
    "\n",
    "    f = open (\"SYMPYUNITS_LOG.txt\",\"a\")\n",
    "    f.write(f'{value_and_units} --->  {sp.N(u.convert_to(value_and_units,to))}\\n')\n",
    "    f.close()\n",
    "    return Markdown( \"$\\Large \" + sp.latex(sp.N(u.convert_to(value_and_units,to))) + \"$\")\n",
    "\n",
    "def printLatex (data):\n",
    "    return  Markdown( \"$\\large \" +sp.latex(data) + \"$\")"
   ]
  },
  {
   "cell_type": "code",
   "execution_count": 5,
   "metadata": {},
   "outputs": [],
   "source": [
    "def solveEq(equation, solvefor):\n",
    "    \"\"\"\n",
    "    |--MARKDOWN DISPLAY FUNCTION--------------------|\n",
    "    |  SOLVE SYMPY EQUATION, DISPLAYS BOXED ANSWER  |\n",
    "    |===============================================|\n",
    "            >>> equation\n",
    "            >>> solvefor        : symbol\n",
    "    |===============================================|       \n",
    "    \"\"\"\n",
    "    import sympy as sp\n",
    "    from IPython.display import Markdown, display\n",
    "\n",
    "    display(equation)\n",
    "    display(Markdown(\"*Solve for \" + solvefor._repr_latex_() + \":*\"))\n",
    "\n",
    "    s = sp.solve(equation, solvefor)[0]\n",
    "    eq = sp.Eq(solvefor, s)\n",
    "\n",
    "    display(\n",
    "        Markdown(\"$~~~~~~~~~~\\\\boxed{\"+eq._repr_latex_().replace(\"$\", \"\")+\"}$\"))\n",
    "\n",
    "    return eq\n",
    "    # -------------------------------------------------\n"
   ]
  },
  {
   "cell_type": "code",
   "execution_count": 6,
   "metadata": {},
   "outputs": [],
   "source": [
    "x , y , z , b, a, c, bt, al, gm, dl         = sp.symbols (\"x y z b a c beta alpha gamma delta\")\n",
    "H3O, pH, pOH, OH_                           = sp.symbols(\"[H_3O^{+}] pH pOH [OH^{-}]\")"
   ]
  },
  {
   "cell_type": "markdown",
   "metadata": {},
   "source": [
    "#### Pythagorean Theorem"
   ]
  },
  {
   "cell_type": "code",
   "execution_count": 7,
   "metadata": {},
   "outputs": [
    {
     "data": {
      "text/latex": [
       "$\\displaystyle a^{2} + b^{2} = c^{2}$"
      ],
      "text/plain": [
       "Eq(a**2 + b**2, c**2)"
      ]
     },
     "execution_count": 7,
     "metadata": {},
     "output_type": "execute_result"
    }
   ],
   "source": [
    "PYTHAGOREAN_THEOREM = sp.Eq (a**2 + b**2 ,\n",
    "                             c**2)\n",
    "PYTHAGOREAN_THEOREM"
   ]
  },
  {
   "cell_type": "code",
   "execution_count": 8,
   "metadata": {},
   "outputs": [
    {
     "data": {
      "text/latex": [
       "$\\displaystyle a^{2} + b^{2} = c^{2}$"
      ],
      "text/plain": [
       "Eq(a**2 + b**2, c**2)"
      ]
     },
     "metadata": {},
     "output_type": "display_data"
    },
    {
     "data": {
      "text/markdown": [
       "*Solve for $\\displaystyle b^{2}$:*"
      ],
      "text/plain": [
       "<IPython.core.display.Markdown object>"
      ]
     },
     "metadata": {},
     "output_type": "display_data"
    },
    {
     "data": {
      "text/markdown": [
       "$~~~~~~~~~~\\boxed{\\displaystyle b^{2} = - a^{2} + c^{2}}$"
      ],
      "text/plain": [
       "<IPython.core.display.Markdown object>"
      ]
     },
     "metadata": {},
     "output_type": "display_data"
    },
    {
     "data": {
      "text/latex": [
       "$\\displaystyle - 35 \\sqrt{31}$"
      ],
      "text/plain": [
       "-35*sqrt(31)"
      ]
     },
     "execution_count": 8,
     "metadata": {},
     "output_type": "execute_result"
    }
   ],
   "source": [
    "bsquared = solveEq(PYTHAGOREAN_THEOREM,b**2) # Solve agebraically for b^2\n",
    "\n",
    "bsquared = bsquared.subs ({\n",
    "   a: 45,\n",
    "   c: 200\n",
    "})\n",
    "\n",
    "sp.solve(bsquared, b)[0]   # Solving for b^2       **Note NOT solving for b**"
   ]
  },
  {
   "cell_type": "markdown",
   "metadata": {},
   "source": [
    "#### pH Equation"
   ]
  },
  {
   "cell_type": "code",
   "execution_count": 9,
   "metadata": {},
   "outputs": [
    {
     "data": {
      "text/latex": [
       "$\\displaystyle pH = - \\log{\\left([H_3O^{+}] \\right)}$"
      ],
      "text/plain": [
       "Eq(pH, -log([H_3O^{+}]))"
      ]
     },
     "execution_count": 9,
     "metadata": {},
     "output_type": "execute_result"
    }
   ],
   "source": [
    "H3O_PH_EQUATION = sp.Eq (\n",
    "   pH,\n",
    "   - sp.log(H3O)\n",
    ")\n",
    "H3O_PH_EQUATION"
   ]
  },
  {
   "cell_type": "code",
   "execution_count": 10,
   "metadata": {},
   "outputs": [
    {
     "data": {
      "text/latex": [
       "$\\displaystyle 2.1 = - \\log{\\left([H_3O^{+}] \\right)}$"
      ],
      "text/plain": [
       "Eq(2.1, -log([H_3O^{+}]))"
      ]
     },
     "metadata": {},
     "output_type": "display_data"
    },
    {
     "data": {
      "text/markdown": [
       "*Solve for $\\displaystyle [H_3O^{+}]$:*"
      ],
      "text/plain": [
       "<IPython.core.display.Markdown object>"
      ]
     },
     "metadata": {},
     "output_type": "display_data"
    },
    {
     "data": {
      "text/markdown": [
       "$~~~~~~~~~~\\boxed{\\displaystyle [H_3O^{+}] = 0.122456428252982}$"
      ],
      "text/plain": [
       "<IPython.core.display.Markdown object>"
      ]
     },
     "metadata": {},
     "output_type": "display_data"
    },
    {
     "data": {
      "text/latex": [
       "$\\displaystyle [H_3O^{+}] = 0.122456428252982$"
      ],
      "text/plain": [
       "Eq([H_3O^{+}], 0.122456428252982)"
      ]
     },
     "execution_count": 10,
     "metadata": {},
     "output_type": "execute_result"
    }
   ],
   "source": [
    "_PH_ = H3O_PH_EQUATION.subs({\n",
    "   pH: 2.1\n",
    "})\n",
    "solveEq (_PH_, solvefor= H3O)"
   ]
  },
  {
   "cell_type": "markdown",
   "metadata": {},
   "source": [
    "## Vancomycin"
   ]
  },
  {
   "cell_type": "code",
   "execution_count": 11,
   "metadata": {},
   "outputs": [],
   "source": [
    "class VancomycinCalc :\n",
    "   \n",
    "   VOL_DIST_VANCOMYCIN = VD = 0.7 # L/kg\n",
    "   \n",
    "   ke, CrCl , D, tprime ,tau , Vd, Cmax, Cmin = sp.symbols (\"k_e CrCl D t' tau V_d C_{max} C_{min}\")\n",
    "   \n",
    "   KE_VANCOMYCIN_EQ = sp.Eq (\n",
    "      ke,\n",
    "      0.00083 * CrCl + 0.0044\n",
    "   )\n",
    "   \n",
    "   EQ_EST_CMAX = sp.Eq(\n",
    "      Cmax,\n",
    "      ((D / tprime)/ (Vd*ke))*((1-e(-ke*tprime))/(1-e(-ke*tau)))\n",
    "   )\n",
    "   EQ_EST_CMAX_DESCRIPTION = \"\"\"\n",
    "      D     = Dose in mg\n",
    "      t'    = infusion time in hr\n",
    "      Tau   = interval in hr\n",
    "      ke    = Elim. constant\n",
    "      Vd    = Vol of distribution in L/kg\"\"\"\n",
    "      \n",
    "      \n",
    "   EQ_EST_CMIN = sp.Eq (\n",
    "      Cmin,\n",
    "      Cmax * e (-ke * (tau - tprime))\n",
    "   )\n",
    "   EQ_EST_CMIN_DESCRIPTION = \"\"\"\n",
    "      t'    = infusion time in hr\n",
    "      Tau   = interval in hr\n",
    "      ke    = Elim. constant\n",
    "      Cmax  = [Drug]peak in mcg/mL\"\"\"\n"
   ]
  },
  {
   "cell_type": "code",
   "execution_count": 12,
   "metadata": {},
   "outputs": [],
   "source": [
    "class EQ_EstCmax :\n",
    "    ke, CrCl , D, tprime ,tau , Vd, Cmax, Cmin = sp.symbols (\"k_e CrCl D t' tau V_d C_{max} C_{min}\")\n",
    "\n",
    "    formula = [\n",
    "        sp.Eq (Cmax,((D / tprime)/ (Vd*ke))*((1-e(-ke*tprime))/(1-e(-ke*tau)))),\n",
    "        sp.Eq (Cmin, Cmax * sp.exp(-ke * (-tprime + tau)))\n",
    "    ]\n",
    "    name = Markdown(\"#### EQ_EstCmax\")\n",
    "    help = Markdown(\"Req'd In:     ***CrCl, D, t', $\\\\tau$, weight***\")\n",
    "    desc = Markdown(\"\"\"\\n- D     = Dose in mg\\n- t'    = infusion time in hr\\n- $\\\\tau$   = interval in hr\\n- ke    = Elim. constant\\n- $V_d$    = Vol of distribution in L/kg\"\"\")\n",
    "\n",
    "\n",
    "    def solve (self, weight, D, CrCl, tprime, tau ):\n",
    "        \"\"\"D, CrCl, T', Tau\"\"\"\n",
    "        ke = 0.00083 * CrCl + 0.0044\n",
    "        eq = self.formula[0].subs({self.ke:ke, self.D:D, self.tprime:tprime, self.tau:tau, self.Vd:0.7*weight})\n",
    "        display(self.name,self.desc)\n",
    "        Cmax = float(sp.solve(eq,self.Cmax)[0])\n",
    "        display (sp.Subs(self.formula[0],(self.ke,self.D,self.tprime,self.tau,self.Vd),(ke,D,tprime,tau,0.7*weight)))\n",
    "        display(sp.Eq(self.Cmax,sp.solve(eq, EQ_EstCmax.Cmax)[0]))\n",
    "        display (sp.Subs(self.formula[1],(self.Cmax,self.ke,self.tprime,self.tau),(Cmax,ke,tprime,tau)))\n",
    "        Cmin = sp.solve(self.formula[1].subs({self.Cmax:Cmax,self.ke:ke,self.tprime:tprime,self.tau:tau}),self.Cmin)[0]\n",
    "        display(Markdown(\"$\\Large \\\\boxed {C_{min} = \" +  str(Cmin) +\"}$\"))\n",
    "        return float(Cmax), float(Cmin)\n",
    "\n",
    "class EQ_Vd_Vanco :\n",
    "    ke, CrCl = sp.symbols(\"k_e CrCl\")\n",
    "    formula = sp.Eq(ke,0.00083 * CrCl + 0.0044)\n",
    "    help = Markdown(\"Req'd IN: ***CrCl***\")\n",
    "    @property\n",
    "    def desc (self):\n",
    "        display(Markdown(\"---\\n#### Vol of Distr (Vanco)\"),self.formula,Markdown(\"- $k_e$ : Elimination constant\\n- $CrCl$ : Creatinine clearance\\n\\n---\"))\n",
    "    def solve (self, CrCl):\n",
    "        display(Markdown(f\"`INPUT` : $CrCl$: {CrCl}\"),Markdown(f\"`SOLUTION` : {float(sp.solve(self.formula.subs({self.CrCl:CrCl}),self.ke)[0])}\"))\n",
    "        return ('ke',float(sp.solve(self.formula.subs({self.CrCl:CrCl}),self.ke)[0]))"
   ]
  },
  {
   "cell_type": "code",
   "execution_count": 13,
   "metadata": {},
   "outputs": [
    {
     "data": {
      "text/markdown": [
       "Req'd IN: ***CrCl***"
      ],
      "text/plain": [
       "<IPython.core.display.Markdown object>"
      ]
     },
     "execution_count": 13,
     "metadata": {},
     "output_type": "execute_result"
    },
    {
     "data": {
      "text/markdown": [
       "`INPUT` : $CrCl$: 45"
      ],
      "text/plain": [
       "<IPython.core.display.Markdown object>"
      ]
     },
     "metadata": {},
     "output_type": "display_data"
    },
    {
     "data": {
      "text/markdown": [
       "`SOLUTION` : 0.04175"
      ],
      "text/plain": [
       "<IPython.core.display.Markdown object>"
      ]
     },
     "metadata": {},
     "output_type": "display_data"
    },
    {
     "data": {
      "text/plain": [
       "('ke', 0.04175)"
      ]
     },
     "execution_count": 13,
     "metadata": {},
     "output_type": "execute_result"
    }
   ],
   "source": [
    "eqn = EQ_Vd_Vanco() \n",
    "eqn.help\n",
    "eqn.solve(CrCl=45)"
   ]
  },
  {
   "cell_type": "code",
   "execution_count": 15,
   "metadata": {},
   "outputs": [],
   "source": [
    "import base64\n",
    "from IPython.display import Image, display\n",
    "import matplotlib.pyplot as plt\n",
    "# %%\n",
    "def mm(graph,darkmode=1):\n",
    "  if darkmode == 1:\n",
    "    graph = \"%%{init: {'theme': 'dark'}}%%\" + graph\n",
    "  graphbytes = graph.encode(\"ascii\")\n",
    "  base64_bytes = base64.b64encode(graphbytes)\n",
    "  base64_string = base64_bytes.decode(\"ascii\")\n",
    "  display(Image(url=\"https://mermaid.ink/img/\" + base64_string))"
   ]
  },
  {
   "cell_type": "code",
   "execution_count": 27,
   "metadata": {},
   "outputs": [
    {
     "data": {
      "text/html": [
       "<img src=\"https://mermaid.ink/img/JSV7aW5pdDogeyd0aGVtZSc6ICdkYXJrJ319JSUKZ3JhcGggVEQ7CiAgICBXe1dlaWdodH0gCiAgICBDcntDckNsfSAKICAgIAogICAgRFtEb3NlXQogICAgVGF1W0ludGVydmFsXQogICAgdFtJbmZ1c2lvbiBUaW1lXQoKICAgIFcgJiBDciAtLT4gRCAmIFRhdSAmIHQKICAgIENyIC0tPiBWZAogICAgVmQgLS0+IEtlKEtlKQoKICAgIEQgJiBUYXUgJiB0ICYgS2UgLS0+IENtYXgoKENtYXgpKQogICAgQ21heCAtLT4gQ21pbigoQ21pbikpCgo=\"/>"
      ],
      "text/plain": [
       "<IPython.core.display.Image object>"
      ]
     },
     "metadata": {},
     "output_type": "display_data"
    }
   ],
   "source": [
    "graphdata = \"\"\"\n",
    "\n",
    "graph TD;\n",
    "    W{Weight} \n",
    "    Cr{CrCl} \n",
    "    \n",
    "    D[Dose]\n",
    "    Tau[Interval]\n",
    "    t[Infusion Time]\n",
    "\n",
    "    W & Cr --> D & Tau & t\n",
    "    Cr --> Vd\n",
    "    Vd --> Ke(Ke)\n",
    "\n",
    "    D & Tau & t & Ke --> Cmax((Cmax))\n",
    "    Cmax --> Cmin((Cmin))\n",
    "\n",
    "\"\"\"\n",
    "\n",
    "\n",
    "mm(graphdata)"
   ]
  },
  {
   "cell_type": "code",
   "execution_count": null,
   "metadata": {},
   "outputs": [
    {
     "data": {
      "text/markdown": [
       "Req'd In:     ***CrCl, D, t', $\\tau$, weight***"
      ],
      "text/plain": [
       "<IPython.core.display.Markdown object>"
      ]
     },
     "execution_count": 246,
     "metadata": {},
     "output_type": "execute_result"
    },
    {
     "data": {
      "text/markdown": [
       "#### EQ_EstCmax"
      ],
      "text/plain": [
       "<IPython.core.display.Markdown object>"
      ]
     },
     "metadata": {},
     "output_type": "display_data"
    },
    {
     "data": {
      "text/markdown": [
       "\n",
       "- D     = Dose in mg\n",
       "- t'    = infusion time in hr\n",
       "- $\\tau$   = interval in hr\n",
       "- ke    = Elim. constant\n",
       "- $V_d$    = Vol of distribution in L/kg"
      ],
      "text/plain": [
       "<IPython.core.display.Markdown object>"
      ]
     },
     "metadata": {},
     "output_type": "display_data"
    },
    {
     "data": {
      "text/latex": [
       "$\\displaystyle \\left. C_{max} = \\frac{D \\left(1 - e^{- k_{e} t'}\\right)}{V_{d} k_{e} t' \\left(1 - e^{- k_{e} \\tau}\\right)} \\right|_{\\substack{ k_{e}=0.06997\\\\ D=1500\\\\ t'=0.5\\\\ \\tau=12\\\\ V_{d}=56.0 }}$"
      ],
      "text/plain": [
       "Subs(Eq(C_{max}, D*(1 - exp(-k_e*t'))/(V_d*k_e*t'*(1 - exp(-k_e*tau)))), (k_e, D, t', tau, V_d), (0.06997, 1500, 0.5, 12, 56.0))"
      ]
     },
     "metadata": {},
     "output_type": "display_data"
    },
    {
     "data": {
      "text/latex": [
       "$\\displaystyle C_{max} = 46.3316405365302$"
      ],
      "text/plain": [
       "Eq(C_{max}, 46.3316405365302)"
      ]
     },
     "metadata": {},
     "output_type": "display_data"
    },
    {
     "data": {
      "text/latex": [
       "$\\displaystyle \\left. C_{min} = C_{max} e^{- k_{e} \\left(- t' + \\tau\\right)} \\right|_{\\substack{ C_{max}=46.3316405365302\\\\ k_{e}=0.06997\\\\ t'=0.5\\\\ \\tau=12 }}$"
      ],
      "text/plain": [
       "Subs(Eq(C_{min}, C_{max}*exp(-k_e*(-t' + tau))), (C_{max}, k_e, t', tau), (46.3316405365302, 0.06997, 0.5, 12))"
      ]
     },
     "metadata": {},
     "output_type": "display_data"
    },
    {
     "data": {
      "text/markdown": [
       "$\\Large \\boxed {C_{min} = 20.7214647738733}$"
      ],
      "text/plain": [
       "<IPython.core.display.Markdown object>"
      ]
     },
     "metadata": {},
     "output_type": "display_data"
    },
    {
     "data": {
      "text/plain": [
       "(46.3316405365302, 20.7214647738733)"
      ]
     },
     "execution_count": 246,
     "metadata": {},
     "output_type": "execute_result"
    }
   ],
   "source": [
    "eqn = EQ_EstCmax()\n",
    "eqn.help\n",
    "eqn.solve(CrCl=79,D=1500,tprime=0.5,tau=12,weight=80)"
   ]
  },
  {
   "cell_type": "code",
   "execution_count": null,
   "metadata": {},
   "outputs": [
    {
     "data": {
      "text/plain": [
       "[Eq(C_{max}, D*(1 - exp(-k_e*t'))/(V_d*k_e*t'*(1 - exp(-k_e*tau)))),\n",
       " Eq(C_{min}, C_{max}*exp(-k_e*(-t' + tau)))]"
      ]
     },
     "execution_count": 247,
     "metadata": {},
     "output_type": "execute_result"
    },
    {
     "data": {
      "text/markdown": [
       "#### EQ_EstCmax"
      ],
      "text/plain": [
       "<IPython.core.display.Markdown object>"
      ]
     },
     "metadata": {},
     "output_type": "display_data"
    },
    {
     "data": {
      "text/markdown": [
       "\n",
       "- D     = Dose in mg\n",
       "- t'    = infusion time in hr\n",
       "- $\\tau$   = interval in hr\n",
       "- ke    = Elim. constant\n",
       "- $V_d$    = Vol of distribution in L/kg"
      ],
      "text/plain": [
       "<IPython.core.display.Markdown object>"
      ]
     },
     "metadata": {},
     "output_type": "display_data"
    },
    {
     "data": {
      "text/latex": [
       "$\\displaystyle \\left. C_{max} = \\frac{D \\left(1 - e^{- k_{e} t'}\\right)}{V_{d} k_{e} t' \\left(1 - e^{- k_{e} \\tau}\\right)} \\right|_{\\substack{ k_{e}=0.0791\\\\ D=1500\\\\ t'=1\\\\ \\tau=12\\\\ V_{d}=67.2 }}$"
      ],
      "text/plain": [
       "Subs(Eq(C_{max}, D*(1 - exp(-k_e*t'))/(V_d*k_e*t'*(1 - exp(-k_e*tau)))), (k_e, D, t', tau, V_d), (0.0791, 1500, 1, 12, 67.2))"
      ]
     },
     "metadata": {},
     "output_type": "display_data"
    },
    {
     "data": {
      "text/latex": [
       "$\\displaystyle C_{max} = 35.0133921064208$"
      ],
      "text/plain": [
       "Eq(C_{max}, 35.0133921064208)"
      ]
     },
     "metadata": {},
     "output_type": "display_data"
    },
    {
     "data": {
      "text/latex": [
       "$\\displaystyle \\left. C_{min} = C_{max} e^{- k_{e} \\left(- t' + \\tau\\right)} \\right|_{\\substack{ C_{max}=35.0133921064208\\\\ k_{e}=0.0791\\\\ t'=1\\\\ \\tau=12 }}$"
      ],
      "text/plain": [
       "Subs(Eq(C_{min}, C_{max}*exp(-k_e*(-t' + tau))), (C_{max}, k_e, t', tau), (35.0133921064208, 0.0791, 1, 12))"
      ]
     },
     "metadata": {},
     "output_type": "display_data"
    },
    {
     "data": {
      "text/markdown": [
       "$\\Large \\boxed {C_{min} = 14.6674480492554}$"
      ],
      "text/plain": [
       "<IPython.core.display.Markdown object>"
      ]
     },
     "metadata": {},
     "output_type": "display_data"
    },
    {
     "data": {
      "text/markdown": [
       "#### EQ_EstCmax"
      ],
      "text/plain": [
       "<IPython.core.display.Markdown object>"
      ]
     },
     "metadata": {},
     "output_type": "display_data"
    },
    {
     "data": {
      "text/markdown": [
       "\n",
       "- D     = Dose in mg\n",
       "- t'    = infusion time in hr\n",
       "- $\\tau$   = interval in hr\n",
       "- ke    = Elim. constant\n",
       "- $V_d$    = Vol of distribution in L/kg"
      ],
      "text/plain": [
       "<IPython.core.display.Markdown object>"
      ]
     },
     "metadata": {},
     "output_type": "display_data"
    },
    {
     "data": {
      "text/latex": [
       "$\\displaystyle \\left. C_{max} = \\frac{D \\left(1 - e^{- k_{e} t'}\\right)}{V_{d} k_{e} t' \\left(1 - e^{- k_{e} \\tau}\\right)} \\right|_{\\substack{ k_{e}=0.0791\\\\ D=1500\\\\ t'=2\\\\ \\tau=12\\\\ V_{d}=67.2 }}$"
      ],
      "text/plain": [
       "Subs(Eq(C_{max}, D*(1 - exp(-k_e*t'))/(V_d*k_e*t'*(1 - exp(-k_e*tau)))), (k_e, D, t', tau, V_d), (0.0791, 1500, 2, 12, 67.2))"
      ]
     },
     "metadata": {},
     "output_type": "display_data"
    },
    {
     "data": {
      "text/latex": [
       "$\\displaystyle C_{max} = 33.6819645437739$"
      ],
      "text/plain": [
       "Eq(C_{max}, 33.6819645437739)"
      ]
     },
     "metadata": {},
     "output_type": "display_data"
    },
    {
     "data": {
      "text/latex": [
       "$\\displaystyle \\left. C_{min} = C_{max} e^{- k_{e} \\left(- t' + \\tau\\right)} \\right|_{\\substack{ C_{max}=33.6819645437739\\\\ k_{e}=0.0791\\\\ t'=2\\\\ \\tau=12 }}$"
      ],
      "text/plain": [
       "Subs(Eq(C_{min}, C_{max}*exp(-k_e*(-t' + tau))), (C_{max}, k_e, t', tau), (33.6819645437739, 0.0791, 2, 12))"
      ]
     },
     "metadata": {},
     "output_type": "display_data"
    },
    {
     "data": {
      "text/markdown": [
       "$\\Large \\boxed {C_{min} = 15.2711055594186}$"
      ],
      "text/plain": [
       "<IPython.core.display.Markdown object>"
      ]
     },
     "metadata": {},
     "output_type": "display_data"
    },
    {
     "data": {
      "text/markdown": [
       "#### EQ_EstCmax"
      ],
      "text/plain": [
       "<IPython.core.display.Markdown object>"
      ]
     },
     "metadata": {},
     "output_type": "display_data"
    },
    {
     "data": {
      "text/markdown": [
       "\n",
       "- D     = Dose in mg\n",
       "- t'    = infusion time in hr\n",
       "- $\\tau$   = interval in hr\n",
       "- ke    = Elim. constant\n",
       "- $V_d$    = Vol of distribution in L/kg"
      ],
      "text/plain": [
       "<IPython.core.display.Markdown object>"
      ]
     },
     "metadata": {},
     "output_type": "display_data"
    },
    {
     "data": {
      "text/latex": [
       "$\\displaystyle \\left. C_{max} = \\frac{D \\left(1 - e^{- k_{e} t'}\\right)}{V_{d} k_{e} t' \\left(1 - e^{- k_{e} \\tau}\\right)} \\right|_{\\substack{ k_{e}=0.0791\\\\ D=1500\\\\ t'=3\\\\ \\tau=12\\\\ V_{d}=67.2 }}$"
      ],
      "text/plain": [
       "Subs(Eq(C_{max}, D*(1 - exp(-k_e*t'))/(V_d*k_e*t'*(1 - exp(-k_e*tau)))), (k_e, D, t', tau, V_d), (0.0791, 1500, 3, 12, 67.2))"
      ]
     },
     "metadata": {},
     "output_type": "display_data"
    },
    {
     "data": {
      "text/latex": [
       "$\\displaystyle C_{max} = 32.4180425553442$"
      ],
      "text/plain": [
       "Eq(C_{max}, 32.4180425553442)"
      ]
     },
     "metadata": {},
     "output_type": "display_data"
    },
    {
     "data": {
      "text/latex": [
       "$\\displaystyle \\left. C_{min} = C_{max} e^{- k_{e} \\left(- t' + \\tau\\right)} \\right|_{\\substack{ C_{max}=32.4180425553442\\\\ k_{e}=0.0791\\\\ t'=3\\\\ \\tau=12 }}$"
      ],
      "text/plain": [
       "Subs(Eq(C_{min}, C_{max}*exp(-k_e*(-t' + tau))), (C_{max}, k_e, t', tau), (32.4180425553442, 0.0791, 3, 12))"
      ]
     },
     "metadata": {},
     "output_type": "display_data"
    },
    {
     "data": {
      "text/markdown": [
       "$\\Large \\boxed {C_{min} = 15.9078887947343}$"
      ],
      "text/plain": [
       "<IPython.core.display.Markdown object>"
      ]
     },
     "metadata": {},
     "output_type": "display_data"
    },
    {
     "data": {
      "text/markdown": [
       "#### EQ_EstCmax"
      ],
      "text/plain": [
       "<IPython.core.display.Markdown object>"
      ]
     },
     "metadata": {},
     "output_type": "display_data"
    },
    {
     "data": {
      "text/markdown": [
       "\n",
       "- D     = Dose in mg\n",
       "- t'    = infusion time in hr\n",
       "- $\\tau$   = interval in hr\n",
       "- ke    = Elim. constant\n",
       "- $V_d$    = Vol of distribution in L/kg"
      ],
      "text/plain": [
       "<IPython.core.display.Markdown object>"
      ]
     },
     "metadata": {},
     "output_type": "display_data"
    },
    {
     "data": {
      "text/latex": [
       "$\\displaystyle \\left. C_{max} = \\frac{D \\left(1 - e^{- k_{e} t'}\\right)}{V_{d} k_{e} t' \\left(1 - e^{- k_{e} \\tau}\\right)} \\right|_{\\substack{ k_{e}=0.0791\\\\ D=1500\\\\ t'=4\\\\ \\tau=12\\\\ V_{d}=67.2 }}$"
      ],
      "text/plain": [
       "Subs(Eq(C_{max}, D*(1 - exp(-k_e*t'))/(V_d*k_e*t'*(1 - exp(-k_e*tau)))), (k_e, D, t', tau, V_d), (0.0791, 1500, 4, 12, 67.2))"
      ]
     },
     "metadata": {},
     "output_type": "display_data"
    },
    {
     "data": {
      "text/latex": [
       "$\\displaystyle C_{max} = 31.2177756666387$"
      ],
      "text/plain": [
       "Eq(C_{max}, 31.2177756666387)"
      ]
     },
     "metadata": {},
     "output_type": "display_data"
    },
    {
     "data": {
      "text/latex": [
       "$\\displaystyle \\left. C_{min} = C_{max} e^{- k_{e} \\left(- t' + \\tau\\right)} \\right|_{\\substack{ C_{max}=31.2177756666387\\\\ k_{e}=0.0791\\\\ t'=4\\\\ \\tau=12 }}$"
      ],
      "text/plain": [
       "Subs(Eq(C_{min}, C_{max}*exp(-k_e*(-t' + tau))), (C_{max}, k_e, t', tau), (31.2177756666387, 0.0791, 4, 12))"
      ]
     },
     "metadata": {},
     "output_type": "display_data"
    },
    {
     "data": {
      "text/markdown": [
       "$\\Large \\boxed {C_{min} = 16.5798427523317}$"
      ],
      "text/plain": [
       "<IPython.core.display.Markdown object>"
      ]
     },
     "metadata": {},
     "output_type": "display_data"
    },
    {
     "data": {
      "text/markdown": [
       "#### EQ_EstCmax"
      ],
      "text/plain": [
       "<IPython.core.display.Markdown object>"
      ]
     },
     "metadata": {},
     "output_type": "display_data"
    },
    {
     "data": {
      "text/markdown": [
       "\n",
       "- D     = Dose in mg\n",
       "- t'    = infusion time in hr\n",
       "- $\\tau$   = interval in hr\n",
       "- ke    = Elim. constant\n",
       "- $V_d$    = Vol of distribution in L/kg"
      ],
      "text/plain": [
       "<IPython.core.display.Markdown object>"
      ]
     },
     "metadata": {},
     "output_type": "display_data"
    },
    {
     "data": {
      "text/latex": [
       "$\\displaystyle \\left. C_{max} = \\frac{D \\left(1 - e^{- k_{e} t'}\\right)}{V_{d} k_{e} t' \\left(1 - e^{- k_{e} \\tau}\\right)} \\right|_{\\substack{ k_{e}=0.0791\\\\ D=1500\\\\ t'=5\\\\ \\tau=12\\\\ V_{d}=67.2 }}$"
      ],
      "text/plain": [
       "Subs(Eq(C_{max}, D*(1 - exp(-k_e*t'))/(V_d*k_e*t'*(1 - exp(-k_e*tau)))), (k_e, D, t', tau, V_d), (0.0791, 1500, 5, 12, 67.2))"
      ]
     },
     "metadata": {},
     "output_type": "display_data"
    },
    {
     "data": {
      "text/latex": [
       "$\\displaystyle C_{max} = 30.0775476736563$"
      ],
      "text/plain": [
       "Eq(C_{max}, 30.0775476736563)"
      ]
     },
     "metadata": {},
     "output_type": "display_data"
    },
    {
     "data": {
      "text/latex": [
       "$\\displaystyle \\left. C_{min} = C_{max} e^{- k_{e} \\left(- t' + \\tau\\right)} \\right|_{\\substack{ C_{max}=30.0775476736563\\\\ k_{e}=0.0791\\\\ t'=5\\\\ \\tau=12 }}$"
      ],
      "text/plain": [
       "Subs(Eq(C_{min}, C_{max}*exp(-k_e*(-t' + tau))), (C_{max}, k_e, t', tau), (30.0775476736563, 0.0791, 5, 12))"
      ]
     },
     "metadata": {},
     "output_type": "display_data"
    },
    {
     "data": {
      "text/markdown": [
       "$\\Large \\boxed {C_{min} = 17.2891470924791}$"
      ],
      "text/plain": [
       "<IPython.core.display.Markdown object>"
      ]
     },
     "metadata": {},
     "output_type": "display_data"
    },
    {
     "data": {
      "text/markdown": [
       "#### EQ_EstCmax"
      ],
      "text/plain": [
       "<IPython.core.display.Markdown object>"
      ]
     },
     "metadata": {},
     "output_type": "display_data"
    },
    {
     "data": {
      "text/markdown": [
       "\n",
       "- D     = Dose in mg\n",
       "- t'    = infusion time in hr\n",
       "- $\\tau$   = interval in hr\n",
       "- ke    = Elim. constant\n",
       "- $V_d$    = Vol of distribution in L/kg"
      ],
      "text/plain": [
       "<IPython.core.display.Markdown object>"
      ]
     },
     "metadata": {},
     "output_type": "display_data"
    },
    {
     "data": {
      "text/latex": [
       "$\\displaystyle \\left. C_{max} = \\frac{D \\left(1 - e^{- k_{e} t'}\\right)}{V_{d} k_{e} t' \\left(1 - e^{- k_{e} \\tau}\\right)} \\right|_{\\substack{ k_{e}=0.0791\\\\ D=1500\\\\ t'=6\\\\ \\tau=12\\\\ V_{d}=67.2 }}$"
      ],
      "text/plain": [
       "Subs(Eq(C_{max}, D*(1 - exp(-k_e*t'))/(V_d*k_e*t'*(1 - exp(-k_e*tau)))), (k_e, D, t', tau, V_d), (0.0791, 1500, 6, 12, 67.2))"
      ]
     },
     "metadata": {},
     "output_type": "display_data"
    },
    {
     "data": {
      "text/latex": [
       "$\\displaystyle C_{max} = 28.9939617955123$"
      ],
      "text/plain": [
       "Eq(C_{max}, 28.9939617955123)"
      ]
     },
     "metadata": {},
     "output_type": "display_data"
    },
    {
     "data": {
      "text/latex": [
       "$\\displaystyle \\left. C_{min} = C_{max} e^{- k_{e} \\left(- t' + \\tau\\right)} \\right|_{\\substack{ C_{max}=28.9939617955123\\\\ k_{e}=0.0791\\\\ t'=6\\\\ \\tau=12 }}$"
      ],
      "text/plain": [
       "Subs(Eq(C_{min}, C_{max}*exp(-k_e*(-t' + tau))), (C_{max}, k_e, t', tau), (28.9939617955123, 0.0791, 6, 12))"
      ]
     },
     "metadata": {},
     "output_type": "display_data"
    },
    {
     "data": {
      "text/markdown": [
       "$\\Large \\boxed {C_{min} = 18.0381253756394}$"
      ],
      "text/plain": [
       "<IPython.core.display.Markdown object>"
      ]
     },
     "metadata": {},
     "output_type": "display_data"
    },
    {
     "data": {
      "text/markdown": [
       "#### EQ_EstCmax"
      ],
      "text/plain": [
       "<IPython.core.display.Markdown object>"
      ]
     },
     "metadata": {},
     "output_type": "display_data"
    },
    {
     "data": {
      "text/markdown": [
       "\n",
       "- D     = Dose in mg\n",
       "- t'    = infusion time in hr\n",
       "- $\\tau$   = interval in hr\n",
       "- ke    = Elim. constant\n",
       "- $V_d$    = Vol of distribution in L/kg"
      ],
      "text/plain": [
       "<IPython.core.display.Markdown object>"
      ]
     },
     "metadata": {},
     "output_type": "display_data"
    },
    {
     "data": {
      "text/latex": [
       "$\\displaystyle \\left. C_{max} = \\frac{D \\left(1 - e^{- k_{e} t'}\\right)}{V_{d} k_{e} t' \\left(1 - e^{- k_{e} \\tau}\\right)} \\right|_{\\substack{ k_{e}=0.0791\\\\ D=1500\\\\ t'=7\\\\ \\tau=12\\\\ V_{d}=67.2 }}$"
      ],
      "text/plain": [
       "Subs(Eq(C_{max}, D*(1 - exp(-k_e*t'))/(V_d*k_e*t'*(1 - exp(-k_e*tau)))), (k_e, D, t', tau, V_d), (0.0791, 1500, 7, 12, 67.2))"
      ]
     },
     "metadata": {},
     "output_type": "display_data"
    },
    {
     "data": {
      "text/latex": [
       "$\\displaystyle C_{max} = 27.9638267949306$"
      ],
      "text/plain": [
       "Eq(C_{max}, 27.9638267949306)"
      ]
     },
     "metadata": {},
     "output_type": "display_data"
    },
    {
     "data": {
      "text/latex": [
       "$\\displaystyle \\left. C_{min} = C_{max} e^{- k_{e} \\left(- t' + \\tau\\right)} \\right|_{\\substack{ C_{max}=27.9638267949306\\\\ k_{e}=0.0791\\\\ t'=7\\\\ \\tau=12 }}$"
      ],
      "text/plain": [
       "Subs(Eq(C_{min}, C_{max}*exp(-k_e*(-t' + tau))), (C_{max}, k_e, t', tau), (27.9638267949306, 0.0791, 7, 12))"
      ]
     },
     "metadata": {},
     "output_type": "display_data"
    },
    {
     "data": {
      "text/markdown": [
       "$\\Large \\boxed {C_{min} = 18.8292549512326}$"
      ],
      "text/plain": [
       "<IPython.core.display.Markdown object>"
      ]
     },
     "metadata": {},
     "output_type": "display_data"
    },
    {
     "data": {
      "text/markdown": [
       "#### EQ_EstCmax"
      ],
      "text/plain": [
       "<IPython.core.display.Markdown object>"
      ]
     },
     "metadata": {},
     "output_type": "display_data"
    },
    {
     "data": {
      "text/markdown": [
       "\n",
       "- D     = Dose in mg\n",
       "- t'    = infusion time in hr\n",
       "- $\\tau$   = interval in hr\n",
       "- ke    = Elim. constant\n",
       "- $V_d$    = Vol of distribution in L/kg"
      ],
      "text/plain": [
       "<IPython.core.display.Markdown object>"
      ]
     },
     "metadata": {},
     "output_type": "display_data"
    },
    {
     "data": {
      "text/latex": [
       "$\\displaystyle \\left. C_{max} = \\frac{D \\left(1 - e^{- k_{e} t'}\\right)}{V_{d} k_{e} t' \\left(1 - e^{- k_{e} \\tau}\\right)} \\right|_{\\substack{ k_{e}=0.0791\\\\ D=1500\\\\ t'=8\\\\ \\tau=12\\\\ V_{d}=67.2 }}$"
      ],
      "text/plain": [
       "Subs(Eq(C_{max}, D*(1 - exp(-k_e*t'))/(V_d*k_e*t'*(1 - exp(-k_e*tau)))), (k_e, D, t', tau, V_d), (0.0791, 1500, 8, 12, 67.2))"
      ]
     },
     "metadata": {},
     "output_type": "display_data"
    },
    {
     "data": {
      "text/latex": [
       "$\\displaystyle C_{max} = 26.9841440021979$"
      ],
      "text/plain": [
       "Eq(C_{max}, 26.9841440021979)"
      ]
     },
     "metadata": {},
     "output_type": "display_data"
    },
    {
     "data": {
      "text/latex": [
       "$\\displaystyle \\left. C_{min} = C_{max} e^{- k_{e} \\left(- t' + \\tau\\right)} \\right|_{\\substack{ C_{max}=26.9841440021979\\\\ k_{e}=0.0791\\\\ t'=8\\\\ \\tau=12 }}$"
      ],
      "text/plain": [
       "Subs(Eq(C_{min}, C_{max}*exp(-k_e*(-t' + tau))), (C_{max}, k_e, t', tau), (26.9841440021979, 0.0791, 8, 12))"
      ]
     },
     "metadata": {},
     "output_type": "display_data"
    },
    {
     "data": {
      "text/markdown": [
       "$\\Large \\boxed {C_{min} = 19.6651775450444}$"
      ],
      "text/plain": [
       "<IPython.core.display.Markdown object>"
      ]
     },
     "metadata": {},
     "output_type": "display_data"
    },
    {
     "data": {
      "text/markdown": [
       "#### EQ_EstCmax"
      ],
      "text/plain": [
       "<IPython.core.display.Markdown object>"
      ]
     },
     "metadata": {},
     "output_type": "display_data"
    },
    {
     "data": {
      "text/markdown": [
       "\n",
       "- D     = Dose in mg\n",
       "- t'    = infusion time in hr\n",
       "- $\\tau$   = interval in hr\n",
       "- ke    = Elim. constant\n",
       "- $V_d$    = Vol of distribution in L/kg"
      ],
      "text/plain": [
       "<IPython.core.display.Markdown object>"
      ]
     },
     "metadata": {},
     "output_type": "display_data"
    },
    {
     "data": {
      "text/latex": [
       "$\\displaystyle \\left. C_{max} = \\frac{D \\left(1 - e^{- k_{e} t'}\\right)}{V_{d} k_{e} t' \\left(1 - e^{- k_{e} \\tau}\\right)} \\right|_{\\substack{ k_{e}=0.0791\\\\ D=1500\\\\ t'=9\\\\ \\tau=12\\\\ V_{d}=67.2 }}$"
      ],
      "text/plain": [
       "Subs(Eq(C_{max}, D*(1 - exp(-k_e*t'))/(V_d*k_e*t'*(1 - exp(-k_e*tau)))), (k_e, D, t', tau, V_d), (0.0791, 1500, 9, 12, 67.2))"
      ]
     },
     "metadata": {},
     "output_type": "display_data"
    },
    {
     "data": {
      "text/latex": [
       "$\\displaystyle C_{max} = 26.052095182523$"
      ],
      "text/plain": [
       "Eq(C_{max}, 26.052095182523)"
      ]
     },
     "metadata": {},
     "output_type": "display_data"
    },
    {
     "data": {
      "text/latex": [
       "$\\displaystyle \\left. C_{min} = C_{max} e^{- k_{e} \\left(- t' + \\tau\\right)} \\right|_{\\substack{ C_{max}=26.052095182523\\\\ k_{e}=0.0791\\\\ t'=9\\\\ \\tau=12 }}$"
      ],
      "text/plain": [
       "Subs(Eq(C_{min}, C_{max}*exp(-k_e*(-t' + tau))), (C_{max}, k_e, t', tau), (26.052095182523, 0.0791, 9, 12))"
      ]
     },
     "metadata": {},
     "output_type": "display_data"
    },
    {
     "data": {
      "text/markdown": [
       "$\\Large \\boxed {C_{min} = 20.5487105956530}$"
      ],
      "text/plain": [
       "<IPython.core.display.Markdown object>"
      ]
     },
     "metadata": {},
     "output_type": "display_data"
    },
    {
     "data": {
      "text/markdown": [
       "#### EQ_EstCmax"
      ],
      "text/plain": [
       "<IPython.core.display.Markdown object>"
      ]
     },
     "metadata": {},
     "output_type": "display_data"
    },
    {
     "data": {
      "text/markdown": [
       "\n",
       "- D     = Dose in mg\n",
       "- t'    = infusion time in hr\n",
       "- $\\tau$   = interval in hr\n",
       "- ke    = Elim. constant\n",
       "- $V_d$    = Vol of distribution in L/kg"
      ],
      "text/plain": [
       "<IPython.core.display.Markdown object>"
      ]
     },
     "metadata": {},
     "output_type": "display_data"
    },
    {
     "data": {
      "text/latex": [
       "$\\displaystyle \\left. C_{max} = \\frac{D \\left(1 - e^{- k_{e} t'}\\right)}{V_{d} k_{e} t' \\left(1 - e^{- k_{e} \\tau}\\right)} \\right|_{\\substack{ k_{e}=0.0791\\\\ D=1500\\\\ t'=10\\\\ \\tau=12\\\\ V_{d}=67.2 }}$"
      ],
      "text/plain": [
       "Subs(Eq(C_{max}, D*(1 - exp(-k_e*t'))/(V_d*k_e*t'*(1 - exp(-k_e*tau)))), (k_e, D, t', tau, V_d), (0.0791, 1500, 10, 12, 67.2))"
      ]
     },
     "metadata": {},
     "output_type": "display_data"
    },
    {
     "data": {
      "text/latex": [
       "$\\displaystyle C_{max} = 25.1650311908073$"
      ],
      "text/plain": [
       "Eq(C_{max}, 25.1650311908073)"
      ]
     },
     "metadata": {},
     "output_type": "display_data"
    },
    {
     "data": {
      "text/latex": [
       "$\\displaystyle \\left. C_{min} = C_{max} e^{- k_{e} \\left(- t' + \\tau\\right)} \\right|_{\\substack{ C_{max}=25.1650311908073\\\\ k_{e}=0.0791\\\\ t'=10\\\\ \\tau=12 }}$"
      ],
      "text/plain": [
       "Subs(Eq(C_{min}, C_{max}*exp(-k_e*(-t' + tau))), (C_{max}, k_e, t', tau), (25.1650311908073, 0.0791, 10, 12))"
      ]
     },
     "metadata": {},
     "output_type": "display_data"
    },
    {
     "data": {
      "text/markdown": [
       "$\\Large \\boxed {C_{min} = 21.4828593939362}$"
      ],
      "text/plain": [
       "<IPython.core.display.Markdown object>"
      ]
     },
     "metadata": {},
     "output_type": "display_data"
    },
    {
     "data": {
      "text/markdown": [
       "#### EQ_EstCmax"
      ],
      "text/plain": [
       "<IPython.core.display.Markdown object>"
      ]
     },
     "metadata": {},
     "output_type": "display_data"
    },
    {
     "data": {
      "text/markdown": [
       "\n",
       "- D     = Dose in mg\n",
       "- t'    = infusion time in hr\n",
       "- $\\tau$   = interval in hr\n",
       "- ke    = Elim. constant\n",
       "- $V_d$    = Vol of distribution in L/kg"
      ],
      "text/plain": [
       "<IPython.core.display.Markdown object>"
      ]
     },
     "metadata": {},
     "output_type": "display_data"
    },
    {
     "data": {
      "text/latex": [
       "$\\displaystyle \\left. C_{max} = \\frac{D \\left(1 - e^{- k_{e} t'}\\right)}{V_{d} k_{e} t' \\left(1 - e^{- k_{e} \\tau}\\right)} \\right|_{\\substack{ k_{e}=0.0791\\\\ D=1500\\\\ t'=11\\\\ \\tau=12\\\\ V_{d}=67.2 }}$"
      ],
      "text/plain": [
       "Subs(Eq(C_{max}, D*(1 - exp(-k_e*t'))/(V_d*k_e*t'*(1 - exp(-k_e*tau)))), (k_e, D, t', tau, V_d), (0.0791, 1500, 11, 12, 67.2))"
      ]
     },
     "metadata": {},
     "output_type": "display_data"
    },
    {
     "data": {
      "text/latex": [
       "$\\displaystyle C_{max} = 24.320461361605$"
      ],
      "text/plain": [
       "Eq(C_{max}, 24.320461361605)"
      ]
     },
     "metadata": {},
     "output_type": "display_data"
    },
    {
     "data": {
      "text/latex": [
       "$\\displaystyle \\left. C_{min} = C_{max} e^{- k_{e} \\left(- t' + \\tau\\right)} \\right|_{\\substack{ C_{max}=24.320461361605\\\\ k_{e}=0.0791\\\\ t'=11\\\\ \\tau=12 }}$"
      ],
      "text/plain": [
       "Subs(Eq(C_{min}, C_{max}*exp(-k_e*(-t' + tau))), (C_{max}, k_e, t', tau), (24.320461361605, 0.0791, 11, 12))"
      ]
     },
     "metadata": {},
     "output_type": "display_data"
    },
    {
     "data": {
      "text/markdown": [
       "$\\Large \\boxed {C_{min} = 22.4708300836809}$"
      ],
      "text/plain": [
       "<IPython.core.display.Markdown object>"
      ]
     },
     "metadata": {},
     "output_type": "display_data"
    },
    {
     "data": {
      "text/markdown": [
       "#### EQ_EstCmax"
      ],
      "text/plain": [
       "<IPython.core.display.Markdown object>"
      ]
     },
     "metadata": {},
     "output_type": "display_data"
    },
    {
     "data": {
      "text/markdown": [
       "\n",
       "- D     = Dose in mg\n",
       "- t'    = infusion time in hr\n",
       "- $\\tau$   = interval in hr\n",
       "- ke    = Elim. constant\n",
       "- $V_d$    = Vol of distribution in L/kg"
      ],
      "text/plain": [
       "<IPython.core.display.Markdown object>"
      ]
     },
     "metadata": {},
     "output_type": "display_data"
    },
    {
     "data": {
      "text/latex": [
       "$\\displaystyle \\left. C_{max} = \\frac{D \\left(1 - e^{- k_{e} t'}\\right)}{V_{d} k_{e} t' \\left(1 - e^{- k_{e} \\tau}\\right)} \\right|_{\\substack{ k_{e}=0.0791\\\\ D=1500\\\\ t'=1\\\\ \\tau=12\\\\ V_{d}=67.2 }}$"
      ],
      "text/plain": [
       "Subs(Eq(C_{max}, D*(1 - exp(-k_e*t'))/(V_d*k_e*t'*(1 - exp(-k_e*tau)))), (k_e, D, t', tau, V_d), (0.0791, 1500, 1, 12, 67.2))"
      ]
     },
     "metadata": {},
     "output_type": "display_data"
    },
    {
     "data": {
      "text/latex": [
       "$\\displaystyle C_{max} = 35.0133921064208$"
      ],
      "text/plain": [
       "Eq(C_{max}, 35.0133921064208)"
      ]
     },
     "metadata": {},
     "output_type": "display_data"
    },
    {
     "data": {
      "text/latex": [
       "$\\displaystyle \\left. C_{min} = C_{max} e^{- k_{e} \\left(- t' + \\tau\\right)} \\right|_{\\substack{ C_{max}=35.0133921064208\\\\ k_{e}=0.0791\\\\ t'=1\\\\ \\tau=12 }}$"
      ],
      "text/plain": [
       "Subs(Eq(C_{min}, C_{max}*exp(-k_e*(-t' + tau))), (C_{max}, k_e, t', tau), (35.0133921064208, 0.0791, 1, 12))"
      ]
     },
     "metadata": {},
     "output_type": "display_data"
    },
    {
     "data": {
      "text/markdown": [
       "$\\Large \\boxed {C_{min} = 14.6674480492554}$"
      ],
      "text/plain": [
       "<IPython.core.display.Markdown object>"
      ]
     },
     "metadata": {},
     "output_type": "display_data"
    },
    {
     "data": {
      "text/markdown": [
       "#### EQ_EstCmax"
      ],
      "text/plain": [
       "<IPython.core.display.Markdown object>"
      ]
     },
     "metadata": {},
     "output_type": "display_data"
    },
    {
     "data": {
      "text/markdown": [
       "\n",
       "- D     = Dose in mg\n",
       "- t'    = infusion time in hr\n",
       "- $\\tau$   = interval in hr\n",
       "- ke    = Elim. constant\n",
       "- $V_d$    = Vol of distribution in L/kg"
      ],
      "text/plain": [
       "<IPython.core.display.Markdown object>"
      ]
     },
     "metadata": {},
     "output_type": "display_data"
    },
    {
     "data": {
      "text/latex": [
       "$\\displaystyle \\left. C_{max} = \\frac{D \\left(1 - e^{- k_{e} t'}\\right)}{V_{d} k_{e} t' \\left(1 - e^{- k_{e} \\tau}\\right)} \\right|_{\\substack{ k_{e}=0.0791\\\\ D=1500\\\\ t'=2\\\\ \\tau=12\\\\ V_{d}=67.2 }}$"
      ],
      "text/plain": [
       "Subs(Eq(C_{max}, D*(1 - exp(-k_e*t'))/(V_d*k_e*t'*(1 - exp(-k_e*tau)))), (k_e, D, t', tau, V_d), (0.0791, 1500, 2, 12, 67.2))"
      ]
     },
     "metadata": {},
     "output_type": "display_data"
    },
    {
     "data": {
      "text/latex": [
       "$\\displaystyle C_{max} = 33.6819645437739$"
      ],
      "text/plain": [
       "Eq(C_{max}, 33.6819645437739)"
      ]
     },
     "metadata": {},
     "output_type": "display_data"
    },
    {
     "data": {
      "text/latex": [
       "$\\displaystyle \\left. C_{min} = C_{max} e^{- k_{e} \\left(- t' + \\tau\\right)} \\right|_{\\substack{ C_{max}=33.6819645437739\\\\ k_{e}=0.0791\\\\ t'=2\\\\ \\tau=12 }}$"
      ],
      "text/plain": [
       "Subs(Eq(C_{min}, C_{max}*exp(-k_e*(-t' + tau))), (C_{max}, k_e, t', tau), (33.6819645437739, 0.0791, 2, 12))"
      ]
     },
     "metadata": {},
     "output_type": "display_data"
    },
    {
     "data": {
      "text/markdown": [
       "$\\Large \\boxed {C_{min} = 15.2711055594186}$"
      ],
      "text/plain": [
       "<IPython.core.display.Markdown object>"
      ]
     },
     "metadata": {},
     "output_type": "display_data"
    },
    {
     "data": {
      "text/markdown": [
       "#### EQ_EstCmax"
      ],
      "text/plain": [
       "<IPython.core.display.Markdown object>"
      ]
     },
     "metadata": {},
     "output_type": "display_data"
    },
    {
     "data": {
      "text/markdown": [
       "\n",
       "- D     = Dose in mg\n",
       "- t'    = infusion time in hr\n",
       "- $\\tau$   = interval in hr\n",
       "- ke    = Elim. constant\n",
       "- $V_d$    = Vol of distribution in L/kg"
      ],
      "text/plain": [
       "<IPython.core.display.Markdown object>"
      ]
     },
     "metadata": {},
     "output_type": "display_data"
    },
    {
     "data": {
      "text/latex": [
       "$\\displaystyle \\left. C_{max} = \\frac{D \\left(1 - e^{- k_{e} t'}\\right)}{V_{d} k_{e} t' \\left(1 - e^{- k_{e} \\tau}\\right)} \\right|_{\\substack{ k_{e}=0.0791\\\\ D=1500\\\\ t'=3\\\\ \\tau=12\\\\ V_{d}=67.2 }}$"
      ],
      "text/plain": [
       "Subs(Eq(C_{max}, D*(1 - exp(-k_e*t'))/(V_d*k_e*t'*(1 - exp(-k_e*tau)))), (k_e, D, t', tau, V_d), (0.0791, 1500, 3, 12, 67.2))"
      ]
     },
     "metadata": {},
     "output_type": "display_data"
    },
    {
     "data": {
      "text/latex": [
       "$\\displaystyle C_{max} = 32.4180425553442$"
      ],
      "text/plain": [
       "Eq(C_{max}, 32.4180425553442)"
      ]
     },
     "metadata": {},
     "output_type": "display_data"
    },
    {
     "data": {
      "text/latex": [
       "$\\displaystyle \\left. C_{min} = C_{max} e^{- k_{e} \\left(- t' + \\tau\\right)} \\right|_{\\substack{ C_{max}=32.4180425553442\\\\ k_{e}=0.0791\\\\ t'=3\\\\ \\tau=12 }}$"
      ],
      "text/plain": [
       "Subs(Eq(C_{min}, C_{max}*exp(-k_e*(-t' + tau))), (C_{max}, k_e, t', tau), (32.4180425553442, 0.0791, 3, 12))"
      ]
     },
     "metadata": {},
     "output_type": "display_data"
    },
    {
     "data": {
      "text/markdown": [
       "$\\Large \\boxed {C_{min} = 15.9078887947343}$"
      ],
      "text/plain": [
       "<IPython.core.display.Markdown object>"
      ]
     },
     "metadata": {},
     "output_type": "display_data"
    },
    {
     "data": {
      "text/markdown": [
       "#### EQ_EstCmax"
      ],
      "text/plain": [
       "<IPython.core.display.Markdown object>"
      ]
     },
     "metadata": {},
     "output_type": "display_data"
    },
    {
     "data": {
      "text/markdown": [
       "\n",
       "- D     = Dose in mg\n",
       "- t'    = infusion time in hr\n",
       "- $\\tau$   = interval in hr\n",
       "- ke    = Elim. constant\n",
       "- $V_d$    = Vol of distribution in L/kg"
      ],
      "text/plain": [
       "<IPython.core.display.Markdown object>"
      ]
     },
     "metadata": {},
     "output_type": "display_data"
    },
    {
     "data": {
      "text/latex": [
       "$\\displaystyle \\left. C_{max} = \\frac{D \\left(1 - e^{- k_{e} t'}\\right)}{V_{d} k_{e} t' \\left(1 - e^{- k_{e} \\tau}\\right)} \\right|_{\\substack{ k_{e}=0.0791\\\\ D=1500\\\\ t'=4\\\\ \\tau=12\\\\ V_{d}=67.2 }}$"
      ],
      "text/plain": [
       "Subs(Eq(C_{max}, D*(1 - exp(-k_e*t'))/(V_d*k_e*t'*(1 - exp(-k_e*tau)))), (k_e, D, t', tau, V_d), (0.0791, 1500, 4, 12, 67.2))"
      ]
     },
     "metadata": {},
     "output_type": "display_data"
    },
    {
     "data": {
      "text/latex": [
       "$\\displaystyle C_{max} = 31.2177756666387$"
      ],
      "text/plain": [
       "Eq(C_{max}, 31.2177756666387)"
      ]
     },
     "metadata": {},
     "output_type": "display_data"
    },
    {
     "data": {
      "text/latex": [
       "$\\displaystyle \\left. C_{min} = C_{max} e^{- k_{e} \\left(- t' + \\tau\\right)} \\right|_{\\substack{ C_{max}=31.2177756666387\\\\ k_{e}=0.0791\\\\ t'=4\\\\ \\tau=12 }}$"
      ],
      "text/plain": [
       "Subs(Eq(C_{min}, C_{max}*exp(-k_e*(-t' + tau))), (C_{max}, k_e, t', tau), (31.2177756666387, 0.0791, 4, 12))"
      ]
     },
     "metadata": {},
     "output_type": "display_data"
    },
    {
     "data": {
      "text/markdown": [
       "$\\Large \\boxed {C_{min} = 16.5798427523317}$"
      ],
      "text/plain": [
       "<IPython.core.display.Markdown object>"
      ]
     },
     "metadata": {},
     "output_type": "display_data"
    },
    {
     "data": {
      "text/markdown": [
       "#### EQ_EstCmax"
      ],
      "text/plain": [
       "<IPython.core.display.Markdown object>"
      ]
     },
     "metadata": {},
     "output_type": "display_data"
    },
    {
     "data": {
      "text/markdown": [
       "\n",
       "- D     = Dose in mg\n",
       "- t'    = infusion time in hr\n",
       "- $\\tau$   = interval in hr\n",
       "- ke    = Elim. constant\n",
       "- $V_d$    = Vol of distribution in L/kg"
      ],
      "text/plain": [
       "<IPython.core.display.Markdown object>"
      ]
     },
     "metadata": {},
     "output_type": "display_data"
    },
    {
     "data": {
      "text/latex": [
       "$\\displaystyle \\left. C_{max} = \\frac{D \\left(1 - e^{- k_{e} t'}\\right)}{V_{d} k_{e} t' \\left(1 - e^{- k_{e} \\tau}\\right)} \\right|_{\\substack{ k_{e}=0.0791\\\\ D=1500\\\\ t'=5\\\\ \\tau=12\\\\ V_{d}=67.2 }}$"
      ],
      "text/plain": [
       "Subs(Eq(C_{max}, D*(1 - exp(-k_e*t'))/(V_d*k_e*t'*(1 - exp(-k_e*tau)))), (k_e, D, t', tau, V_d), (0.0791, 1500, 5, 12, 67.2))"
      ]
     },
     "metadata": {},
     "output_type": "display_data"
    },
    {
     "data": {
      "text/latex": [
       "$\\displaystyle C_{max} = 30.0775476736563$"
      ],
      "text/plain": [
       "Eq(C_{max}, 30.0775476736563)"
      ]
     },
     "metadata": {},
     "output_type": "display_data"
    },
    {
     "data": {
      "text/latex": [
       "$\\displaystyle \\left. C_{min} = C_{max} e^{- k_{e} \\left(- t' + \\tau\\right)} \\right|_{\\substack{ C_{max}=30.0775476736563\\\\ k_{e}=0.0791\\\\ t'=5\\\\ \\tau=12 }}$"
      ],
      "text/plain": [
       "Subs(Eq(C_{min}, C_{max}*exp(-k_e*(-t' + tau))), (C_{max}, k_e, t', tau), (30.0775476736563, 0.0791, 5, 12))"
      ]
     },
     "metadata": {},
     "output_type": "display_data"
    },
    {
     "data": {
      "text/markdown": [
       "$\\Large \\boxed {C_{min} = 17.2891470924791}$"
      ],
      "text/plain": [
       "<IPython.core.display.Markdown object>"
      ]
     },
     "metadata": {},
     "output_type": "display_data"
    },
    {
     "data": {
      "text/markdown": [
       "#### EQ_EstCmax"
      ],
      "text/plain": [
       "<IPython.core.display.Markdown object>"
      ]
     },
     "metadata": {},
     "output_type": "display_data"
    },
    {
     "data": {
      "text/markdown": [
       "\n",
       "- D     = Dose in mg\n",
       "- t'    = infusion time in hr\n",
       "- $\\tau$   = interval in hr\n",
       "- ke    = Elim. constant\n",
       "- $V_d$    = Vol of distribution in L/kg"
      ],
      "text/plain": [
       "<IPython.core.display.Markdown object>"
      ]
     },
     "metadata": {},
     "output_type": "display_data"
    },
    {
     "data": {
      "text/latex": [
       "$\\displaystyle \\left. C_{max} = \\frac{D \\left(1 - e^{- k_{e} t'}\\right)}{V_{d} k_{e} t' \\left(1 - e^{- k_{e} \\tau}\\right)} \\right|_{\\substack{ k_{e}=0.0791\\\\ D=1500\\\\ t'=6\\\\ \\tau=12\\\\ V_{d}=67.2 }}$"
      ],
      "text/plain": [
       "Subs(Eq(C_{max}, D*(1 - exp(-k_e*t'))/(V_d*k_e*t'*(1 - exp(-k_e*tau)))), (k_e, D, t', tau, V_d), (0.0791, 1500, 6, 12, 67.2))"
      ]
     },
     "metadata": {},
     "output_type": "display_data"
    },
    {
     "data": {
      "text/latex": [
       "$\\displaystyle C_{max} = 28.9939617955123$"
      ],
      "text/plain": [
       "Eq(C_{max}, 28.9939617955123)"
      ]
     },
     "metadata": {},
     "output_type": "display_data"
    },
    {
     "data": {
      "text/latex": [
       "$\\displaystyle \\left. C_{min} = C_{max} e^{- k_{e} \\left(- t' + \\tau\\right)} \\right|_{\\substack{ C_{max}=28.9939617955123\\\\ k_{e}=0.0791\\\\ t'=6\\\\ \\tau=12 }}$"
      ],
      "text/plain": [
       "Subs(Eq(C_{min}, C_{max}*exp(-k_e*(-t' + tau))), (C_{max}, k_e, t', tau), (28.9939617955123, 0.0791, 6, 12))"
      ]
     },
     "metadata": {},
     "output_type": "display_data"
    },
    {
     "data": {
      "text/markdown": [
       "$\\Large \\boxed {C_{min} = 18.0381253756394}$"
      ],
      "text/plain": [
       "<IPython.core.display.Markdown object>"
      ]
     },
     "metadata": {},
     "output_type": "display_data"
    },
    {
     "data": {
      "text/markdown": [
       "#### EQ_EstCmax"
      ],
      "text/plain": [
       "<IPython.core.display.Markdown object>"
      ]
     },
     "metadata": {},
     "output_type": "display_data"
    },
    {
     "data": {
      "text/markdown": [
       "\n",
       "- D     = Dose in mg\n",
       "- t'    = infusion time in hr\n",
       "- $\\tau$   = interval in hr\n",
       "- ke    = Elim. constant\n",
       "- $V_d$    = Vol of distribution in L/kg"
      ],
      "text/plain": [
       "<IPython.core.display.Markdown object>"
      ]
     },
     "metadata": {},
     "output_type": "display_data"
    },
    {
     "data": {
      "text/latex": [
       "$\\displaystyle \\left. C_{max} = \\frac{D \\left(1 - e^{- k_{e} t'}\\right)}{V_{d} k_{e} t' \\left(1 - e^{- k_{e} \\tau}\\right)} \\right|_{\\substack{ k_{e}=0.0791\\\\ D=1500\\\\ t'=7\\\\ \\tau=12\\\\ V_{d}=67.2 }}$"
      ],
      "text/plain": [
       "Subs(Eq(C_{max}, D*(1 - exp(-k_e*t'))/(V_d*k_e*t'*(1 - exp(-k_e*tau)))), (k_e, D, t', tau, V_d), (0.0791, 1500, 7, 12, 67.2))"
      ]
     },
     "metadata": {},
     "output_type": "display_data"
    },
    {
     "data": {
      "text/latex": [
       "$\\displaystyle C_{max} = 27.9638267949306$"
      ],
      "text/plain": [
       "Eq(C_{max}, 27.9638267949306)"
      ]
     },
     "metadata": {},
     "output_type": "display_data"
    },
    {
     "data": {
      "text/latex": [
       "$\\displaystyle \\left. C_{min} = C_{max} e^{- k_{e} \\left(- t' + \\tau\\right)} \\right|_{\\substack{ C_{max}=27.9638267949306\\\\ k_{e}=0.0791\\\\ t'=7\\\\ \\tau=12 }}$"
      ],
      "text/plain": [
       "Subs(Eq(C_{min}, C_{max}*exp(-k_e*(-t' + tau))), (C_{max}, k_e, t', tau), (27.9638267949306, 0.0791, 7, 12))"
      ]
     },
     "metadata": {},
     "output_type": "display_data"
    },
    {
     "data": {
      "text/markdown": [
       "$\\Large \\boxed {C_{min} = 18.8292549512326}$"
      ],
      "text/plain": [
       "<IPython.core.display.Markdown object>"
      ]
     },
     "metadata": {},
     "output_type": "display_data"
    },
    {
     "data": {
      "text/markdown": [
       "#### EQ_EstCmax"
      ],
      "text/plain": [
       "<IPython.core.display.Markdown object>"
      ]
     },
     "metadata": {},
     "output_type": "display_data"
    },
    {
     "data": {
      "text/markdown": [
       "\n",
       "- D     = Dose in mg\n",
       "- t'    = infusion time in hr\n",
       "- $\\tau$   = interval in hr\n",
       "- ke    = Elim. constant\n",
       "- $V_d$    = Vol of distribution in L/kg"
      ],
      "text/plain": [
       "<IPython.core.display.Markdown object>"
      ]
     },
     "metadata": {},
     "output_type": "display_data"
    },
    {
     "data": {
      "text/latex": [
       "$\\displaystyle \\left. C_{max} = \\frac{D \\left(1 - e^{- k_{e} t'}\\right)}{V_{d} k_{e} t' \\left(1 - e^{- k_{e} \\tau}\\right)} \\right|_{\\substack{ k_{e}=0.0791\\\\ D=1500\\\\ t'=8\\\\ \\tau=12\\\\ V_{d}=67.2 }}$"
      ],
      "text/plain": [
       "Subs(Eq(C_{max}, D*(1 - exp(-k_e*t'))/(V_d*k_e*t'*(1 - exp(-k_e*tau)))), (k_e, D, t', tau, V_d), (0.0791, 1500, 8, 12, 67.2))"
      ]
     },
     "metadata": {},
     "output_type": "display_data"
    },
    {
     "data": {
      "text/latex": [
       "$\\displaystyle C_{max} = 26.9841440021979$"
      ],
      "text/plain": [
       "Eq(C_{max}, 26.9841440021979)"
      ]
     },
     "metadata": {},
     "output_type": "display_data"
    },
    {
     "data": {
      "text/latex": [
       "$\\displaystyle \\left. C_{min} = C_{max} e^{- k_{e} \\left(- t' + \\tau\\right)} \\right|_{\\substack{ C_{max}=26.9841440021979\\\\ k_{e}=0.0791\\\\ t'=8\\\\ \\tau=12 }}$"
      ],
      "text/plain": [
       "Subs(Eq(C_{min}, C_{max}*exp(-k_e*(-t' + tau))), (C_{max}, k_e, t', tau), (26.9841440021979, 0.0791, 8, 12))"
      ]
     },
     "metadata": {},
     "output_type": "display_data"
    },
    {
     "data": {
      "text/markdown": [
       "$\\Large \\boxed {C_{min} = 19.6651775450444}$"
      ],
      "text/plain": [
       "<IPython.core.display.Markdown object>"
      ]
     },
     "metadata": {},
     "output_type": "display_data"
    },
    {
     "data": {
      "text/markdown": [
       "#### EQ_EstCmax"
      ],
      "text/plain": [
       "<IPython.core.display.Markdown object>"
      ]
     },
     "metadata": {},
     "output_type": "display_data"
    },
    {
     "data": {
      "text/markdown": [
       "\n",
       "- D     = Dose in mg\n",
       "- t'    = infusion time in hr\n",
       "- $\\tau$   = interval in hr\n",
       "- ke    = Elim. constant\n",
       "- $V_d$    = Vol of distribution in L/kg"
      ],
      "text/plain": [
       "<IPython.core.display.Markdown object>"
      ]
     },
     "metadata": {},
     "output_type": "display_data"
    },
    {
     "data": {
      "text/latex": [
       "$\\displaystyle \\left. C_{max} = \\frac{D \\left(1 - e^{- k_{e} t'}\\right)}{V_{d} k_{e} t' \\left(1 - e^{- k_{e} \\tau}\\right)} \\right|_{\\substack{ k_{e}=0.0791\\\\ D=1500\\\\ t'=9\\\\ \\tau=12\\\\ V_{d}=67.2 }}$"
      ],
      "text/plain": [
       "Subs(Eq(C_{max}, D*(1 - exp(-k_e*t'))/(V_d*k_e*t'*(1 - exp(-k_e*tau)))), (k_e, D, t', tau, V_d), (0.0791, 1500, 9, 12, 67.2))"
      ]
     },
     "metadata": {},
     "output_type": "display_data"
    },
    {
     "data": {
      "text/latex": [
       "$\\displaystyle C_{max} = 26.052095182523$"
      ],
      "text/plain": [
       "Eq(C_{max}, 26.052095182523)"
      ]
     },
     "metadata": {},
     "output_type": "display_data"
    },
    {
     "data": {
      "text/latex": [
       "$\\displaystyle \\left. C_{min} = C_{max} e^{- k_{e} \\left(- t' + \\tau\\right)} \\right|_{\\substack{ C_{max}=26.052095182523\\\\ k_{e}=0.0791\\\\ t'=9\\\\ \\tau=12 }}$"
      ],
      "text/plain": [
       "Subs(Eq(C_{min}, C_{max}*exp(-k_e*(-t' + tau))), (C_{max}, k_e, t', tau), (26.052095182523, 0.0791, 9, 12))"
      ]
     },
     "metadata": {},
     "output_type": "display_data"
    },
    {
     "data": {
      "text/markdown": [
       "$\\Large \\boxed {C_{min} = 20.5487105956530}$"
      ],
      "text/plain": [
       "<IPython.core.display.Markdown object>"
      ]
     },
     "metadata": {},
     "output_type": "display_data"
    },
    {
     "data": {
      "text/markdown": [
       "#### EQ_EstCmax"
      ],
      "text/plain": [
       "<IPython.core.display.Markdown object>"
      ]
     },
     "metadata": {},
     "output_type": "display_data"
    },
    {
     "data": {
      "text/markdown": [
       "\n",
       "- D     = Dose in mg\n",
       "- t'    = infusion time in hr\n",
       "- $\\tau$   = interval in hr\n",
       "- ke    = Elim. constant\n",
       "- $V_d$    = Vol of distribution in L/kg"
      ],
      "text/plain": [
       "<IPython.core.display.Markdown object>"
      ]
     },
     "metadata": {},
     "output_type": "display_data"
    },
    {
     "data": {
      "text/latex": [
       "$\\displaystyle \\left. C_{max} = \\frac{D \\left(1 - e^{- k_{e} t'}\\right)}{V_{d} k_{e} t' \\left(1 - e^{- k_{e} \\tau}\\right)} \\right|_{\\substack{ k_{e}=0.0791\\\\ D=1500\\\\ t'=10\\\\ \\tau=12\\\\ V_{d}=67.2 }}$"
      ],
      "text/plain": [
       "Subs(Eq(C_{max}, D*(1 - exp(-k_e*t'))/(V_d*k_e*t'*(1 - exp(-k_e*tau)))), (k_e, D, t', tau, V_d), (0.0791, 1500, 10, 12, 67.2))"
      ]
     },
     "metadata": {},
     "output_type": "display_data"
    },
    {
     "data": {
      "text/latex": [
       "$\\displaystyle C_{max} = 25.1650311908073$"
      ],
      "text/plain": [
       "Eq(C_{max}, 25.1650311908073)"
      ]
     },
     "metadata": {},
     "output_type": "display_data"
    },
    {
     "data": {
      "text/latex": [
       "$\\displaystyle \\left. C_{min} = C_{max} e^{- k_{e} \\left(- t' + \\tau\\right)} \\right|_{\\substack{ C_{max}=25.1650311908073\\\\ k_{e}=0.0791\\\\ t'=10\\\\ \\tau=12 }}$"
      ],
      "text/plain": [
       "Subs(Eq(C_{min}, C_{max}*exp(-k_e*(-t' + tau))), (C_{max}, k_e, t', tau), (25.1650311908073, 0.0791, 10, 12))"
      ]
     },
     "metadata": {},
     "output_type": "display_data"
    },
    {
     "data": {
      "text/markdown": [
       "$\\Large \\boxed {C_{min} = 21.4828593939362}$"
      ],
      "text/plain": [
       "<IPython.core.display.Markdown object>"
      ]
     },
     "metadata": {},
     "output_type": "display_data"
    },
    {
     "data": {
      "text/markdown": [
       "#### EQ_EstCmax"
      ],
      "text/plain": [
       "<IPython.core.display.Markdown object>"
      ]
     },
     "metadata": {},
     "output_type": "display_data"
    },
    {
     "data": {
      "text/markdown": [
       "\n",
       "- D     = Dose in mg\n",
       "- t'    = infusion time in hr\n",
       "- $\\tau$   = interval in hr\n",
       "- ke    = Elim. constant\n",
       "- $V_d$    = Vol of distribution in L/kg"
      ],
      "text/plain": [
       "<IPython.core.display.Markdown object>"
      ]
     },
     "metadata": {},
     "output_type": "display_data"
    },
    {
     "data": {
      "text/latex": [
       "$\\displaystyle \\left. C_{max} = \\frac{D \\left(1 - e^{- k_{e} t'}\\right)}{V_{d} k_{e} t' \\left(1 - e^{- k_{e} \\tau}\\right)} \\right|_{\\substack{ k_{e}=0.0791\\\\ D=1500\\\\ t'=11\\\\ \\tau=12\\\\ V_{d}=67.2 }}$"
      ],
      "text/plain": [
       "Subs(Eq(C_{max}, D*(1 - exp(-k_e*t'))/(V_d*k_e*t'*(1 - exp(-k_e*tau)))), (k_e, D, t', tau, V_d), (0.0791, 1500, 11, 12, 67.2))"
      ]
     },
     "metadata": {},
     "output_type": "display_data"
    },
    {
     "data": {
      "text/latex": [
       "$\\displaystyle C_{max} = 24.320461361605$"
      ],
      "text/plain": [
       "Eq(C_{max}, 24.320461361605)"
      ]
     },
     "metadata": {},
     "output_type": "display_data"
    },
    {
     "data": {
      "text/latex": [
       "$\\displaystyle \\left. C_{min} = C_{max} e^{- k_{e} \\left(- t' + \\tau\\right)} \\right|_{\\substack{ C_{max}=24.320461361605\\\\ k_{e}=0.0791\\\\ t'=11\\\\ \\tau=12 }}$"
      ],
      "text/plain": [
       "Subs(Eq(C_{min}, C_{max}*exp(-k_e*(-t' + tau))), (C_{max}, k_e, t', tau), (24.320461361605, 0.0791, 11, 12))"
      ]
     },
     "metadata": {},
     "output_type": "display_data"
    },
    {
     "data": {
      "text/markdown": [
       "$\\Large \\boxed {C_{min} = 22.4708300836809}$"
      ],
      "text/plain": [
       "<IPython.core.display.Markdown object>"
      ]
     },
     "metadata": {},
     "output_type": "display_data"
    }
   ],
   "source": [
    "eqn = EQ_EstCmax()\n",
    "eqn.formula\n",
    "cmax = [eqn.solve(D=1500,CrCl=90,tprime=x,tau=12,weight=96)[0] for x in range (1,12)]\n",
    "cmins = [eqn.solve(D=1500, CrCl=90, tprime=x, tau=12, weight=96)[1] for x in range(1,12)]"
   ]
  },
  {
   "cell_type": "code",
   "execution_count": null,
   "metadata": {},
   "outputs": [
    {
     "data": {
      "text/plain": [
       "Text(0.5, 1.0, \"Vanco $1.5g~q12h$ , differing $t'$\")"
      ]
     },
     "execution_count": 274,
     "metadata": {},
     "output_type": "execute_result"
    },
    {
     "data": {
      "text/plain": [
       "Text(0, 0.5, '$[Drug]$')"
      ]
     },
     "execution_count": 274,
     "metadata": {},
     "output_type": "execute_result"
    },
    {
     "data": {
      "text/plain": [
       "Text(0.5, 0, 'Inf.time ($hr$)')"
      ]
     },
     "execution_count": 274,
     "metadata": {},
     "output_type": "execute_result"
    },
    {
     "data": {
      "text/plain": [
       "<AxesSubplot:title={'center':\"Vanco $1.5g~q12h$ , differing $t'$\"}, xlabel='Inf.time ($hr$)', ylabel='$[Drug]$'>"
      ]
     },
     "execution_count": 274,
     "metadata": {},
     "output_type": "execute_result"
    },
    {
     "data": {
      "text/plain": [
       "<AxesSubplot:title={'center':\"Vanco $1.5g~q12h$ , differing $t'$\"}, xlabel='Inf.time ($hr$)', ylabel='$[Drug]$'>"
      ]
     },
     "execution_count": 274,
     "metadata": {},
     "output_type": "execute_result"
    },
    {
     "data": {
      "text/plain": [
       "<matplotlib.legend.Legend at 0x7f19f790dc40>"
      ]
     },
     "execution_count": 274,
     "metadata": {},
     "output_type": "execute_result"
    },
    {
     "data": {
      "image/png": "[encoded data removed]",
      "text/plain": [
       "<Figure size 432x288 with 1 Axes>"
      ]
     },
     "metadata": {},
     "output_type": "display_data"
    }
   ],
   "source": [
    "df = pd.DataFrame(list(zip(range(1,12),cmax,cmins)),columns=[\"run time\",\"cmax\",\"cmin\"])\n",
    "sns.set_theme('talk',style='darkgrid')\n",
    "plt.title(\"Vanco $1.5g~q12h$ , differing $t'$\")\n",
    "plt.ylabel(\"$[Drug]$\")\n",
    "plt.xlabel(\"Inf.time ($hr$)\")\n",
    "sns.lineplot(x='run time',y='cmax',data=df)\n",
    "sns.lineplot(x='run time',y='cmin',data=df)\n",
    "plt.legend([\"$c_{max}$\",\"$c_{min}$\"])"
   ]
  },
  {
   "cell_type": "code",
   "execution_count": null,
   "metadata": {},
   "outputs": [
    {
     "data": {
      "text/html": [
       "<div>\n",
       "<style scoped>\n",
       "    .dataframe tbody tr th:only-of-type {\n",
       "        vertical-align: middle;\n",
       "    }\n",
       "\n",
       "    .dataframe tbody tr th {\n",
       "        vertical-align: top;\n",
       "    }\n",
       "\n",
       "    .dataframe thead th {\n",
       "        text-align: right;\n",
       "    }\n",
       "</style>\n",
       "<table border=\"1\" class=\"dataframe\">\n",
       "  <thead>\n",
       "    <tr style=\"text-align: right;\">\n",
       "      <th></th>\n",
       "      <th>run time</th>\n",
       "      <th>cmin</th>\n",
       "    </tr>\n",
       "  </thead>\n",
       "  <tbody>\n",
       "    <tr>\n",
       "      <th>0</th>\n",
       "      <td>1</td>\n",
       "      <td>14.667448</td>\n",
       "    </tr>\n",
       "    <tr>\n",
       "      <th>1</th>\n",
       "      <td>2</td>\n",
       "      <td>15.271106</td>\n",
       "    </tr>\n",
       "    <tr>\n",
       "      <th>2</th>\n",
       "      <td>3</td>\n",
       "      <td>15.907889</td>\n",
       "    </tr>\n",
       "    <tr>\n",
       "      <th>3</th>\n",
       "      <td>4</td>\n",
       "      <td>16.579843</td>\n",
       "    </tr>\n",
       "    <tr>\n",
       "      <th>4</th>\n",
       "      <td>5</td>\n",
       "      <td>17.289147</td>\n",
       "    </tr>\n",
       "    <tr>\n",
       "      <th>5</th>\n",
       "      <td>6</td>\n",
       "      <td>18.038125</td>\n",
       "    </tr>\n",
       "    <tr>\n",
       "      <th>6</th>\n",
       "      <td>7</td>\n",
       "      <td>18.829255</td>\n",
       "    </tr>\n",
       "    <tr>\n",
       "      <th>7</th>\n",
       "      <td>8</td>\n",
       "      <td>19.665178</td>\n",
       "    </tr>\n",
       "    <tr>\n",
       "      <th>8</th>\n",
       "      <td>9</td>\n",
       "      <td>20.548711</td>\n",
       "    </tr>\n",
       "    <tr>\n",
       "      <th>9</th>\n",
       "      <td>10</td>\n",
       "      <td>21.482859</td>\n",
       "    </tr>\n",
       "    <tr>\n",
       "      <th>10</th>\n",
       "      <td>11</td>\n",
       "      <td>22.470830</td>\n",
       "    </tr>\n",
       "  </tbody>\n",
       "</table>\n",
       "</div>"
      ],
      "text/plain": [
       "    run time       cmin\n",
       "0          1  14.667448\n",
       "1          2  15.271106\n",
       "2          3  15.907889\n",
       "3          4  16.579843\n",
       "4          5  17.289147\n",
       "5          6  18.038125\n",
       "6          7  18.829255\n",
       "7          8  19.665178\n",
       "8          9  20.548711\n",
       "9         10  21.482859\n",
       "10        11  22.470830"
      ]
     },
     "execution_count": 243,
     "metadata": {},
     "output_type": "execute_result"
    }
   ],
   "source": [
    "df"
   ]
  },
  {
   "cell_type": "code",
   "execution_count": null,
   "metadata": {},
   "outputs": [
    {
     "data": {
      "text/plain": [
       "'CrCl = 122'"
      ]
     },
     "metadata": {},
     "output_type": "display_data"
    },
    {
     "data": {
      "text/latex": [
       "$\\displaystyle k_{e} = 0.10566$"
      ],
      "text/plain": [
       "Eq(k_e, 0.10566)"
      ]
     },
     "metadata": {},
     "output_type": "display_data"
    },
    {
     "data": {
      "text/markdown": [
       "---"
      ],
      "text/plain": [
       "<IPython.core.display.Markdown object>"
      ]
     },
     "metadata": {},
     "output_type": "display_data"
    },
    {
     "data": {
      "text/plain": [
       "'CrCl = 33'"
      ]
     },
     "metadata": {},
     "output_type": "display_data"
    },
    {
     "data": {
      "text/latex": [
       "$\\displaystyle k_{e} = 0.03179$"
      ],
      "text/plain": [
       "Eq(k_e, 0.03179)"
      ]
     },
     "metadata": {},
     "output_type": "display_data"
    }
   ],
   "source": [
    "\n",
    "EQ = VancomycinCalc()\n",
    "\n",
    "display(\"CrCl = 122\", EQ.KE_VANCOMYCIN_EQ.subs({EQ.CrCl: 122}))\n",
    "display(Markdown(\"---\"))\n",
    "display(\"CrCl = 33\" , EQ.KE_VANCOMYCIN_EQ.subs({EQ.CrCl: 33}))"
   ]
  },
  {
   "cell_type": "code",
   "execution_count": null,
   "metadata": {},
   "outputs": [
    {
     "data": {
      "text/latex": [
       "$\\displaystyle C_{max} = \\frac{D \\left(1 - e^{- k_{e} t'}\\right)}{V_{d} k_{e} t' \\left(1 - e^{- k_{e} \\tau}\\right)}$"
      ],
      "text/plain": [
       "Eq(C_{max}, D*(1 - exp(-k_e*t'))/(V_d*k_e*t'*(1 - exp(-k_e*tau))))"
      ]
     },
     "metadata": {},
     "output_type": "display_data"
    },
    {
     "data": {
      "text/latex": [
       "$\\displaystyle C_{max} = 32.8448967862415$"
      ],
      "text/plain": [
       "Eq(C_{max}, 32.8448967862415)"
      ]
     },
     "metadata": {},
     "output_type": "display_data"
    },
    {
     "name": "stdout",
     "output_type": "stream",
     "text": [
      "\n",
      "      D     = Dose in mg\n",
      "      t'    = infusion time in hr\n",
      "      Tau   = interval in hr\n",
      "      ke    = Elim. constant\n",
      "      Vd    = Vol of distribution in L/kg\n"
     ]
    }
   ],
   "source": [
    "display(EQ.EQ_EST_CMAX)\n",
    "\n",
    "peak = EQ.EQ_EST_CMAX.subs(\n",
    "   {\n",
    "      EQ.D :      1250,\n",
    "      EQ.tprime : 2,\n",
    "      EQ.Vd :     56,\n",
    "      EQ.ke :     0.1165,\n",
    "      EQ.tau :    8\n",
    "   }\n",
    ")\n",
    "display(peak)\n",
    "\n",
    "print (EQ.EQ_EST_CMAX_DESCRIPTION)"
   ]
  },
  {
   "cell_type": "code",
   "execution_count": null,
   "metadata": {},
   "outputs": [
    {
     "data": {
      "text/latex": [
       "$\\displaystyle C_{min} = C_{max} e^{- k_{e} \\left(- t' + \\tau\\right)}$"
      ],
      "text/plain": [
       "Eq(C_{min}, C_{max}*exp(-k_e*(-t' + tau)))"
      ]
     },
     "execution_count": 52,
     "metadata": {},
     "output_type": "execute_result"
    },
    {
     "data": {
      "text/latex": [
       "$\\displaystyle C_{min} = 16.3261657230856$"
      ],
      "text/plain": [
       "Eq(C_{min}, 16.3261657230856)"
      ]
     },
     "execution_count": 52,
     "metadata": {},
     "output_type": "execute_result"
    },
    {
     "name": "stdout",
     "output_type": "stream",
     "text": [
      "\n",
      "      t'    = infusion time in hr\n",
      "      Tau   = interval in hr\n",
      "      ke    = Elim. constant\n",
      "      Cmax  = [Drug]peak in mcg/mL\n"
     ]
    }
   ],
   "source": [
    "EQ.EQ_EST_CMIN\n",
    "\n",
    "trough = EQ.EQ_EST_CMIN.subs (\n",
    "   {\n",
    "      EQ.Cmax : 32.844,\n",
    "      EQ.ke : 0.1165,\n",
    "      EQ.tau : 8,\n",
    "      EQ.tprime : 2\n",
    "   }\n",
    ")\n",
    "trough\n",
    "\n",
    "print(EQ.EQ_EST_CMIN_DESCRIPTION)"
   ]
  },
  {
   "cell_type": "markdown",
   "metadata": {},
   "source": [
    "## Convert"
   ]
  },
  {
   "cell_type": "markdown",
   "metadata": {},
   "source": [
    "### VELOCITY"
   ]
  },
  {
   "cell_type": "code",
   "execution_count": null,
   "metadata": {},
   "outputs": [
    {
     "data": {
      "text/plain": [
       "'100 mi/hr'"
      ]
     },
     "execution_count": 15,
     "metadata": {},
     "output_type": "execute_result"
    },
    {
     "data": {
      "text/markdown": [
       "$\\Large \\frac{160.9344 \\text{km}}{\\text{hour}}$"
      ],
      "text/plain": [
       "<IPython.core.display.Markdown object>"
      ]
     },
     "execution_count": 15,
     "metadata": {},
     "output_type": "execute_result"
    }
   ],
   "source": [
    "\"100 mi/hr\"\n",
    "\n",
    "convert (\n",
    "   100 * MI/HR,\n",
    "   to=   KM/HR\n",
    ")"
   ]
  },
  {
   "cell_type": "code",
   "execution_count": null,
   "metadata": {},
   "outputs": [
    {
     "data": {
      "text/plain": [
       "'61 kg'"
      ]
     },
     "execution_count": 16,
     "metadata": {},
     "output_type": "execute_result"
    },
    {
     "data": {
      "text/markdown": [
       "$\\Large 134.481979932775 \\text{pound}$"
      ],
      "text/plain": [
       "<IPython.core.display.Markdown object>"
      ]
     },
     "execution_count": 16,
     "metadata": {},
     "output_type": "execute_result"
    }
   ],
   "source": [
    "\"61 kg\"\n",
    "\n",
    "convert (\n",
    "   61 * KG,\n",
    "   LBS\n",
    ")"
   ]
  },
  {
   "cell_type": "code",
   "execution_count": null,
   "metadata": {},
   "outputs": [
    {
     "data": {
      "text/markdown": [
       "$\\Large \\frac{5.0 \\text{mol}}{\\text{liter}}$"
      ],
      "text/plain": [
       "<IPython.core.display.Markdown object>"
      ]
     },
     "execution_count": 17,
     "metadata": {},
     "output_type": "execute_result"
    }
   ],
   "source": [
    "convert (\n",
    "    5 * MOLAR,\n",
    "    to= GM / u.mL\n",
    ")"
   ]
  }
 ],
 "metadata": {
  "interpreter": {
   "hash": "31f2aee4e71d21fbe5cf8b01ff0e069b9275f58929596ceb00d14d90e3e16cd6"
  },
  "kernelspec": {
   "display_name": "Python 3.8.2 64-bit",
   "language": "python",
   "name": "python3"
  },
  "language_info": {
   "codemirror_mode": {
    "name": "ipython",
    "version": 3
   },
   "file_extension": ".py",
   "mimetype": "text/x-python",
   "name": "python",
   "nbconvert_exporter": "python",
   "pygments_lexer": "ipython3",
   "version": "3.8.10"
  },
  "orig_nbformat": 4
 },
 "nbformat": 4,
 "nbformat_minor": 2
}
