{
 "cells": [
  {
   "cell_type": "code",
   "execution_count": 2,
   "metadata": {},
   "outputs": [],
   "source": [
    "import yaml\n",
    "import pandas as pd"
   ]
  },
  {
   "cell_type": "code",
   "execution_count": 7,
   "metadata": {},
   "outputs": [
    {
     "data": {
      "text/html": [
       "<style type=\"text/css\">\n",
       "#T_910d9_row0_col0, #T_910d9_row1_col0, #T_910d9_row2_col0, #T_910d9_row3_col0, #T_910d9_row4_col0, #T_910d9_row5_col0, #T_910d9_row6_col0, #T_910d9_row7_col0, #T_910d9_row8_col0, #T_910d9_row9_col0, #T_910d9_row10_col0 {\n",
       "  background-color: #ffffb3;\n",
       "  color: #000000;\n",
       "  slice: ['brand'];\n",
       "}\n",
       "</style>\n",
       "<table id=\"T_910d9\">\n",
       "  <thead>\n",
       "    <tr>\n",
       "      <th class=\"blank level0\" >&nbsp;</th>\n",
       "      <th id=\"T_910d9_level0_col0\" class=\"col_heading level0 col0\" >brand</th>\n",
       "    </tr>\n",
       "  </thead>\n",
       "  <tbody>\n",
       "    <tr>\n",
       "      <th id=\"T_910d9_level0_row0\" class=\"row_heading level0 row0\" >Adalimumab</th>\n",
       "      <td id=\"T_910d9_row0_col0\" class=\"data row0 col0\" >HUMIRA</td>\n",
       "    </tr>\n",
       "    <tr>\n",
       "      <th id=\"T_910d9_level0_row1\" class=\"row_heading level0 row1\" >Cefazolin</th>\n",
       "      <td id=\"T_910d9_row1_col0\" class=\"data row1 col0\" >ANCEF</td>\n",
       "    </tr>\n",
       "    <tr>\n",
       "      <th id=\"T_910d9_level0_row2\" class=\"row_heading level0 row2\" >Ceftazidime</th>\n",
       "      <td id=\"T_910d9_row2_col0\" class=\"data row2 col0\" >TAZICEF</td>\n",
       "    </tr>\n",
       "    <tr>\n",
       "      <th id=\"T_910d9_level0_row3\" class=\"row_heading level0 row3\" >Ceftazidime/ Tazobactam</th>\n",
       "      <td id=\"T_910d9_row3_col0\" class=\"data row3 col0\" >ZERBAXA</td>\n",
       "    </tr>\n",
       "    <tr>\n",
       "      <th id=\"T_910d9_level0_row4\" class=\"row_heading level0 row4\" >Ceftriaxone</th>\n",
       "      <td id=\"T_910d9_row4_col0\" class=\"data row4 col0\" >ROCEPHIN</td>\n",
       "    </tr>\n",
       "    <tr>\n",
       "      <th id=\"T_910d9_level0_row5\" class=\"row_heading level0 row5\" >Doxepin</th>\n",
       "      <td id=\"T_910d9_row5_col0\" class=\"data row5 col0\" >SINEQUAN</td>\n",
       "    </tr>\n",
       "    <tr>\n",
       "      <th id=\"T_910d9_level0_row6\" class=\"row_heading level0 row6\" >Mirtazapine</th>\n",
       "      <td id=\"T_910d9_row6_col0\" class=\"data row6 col0\" >REMERON</td>\n",
       "    </tr>\n",
       "    <tr>\n",
       "      <th id=\"T_910d9_level0_row7\" class=\"row_heading level0 row7\" >Quetiapine</th>\n",
       "      <td id=\"T_910d9_row7_col0\" class=\"data row7 col0\" >SEROQUEL</td>\n",
       "    </tr>\n",
       "    <tr>\n",
       "      <th id=\"T_910d9_level0_row8\" class=\"row_heading level0 row8\" >Ramelteon</th>\n",
       "      <td id=\"T_910d9_row8_col0\" class=\"data row8 col0\" >ROZEREM</td>\n",
       "    </tr>\n",
       "    <tr>\n",
       "      <th id=\"T_910d9_level0_row9\" class=\"row_heading level0 row9\" >Tozinameran</th>\n",
       "      <td id=\"T_910d9_row9_col0\" class=\"data row9 col0\" >COVID-19 VACCINE (PFIZER)</td>\n",
       "    </tr>\n",
       "    <tr>\n",
       "      <th id=\"T_910d9_level0_row10\" class=\"row_heading level0 row10\" >Zaleplon</th>\n",
       "      <td id=\"T_910d9_row10_col0\" class=\"data row10 col0\" >SONATA</td>\n",
       "    </tr>\n",
       "  </tbody>\n",
       "</table>\n"
      ],
      "text/plain": [
       "<pandas.io.formats.style.Styler at 0x11b6eff70>"
      ]
     },
     "execution_count": 7,
     "metadata": {},
     "output_type": "execute_result"
    }
   ],
   "source": [
    "f = open(\"/Users/joshsteinbecker/jts_project/Data/Rx/DrugBrands.yml\").read()\n",
    "d = yaml.load(f,Loader=yaml.Loader)\n",
    "df = pd.DataFrame(pd.Series(d),columns=['brand'])\n",
    "df = df.sort_index()\n",
    "df.style.set_properties(**{\"background-color\":'#ffffb3',\"color\":\"#000000\"}, slice=['brand'])\n"
   ]
  },
  {
   "cell_type": "code",
   "execution_count": 6,
   "metadata": {},
   "outputs": [
    {
     "data": {
      "text/html": [
       "<style type=\"text/css\">\n",
       "#T_e8ef8_row0_col0, #T_e8ef8_row1_col0, #T_e8ef8_row2_col0, #T_e8ef8_row3_col0 {\n",
       "  background-color: #ffffb3;\n",
       "  color: #000000;\n",
       "  slice: ['brand'];\n",
       "}\n",
       "</style>\n",
       "<table id=\"T_e8ef8\">\n",
       "  <thead>\n",
       "    <tr>\n",
       "      <th class=\"blank level0\" >&nbsp;</th>\n",
       "      <th id=\"T_e8ef8_level0_col0\" class=\"col_heading level0 col0\" >brand</th>\n",
       "    </tr>\n",
       "  </thead>\n",
       "  <tbody>\n",
       "    <tr>\n",
       "      <th id=\"T_e8ef8_level0_row0\" class=\"row_heading level0 row0\" >Cefazolin</th>\n",
       "      <td id=\"T_e8ef8_row0_col0\" class=\"data row0 col0\" >ANCEF</td>\n",
       "    </tr>\n",
       "    <tr>\n",
       "      <th id=\"T_e8ef8_level0_row1\" class=\"row_heading level0 row1\" >Ceftazidime</th>\n",
       "      <td id=\"T_e8ef8_row1_col0\" class=\"data row1 col0\" >TAZICEF</td>\n",
       "    </tr>\n",
       "    <tr>\n",
       "      <th id=\"T_e8ef8_level0_row2\" class=\"row_heading level0 row2\" >Ceftazidime/ Tazobactam</th>\n",
       "      <td id=\"T_e8ef8_row2_col0\" class=\"data row2 col0\" >ZERBAXA</td>\n",
       "    </tr>\n",
       "    <tr>\n",
       "      <th id=\"T_e8ef8_level0_row3\" class=\"row_heading level0 row3\" >Ceftriaxone</th>\n",
       "      <td id=\"T_e8ef8_row3_col0\" class=\"data row3 col0\" >ROCEPHIN</td>\n",
       "    </tr>\n",
       "  </tbody>\n",
       "</table>\n"
      ],
      "text/plain": [
       "<pandas.io.formats.style.Styler at 0x10f5047f0>"
      ]
     },
     "execution_count": 6,
     "metadata": {},
     "output_type": "execute_result"
    }
   ],
   "source": [
    "df[df.index.str.contains('Cef')].style.set_properties(**{\"background-color\":'#ffffb3',\"color\":\"#000000\"}, slice=['brand'])"
   ]
  },
  {
   "cell_type": "code",
   "execution_count": 5,
   "metadata": {},
   "outputs": [
    {
     "name": "stdout",
     "output_type": "stream",
     "text": [
      "Adalimumab: HUMIRA\n",
      "Cefazolin: ANCEF\n",
      "Ceftazidime: TAZICEF\n",
      "Ceftazidime/ Tazobactam: ZERBAXA\n",
      "Ceftriaxone: ROCEPHIN\n",
      "Doxepin: SINEQUAN\n",
      "Mirtazapine: REMERON\n",
      "Quetiapine: SEROQUEL\n",
      "Ramelteon: ROZEREM\n",
      "Tozinameran: COVID-19 VACCINE (PFIZER)\n",
      "Zaleplon: SONATA\n",
      "\n"
     ]
    }
   ],
   "source": [
    "br = df.to_dict()['brand']\n",
    "print(yaml.dump(br))"
   ]
  }
 ],
 "metadata": {
  "interpreter": {
   "hash": "31f2aee4e71d21fbe5cf8b01ff0e069b9275f58929596ceb00d14d90e3e16cd6"
  },
  "kernelspec": {
   "display_name": "Python 3.8.2 64-bit",
   "language": "python",
   "name": "python3"
  },
  "language_info": {
   "codemirror_mode": {
    "name": "ipython",
    "version": 3
   },
   "file_extension": ".py",
   "mimetype": "text/x-python",
   "name": "python",
   "nbconvert_exporter": "python",
   "pygments_lexer": "ipython3",
   "version": "3.8.2"
  },
  "orig_nbformat": 4
 },
 "nbformat": 4,
 "nbformat_minor": 2
}
