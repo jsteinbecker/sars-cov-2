{
 "cells": [
  {
   "cell_type": "code",
   "execution_count": 6,
   "metadata": {},
   "outputs": [],
   "source": [
    "import yaml\n",
    "import pandas as pd"
   ]
  },
  {
   "cell_type": "code",
   "execution_count": 73,
   "metadata": {},
   "outputs": [
    {
     "data": {
      "text/html": [
       "<div>\n",
       "<style scoped>\n",
       "    .dataframe tbody tr th:only-of-type {\n",
       "        vertical-align: middle;\n",
       "    }\n",
       "\n",
       "    .dataframe tbody tr th {\n",
       "        vertical-align: top;\n",
       "    }\n",
       "\n",
       "    .dataframe thead th {\n",
       "        text-align: right;\n",
       "    }\n",
       "</style>\n",
       "<table border=\"1\" class=\"dataframe\">\n",
       "  <thead>\n",
       "    <tr style=\"text-align: right;\">\n",
       "      <th></th>\n",
       "      <th>brand</th>\n",
       "    </tr>\n",
       "  </thead>\n",
       "  <tbody>\n",
       "    <tr>\n",
       "      <th>Adalimumab</th>\n",
       "      <td>HUMIRA</td>\n",
       "    </tr>\n",
       "    <tr>\n",
       "      <th>Cefazolin</th>\n",
       "      <td>ANCEF</td>\n",
       "    </tr>\n",
       "    <tr>\n",
       "      <th>Ceftazidime</th>\n",
       "      <td>TAZICEF</td>\n",
       "    </tr>\n",
       "    <tr>\n",
       "      <th>Ceftazidime/ Tazobactam</th>\n",
       "      <td>ZERBAXA</td>\n",
       "    </tr>\n",
       "    <tr>\n",
       "      <th>Ceftriaxone</th>\n",
       "      <td>ROCEPHIN</td>\n",
       "    </tr>\n",
       "    <tr>\n",
       "      <th>Doxepin</th>\n",
       "      <td>SINEQUAN</td>\n",
       "    </tr>\n",
       "    <tr>\n",
       "      <th>Mirtazapine</th>\n",
       "      <td>REMERON</td>\n",
       "    </tr>\n",
       "    <tr>\n",
       "      <th>Quetiapine</th>\n",
       "      <td>SEROQUEL</td>\n",
       "    </tr>\n",
       "    <tr>\n",
       "      <th>Ramelteon</th>\n",
       "      <td>ROZEREM</td>\n",
       "    </tr>\n",
       "    <tr>\n",
       "      <th>Tozinameran</th>\n",
       "      <td>COVID-19 VACCINE (PFIZER)</td>\n",
       "    </tr>\n",
       "    <tr>\n",
       "      <th>Zaleplon</th>\n",
       "      <td>SONATA</td>\n",
       "    </tr>\n",
       "  </tbody>\n",
       "</table>\n",
       "</div>"
      ],
      "text/plain": [
       "                                             brand\n",
       "Adalimumab                                  HUMIRA\n",
       "Cefazolin                                    ANCEF\n",
       "Ceftazidime                                TAZICEF\n",
       "Ceftazidime/ Tazobactam                    ZERBAXA\n",
       "Ceftriaxone                               ROCEPHIN\n",
       "Doxepin                                   SINEQUAN\n",
       "Mirtazapine                                REMERON\n",
       "Quetiapine                                SEROQUEL\n",
       "Ramelteon                                  ROZEREM\n",
       "Tozinameran              COVID-19 VACCINE (PFIZER)\n",
       "Zaleplon                                    SONATA"
      ]
     },
     "execution_count": 73,
     "metadata": {},
     "output_type": "execute_result"
    }
   ],
   "source": [
    "f = open(\"/Users/joshsteinbecker/jts_project/Data/Rx/DrugBrands.yml\").read()\n",
    "d = yaml.load(f,Loader=yaml.Loader)\n",
    "df = pd.DataFrame(pd.Series(d),columns=['brand'])\n",
    "df = df.sort_index()\n",
    "df\n"
   ]
  },
  {
   "cell_type": "code",
   "execution_count": 74,
   "metadata": {},
   "outputs": [
    {
     "data": {
      "text/html": [
       "<div>\n",
       "<style scoped>\n",
       "    .dataframe tbody tr th:only-of-type {\n",
       "        vertical-align: middle;\n",
       "    }\n",
       "\n",
       "    .dataframe tbody tr th {\n",
       "        vertical-align: top;\n",
       "    }\n",
       "\n",
       "    .dataframe thead th {\n",
       "        text-align: right;\n",
       "    }\n",
       "</style>\n",
       "<table border=\"1\" class=\"dataframe\">\n",
       "  <thead>\n",
       "    <tr style=\"text-align: right;\">\n",
       "      <th></th>\n",
       "      <th>brand</th>\n",
       "    </tr>\n",
       "  </thead>\n",
       "  <tbody>\n",
       "    <tr>\n",
       "      <th>Cefazolin</th>\n",
       "      <td>ANCEF</td>\n",
       "    </tr>\n",
       "    <tr>\n",
       "      <th>Ceftazidime</th>\n",
       "      <td>TAZICEF</td>\n",
       "    </tr>\n",
       "    <tr>\n",
       "      <th>Ceftazidime/ Tazobactam</th>\n",
       "      <td>ZERBAXA</td>\n",
       "    </tr>\n",
       "    <tr>\n",
       "      <th>Ceftriaxone</th>\n",
       "      <td>ROCEPHIN</td>\n",
       "    </tr>\n",
       "  </tbody>\n",
       "</table>\n",
       "</div>"
      ],
      "text/plain": [
       "                            brand\n",
       "Cefazolin                   ANCEF\n",
       "Ceftazidime               TAZICEF\n",
       "Ceftazidime/ Tazobactam   ZERBAXA\n",
       "Ceftriaxone              ROCEPHIN"
      ]
     },
     "execution_count": 74,
     "metadata": {},
     "output_type": "execute_result"
    }
   ],
   "source": [
    "df[df.index.str.contains('Cef')]"
   ]
  },
  {
   "cell_type": "code",
   "execution_count": 78,
   "metadata": {},
   "outputs": [
    {
     "name": "stdout",
     "output_type": "stream",
     "text": [
      "Adalimumab: HUMIRA\n",
      "Cefazolin: ANCEF\n",
      "Ceftazidime: TAZICEF\n",
      "Ceftazidime/ Tazobactam: ZERBAXA\n",
      "Ceftriaxone: ROCEPHIN\n",
      "Doxepin: SINEQUAN\n",
      "Mirtazapine: REMERON\n",
      "Quetiapine: SEROQUEL\n",
      "Ramelteon: ROZEREM\n",
      "Tozinameran: COVID-19 VACCINE (PFIZER)\n",
      "Zaleplon: SONATA\n",
      "\n"
     ]
    }
   ],
   "source": [
    "br = df.to_dict()['brand']\n",
    "print(yaml.dump(br))"
   ]
  },
  {
   "cell_type": "code",
   "execution_count": null,
   "metadata": {},
   "outputs": [],
   "source": []
  }
 ],
 "metadata": {
  "interpreter": {
   "hash": "31f2aee4e71d21fbe5cf8b01ff0e069b9275f58929596ceb00d14d90e3e16cd6"
  },
  "kernelspec": {
   "display_name": "Python 3.8.2 64-bit",
   "language": "python",
   "name": "python3"
  },
  "language_info": {
   "codemirror_mode": {
    "name": "ipython",
    "version": 3
   },
   "file_extension": ".py",
   "mimetype": "text/x-python",
   "name": "python",
   "nbconvert_exporter": "python",
   "pygments_lexer": "ipython3",
   "version": "3.8.2"
  },
  "orig_nbformat": 4
 },
 "nbformat": 4,
 "nbformat_minor": 2
}
