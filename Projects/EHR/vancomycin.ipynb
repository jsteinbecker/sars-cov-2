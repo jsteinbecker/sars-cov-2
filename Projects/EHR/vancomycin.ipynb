{
 "cells": [
  {
   "cell_type": "code",
   "execution_count": 27,
   "metadata": {},
   "outputs": [],
   "source": [
    "import sympy as sp\n",
    "import sympy.physics.units as u\n",
    "from IPython.display import Markdown, Image\n",
    "from sympy import exp as e\n",
    "import pandas as pd\n",
    "import matplotlib.pyplot as plt\n",
    "import seaborn as sns\n",
    "\n",
    "from IPython.core.interactiveshell import InteractiveShell\n",
    "InteractiveShell.ast_node_interactivity = \"all\"\n",
    "\n",
    "sp.printing.str.StrPrinter._default_settings['abbrev'] = True"
   ]
  },
  {
   "cell_type": "code",
   "execution_count": 28,
   "metadata": {},
   "outputs": [],
   "source": [
    "_AGE     = 27 #yrs\n",
    "_WGT     = 61 #kg\n",
    "_CRCL    = 109 \n",
    "_SEX     = \"M\"\n",
    "_TPRIME  = 2 #hrs\n",
    "_TAU     = 6 #hrs\n",
    "_DOSE    = 1250 #mg"
   ]
  },
  {
   "cell_type": "code",
   "execution_count": 29,
   "metadata": {},
   "outputs": [],
   "source": [
    "SYMBOLS = sp.symbols(\" V_d k_e D C_{max} C_{min} Cl_{Cr} t' \\\\tau W\")\n",
    "\n",
    "VD , KE , D , CMAX , CMIN, CRCL, TPRIME, TAU, W = SYMBOLS\n",
    "\n",
    "\n",
    "SYMBOL_DESCRIPTIONS = {\n",
    "   W :   \"Weight (kg)\",\n",
    "   VD :  \"Volume of Distibution\",\n",
    "   KE :   \"Elimination constant\",\n",
    "   D  :   \"Dose\",\n",
    "   CMAX : \"Peak Concentration\",\n",
    "   CMIN : \"Trough Concentration\",\n",
    "   CRCL : \"Creatinine Clearance\",\n",
    "   TPRIME:\"Infusion Time (hr)\",\n",
    "   TAU  : \"Interval (hr)\"\n",
    "}\n",
    "\n",
    "EQUATION_ELIM_CONST = sp.Eq( KE,# == \n",
    "                                    0.00083 * CRCL + 0.0044)\n",
    "EQUATION_CALC_CMAX = sp.Eq (CMAX ,\n",
    "                                    ((D / TPRIME)/ (VD*KE))*((1-e(-KE*TPRIME))/(1-e(-KE*TAU))))\n",
    "EQUATION_CALC_CMIN = sp.Eq (CMIN,# == \n",
    "                                      CMAX * sp.exp(-KE * (-TPRIME + TAU)))\n",
    "EQUATION_VOL_DISTR = sp.Eq (VD,# ==\n",
    "                                    0.7 * W)\n",
    "\n",
    "ALL_EQUATIONS = {\n",
    "         EQUATION_VOL_DISTR:\"VD Equation\",\n",
    "         EQUATION_ELIM_CONST: \"Ke Equation\" ,\n",
    "         EQUATION_CALC_CMAX :\"Cmax Equation\" ,\n",
    "         EQUATION_CALC_CMIN :\"Cmin Equation\" \n",
    "}\n",
    "\n",
    "def equationdesc (List):\n",
    "   head = \"|  Eq | Formula | Symbols |\\n|----|----|----|\\n\"\n",
    "   basestr = \"| \"\n",
    "   for eq,eq_name in List.items() :\n",
    "      basestr += eq._repr_latex_()\n",
    "      basestr += \" | \"\n",
    "      basestr += eq_name\n",
    "      basestr += \" | \"\n",
    "      str2 = \"\"\n",
    "      for var in list(eq.rhs.free_symbols) :\n",
    "         str2 += var._repr_latex_()\n",
    "         str2 += f\" `{SYMBOL_DESCRIPTIONS[var]}` --- \"\n",
    "      basestr += str2\n",
    "      basestr += \" |\\n\"\n",
    "   tablestr = head + basestr\n",
    "   return tablestr"
   ]
  },
  {
   "cell_type": "code",
   "execution_count": 30,
   "metadata": {},
   "outputs": [
    {
     "data": {
      "text/markdown": [
       "|  Eq | Formula | Symbols |\n",
       "|----|----|----|\n",
       "| $\\displaystyle V_{d} = 0.7 W$ | VD Equation | $\\displaystyle W$ `Weight (kg)` ---  |\n",
       "$\\displaystyle k_{e} = 0.00083 Cl_{Cr} + 0.0044$ | Ke Equation | $\\displaystyle Cl_{Cr}$ `Creatinine Clearance` ---  |\n",
       "$\\displaystyle C_{max} = \\frac{D \\left(1 - e^{- k_{e} t'}\\right)}{V_{d} k_{e} t' \\left(1 - e^{- \\tau k_{e}}\\right)}$ | Cmax Equation | $\\displaystyle k_{e}$ `Elimination constant` --- $\\displaystyle V_{d}$ `Volume of Distibution` --- $\\displaystyle t'$ `Infusion Time (hr)` --- $\\displaystyle \\tau$ `Interval (hr)` --- $\\displaystyle D$ `Dose` ---  |\n",
       "$\\displaystyle C_{min} = C_{max} e^{- k_{e} \\left(\\tau - t'\\right)}$ | Cmin Equation | $\\displaystyle t'$ `Infusion Time (hr)` --- $\\displaystyle C_{max}$ `Peak Concentration` --- $\\displaystyle k_{e}$ `Elimination constant` --- $\\displaystyle \\tau$ `Interval (hr)` ---  |\n"
      ],
      "text/plain": [
       "<IPython.core.display.Markdown object>"
      ]
     },
     "execution_count": 30,
     "metadata": {},
     "output_type": "execute_result"
    }
   ],
   "source": [
    "md = equationdesc(ALL_EQUATIONS)\n",
    "Markdown(md)"
   ]
  },
  {
   "cell_type": "code",
   "execution_count": 31,
   "metadata": {},
   "outputs": [
    {
     "data": {
      "text/markdown": [
       "| SYMBOL | REPR |\n",
       "|-------|-------|\n",
       "| $\\displaystyle W$ | Weight (kg) |\n",
       "| $\\displaystyle V_{d}$ | Volume of Distibution |\n",
       "| $\\displaystyle k_{e}$ | Elimination constant |\n",
       "| $\\displaystyle D$ | Dose |\n",
       "| $\\displaystyle C_{max}$ | Peak Concentration |\n",
       "| $\\displaystyle C_{min}$ | Trough Concentration |\n",
       "| $\\displaystyle Cl_{Cr}$ | Creatinine Clearance |\n",
       "| $\\displaystyle t'$ | Infusion Time (hr) |\n",
       "| $\\displaystyle \\tau$ | Interval (hr) |"
      ],
      "text/plain": [
       "<IPython.core.display.Markdown object>"
      ]
     },
     "metadata": {},
     "output_type": "display_data"
    }
   ],
   "source": [
    "def mdTableSymbols_from_dict (Dict):\n",
    "   view  = \"| SYMBOL | REPR |\\n\"\n",
    "   view += \"|-------|-------|\" \n",
    "   for f , d in Dict.items():\n",
    "      view += \"\\n| \" + f._repr_latex_() + \" | \" + str(d) + \" |\"\n",
    "   display(Markdown(view))\n",
    "   \n",
    "mdTableSymbols_from_dict (SYMBOL_DESCRIPTIONS)"
   ]
  },
  {
   "cell_type": "code",
   "execution_count": 32,
   "metadata": {},
   "outputs": [
    {
     "data": {
      "text/latex": [
       "$\\displaystyle C_{max} = \\frac{1.42857142857143 D \\left(1 - e^{- k_{e} t'}\\right)}{W k_{e} t' \\left(1 - e^{- \\tau k_{e}}\\right)}$"
      ],
      "text/plain": [
       "Eq(C_{max}, 1.42857142857143*D*(1 - exp(-k_e*t'))/(W*k_e*t'*(1 - exp(-\\tau*k_e))))"
      ]
     },
     "execution_count": 32,
     "metadata": {},
     "output_type": "execute_result"
    }
   ],
   "source": [
    "EQUATION_CALC_CMAX.subs({\n",
    "            VD : EQUATION_VOL_DISTR.rhs\n",
    "})"
   ]
  },
  {
   "cell_type": "code",
   "execution_count": 34,
   "metadata": {},
   "outputs": [
    {
     "data": {
      "text/latex": [
       "$\\displaystyle C_{max} = 61.4340093689223$"
      ],
      "text/plain": [
       "Eq(C_{max}, 61.4340093689223)"
      ]
     },
     "execution_count": 34,
     "metadata": {},
     "output_type": "execute_result"
    }
   ],
   "source": [
    "EQUATION_CALC_CMAX.subs({\n",
    "            TPRIME : _TPRIME,\n",
    "            TAU : _TAU,\n",
    "            D : _DOSE,\n",
    "            KE : EQUATION_ELIM_CONST.rhs.subs({CRCL:_CRCL}) ,\n",
    "            VD : EQUATION_VOL_DISTR.rhs.subs({W : _WGT})\n",
    "})"
   ]
  }
 ],
 "metadata": {
  "interpreter": {
   "hash": "31f2aee4e71d21fbe5cf8b01ff0e069b9275f58929596ceb00d14d90e3e16cd6"
  },
  "kernelspec": {
   "display_name": "Python 3.8.2 64-bit",
   "language": "python",
   "name": "python3"
  },
  "language_info": {
   "codemirror_mode": {
    "name": "ipython",
    "version": 3
   },
   "file_extension": ".py",
   "mimetype": "text/x-python",
   "name": "python",
   "nbconvert_exporter": "python",
   "pygments_lexer": "ipython3",
   "version": "3.8.2"
  },
  "orig_nbformat": 4
 },
 "nbformat": 4,
 "nbformat_minor": 2
}
