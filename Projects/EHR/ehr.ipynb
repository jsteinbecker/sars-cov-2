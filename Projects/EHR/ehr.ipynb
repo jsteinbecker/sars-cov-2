{
 "cells": [
  {
   "cell_type": "markdown",
   "metadata": {},
   "source": [
    "# EHR\n",
    "\n",
    "*Classes*\n",
    "   - Patient\n",
    "     - CrCl Calculation Display\n",
    "   - LabReference"
   ]
  },
  {
   "cell_type": "code",
   "execution_count": 60,
   "metadata": {},
   "outputs": [
    {
     "name": "stdout",
     "output_type": "stream",
     "text": [
      "Requirement already satisfied: sympy in /workspace/.pip-modules/lib/python3.8/site-packages (1.10.1)\n",
      "Requirement already satisfied: mpmath>=0.19 in /workspace/.pip-modules/lib/python3.8/site-packages (from sympy) (1.2.1)\n",
      "Requirement already satisfied: pandas in /workspace/.pip-modules/lib/python3.8/site-packages (1.4.2)\n",
      "Requirement already satisfied: pytz>=2020.1 in /workspace/.pip-modules/lib/python3.8/site-packages (from pandas) (2022.1)\n",
      "Requirement already satisfied: numpy>=1.18.5; platform_machine != \"aarch64\" and platform_machine != \"arm64\" and python_version < \"3.10\" in /workspace/.pip-modules/lib/python3.8/site-packages (from pandas) (1.22.3)\n",
      "Requirement already satisfied: python-dateutil>=2.8.1 in /workspace/.pip-modules/lib/python3.8/site-packages (from pandas) (2.8.2)\n",
      "Requirement already satisfied: six>=1.5 in /usr/lib/python3/dist-packages (from python-dateutil>=2.8.1->pandas) (1.14.0)\n",
      "Requirement already satisfied: tabulate in /workspace/.pip-modules/lib/python3.8/site-packages (0.8.9)\n",
      "Collecting Jinja2\n",
      "  Downloading Jinja2-3.1.2-py3-none-any.whl (133 kB)\n",
      "\u001b[K     |████████████████████████████████| 133 kB 6.0 MB/s eta 0:00:01\n",
      "\u001b[?25hCollecting MarkupSafe>=2.0\n",
      "  Downloading MarkupSafe-2.1.1-cp38-cp38-manylinux_2_17_x86_64.manylinux2014_x86_64.whl (25 kB)\n",
      "Installing collected packages: MarkupSafe, Jinja2\n",
      "Successfully installed Jinja2-3.1.2 MarkupSafe-2.1.1\n"
     ]
    }
   ],
   "source": [
    "!pip3 install sympy\n",
    "!pip3 install pandas\n",
    "!pip3 install tabulate\n",
    "!pip3 install Jinja2"
   ]
  },
  {
   "cell_type": "code",
   "execution_count": 7,
   "metadata": {},
   "outputs": [],
   "source": [
    "import sympy as sp\n",
    "import random\n",
    "from IPython.display import Markdown\n",
    "import pandas as pd"
   ]
  },
  {
   "cell_type": "markdown",
   "metadata": {},
   "source": [
    "## Patient (class)\n",
    "\n",
    "   - CrCl (function)"
   ]
  },
  {
   "cell_type": "code",
   "execution_count": 8,
   "metadata": {},
   "outputs": [],
   "source": [
    "class Patient:\n",
    "   def __init__(self, name, weight, age, SerCreat):\n",
    "      self.name = name\n",
    "      self.id = random.randint(1000000,10000000)\n",
    "      self.weight = weight\n",
    "      self.age = age\n",
    "      self.SerCreat = SerCreat\n",
    "      self.CrCl_value = CrCl = ((140-self.age) * self.weight) / (72 * self.SerCreat)\n",
    "   \n",
    "   def as_dict (self):\n",
    "      return {\"name\": self.name, \"id\": self.id, \"weight\":self.weight, \"age\":self.age, \"SerumCreatinine\": self.SerCreat, \"CrCl\": self.CrCl_value}\n",
    "   \n",
    "   @property\n",
    "   def CrCl (self):\n",
    "      name = self.name\n",
    "      age = self.age \n",
    "      weight = self.weight\n",
    "      scr = self.SerCreat\n",
    "      \n",
    "      a , w , Cr = sp.symbols(\"a_yr W_kg Cr_Ser\")\n",
    "      CrCl = ((140-a) * w) / (72 * Cr)\n",
    "      \n",
    "      md = Markdown(\"$\\large CrCl_{\" + name + \"} = \" + sp.Subs(CrCl,(a,w,Cr),(age,weight,scr))._repr_latex_()[1:]+ \"  $\\large = \\\\boxed {\" + str(round(CrCl.subs({a:age,w:weight,Cr:scr}),1)) + \"}$\")\n",
    "      \n",
    "      return md\n",
    "\n",
    "   def __repr__(self):\n",
    "      return f'Name: {self.name}\\n\\tID:{self.id}\\n\\t{self.weight}kg\\n\\t{self.age}yr.of age\\n\\n\\tCr(serum): {self.SerCreat}\\n\\t{self.CrCl_value}'"
   ]
  },
  {
   "cell_type": "code",
   "execution_count": 9,
   "metadata": {},
   "outputs": [
    {
     "data": {
      "text/markdown": [
       "$\\large CrCl_{Josh Steinbecker} = \\displaystyle \\left. \\frac{W_{kg} \\left(140 - a_{yr}\\right)}{72 Cr_{Ser}} \\right|_{\\substack{ a_{yr}=27\\\\ W_{kg}=68\\\\ Cr_{Ser}=0.888 }}$  $\\large = \\boxed {120.2}$"
      ],
      "text/plain": [
       "<IPython.core.display.Markdown object>"
      ]
     },
     "execution_count": 9,
     "metadata": {},
     "output_type": "execute_result"
    }
   ],
   "source": [
    "Patient(\"Josh Steinbecker\",68,27, 0.888).CrCl"
   ]
  },
  {
   "cell_type": "code",
   "execution_count": 13,
   "metadata": {},
   "outputs": [
    {
     "data": {
      "text/markdown": [
       "$\\large CrCl_{Bob} = \\displaystyle \\left. \\frac{W_{kg} \\left(140 - a_{yr}\\right)}{72 Cr_{Ser}} \\right|_{\\substack{ a_{yr}=59\\\\ W_{kg}=69\\\\ Cr_{Ser}=1.629 }}$  $\\large = \\boxed {47.7}$"
      ],
      "text/plain": [
       "<IPython.core.display.Markdown object>"
      ]
     },
     "execution_count": 13,
     "metadata": {},
     "output_type": "execute_result"
    }
   ],
   "source": [
    "Patient(\"Bob\", 69, 59, 1.629).CrCl"
   ]
  },
  {
   "cell_type": "markdown",
   "metadata": {},
   "source": [
    "## LabReference (class)\n",
    "```py\n",
    "   >>> refID\n",
    "   >>> Name\n",
    "   >>> Low\n",
    "   >>> High\n",
    "   >>> Unit *\n",
    "   >>> Class *\n",
    "```"
   ]
  },
  {
   "cell_type": "code",
   "execution_count": 11,
   "metadata": {},
   "outputs": [],
   "source": [
    "class LabReference:\n",
    "   refID:      str\n",
    "   name:       str\n",
    "   lowbound:   float\n",
    "   highbound:  float\n",
    "   unit:       str\n",
    "   def __init__(self,refID,name,low,high,Unit=None,Class=\"Chem\"):\n",
    "      self.refID = refID\n",
    "      self.Class = Class\n",
    "      self.name = name\n",
    "      self.lowbound = low\n",
    "      self.highbound = high\n",
    "      self.unit = Unit\n",
    "   def __repr__(self):\n",
    "      return f'[{self.name} ({self.lowbound} - {self.highbound})]'\n",
    "   def as_dict (self):\n",
    "      return {\"id\": self.refID, \"class\":self.Class,\"name\":self.name, \"low\": self.lowbound, \"high\": self.highbound, \"unit\":self.unit }"
   ]
  },
  {
   "cell_type": "code",
   "execution_count": 33,
   "metadata": {},
   "outputs": [],
   "source": [
    "NA = LabReference(\"$Na^+$\",\"Sodium (serum)\",136,142,\"mg/dL\")\n",
    "K = LabReference(\"$K^+$\",\"Potassium (serum)\",3.5,5.1,\"mg/dL\")\n",
    "CA = LabReference(\"$Ca^{2+}$\",\"Calcium (serum)\",8.1,10,\"mg/dL\")\n",
    "HCO3 = LabReference(\"$CO_2^-$\",\"Bicarbonate\",21,28,\"mg/dL\")\n",
    "GLU = LabReference(\"$GLU$\",\"Glucose\",90,100,\"mg/dL\")\n",
    "VANC_TROUGH = LabReference(\"$Vanco_{min}$\",\"Vancomycin (serum)(trough)\",11,20,\"mg/dL\",\"ABX\")\n",
    "PLT = LabReference(\"$PLT$\",\"Platelet\",150000,400000,\"/mL\",\"Hemo\")\n",
    "\n",
    "ALLLABS = [NA,K,CA,HCO3,VANC_TROUGH,GLU,PLT]"
   ]
  },
  {
   "cell_type": "code",
   "execution_count": 56,
   "metadata": {},
   "outputs": [
    {
     "data": {
      "text/markdown": [
       "### ***LAB REFERENCE TABLE***"
      ],
      "text/plain": [
       "<IPython.core.display.Markdown object>"
      ]
     },
     "metadata": {},
     "output_type": "display_data"
    },
    {
     "data": {
      "text/html": [
       "<div>\n",
       "<style scoped>\n",
       "    .dataframe tbody tr th:only-of-type {\n",
       "        vertical-align: middle;\n",
       "    }\n",
       "\n",
       "    .dataframe tbody tr th {\n",
       "        vertical-align: top;\n",
       "    }\n",
       "\n",
       "    .dataframe thead th {\n",
       "        text-align: right;\n",
       "    }\n",
       "</style>\n",
       "<table border=\"1\" class=\"dataframe\">\n",
       "  <thead>\n",
       "    <tr style=\"text-align: right;\">\n",
       "      <th></th>\n",
       "      <th></th>\n",
       "      <th>name</th>\n",
       "      <th>low</th>\n",
       "      <th>high</th>\n",
       "      <th>unit</th>\n",
       "    </tr>\n",
       "    <tr>\n",
       "      <th>class</th>\n",
       "      <th>id</th>\n",
       "      <th></th>\n",
       "      <th></th>\n",
       "      <th></th>\n",
       "      <th></th>\n",
       "    </tr>\n",
       "  </thead>\n",
       "  <tbody>\n",
       "    <tr>\n",
       "      <th>ABX</th>\n",
       "      <th>$Vanco_{min}$</th>\n",
       "      <td>Vancomycin (serum)(trough)</td>\n",
       "      <td>11.0</td>\n",
       "      <td>20.0</td>\n",
       "      <td>mg/dL</td>\n",
       "    </tr>\n",
       "    <tr>\n",
       "      <th rowspan=\"5\" valign=\"top\">Chem</th>\n",
       "      <th>$CO_2^-$</th>\n",
       "      <td>Bicarbonate</td>\n",
       "      <td>21.0</td>\n",
       "      <td>28.0</td>\n",
       "      <td>mg/dL</td>\n",
       "    </tr>\n",
       "    <tr>\n",
       "      <th>$Ca^{2+}$</th>\n",
       "      <td>Calcium (serum)</td>\n",
       "      <td>8.1</td>\n",
       "      <td>10.0</td>\n",
       "      <td>mg/dL</td>\n",
       "    </tr>\n",
       "    <tr>\n",
       "      <th>$GLU$</th>\n",
       "      <td>Glucose</td>\n",
       "      <td>90.0</td>\n",
       "      <td>100.0</td>\n",
       "      <td>mg/dL</td>\n",
       "    </tr>\n",
       "    <tr>\n",
       "      <th>$K^+$</th>\n",
       "      <td>Potassium (serum)</td>\n",
       "      <td>3.5</td>\n",
       "      <td>5.1</td>\n",
       "      <td>mg/dL</td>\n",
       "    </tr>\n",
       "    <tr>\n",
       "      <th>$Na^+$</th>\n",
       "      <td>Sodium (serum)</td>\n",
       "      <td>136.0</td>\n",
       "      <td>142.0</td>\n",
       "      <td>mg/dL</td>\n",
       "    </tr>\n",
       "    <tr>\n",
       "      <th>Hemo</th>\n",
       "      <th>$PLT$</th>\n",
       "      <td>Platelet</td>\n",
       "      <td>150000.0</td>\n",
       "      <td>400000.0</td>\n",
       "      <td>/mL</td>\n",
       "    </tr>\n",
       "  </tbody>\n",
       "</table>\n",
       "</div>"
      ],
      "text/plain": [
       "                                           name       low      high   unit\n",
       "class id                                                                  \n",
       "ABX   $Vanco_{min}$  Vancomycin (serum)(trough)      11.0      20.0  mg/dL\n",
       "Chem  $CO_2^-$                      Bicarbonate      21.0      28.0  mg/dL\n",
       "      $Ca^{2+}$                 Calcium (serum)       8.1      10.0  mg/dL\n",
       "      $GLU$                             Glucose      90.0     100.0  mg/dL\n",
       "      $K^+$                   Potassium (serum)       3.5       5.1  mg/dL\n",
       "      $Na^+$                     Sodium (serum)     136.0     142.0  mg/dL\n",
       "Hemo  $PLT$                            Platelet  150000.0  400000.0    /mL"
      ]
     },
     "metadata": {},
     "output_type": "display_data"
    }
   ],
   "source": [
    "display(Markdown(\"### ***LAB REFERENCE TABLE***\"))\n",
    "df = pd.DataFrame([x.as_dict() for x in ALLLABS])\n",
    "df = df.set_index([\"class\",\"id\"]).sort_index()\n",
    "display(df)"
   ]
  },
  {
   "cell_type": "code",
   "execution_count": 57,
   "metadata": {},
   "outputs": [
    {
     "data": {
      "text/markdown": [
       "### ***LAB REFERENCE TABLE***"
      ],
      "text/plain": [
       "<IPython.core.display.Markdown object>"
      ]
     },
     "metadata": {},
     "output_type": "display_data"
    },
    {
     "data": {
      "text/markdown": [
       "|                          | name                       |      low |     high | unit   |\n",
       "|:-------------------------|:---------------------------|---------:|---------:|:-------|\n",
       "| ('ABX', '$Vanco_{min}$') | Vancomycin (serum)(trough) |     11   |     20   | mg/dL  |\n",
       "| ('Chem', '$CO_2^-$')     | Bicarbonate                |     21   |     28   | mg/dL  |\n",
       "| ('Chem', '$Ca^{2+}$')    | Calcium (serum)            |      8.1 |     10   | mg/dL  |\n",
       "| ('Chem', '$GLU$')        | Glucose                    |     90   |    100   | mg/dL  |\n",
       "| ('Chem', '$K^+$')        | Potassium (serum)          |      3.5 |      5.1 | mg/dL  |\n",
       "| ('Chem', '$Na^+$')       | Sodium (serum)             |    136   |    142   | mg/dL  |\n",
       "| ('Hemo', '$PLT$')        | Platelet                   | 150000   | 400000   | /mL    |"
      ],
      "text/plain": [
       "<IPython.core.display.Markdown object>"
      ]
     },
     "metadata": {},
     "output_type": "display_data"
    }
   ],
   "source": [
    "mdtab = lambda df: display(Markdown (\"### ***LAB REFERENCE TABLE***\"), Markdown(df.to_markdown()))\n",
    "mdtab(df)"
   ]
  },
  {
   "cell_type": "code",
   "execution_count": 54,
   "metadata": {},
   "outputs": [
    {
     "data": {
      "text/html": [
       "<div>\n",
       "<style scoped>\n",
       "    .dataframe tbody tr th:only-of-type {\n",
       "        vertical-align: middle;\n",
       "    }\n",
       "\n",
       "    .dataframe tbody tr th {\n",
       "        vertical-align: top;\n",
       "    }\n",
       "\n",
       "    .dataframe thead th {\n",
       "        text-align: right;\n",
       "    }\n",
       "</style>\n",
       "<table border=\"1\" class=\"dataframe\">\n",
       "  <thead>\n",
       "    <tr style=\"text-align: right;\">\n",
       "      <th></th>\n",
       "      <th>id</th>\n",
       "      <th>class</th>\n",
       "      <th>name</th>\n",
       "      <th>low</th>\n",
       "      <th>high</th>\n",
       "      <th>unit</th>\n",
       "    </tr>\n",
       "  </thead>\n",
       "  <tbody>\n",
       "    <tr>\n",
       "      <th>6</th>\n",
       "      <td>$PLT$</td>\n",
       "      <td>Hemo</td>\n",
       "      <td>Platelet</td>\n",
       "      <td>150000.0</td>\n",
       "      <td>400000.0</td>\n",
       "      <td>/mL</td>\n",
       "    </tr>\n",
       "  </tbody>\n",
       "</table>\n",
       "</div>"
      ],
      "text/plain": [
       "      id class      name       low      high unit\n",
       "6  $PLT$  Hemo  Platelet  150000.0  400000.0  /mL"
      ]
     },
     "execution_count": 54,
     "metadata": {},
     "output_type": "execute_result"
    }
   ],
   "source": [
    "df[df.id == \"$PLT$\"]"
   ]
  },
  {
   "cell_type": "code",
   "execution_count": 64,
   "metadata": {},
   "outputs": [
    {
     "data": {
      "text/html": [
       "<style type=\"text/css\">\n",
       "</style>\n",
       "<table id=\"T_3bf0a\">\n",
       "  <thead>\n",
       "    <tr>\n",
       "      <th class=\"blank\" >&nbsp;</th>\n",
       "      <th class=\"blank level0\" >&nbsp;</th>\n",
       "      <th id=\"T_3bf0a_level0_col0\" class=\"col_heading level0 col0\" >name</th>\n",
       "      <th id=\"T_3bf0a_level0_col1\" class=\"col_heading level0 col1\" >low</th>\n",
       "      <th id=\"T_3bf0a_level0_col2\" class=\"col_heading level0 col2\" >high</th>\n",
       "      <th id=\"T_3bf0a_level0_col3\" class=\"col_heading level0 col3\" >unit</th>\n",
       "    </tr>\n",
       "    <tr>\n",
       "      <th class=\"index_name level0\" >class</th>\n",
       "      <th class=\"index_name level1\" >id</th>\n",
       "      <th class=\"blank col0\" >&nbsp;</th>\n",
       "      <th class=\"blank col1\" >&nbsp;</th>\n",
       "      <th class=\"blank col2\" >&nbsp;</th>\n",
       "      <th class=\"blank col3\" >&nbsp;</th>\n",
       "    </tr>\n",
       "  </thead>\n",
       "  <tbody>\n",
       "    <tr>\n",
       "      <th id=\"T_3bf0a_level0_row0\" class=\"row_heading level0 row0\" >ABX</th>\n",
       "      <th id=\"T_3bf0a_level1_row0\" class=\"row_heading level1 row0\" >$Vanco_{min}$</th>\n",
       "      <td id=\"T_3bf0a_row0_col0\" class=\"data row0 col0\" >Vancomycin (serum)(trough)</td>\n",
       "      <td id=\"T_3bf0a_row0_col1\" class=\"data row0 col1\" >11</td>\n",
       "      <td id=\"T_3bf0a_row0_col2\" class=\"data row0 col2\" >20</td>\n",
       "      <td id=\"T_3bf0a_row0_col3\" class=\"data row0 col3\" >mg/dL</td>\n",
       "    </tr>\n",
       "    <tr>\n",
       "      <th id=\"T_3bf0a_level0_row1\" class=\"row_heading level0 row1\" rowspan=\"5\">Chem</th>\n",
       "      <th id=\"T_3bf0a_level1_row1\" class=\"row_heading level1 row1\" >$CO_2^-$</th>\n",
       "      <td id=\"T_3bf0a_row1_col0\" class=\"data row1 col0\" >Bicarbonate</td>\n",
       "      <td id=\"T_3bf0a_row1_col1\" class=\"data row1 col1\" >21</td>\n",
       "      <td id=\"T_3bf0a_row1_col2\" class=\"data row1 col2\" >28</td>\n",
       "      <td id=\"T_3bf0a_row1_col3\" class=\"data row1 col3\" >mg/dL</td>\n",
       "    </tr>\n",
       "    <tr>\n",
       "      <th id=\"T_3bf0a_level1_row2\" class=\"row_heading level1 row2\" >$Ca^{2+}$</th>\n",
       "      <td id=\"T_3bf0a_row2_col0\" class=\"data row2 col0\" >Calcium (serum)</td>\n",
       "      <td id=\"T_3bf0a_row2_col1\" class=\"data row2 col1\" >8.1</td>\n",
       "      <td id=\"T_3bf0a_row2_col2\" class=\"data row2 col2\" >10</td>\n",
       "      <td id=\"T_3bf0a_row2_col3\" class=\"data row2 col3\" >mg/dL</td>\n",
       "    </tr>\n",
       "    <tr>\n",
       "      <th id=\"T_3bf0a_level1_row3\" class=\"row_heading level1 row3\" >$GLU$</th>\n",
       "      <td id=\"T_3bf0a_row3_col0\" class=\"data row3 col0\" >Glucose</td>\n",
       "      <td id=\"T_3bf0a_row3_col1\" class=\"data row3 col1\" >90</td>\n",
       "      <td id=\"T_3bf0a_row3_col2\" class=\"data row3 col2\" >100</td>\n",
       "      <td id=\"T_3bf0a_row3_col3\" class=\"data row3 col3\" >mg/dL</td>\n",
       "    </tr>\n",
       "    <tr>\n",
       "      <th id=\"T_3bf0a_level1_row4\" class=\"row_heading level1 row4\" >$K^+$</th>\n",
       "      <td id=\"T_3bf0a_row4_col0\" class=\"data row4 col0\" >Potassium (serum)</td>\n",
       "      <td id=\"T_3bf0a_row4_col1\" class=\"data row4 col1\" >3.5</td>\n",
       "      <td id=\"T_3bf0a_row4_col2\" class=\"data row4 col2\" >5.1</td>\n",
       "      <td id=\"T_3bf0a_row4_col3\" class=\"data row4 col3\" >mg/dL</td>\n",
       "    </tr>\n",
       "    <tr>\n",
       "      <th id=\"T_3bf0a_level1_row5\" class=\"row_heading level1 row5\" >$Na^+$</th>\n",
       "      <td id=\"T_3bf0a_row5_col0\" class=\"data row5 col0\" >Sodium (serum)</td>\n",
       "      <td id=\"T_3bf0a_row5_col1\" class=\"data row5 col1\" >136</td>\n",
       "      <td id=\"T_3bf0a_row5_col2\" class=\"data row5 col2\" >142</td>\n",
       "      <td id=\"T_3bf0a_row5_col3\" class=\"data row5 col3\" >mg/dL</td>\n",
       "    </tr>\n",
       "    <tr>\n",
       "      <th id=\"T_3bf0a_level0_row6\" class=\"row_heading level0 row6\" >Hemo</th>\n",
       "      <th id=\"T_3bf0a_level1_row6\" class=\"row_heading level1 row6\" >$PLT$</th>\n",
       "      <td id=\"T_3bf0a_row6_col0\" class=\"data row6 col0\" >Platelet</td>\n",
       "      <td id=\"T_3bf0a_row6_col1\" class=\"data row6 col1\" >150,000</td>\n",
       "      <td id=\"T_3bf0a_row6_col2\" class=\"data row6 col2\" >400,000</td>\n",
       "      <td id=\"T_3bf0a_row6_col3\" class=\"data row6 col3\" >/mL</td>\n",
       "    </tr>\n",
       "  </tbody>\n",
       "</table>\n"
      ],
      "text/plain": [
       "<pandas.io.formats.style.Styler at 0x7ff375a57c10>"
      ]
     },
     "execution_count": 64,
     "metadata": {},
     "output_type": "execute_result"
    }
   ],
   "source": [
    "df.style.format({\"low\":\"{:,g}\",\"high\":\"{:,g}\"})"
   ]
  },
  {
   "cell_type": "code",
   "execution_count": null,
   "metadata": {},
   "outputs": [],
   "source": []
  }
 ],
 "metadata": {
  "interpreter": {
   "hash": "31f2aee4e71d21fbe5cf8b01ff0e069b9275f58929596ceb00d14d90e3e16cd6"
  },
  "kernelspec": {
   "display_name": "Python 3.8.2 64-bit",
   "language": "python",
   "name": "python3"
  },
  "language_info": {
   "codemirror_mode": {
    "name": "ipython",
    "version": 3
   },
   "file_extension": ".py",
   "mimetype": "text/x-python",
   "name": "python",
   "nbconvert_exporter": "python",
   "pygments_lexer": "ipython3",
   "version": "3.8.10"
  },
  "orig_nbformat": 4
 },
 "nbformat": 4,
 "nbformat_minor": 2
}
