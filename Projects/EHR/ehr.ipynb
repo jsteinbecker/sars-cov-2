{
 "cells": [
  {
   "cell_type": "markdown",
   "metadata": {},
   "source": [
    "# EHR\n",
    "\n",
    "*Classes*\n",
    "   - Patient\n",
    "     - CrCl Calculation Display\n",
    "   - LabReference"
   ]
  },
  {
   "cell_type": "code",
   "execution_count": 1,
   "metadata": {},
   "outputs": [],
   "source": [
    "import sympy as sp\n",
    "import random\n",
    "from IPython.display import Markdown\n",
    "import pandas as pd"
   ]
  },
  {
   "cell_type": "markdown",
   "metadata": {},
   "source": [
    "## Patient (class)\n",
    "\n",
    "   - CrCl (function)"
   ]
  },
  {
   "cell_type": "code",
   "execution_count": 2,
   "metadata": {},
   "outputs": [
    {
     "name": "stdout",
     "output_type": "stream",
     "text": [
      "Overwriting PatientClass.py\n"
     ]
    }
   ],
   "source": [
    "%%writefile PatientClass.py\n",
    "import sympy as sp\n",
    "import random\n",
    "from IPython.display import Markdown\n",
    "import pandas as pd\n",
    "\n",
    "class Patient:\n",
    "   \"\"\"### Class: PATIENT\n",
    "   ----------------------------------\n",
    "   *INITS*\n",
    "   >>> name\n",
    "   >>> weight\n",
    "   >>> age\n",
    "   >>> SerCreat\n",
    "   \"\"\"\n",
    "   def __init__(self, name, weight, age, SerCreat, female:bool):\n",
    "      \"\"\"### Class: PATIENT\n",
    "      ***\n",
    "      \"\"\"\n",
    "      self.gendcode = 1\n",
    "      if female == True:\n",
    "         self.gendcode = 0.85\n",
    "      self.name =       name\n",
    "      self.id =         random.randint(1000000,10000000)\n",
    "      self.weight =     weight\n",
    "      self.age =        age\n",
    "      self.SerCreat =   SerCreat\n",
    "      self.CrCl = ((140-self.age) * self.weight) / (72 * self.SerCreat)\n",
    "   \n",
    "   def as_dict (self):\n",
    "      return {\n",
    "         \"name\":              self.name, \n",
    "         \"id\":                self.id, \n",
    "         \"weight\":            self.weight, \n",
    "         \"age\":               self.age, \n",
    "         \"SerumCreatinine\":   self.SerCreat, \n",
    "         \"CrCl\":              self.CrCl\n",
    "         }\n",
    "   \n",
    "   @property\n",
    "   def CrCl_show (self):\n",
    "      name =      self.name\n",
    "      age =       self.age \n",
    "      weight =    self.weight\n",
    "      scr =       self.SerCreat\n",
    "      \n",
    "      a , w , Cr = sp.symbols(\"a_yr W_kg Cr_Ser\")\n",
    "      CrCl = ((140-a) * w) / (72 * Cr)\n",
    "      \n",
    "      # Dependent Var = \n",
    "      md1 = \"$\\large CrCl_{\" + name + \"} = $\" \n",
    "      # View Input Subs\n",
    "      md2 = \"$ \" + sp.Subs(CrCl,(a,w,Cr),(age,weight,scr))._repr_latex_()[1:] + \"$\"\n",
    "      # Solution\n",
    "      md3 = \"$\\large = \\\\boxed {\" + str(round(CrCl.subs({a:age,w:weight,Cr:scr}),1)) + \"}$\"\n",
    "      \n",
    "      table = Markdown (f\"Solve for | Subs | Solution\\n----|----|----\\n{md1} | {md2} | {md3}\\n\")\n",
    "      \n",
    "      return table\n",
    "\n",
    "   def __repr__(self):\n",
    "      return f'Name: {self.name}\\n\\tID:{self.id}\\n\\t{self.weight}kg\\n\\t{self.age}yr.of age\\n\\n\\tCr(serum): {self.SerCreat}\\n\\t{self.CrCl}'"
   ]
  },
  {
   "cell_type": "code",
   "execution_count": 3,
   "metadata": {},
   "outputs": [],
   "source": [
    "import PatientClass\n",
    "from PatientClass import Patient"
   ]
  },
  {
   "cell_type": "code",
   "execution_count": 4,
   "metadata": {},
   "outputs": [
    {
     "data": {
      "text/markdown": [
       "Solve for | Subs | Solution\n",
       "----|----|----\n",
       "$\\large CrCl_{Josh Steinbecker} = $ | $ \\displaystyle \\left. \\frac{W_{kg} \\left(140 - a_{yr}\\right)}{72 Cr_{Ser}} \\right|_{\\substack{ a_{yr}=27\\\\ W_{kg}=68\\\\ Cr_{Ser}=0.988 }}$$ | $\\large = \\boxed {108.000000000000}$\n"
      ],
      "text/plain": [
       "<IPython.core.display.Markdown object>"
      ]
     },
     "execution_count": 4,
     "metadata": {},
     "output_type": "execute_result"
    }
   ],
   "source": [
    "Josh = Patient(\"Josh Steinbecker\",68,27, 0.988,False)\n",
    "Josh.CrCl\n",
    "Josh.CrCl_show"
   ]
  },
  {
   "cell_type": "code",
   "execution_count": 5,
   "metadata": {},
   "outputs": [
    {
     "data": {
      "text/markdown": [
       "Solve for | Subs | Solution\n",
       "----|----|----\n",
       "$\\large CrCl_{Bob} = $ | $ \\displaystyle \\left. \\frac{W_{kg} \\left(140 - a_{yr}\\right)}{72 Cr_{Ser}} \\right|_{\\substack{ a_{yr}=59\\\\ W_{kg}=79\\\\ Cr_{Ser}=1.629 }}$$ | $\\large = \\boxed {54.6}$\n"
      ],
      "text/plain": [
       "<IPython.core.display.Markdown object>"
      ]
     },
     "execution_count": 5,
     "metadata": {},
     "output_type": "execute_result"
    }
   ],
   "source": [
    "Patient(\"Bob\", 79, 59, 1.629,False).CrCl_show\n",
    "\n"
   ]
  },
  {
   "cell_type": "markdown",
   "metadata": {},
   "source": [
    "## LabReference (class)\n",
    "```py\n",
    "   >>> refID\n",
    "   >>> Name\n",
    "   >>> Low\n",
    "   >>> High\n",
    "   >>> Unit *\n",
    "   >>> Class *\n",
    "```"
   ]
  },
  {
   "cell_type": "code",
   "execution_count": 21,
   "metadata": {},
   "outputs": [],
   "source": [
    "class LabReference:\n",
    "   \"\"\"\n",
    "   ### LAB REFERENCE\n",
    "   #### Inits :\n",
    "   >>> refID\n",
    "   >>> Name\n",
    "   >>> Low\n",
    "   >>> High\n",
    "   ------------\n",
    "   >>> Unit*      default= None\n",
    "   >>> Class*     default= \"Chem\"\n",
    "   \"\"\"\n",
    "   refID:      str\n",
    "   name:       str\n",
    "   lowbound:   float\n",
    "   highbound:  float\n",
    "   unit:       str\n",
    "   \n",
    "   def __init__(self,refID,name,low,high,Unit=None,Class=\"Chem\"):\n",
    "      self.refID = refID\n",
    "      self.Class = Class\n",
    "      self.name = name\n",
    "      self.lowbound = low\n",
    "      self.highbound = high\n",
    "      self.unit = Unit\n",
    "      \n",
    "   @property\n",
    "   def therIndex (self):\n",
    "      avgVal = round((self.lowbound + self.highbound) / 2,1)\n",
    "      dev = avgVal - self.lowbound\n",
    "      ti = dev / avgVal\n",
    "      return f'{ti:.0%}'\n",
    "   def __repr__(self):\n",
    "      return f'[{self.name} ({self.lowbound} - {self.highbound})]'\n",
    "   def as_dict (self):\n",
    "      return {\"id\": self.refID, \"class\":self.Class,\"name\":self.name, \"low\": self.lowbound, \"high\": self.highbound, \"unit\":self.unit, \"therIndex\":self.therIndex}"
   ]
  },
  {
   "cell_type": "code",
   "execution_count": 29,
   "metadata": {},
   "outputs": [
    {
     "data": {
      "text/plain": [
       "[[Sodium(serum) (136 - 142)],\n",
       " [Potassium(serum) (3.5 - 5.1)],\n",
       " [Calcium(serum) (8.1 - 10)],\n",
       " [Bicarbonate (21 - 28)],\n",
       " [Vancomycin  (serum/trough) (11 - 20)],\n",
       " [Glucose (90 - 100)],\n",
       " [Platelet (150000 - 400000)]]"
      ]
     },
     "execution_count": 29,
     "metadata": {},
     "output_type": "execute_result"
    }
   ],
   "source": [
    "NA = LabReference          (\"NA\",\"Sodium(serum)\",136,142,\"mg/dL\")\n",
    "K = LabReference           (\"K\",\"Potassium(serum)\",3.5,5.1,\"mg/dL\")\n",
    "CA = LabReference          (\"CA\",\"Calcium(serum)\",8.1,10,\"mg/dL\")\n",
    "HCO3 = LabReference        (\"HCO3\",\"Bicarbonate\",21,28,\"mg/dL\")\n",
    "GLU = LabReference         (\"GLU\",\"Glucose\",90,100,\"mg/dL\")\n",
    "VANC_TROUGH = LabReference (\"VANCO[TROUGH]\",\"Vancomycin  (serum/trough)\",11,20,\"mg/dL\",\"ABX\")\n",
    "PLT = LabReference         (\"PLT\",\"Platelet\",150000,400000,\"/mL\",\"Hemo\")\n",
    "\n",
    "ALLLABS = [NA,K,CA,HCO3,VANC_TROUGH,GLU,PLT]\n",
    "ALLLABS\n"
   ]
  },
  {
   "cell_type": "code",
   "execution_count": 30,
   "metadata": {},
   "outputs": [
    {
     "data": {
      "text/html": [
       "<div>\n",
       "<style scoped>\n",
       "    .dataframe tbody tr th:only-of-type {\n",
       "        vertical-align: middle;\n",
       "    }\n",
       "\n",
       "    .dataframe tbody tr th {\n",
       "        vertical-align: top;\n",
       "    }\n",
       "\n",
       "    .dataframe thead th {\n",
       "        text-align: right;\n",
       "    }\n",
       "</style>\n",
       "<table border=\"1\" class=\"dataframe\">\n",
       "  <thead>\n",
       "    <tr style=\"text-align: right;\">\n",
       "      <th></th>\n",
       "      <th></th>\n",
       "      <th>name</th>\n",
       "      <th>low</th>\n",
       "      <th>high</th>\n",
       "      <th>unit</th>\n",
       "      <th>therIndex</th>\n",
       "    </tr>\n",
       "    <tr>\n",
       "      <th>class</th>\n",
       "      <th>id</th>\n",
       "      <th></th>\n",
       "      <th></th>\n",
       "      <th></th>\n",
       "      <th></th>\n",
       "      <th></th>\n",
       "    </tr>\n",
       "  </thead>\n",
       "  <tbody>\n",
       "    <tr>\n",
       "      <th>ABX</th>\n",
       "      <th>VANCO[TROUGH]</th>\n",
       "      <td>Vancomycin  (serum/trough)</td>\n",
       "      <td>11.0</td>\n",
       "      <td>20.0</td>\n",
       "      <td>mg/dL</td>\n",
       "      <td>29%</td>\n",
       "    </tr>\n",
       "    <tr>\n",
       "      <th rowspan=\"5\" valign=\"top\">Chem</th>\n",
       "      <th>CA</th>\n",
       "      <td>Calcium(serum)</td>\n",
       "      <td>8.1</td>\n",
       "      <td>10.0</td>\n",
       "      <td>mg/dL</td>\n",
       "      <td>11%</td>\n",
       "    </tr>\n",
       "    <tr>\n",
       "      <th>GLU</th>\n",
       "      <td>Glucose</td>\n",
       "      <td>90.0</td>\n",
       "      <td>100.0</td>\n",
       "      <td>mg/dL</td>\n",
       "      <td>5%</td>\n",
       "    </tr>\n",
       "    <tr>\n",
       "      <th>HCO3</th>\n",
       "      <td>Bicarbonate</td>\n",
       "      <td>21.0</td>\n",
       "      <td>28.0</td>\n",
       "      <td>mg/dL</td>\n",
       "      <td>14%</td>\n",
       "    </tr>\n",
       "    <tr>\n",
       "      <th>K</th>\n",
       "      <td>Potassium(serum)</td>\n",
       "      <td>3.5</td>\n",
       "      <td>5.1</td>\n",
       "      <td>mg/dL</td>\n",
       "      <td>19%</td>\n",
       "    </tr>\n",
       "    <tr>\n",
       "      <th>NA</th>\n",
       "      <td>Sodium(serum)</td>\n",
       "      <td>136.0</td>\n",
       "      <td>142.0</td>\n",
       "      <td>mg/dL</td>\n",
       "      <td>2%</td>\n",
       "    </tr>\n",
       "    <tr>\n",
       "      <th>Hemo</th>\n",
       "      <th>PLT</th>\n",
       "      <td>Platelet</td>\n",
       "      <td>150000.0</td>\n",
       "      <td>400000.0</td>\n",
       "      <td>/mL</td>\n",
       "      <td>45%</td>\n",
       "    </tr>\n",
       "  </tbody>\n",
       "</table>\n",
       "</div>"
      ],
      "text/plain": [
       "                                           name       low      high   unit  \\\n",
       "class id                                                                     \n",
       "ABX   VANCO[TROUGH]  Vancomycin  (serum/trough)      11.0      20.0  mg/dL   \n",
       "Chem  CA                         Calcium(serum)       8.1      10.0  mg/dL   \n",
       "      GLU                               Glucose      90.0     100.0  mg/dL   \n",
       "      HCO3                          Bicarbonate      21.0      28.0  mg/dL   \n",
       "      K                        Potassium(serum)       3.5       5.1  mg/dL   \n",
       "      NA                          Sodium(serum)     136.0     142.0  mg/dL   \n",
       "Hemo  PLT                              Platelet  150000.0  400000.0    /mL   \n",
       "\n",
       "                    therIndex  \n",
       "class id                       \n",
       "ABX   VANCO[TROUGH]       29%  \n",
       "Chem  CA                  11%  \n",
       "      GLU                  5%  \n",
       "      HCO3                14%  \n",
       "      K                   19%  \n",
       "      NA                   2%  \n",
       "Hemo  PLT                 45%  "
      ]
     },
     "execution_count": 30,
     "metadata": {},
     "output_type": "execute_result"
    }
   ],
   "source": [
    "\n",
    "df = pd.DataFrame([x.as_dict() for x in ALLLABS])  # Create Table\n",
    "df.set_index([\"class\",\"id\"]).sort_index()          # Multindex by 1:Class then 2:ID"
   ]
  },
  {
   "cell_type": "code",
   "execution_count": null,
   "metadata": {},
   "outputs": [],
   "source": []
  }
 ],
 "metadata": {
  "interpreter": {
   "hash": "31f2aee4e71d21fbe5cf8b01ff0e069b9275f58929596ceb00d14d90e3e16cd6"
  },
  "kernelspec": {
   "display_name": "Python 3.8.2 64-bit",
   "language": "python",
   "name": "python3"
  },
  "language_info": {
   "codemirror_mode": {
    "name": "ipython",
    "version": 3
   },
   "file_extension": ".py",
   "mimetype": "text/x-python",
   "name": "python",
   "nbconvert_exporter": "python",
   "pygments_lexer": "ipython3",
   "version": "3.8.2"
  },
  "orig_nbformat": 4
 },
 "nbformat": 4,
 "nbformat_minor": 2
}
