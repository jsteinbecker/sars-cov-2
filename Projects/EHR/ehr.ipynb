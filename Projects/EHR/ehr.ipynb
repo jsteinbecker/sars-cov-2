{
 "cells": [
  {
   "cell_type": "code",
   "execution_count": 12,
   "metadata": {},
   "outputs": [],
   "source": [
    "import sympy as sp\n",
    "import random"
   ]
  },
  {
   "cell_type": "code",
   "execution_count": 11,
   "metadata": {},
   "outputs": [
    {
     "data": {
      "text/latex": [
       "$\\displaystyle 130.641879393267$"
      ],
      "text/plain": [
       "130.641879393267"
      ]
     },
     "execution_count": 11,
     "metadata": {},
     "output_type": "execute_result"
    }
   ],
   "source": [
    "a , w , Cr = sp.symbols(\"a_yr W_kg Cr_Ser\")\n",
    "CrCl = ((140-a) * w) / (72 * Cr)\n",
    "CrCl.subs({a:27,w:165/2.2,Cr:0.901})"
   ]
  },
  {
   "cell_type": "code",
   "execution_count": 25,
   "metadata": {},
   "outputs": [],
   "source": [
    "ALL = []"
   ]
  },
  {
   "cell_type": "code",
   "execution_count": 32,
   "metadata": {},
   "outputs": [],
   "source": [
    "class Patient:\n",
    "   def __init__(self, name, SerCreat):\n",
    "      self.name = name\n",
    "      self.id = random.randint(1000000,10000000)\n",
    "      self.weight = random.randint(40,200)\n",
    "      self.age = random.randint(19,100)\n",
    "      self.SerCreat = SerCreat\n",
    "      \n",
    "   @property\n",
    "   def CrCl (self):\n",
    "      return CrCl.subs({a:self.age,  w:self.weight,    Cr:self.SerCreat})\n",
    "\n",
    "   def __repr__(self):\n",
    "      return f'Name: {self.name}\\n\\tID:{self.id}\\n\\t{self.weight}kg\\n\\t{self.age}yr.of age\\n\\n\\tCr(serum): {self.SerCreat}\\n\\t{self.CrCl()}'"
   ]
  },
  {
   "cell_type": "code",
   "execution_count": 33,
   "metadata": {},
   "outputs": [
    {
     "ename": "TypeError",
     "evalue": "'Float' object is not callable",
     "output_type": "error",
     "traceback": [
      "\u001b[0;31m---------------------------------------------------------------------------\u001b[0m",
      "\u001b[0;31mTypeError\u001b[0m                                 Traceback (most recent call last)",
      "File \u001b[0;32m~/Library/Python/3.8/lib/python/site-packages/IPython/core/formatters.py:707\u001b[0m, in \u001b[0;36mPlainTextFormatter.__call__\u001b[0;34m(self, obj)\u001b[0m\n\u001b[1;32m    <a href='file:///Users/joshsteinbecker/Library/Python/3.8/lib/python/site-packages/IPython/core/formatters.py?line=699'>700</a>\u001b[0m stream \u001b[39m=\u001b[39m StringIO()\n\u001b[1;32m    <a href='file:///Users/joshsteinbecker/Library/Python/3.8/lib/python/site-packages/IPython/core/formatters.py?line=700'>701</a>\u001b[0m printer \u001b[39m=\u001b[39m pretty\u001b[39m.\u001b[39mRepresentationPrinter(stream, \u001b[39mself\u001b[39m\u001b[39m.\u001b[39mverbose,\n\u001b[1;32m    <a href='file:///Users/joshsteinbecker/Library/Python/3.8/lib/python/site-packages/IPython/core/formatters.py?line=701'>702</a>\u001b[0m     \u001b[39mself\u001b[39m\u001b[39m.\u001b[39mmax_width, \u001b[39mself\u001b[39m\u001b[39m.\u001b[39mnewline,\n\u001b[1;32m    <a href='file:///Users/joshsteinbecker/Library/Python/3.8/lib/python/site-packages/IPython/core/formatters.py?line=702'>703</a>\u001b[0m     max_seq_length\u001b[39m=\u001b[39m\u001b[39mself\u001b[39m\u001b[39m.\u001b[39mmax_seq_length,\n\u001b[1;32m    <a href='file:///Users/joshsteinbecker/Library/Python/3.8/lib/python/site-packages/IPython/core/formatters.py?line=703'>704</a>\u001b[0m     singleton_pprinters\u001b[39m=\u001b[39m\u001b[39mself\u001b[39m\u001b[39m.\u001b[39msingleton_printers,\n\u001b[1;32m    <a href='file:///Users/joshsteinbecker/Library/Python/3.8/lib/python/site-packages/IPython/core/formatters.py?line=704'>705</a>\u001b[0m     type_pprinters\u001b[39m=\u001b[39m\u001b[39mself\u001b[39m\u001b[39m.\u001b[39mtype_printers,\n\u001b[1;32m    <a href='file:///Users/joshsteinbecker/Library/Python/3.8/lib/python/site-packages/IPython/core/formatters.py?line=705'>706</a>\u001b[0m     deferred_pprinters\u001b[39m=\u001b[39m\u001b[39mself\u001b[39m\u001b[39m.\u001b[39mdeferred_printers)\n\u001b[0;32m--> <a href='file:///Users/joshsteinbecker/Library/Python/3.8/lib/python/site-packages/IPython/core/formatters.py?line=706'>707</a>\u001b[0m printer\u001b[39m.\u001b[39;49mpretty(obj)\n\u001b[1;32m    <a href='file:///Users/joshsteinbecker/Library/Python/3.8/lib/python/site-packages/IPython/core/formatters.py?line=707'>708</a>\u001b[0m printer\u001b[39m.\u001b[39mflush()\n\u001b[1;32m    <a href='file:///Users/joshsteinbecker/Library/Python/3.8/lib/python/site-packages/IPython/core/formatters.py?line=708'>709</a>\u001b[0m \u001b[39mreturn\u001b[39;00m stream\u001b[39m.\u001b[39mgetvalue()\n",
      "File \u001b[0;32m~/Library/Python/3.8/lib/python/site-packages/IPython/lib/pretty.py:393\u001b[0m, in \u001b[0;36mRepresentationPrinter.pretty\u001b[0;34m(self, obj)\u001b[0m\n\u001b[1;32m    <a href='file:///Users/joshsteinbecker/Library/Python/3.8/lib/python/site-packages/IPython/lib/pretty.py?line=389'>390</a>\u001b[0m \u001b[39mfor\u001b[39;00m \u001b[39mcls\u001b[39m \u001b[39min\u001b[39;00m _get_mro(obj_class):\n\u001b[1;32m    <a href='file:///Users/joshsteinbecker/Library/Python/3.8/lib/python/site-packages/IPython/lib/pretty.py?line=390'>391</a>\u001b[0m     \u001b[39mif\u001b[39;00m \u001b[39mcls\u001b[39m \u001b[39min\u001b[39;00m \u001b[39mself\u001b[39m\u001b[39m.\u001b[39mtype_pprinters:\n\u001b[1;32m    <a href='file:///Users/joshsteinbecker/Library/Python/3.8/lib/python/site-packages/IPython/lib/pretty.py?line=391'>392</a>\u001b[0m         \u001b[39m# printer registered in self.type_pprinters\u001b[39;00m\n\u001b[0;32m--> <a href='file:///Users/joshsteinbecker/Library/Python/3.8/lib/python/site-packages/IPython/lib/pretty.py?line=392'>393</a>\u001b[0m         \u001b[39mreturn\u001b[39;00m \u001b[39mself\u001b[39;49m\u001b[39m.\u001b[39;49mtype_pprinters[\u001b[39mcls\u001b[39;49m](obj, \u001b[39mself\u001b[39;49m, cycle)\n\u001b[1;32m    <a href='file:///Users/joshsteinbecker/Library/Python/3.8/lib/python/site-packages/IPython/lib/pretty.py?line=393'>394</a>\u001b[0m     \u001b[39melse\u001b[39;00m:\n\u001b[1;32m    <a href='file:///Users/joshsteinbecker/Library/Python/3.8/lib/python/site-packages/IPython/lib/pretty.py?line=394'>395</a>\u001b[0m         \u001b[39m# deferred printer\u001b[39;00m\n\u001b[1;32m    <a href='file:///Users/joshsteinbecker/Library/Python/3.8/lib/python/site-packages/IPython/lib/pretty.py?line=395'>396</a>\u001b[0m         printer \u001b[39m=\u001b[39m \u001b[39mself\u001b[39m\u001b[39m.\u001b[39m_in_deferred_types(\u001b[39mcls\u001b[39m)\n",
      "File \u001b[0;32m~/Library/Python/3.8/lib/python/site-packages/IPython/lib/pretty.py:640\u001b[0m, in \u001b[0;36m_seq_pprinter_factory.<locals>.inner\u001b[0;34m(obj, p, cycle)\u001b[0m\n\u001b[1;32m    <a href='file:///Users/joshsteinbecker/Library/Python/3.8/lib/python/site-packages/IPython/lib/pretty.py?line=637'>638</a>\u001b[0m         p\u001b[39m.\u001b[39mtext(\u001b[39m'\u001b[39m\u001b[39m,\u001b[39m\u001b[39m'\u001b[39m)\n\u001b[1;32m    <a href='file:///Users/joshsteinbecker/Library/Python/3.8/lib/python/site-packages/IPython/lib/pretty.py?line=638'>639</a>\u001b[0m         p\u001b[39m.\u001b[39mbreakable()\n\u001b[0;32m--> <a href='file:///Users/joshsteinbecker/Library/Python/3.8/lib/python/site-packages/IPython/lib/pretty.py?line=639'>640</a>\u001b[0m     p\u001b[39m.\u001b[39;49mpretty(x)\n\u001b[1;32m    <a href='file:///Users/joshsteinbecker/Library/Python/3.8/lib/python/site-packages/IPython/lib/pretty.py?line=640'>641</a>\u001b[0m \u001b[39mif\u001b[39;00m \u001b[39mlen\u001b[39m(obj) \u001b[39m==\u001b[39m \u001b[39m1\u001b[39m \u001b[39mand\u001b[39;00m \u001b[39misinstance\u001b[39m(obj, \u001b[39mtuple\u001b[39m):\n\u001b[1;32m    <a href='file:///Users/joshsteinbecker/Library/Python/3.8/lib/python/site-packages/IPython/lib/pretty.py?line=641'>642</a>\u001b[0m     \u001b[39m# Special case for 1-item tuples.\u001b[39;00m\n\u001b[1;32m    <a href='file:///Users/joshsteinbecker/Library/Python/3.8/lib/python/site-packages/IPython/lib/pretty.py?line=642'>643</a>\u001b[0m     p\u001b[39m.\u001b[39mtext(\u001b[39m'\u001b[39m\u001b[39m,\u001b[39m\u001b[39m'\u001b[39m)\n",
      "File \u001b[0;32m~/Library/Python/3.8/lib/python/site-packages/IPython/lib/pretty.py:410\u001b[0m, in \u001b[0;36mRepresentationPrinter.pretty\u001b[0;34m(self, obj)\u001b[0m\n\u001b[1;32m    <a href='file:///Users/joshsteinbecker/Library/Python/3.8/lib/python/site-packages/IPython/lib/pretty.py?line=406'>407</a>\u001b[0m                         \u001b[39mreturn\u001b[39;00m meth(obj, \u001b[39mself\u001b[39m, cycle)\n\u001b[1;32m    <a href='file:///Users/joshsteinbecker/Library/Python/3.8/lib/python/site-packages/IPython/lib/pretty.py?line=407'>408</a>\u001b[0m                 \u001b[39mif\u001b[39;00m \u001b[39mcls\u001b[39m \u001b[39mis\u001b[39;00m \u001b[39mnot\u001b[39;00m \u001b[39mobject\u001b[39m \\\n\u001b[1;32m    <a href='file:///Users/joshsteinbecker/Library/Python/3.8/lib/python/site-packages/IPython/lib/pretty.py?line=408'>409</a>\u001b[0m                         \u001b[39mand\u001b[39;00m callable(\u001b[39mcls\u001b[39m\u001b[39m.\u001b[39m\u001b[39m__dict__\u001b[39m\u001b[39m.\u001b[39mget(\u001b[39m'\u001b[39m\u001b[39m__repr__\u001b[39m\u001b[39m'\u001b[39m)):\n\u001b[0;32m--> <a href='file:///Users/joshsteinbecker/Library/Python/3.8/lib/python/site-packages/IPython/lib/pretty.py?line=409'>410</a>\u001b[0m                     \u001b[39mreturn\u001b[39;00m _repr_pprint(obj, \u001b[39mself\u001b[39;49m, cycle)\n\u001b[1;32m    <a href='file:///Users/joshsteinbecker/Library/Python/3.8/lib/python/site-packages/IPython/lib/pretty.py?line=411'>412</a>\u001b[0m     \u001b[39mreturn\u001b[39;00m _default_pprint(obj, \u001b[39mself\u001b[39m, cycle)\n\u001b[1;32m    <a href='file:///Users/joshsteinbecker/Library/Python/3.8/lib/python/site-packages/IPython/lib/pretty.py?line=412'>413</a>\u001b[0m \u001b[39mfinally\u001b[39;00m:\n",
      "File \u001b[0;32m~/Library/Python/3.8/lib/python/site-packages/IPython/lib/pretty.py:778\u001b[0m, in \u001b[0;36m_repr_pprint\u001b[0;34m(obj, p, cycle)\u001b[0m\n\u001b[1;32m    <a href='file:///Users/joshsteinbecker/Library/Python/3.8/lib/python/site-packages/IPython/lib/pretty.py?line=775'>776</a>\u001b[0m \u001b[39m\"\"\"A pprint that just redirects to the normal repr function.\"\"\"\u001b[39;00m\n\u001b[1;32m    <a href='file:///Users/joshsteinbecker/Library/Python/3.8/lib/python/site-packages/IPython/lib/pretty.py?line=776'>777</a>\u001b[0m \u001b[39m# Find newlines and replace them with p.break_()\u001b[39;00m\n\u001b[0;32m--> <a href='file:///Users/joshsteinbecker/Library/Python/3.8/lib/python/site-packages/IPython/lib/pretty.py?line=777'>778</a>\u001b[0m output \u001b[39m=\u001b[39m \u001b[39mrepr\u001b[39;49m(obj)\n\u001b[1;32m    <a href='file:///Users/joshsteinbecker/Library/Python/3.8/lib/python/site-packages/IPython/lib/pretty.py?line=778'>779</a>\u001b[0m lines \u001b[39m=\u001b[39m output\u001b[39m.\u001b[39msplitlines()\n\u001b[1;32m    <a href='file:///Users/joshsteinbecker/Library/Python/3.8/lib/python/site-packages/IPython/lib/pretty.py?line=779'>780</a>\u001b[0m \u001b[39mwith\u001b[39;00m p\u001b[39m.\u001b[39mgroup():\n",
      "\u001b[1;32m/Users/joshsteinbecker/jts_project/Projects/EHR/ehr.ipynb Cell 5'\u001b[0m in \u001b[0;36mPatient.__repr__\u001b[0;34m(self)\u001b[0m\n\u001b[1;32m     <a href='vscode-notebook-cell:/Users/joshsteinbecker/jts_project/Projects/EHR/ehr.ipynb#ch0000003?line=13'>14</a>\u001b[0m \u001b[39mdef\u001b[39;00m \u001b[39m__repr__\u001b[39m(\u001b[39mself\u001b[39m):\n\u001b[0;32m---> <a href='vscode-notebook-cell:/Users/joshsteinbecker/jts_project/Projects/EHR/ehr.ipynb#ch0000003?line=14'>15</a>\u001b[0m    \u001b[39mreturn\u001b[39;00m \u001b[39mf\u001b[39m\u001b[39m'\u001b[39m\u001b[39mName: \u001b[39m\u001b[39m{\u001b[39;00m\u001b[39mself\u001b[39m\u001b[39m.\u001b[39mname\u001b[39m}\u001b[39;00m\u001b[39m\\n\u001b[39;00m\u001b[39m\\t\u001b[39;00m\u001b[39mID:\u001b[39m\u001b[39m{\u001b[39;00m\u001b[39mself\u001b[39m\u001b[39m.\u001b[39mid\u001b[39m}\u001b[39;00m\u001b[39m\\n\u001b[39;00m\u001b[39m\\t\u001b[39;00m\u001b[39m{\u001b[39;00m\u001b[39mself\u001b[39m\u001b[39m.\u001b[39mweight\u001b[39m}\u001b[39;00m\u001b[39mkg\u001b[39m\u001b[39m\\n\u001b[39;00m\u001b[39m\\t\u001b[39;00m\u001b[39m{\u001b[39;00m\u001b[39mself\u001b[39m\u001b[39m.\u001b[39mage\u001b[39m}\u001b[39;00m\u001b[39myr.of age\u001b[39m\u001b[39m\\n\u001b[39;00m\u001b[39m\\n\u001b[39;00m\u001b[39m\\t\u001b[39;00m\u001b[39mCr(serum): \u001b[39m\u001b[39m{\u001b[39;00m\u001b[39mself\u001b[39m\u001b[39m.\u001b[39mSerCreat\u001b[39m}\u001b[39;00m\u001b[39m\\n\u001b[39;00m\u001b[39m\\t\u001b[39;00m\u001b[39m{\u001b[39;00m\u001b[39mself\u001b[39m\u001b[39m.\u001b[39mCrCl()\u001b[39m}\u001b[39;00m\u001b[39m'\u001b[39m\n",
      "\u001b[0;31mTypeError\u001b[0m: 'Float' object is not callable"
     ]
    }
   ],
   "source": [
    "Josh = Patient(\"Josh\", 2.341)\n",
    "ALL.append(Josh)\n",
    "ALL"
   ]
  },
  {
   "cell_type": "code",
   "execution_count": 34,
   "metadata": {},
   "outputs": [
    {
     "ename": "TypeError",
     "evalue": "'Float' object is not callable",
     "output_type": "error",
     "traceback": [
      "\u001b[0;31m---------------------------------------------------------------------------\u001b[0m",
      "\u001b[0;31mTypeError\u001b[0m                                 Traceback (most recent call last)",
      "File \u001b[0;32m~/Library/Python/3.8/lib/python/site-packages/IPython/core/formatters.py:707\u001b[0m, in \u001b[0;36mPlainTextFormatter.__call__\u001b[0;34m(self, obj)\u001b[0m\n\u001b[1;32m    <a href='file:///Users/joshsteinbecker/Library/Python/3.8/lib/python/site-packages/IPython/core/formatters.py?line=699'>700</a>\u001b[0m stream \u001b[39m=\u001b[39m StringIO()\n\u001b[1;32m    <a href='file:///Users/joshsteinbecker/Library/Python/3.8/lib/python/site-packages/IPython/core/formatters.py?line=700'>701</a>\u001b[0m printer \u001b[39m=\u001b[39m pretty\u001b[39m.\u001b[39mRepresentationPrinter(stream, \u001b[39mself\u001b[39m\u001b[39m.\u001b[39mverbose,\n\u001b[1;32m    <a href='file:///Users/joshsteinbecker/Library/Python/3.8/lib/python/site-packages/IPython/core/formatters.py?line=701'>702</a>\u001b[0m     \u001b[39mself\u001b[39m\u001b[39m.\u001b[39mmax_width, \u001b[39mself\u001b[39m\u001b[39m.\u001b[39mnewline,\n\u001b[1;32m    <a href='file:///Users/joshsteinbecker/Library/Python/3.8/lib/python/site-packages/IPython/core/formatters.py?line=702'>703</a>\u001b[0m     max_seq_length\u001b[39m=\u001b[39m\u001b[39mself\u001b[39m\u001b[39m.\u001b[39mmax_seq_length,\n\u001b[1;32m    <a href='file:///Users/joshsteinbecker/Library/Python/3.8/lib/python/site-packages/IPython/core/formatters.py?line=703'>704</a>\u001b[0m     singleton_pprinters\u001b[39m=\u001b[39m\u001b[39mself\u001b[39m\u001b[39m.\u001b[39msingleton_printers,\n\u001b[1;32m    <a href='file:///Users/joshsteinbecker/Library/Python/3.8/lib/python/site-packages/IPython/core/formatters.py?line=704'>705</a>\u001b[0m     type_pprinters\u001b[39m=\u001b[39m\u001b[39mself\u001b[39m\u001b[39m.\u001b[39mtype_printers,\n\u001b[1;32m    <a href='file:///Users/joshsteinbecker/Library/Python/3.8/lib/python/site-packages/IPython/core/formatters.py?line=705'>706</a>\u001b[0m     deferred_pprinters\u001b[39m=\u001b[39m\u001b[39mself\u001b[39m\u001b[39m.\u001b[39mdeferred_printers)\n\u001b[0;32m--> <a href='file:///Users/joshsteinbecker/Library/Python/3.8/lib/python/site-packages/IPython/core/formatters.py?line=706'>707</a>\u001b[0m printer\u001b[39m.\u001b[39;49mpretty(obj)\n\u001b[1;32m    <a href='file:///Users/joshsteinbecker/Library/Python/3.8/lib/python/site-packages/IPython/core/formatters.py?line=707'>708</a>\u001b[0m printer\u001b[39m.\u001b[39mflush()\n\u001b[1;32m    <a href='file:///Users/joshsteinbecker/Library/Python/3.8/lib/python/site-packages/IPython/core/formatters.py?line=708'>709</a>\u001b[0m \u001b[39mreturn\u001b[39;00m stream\u001b[39m.\u001b[39mgetvalue()\n",
      "File \u001b[0;32m~/Library/Python/3.8/lib/python/site-packages/IPython/lib/pretty.py:410\u001b[0m, in \u001b[0;36mRepresentationPrinter.pretty\u001b[0;34m(self, obj)\u001b[0m\n\u001b[1;32m    <a href='file:///Users/joshsteinbecker/Library/Python/3.8/lib/python/site-packages/IPython/lib/pretty.py?line=406'>407</a>\u001b[0m                         \u001b[39mreturn\u001b[39;00m meth(obj, \u001b[39mself\u001b[39m, cycle)\n\u001b[1;32m    <a href='file:///Users/joshsteinbecker/Library/Python/3.8/lib/python/site-packages/IPython/lib/pretty.py?line=407'>408</a>\u001b[0m                 \u001b[39mif\u001b[39;00m \u001b[39mcls\u001b[39m \u001b[39mis\u001b[39;00m \u001b[39mnot\u001b[39;00m \u001b[39mobject\u001b[39m \\\n\u001b[1;32m    <a href='file:///Users/joshsteinbecker/Library/Python/3.8/lib/python/site-packages/IPython/lib/pretty.py?line=408'>409</a>\u001b[0m                         \u001b[39mand\u001b[39;00m callable(\u001b[39mcls\u001b[39m\u001b[39m.\u001b[39m\u001b[39m__dict__\u001b[39m\u001b[39m.\u001b[39mget(\u001b[39m'\u001b[39m\u001b[39m__repr__\u001b[39m\u001b[39m'\u001b[39m)):\n\u001b[0;32m--> <a href='file:///Users/joshsteinbecker/Library/Python/3.8/lib/python/site-packages/IPython/lib/pretty.py?line=409'>410</a>\u001b[0m                     \u001b[39mreturn\u001b[39;00m _repr_pprint(obj, \u001b[39mself\u001b[39;49m, cycle)\n\u001b[1;32m    <a href='file:///Users/joshsteinbecker/Library/Python/3.8/lib/python/site-packages/IPython/lib/pretty.py?line=411'>412</a>\u001b[0m     \u001b[39mreturn\u001b[39;00m _default_pprint(obj, \u001b[39mself\u001b[39m, cycle)\n\u001b[1;32m    <a href='file:///Users/joshsteinbecker/Library/Python/3.8/lib/python/site-packages/IPython/lib/pretty.py?line=412'>413</a>\u001b[0m \u001b[39mfinally\u001b[39;00m:\n",
      "File \u001b[0;32m~/Library/Python/3.8/lib/python/site-packages/IPython/lib/pretty.py:778\u001b[0m, in \u001b[0;36m_repr_pprint\u001b[0;34m(obj, p, cycle)\u001b[0m\n\u001b[1;32m    <a href='file:///Users/joshsteinbecker/Library/Python/3.8/lib/python/site-packages/IPython/lib/pretty.py?line=775'>776</a>\u001b[0m \u001b[39m\"\"\"A pprint that just redirects to the normal repr function.\"\"\"\u001b[39;00m\n\u001b[1;32m    <a href='file:///Users/joshsteinbecker/Library/Python/3.8/lib/python/site-packages/IPython/lib/pretty.py?line=776'>777</a>\u001b[0m \u001b[39m# Find newlines and replace them with p.break_()\u001b[39;00m\n\u001b[0;32m--> <a href='file:///Users/joshsteinbecker/Library/Python/3.8/lib/python/site-packages/IPython/lib/pretty.py?line=777'>778</a>\u001b[0m output \u001b[39m=\u001b[39m \u001b[39mrepr\u001b[39;49m(obj)\n\u001b[1;32m    <a href='file:///Users/joshsteinbecker/Library/Python/3.8/lib/python/site-packages/IPython/lib/pretty.py?line=778'>779</a>\u001b[0m lines \u001b[39m=\u001b[39m output\u001b[39m.\u001b[39msplitlines()\n\u001b[1;32m    <a href='file:///Users/joshsteinbecker/Library/Python/3.8/lib/python/site-packages/IPython/lib/pretty.py?line=779'>780</a>\u001b[0m \u001b[39mwith\u001b[39;00m p\u001b[39m.\u001b[39mgroup():\n",
      "\u001b[1;32m/Users/joshsteinbecker/jts_project/Projects/EHR/ehr.ipynb Cell 5'\u001b[0m in \u001b[0;36mPatient.__repr__\u001b[0;34m(self)\u001b[0m\n\u001b[1;32m     <a href='vscode-notebook-cell:/Users/joshsteinbecker/jts_project/Projects/EHR/ehr.ipynb#ch0000003?line=12'>13</a>\u001b[0m \u001b[39mdef\u001b[39;00m \u001b[39m__repr__\u001b[39m(\u001b[39mself\u001b[39m):\n\u001b[0;32m---> <a href='vscode-notebook-cell:/Users/joshsteinbecker/jts_project/Projects/EHR/ehr.ipynb#ch0000003?line=13'>14</a>\u001b[0m    \u001b[39mreturn\u001b[39;00m \u001b[39mf\u001b[39m\u001b[39m'\u001b[39m\u001b[39mName: \u001b[39m\u001b[39m{\u001b[39;00m\u001b[39mself\u001b[39m\u001b[39m.\u001b[39mname\u001b[39m}\u001b[39;00m\u001b[39m\\n\u001b[39;00m\u001b[39m\\t\u001b[39;00m\u001b[39mID:\u001b[39m\u001b[39m{\u001b[39;00m\u001b[39mself\u001b[39m\u001b[39m.\u001b[39mid\u001b[39m}\u001b[39;00m\u001b[39m\\n\u001b[39;00m\u001b[39m\\t\u001b[39;00m\u001b[39m{\u001b[39;00m\u001b[39mself\u001b[39m\u001b[39m.\u001b[39mweight\u001b[39m}\u001b[39;00m\u001b[39mkg\u001b[39m\u001b[39m\\n\u001b[39;00m\u001b[39m\\t\u001b[39;00m\u001b[39m{\u001b[39;00m\u001b[39mself\u001b[39m\u001b[39m.\u001b[39mage\u001b[39m}\u001b[39;00m\u001b[39myr.of age\u001b[39m\u001b[39m\\n\u001b[39;00m\u001b[39m\\n\u001b[39;00m\u001b[39m\\t\u001b[39;00m\u001b[39mCr(serum): \u001b[39m\u001b[39m{\u001b[39;00m\u001b[39mself\u001b[39m\u001b[39m.\u001b[39mSerCreat\u001b[39m}\u001b[39;00m\u001b[39m\\n\u001b[39;00m\u001b[39m\\t\u001b[39;00m\u001b[39m{\u001b[39;00m\u001b[39mself\u001b[39m\u001b[39m.\u001b[39mCrCl()\u001b[39m}\u001b[39;00m\u001b[39m'\u001b[39m\n",
      "\u001b[0;31mTypeError\u001b[0m: 'Float' object is not callable"
     ]
    }
   ],
   "source": [
    "Patient(\"Bob\", 1.129)"
   ]
  },
  {
   "cell_type": "code",
   "execution_count": null,
   "metadata": {},
   "outputs": [],
   "source": []
  }
 ],
 "metadata": {
  "interpreter": {
   "hash": "31f2aee4e71d21fbe5cf8b01ff0e069b9275f58929596ceb00d14d90e3e16cd6"
  },
  "kernelspec": {
   "display_name": "Python 3.8.2 64-bit",
   "language": "python",
   "name": "python3"
  },
  "language_info": {
   "codemirror_mode": {
    "name": "ipython",
    "version": 3
   },
   "file_extension": ".py",
   "mimetype": "text/x-python",
   "name": "python",
   "nbconvert_exporter": "python",
   "pygments_lexer": "ipython3",
   "version": "3.8.2"
  },
  "orig_nbformat": 4
 },
 "nbformat": 4,
 "nbformat_minor": 2
}
