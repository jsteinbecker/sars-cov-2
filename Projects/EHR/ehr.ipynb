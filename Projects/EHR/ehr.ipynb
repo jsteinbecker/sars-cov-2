{
 "cells": [
  {
   "cell_type": "markdown",
   "metadata": {},
   "source": [
    "# EHR\n",
    "\n",
    "*Classes*\n",
    "   - Patient\n",
    "     - CrCl Calculation Display\n",
    "   - LabReference"
   ]
  },
  {
   "cell_type": "code",
   "execution_count": 3,
   "metadata": {},
   "outputs": [],
   "source": [
    "import sympy as sp\n",
    "import random\n",
    "from IPython.display import Markdown\n",
    "import pandas as pd"
   ]
  },
  {
   "cell_type": "markdown",
   "metadata": {},
   "source": [
    "## Patient (class)\n",
    "\n",
    "   - CrCl (function)"
   ]
  },
  {
   "cell_type": "code",
   "execution_count": 10,
   "metadata": {},
   "outputs": [],
   "source": [
    "class Patient:\n",
    "   def __init__(self, name, weight, age, SerCreat):\n",
    "      self.name = name\n",
    "      self.id = random.randint(1000000,10000000)\n",
    "      self.weight = weight\n",
    "      self.age = age\n",
    "      self.SerCreat = SerCreat\n",
    "      self.CrCl_value = CrCl = ((140-self.age) * self.weight) / (72 * self.SerCreat)\n",
    "   \n",
    "   def as_dict (self):\n",
    "      return {\"name\": self.name, \"id\": self.id, \"weight\":self.weight, \"age\":self.age, \"SerumCreatinine\": self.SerCreat, \"CrCl\": self.CrCl_value}\n",
    "   \n",
    "   @property\n",
    "   def CrCl (self):\n",
    "      name = self.name\n",
    "      age = self.age \n",
    "      weight = self.weight\n",
    "      scr = self.SerCreat\n",
    "      \n",
    "      a , w , Cr = sp.symbols(\"a_yr W_kg Cr_Ser\")\n",
    "      CrCl = ((140-a) * w) / (72 * Cr)\n",
    "      \n",
    "      md = Markdown(\"$\\large CrCl_{\" + name + \"} = \" + sp.Subs(CrCl,(a,w,Cr),(age,weight,scr))._repr_latex_()[1:]+ \"  $\\large = \\\\boxed {\" + str(round(CrCl.subs({a:age,w:weight,Cr:scr}),1)) + \"}$\")\n",
    "      \n",
    "      return md\n",
    "\n",
    "   def __repr__(self):\n",
    "      return f'Name: {self.name}\\n\\tID:{self.id}\\n\\t{self.weight}kg\\n\\t{self.age}yr.of age\\n\\n\\tCr(serum): {self.SerCreat}\\n\\t{self.CrCl_value}'"
   ]
  },
  {
   "cell_type": "code",
   "execution_count": 13,
   "metadata": {},
   "outputs": [
    {
     "data": {
      "text/markdown": [
       "$\\large CrCl_{Josh Steinbecker} = \\displaystyle \\left. \\frac{W_{kg} \\left(140 - a_{yr}\\right)}{72 Cr_{Ser}} \\right|_{\\substack{ a_{yr}=27\\\\ W_{kg}=68\\\\ Cr_{Ser}=0.888 }}$  $\\large = \\boxed {120.2}$"
      ],
      "text/plain": [
       "<IPython.core.display.Markdown object>"
      ]
     },
     "execution_count": 13,
     "metadata": {},
     "output_type": "execute_result"
    }
   ],
   "source": [
    "Patient(\"Josh Steinbecker\",68,27, 0.888).CrCl"
   ]
  },
  {
   "cell_type": "code",
   "execution_count": 17,
   "metadata": {},
   "outputs": [
    {
     "data": {
      "text/markdown": [
       "$\\large CrCl_{Bob} = \\displaystyle \\left. \\frac{W_{kg} \\left(140 - a_{yr}\\right)}{72 Cr_{Ser}} \\right|_{\\substack{ a_{yr}=59\\\\ W_{kg}=79\\\\ Cr_{Ser}=1.629 }}$  $\\large = \\boxed {54.6}$"
      ],
      "text/plain": [
       "<IPython.core.display.Markdown object>"
      ]
     },
     "execution_count": 17,
     "metadata": {},
     "output_type": "execute_result"
    }
   ],
   "source": [
    "Patient(\"Bob\", 79, 59, 1.629).CrCl"
   ]
  },
  {
   "cell_type": "markdown",
   "metadata": {},
   "source": [
    "## LabReference (class)\n",
    "```py\n",
    "   >>> refID\n",
    "   >>> Name\n",
    "   >>> Low\n",
    "   >>> High\n",
    "   >>> Unit *\n",
    "   >>> Class *\n",
    "```"
   ]
  },
  {
   "cell_type": "code",
   "execution_count": 7,
   "metadata": {},
   "outputs": [],
   "source": [
    "class LabReference:\n",
    "   refID:      str\n",
    "   name:       str\n",
    "   lowbound:   float\n",
    "   highbound:  float\n",
    "   unit:       str\n",
    "   def __init__(self,refID,name,low,high,Unit=None,Class=\"Chem\"):\n",
    "      self.refID = refID\n",
    "      self.Class = Class\n",
    "      self.name = name\n",
    "      self.lowbound = low\n",
    "      self.highbound = high\n",
    "      self.unit = Unit\n",
    "   def __repr__(self):\n",
    "      return f'[{self.name} ({self.lowbound} - {self.highbound})]'\n",
    "   def as_dict (self):\n",
    "      return {\"id\": self.refID, \"class\":self.Class,\"name\":self.name, \"low\": self.lowbound, \"high\": self.highbound, \"unit\":self.unit }"
   ]
  },
  {
   "cell_type": "code",
   "execution_count": 32,
   "metadata": {},
   "outputs": [
    {
     "data": {
      "text/plain": [
       "[[Sodium(serum) (131 - 145)],\n",
       " [Potassium(serum) (3.1 - 5.1)],\n",
       " [Calcium(serum) (8.1 - 10)],\n",
       " [Bicarbonate (10 - 40)],\n",
       " [Vancomycin(serum)(trough) (11 - 20)],\n",
       " [Glucose (90 - 100)],\n",
       " [Platelet (450000 - None)]]"
      ]
     },
     "execution_count": 32,
     "metadata": {},
     "output_type": "execute_result"
    }
   ],
   "source": [
    "NA = LabReference(\"Na\",\"Sodium(serum)\",131,145,\"mg/dL\")\n",
    "K = LabReference(\"K\",\"Potassium(serum)\",3.1,5.1,\"mg/dL\")\n",
    "CA = LabReference(\"Ca\",\"Calcium(serum)\",8.1,10,\"mg/dL\")\n",
    "CO3 = LabReference(\"CO3\",\"Bicarbonate\",10,40,\"mg/dL\")\n",
    "GLU = LabReference(\"GLU\",\"Glucose\",90,100,\"mg/dL\")\n",
    "VANC_TROUGH = LabReference(\"Vanc[T]\",\"Vancomycin(serum)(trough)\",11,20,\"mg/dL\",\"ABX\")\n",
    "PLT = LabReference(\"PLT\",\"Platelet\",450000,None,\"/dL\",\"Hemo\")\n",
    "\n",
    "ALLLABS = [NA,K,CA,CO3,VANC_TROUGH,GLU,PLT]\n",
    "ALLLABS\n"
   ]
  },
  {
   "cell_type": "code",
   "execution_count": 33,
   "metadata": {},
   "outputs": [
    {
     "data": {
      "text/html": [
       "<div>\n",
       "<style scoped>\n",
       "    .dataframe tbody tr th:only-of-type {\n",
       "        vertical-align: middle;\n",
       "    }\n",
       "\n",
       "    .dataframe tbody tr th {\n",
       "        vertical-align: top;\n",
       "    }\n",
       "\n",
       "    .dataframe thead th {\n",
       "        text-align: right;\n",
       "    }\n",
       "</style>\n",
       "<table border=\"1\" class=\"dataframe\">\n",
       "  <thead>\n",
       "    <tr style=\"text-align: right;\">\n",
       "      <th></th>\n",
       "      <th></th>\n",
       "      <th>name</th>\n",
       "      <th>low</th>\n",
       "      <th>high</th>\n",
       "      <th>unit</th>\n",
       "    </tr>\n",
       "    <tr>\n",
       "      <th>class</th>\n",
       "      <th>id</th>\n",
       "      <th></th>\n",
       "      <th></th>\n",
       "      <th></th>\n",
       "      <th></th>\n",
       "    </tr>\n",
       "  </thead>\n",
       "  <tbody>\n",
       "    <tr>\n",
       "      <th>ABX</th>\n",
       "      <th>Vanc[T]</th>\n",
       "      <td>Vancomycin(serum)(trough)</td>\n",
       "      <td>11.0</td>\n",
       "      <td>20.0</td>\n",
       "      <td>mg/dL</td>\n",
       "    </tr>\n",
       "    <tr>\n",
       "      <th rowspan=\"5\" valign=\"top\">Chem</th>\n",
       "      <th>CO3</th>\n",
       "      <td>Bicarbonate</td>\n",
       "      <td>10.0</td>\n",
       "      <td>40.0</td>\n",
       "      <td>mg/dL</td>\n",
       "    </tr>\n",
       "    <tr>\n",
       "      <th>Ca</th>\n",
       "      <td>Calcium(serum)</td>\n",
       "      <td>8.1</td>\n",
       "      <td>10.0</td>\n",
       "      <td>mg/dL</td>\n",
       "    </tr>\n",
       "    <tr>\n",
       "      <th>GLU</th>\n",
       "      <td>Glucose</td>\n",
       "      <td>90.0</td>\n",
       "      <td>100.0</td>\n",
       "      <td>mg/dL</td>\n",
       "    </tr>\n",
       "    <tr>\n",
       "      <th>K</th>\n",
       "      <td>Potassium(serum)</td>\n",
       "      <td>3.1</td>\n",
       "      <td>5.1</td>\n",
       "      <td>mg/dL</td>\n",
       "    </tr>\n",
       "    <tr>\n",
       "      <th>Na</th>\n",
       "      <td>Sodium(serum)</td>\n",
       "      <td>131.0</td>\n",
       "      <td>145.0</td>\n",
       "      <td>mg/dL</td>\n",
       "    </tr>\n",
       "    <tr>\n",
       "      <th>Hemo</th>\n",
       "      <th>PLT</th>\n",
       "      <td>Platelet</td>\n",
       "      <td>450000.0</td>\n",
       "      <td>NaN</td>\n",
       "      <td>/dL</td>\n",
       "    </tr>\n",
       "  </tbody>\n",
       "</table>\n",
       "</div>"
      ],
      "text/plain": [
       "                                    name       low   high   unit\n",
       "class id                                                        \n",
       "ABX   Vanc[T]  Vancomycin(serum)(trough)      11.0   20.0  mg/dL\n",
       "Chem  CO3                    Bicarbonate      10.0   40.0  mg/dL\n",
       "      Ca                  Calcium(serum)       8.1   10.0  mg/dL\n",
       "      GLU                        Glucose      90.0  100.0  mg/dL\n",
       "      K                 Potassium(serum)       3.1    5.1  mg/dL\n",
       "      Na                   Sodium(serum)     131.0  145.0  mg/dL\n",
       "Hemo  PLT                       Platelet  450000.0    NaN    /dL"
      ]
     },
     "execution_count": 33,
     "metadata": {},
     "output_type": "execute_result"
    }
   ],
   "source": [
    "\n",
    "df = pd.DataFrame([x.as_dict() for x in ALLLABS])\n",
    "df.set_index([\"class\",\"id\"]).sort_index()"
   ]
  },
  {
   "cell_type": "code",
   "execution_count": 37,
   "metadata": {},
   "outputs": [
    {
     "data": {
      "text/plain": [
       "(id               CO3\n",
       " class           Chem\n",
       " name     Bicarbonate\n",
       " low             10.0\n",
       " high            40.0\n",
       " unit           mg/dL\n",
       " Name: 3, dtype: object,\n",
       " id            PLT\n",
       " class        Hemo\n",
       " name     Platelet\n",
       " low      450000.0\n",
       " high          NaN\n",
       " unit          /dL\n",
       " Name: 6, dtype: object)"
      ]
     },
     "execution_count": 37,
     "metadata": {},
     "output_type": "execute_result"
    }
   ],
   "source": [
    "df.iloc[3], df.iloc[6]"
   ]
  },
  {
   "cell_type": "code",
   "execution_count": null,
   "metadata": {},
   "outputs": [],
   "source": []
  }
 ],
 "metadata": {
  "interpreter": {
   "hash": "31f2aee4e71d21fbe5cf8b01ff0e069b9275f58929596ceb00d14d90e3e16cd6"
  },
  "kernelspec": {
   "display_name": "Python 3.8.2 64-bit",
   "language": "python",
   "name": "python3"
  },
  "language_info": {
   "codemirror_mode": {
    "name": "ipython",
    "version": 3
   },
   "file_extension": ".py",
   "mimetype": "text/x-python",
   "name": "python",
   "nbconvert_exporter": "python",
   "pygments_lexer": "ipython3",
   "version": "3.8.2"
  },
  "orig_nbformat": 4
 },
 "nbformat": 4,
 "nbformat_minor": 2
}
