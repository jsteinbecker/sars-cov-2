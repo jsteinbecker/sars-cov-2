{
 "cells": [
  {
   "cell_type": "markdown",
   "metadata": {},
   "source": [
    "# EHR\n",
    "\n",
    "*Classes*\n",
    "   - Patient\n",
    "     - CrCl Calculation Display\n",
    "   - LabReference"
   ]
  },
  {
   "cell_type": "code",
   "execution_count": 133,
   "metadata": {},
   "outputs": [],
   "source": [
    "import sympy as sp\n",
    "import random\n",
    "from IPython.display import Markdown\n",
    "import pandas as pd"
   ]
  },
  {
   "cell_type": "markdown",
   "metadata": {},
   "source": [
    "## Patient (class)\n",
    "\n",
    "   - CrCl (function)"
   ]
  },
  {
   "cell_type": "code",
   "execution_count": 162,
   "metadata": {},
   "outputs": [],
   "source": [
    "class Patient:\n",
    "   def __init__(self, name, SerCreat):\n",
    "      self.name = name\n",
    "      self.id = random.randint(1000000,10000000)\n",
    "      self.weight = random.randint(40,200)\n",
    "      self.age = random.randint(19,100)\n",
    "      self.SerCreat = SerCreat\n",
    "      self.CrCl_value = CrCl = ((140-self.age) * self.weight) / (72 * self.SerCreat)\n",
    "   \n",
    "   def as_dict (self):\n",
    "      return {\"name\": self.name, \"id\": self.id, \"weight\":self.weight, \"age\":self.age, \"SerumCreatinine\": self.SerCreat, \"CrCl\": self.CrCl_value}\n",
    "   \n",
    "   @property\n",
    "   def CrCl (self):\n",
    "      name = self.name\n",
    "      age = self.age \n",
    "      weight = self.weight\n",
    "      scr = self.SerCreat\n",
    "      \n",
    "      a , w , Cr = sp.symbols(\"a_yr W_kg Cr_Ser\")\n",
    "      CrCl = ((140-a) * w) / (72 * Cr)\n",
    "      \n",
    "      md = Markdown(\"$\\LARGE CrCl_{\" + name + \"} = \" + sp.Subs(CrCl,(a,w,Cr),(age,weight,scr))._repr_latex_()[1:]+ \"  $\\LARGE = \\\\boxed {\" + str(round(CrCl.subs({a:age,w:weight,Cr:scr}),1)) + \"}$\")\n",
    "      \n",
    "      return md\n",
    "\n",
    "   def __repr__(self):\n",
    "      return f'Name: {self.name}\\n\\tID:{self.id}\\n\\t{self.weight}kg\\n\\t{self.age}yr.of age\\n\\n\\tCr(serum): {self.SerCreat}\\n\\t{self.CrCl_value}'"
   ]
  },
  {
   "cell_type": "code",
   "execution_count": 165,
   "metadata": {},
   "outputs": [
    {
     "data": {
      "text/plain": [
       "{'name': 'Josh Steinbecker',\n",
       " 'id': 4602518,\n",
       " 'weight': 108,\n",
       " 'age': 70,\n",
       " 'SerumCreatinine': 2.341,\n",
       " 'CrCl': 44.8526270824434}"
      ]
     },
     "execution_count": 165,
     "metadata": {},
     "output_type": "execute_result"
    }
   ],
   "source": [
    "Patient(\"Josh Steinbecker\", 2.341).as_dict()"
   ]
  },
  {
   "cell_type": "code",
   "execution_count": 167,
   "metadata": {},
   "outputs": [
    {
     "data": {
      "text/markdown": [
       "$\\LARGE CrCl_{Bob} = \\displaystyle \\left. \\frac{W_{kg} \\left(140 - a_{yr}\\right)}{72 Cr_{Ser}} \\right|_{\\substack{ a_{yr}=59\\\\ W_{kg}=82\\\\ Cr_{Ser}=1.129 }}$  $\\LARGE = \\boxed {81.7}$"
      ],
      "text/plain": [
       "<IPython.core.display.Markdown object>"
      ]
     },
     "execution_count": 167,
     "metadata": {},
     "output_type": "execute_result"
    }
   ],
   "source": [
    "Patient(\"Bob\", 1.129).CrCl"
   ]
  },
  {
   "cell_type": "markdown",
   "metadata": {},
   "source": [
    "## LabReference (class)"
   ]
  },
  {
   "cell_type": "code",
   "execution_count": 168,
   "metadata": {},
   "outputs": [],
   "source": [
    "class LabReference:\n",
    "   refID:      str\n",
    "   name:       str\n",
    "   lowbound:   float\n",
    "   highbound:  float\n",
    "   unit:       str\n",
    "   def __init__(self,refID,name,low,high,Unit=None,Class=\"Chem\"):\n",
    "      self.refID = refID\n",
    "      self.Class = Class\n",
    "      self.name = name\n",
    "      self.lowbound = low\n",
    "      self.highbound = high\n",
    "      self.unit = Unit\n",
    "   def __repr__(self):\n",
    "      return f'[{self.name} ({self.lowbound} - {self.highbound})]'\n",
    "   def as_dict (self):\n",
    "      return {\"id\": self.refID, \"class\":self.Class,\"name\":self.name, \"low\": self.lowbound, \"high\": self.highbound, \"unit\":self.unit }"
   ]
  },
  {
   "cell_type": "code",
   "execution_count": 169,
   "metadata": {},
   "outputs": [
    {
     "data": {
      "text/html": [
       "<div>\n",
       "<style scoped>\n",
       "    .dataframe tbody tr th:only-of-type {\n",
       "        vertical-align: middle;\n",
       "    }\n",
       "\n",
       "    .dataframe tbody tr th {\n",
       "        vertical-align: top;\n",
       "    }\n",
       "\n",
       "    .dataframe thead th {\n",
       "        text-align: right;\n",
       "    }\n",
       "</style>\n",
       "<table border=\"1\" class=\"dataframe\">\n",
       "  <thead>\n",
       "    <tr style=\"text-align: right;\">\n",
       "      <th></th>\n",
       "      <th></th>\n",
       "      <th>name</th>\n",
       "      <th>low</th>\n",
       "      <th>high</th>\n",
       "      <th>unit</th>\n",
       "    </tr>\n",
       "    <tr>\n",
       "      <th>class</th>\n",
       "      <th>id</th>\n",
       "      <th></th>\n",
       "      <th></th>\n",
       "      <th></th>\n",
       "      <th></th>\n",
       "    </tr>\n",
       "  </thead>\n",
       "  <tbody>\n",
       "    <tr>\n",
       "      <th rowspan=\"5\" valign=\"top\">Chem</th>\n",
       "      <th>CO_3</th>\n",
       "      <td>Bicarbonate</td>\n",
       "      <td>10.0</td>\n",
       "      <td>40.0</td>\n",
       "      <td>mg/dL</td>\n",
       "    </tr>\n",
       "    <tr>\n",
       "      <th>Ca</th>\n",
       "      <td>Calcium(serum)</td>\n",
       "      <td>8.1</td>\n",
       "      <td>10.0</td>\n",
       "      <td>mg/dL</td>\n",
       "    </tr>\n",
       "    <tr>\n",
       "      <th>GLU</th>\n",
       "      <td>Glucose</td>\n",
       "      <td>90.0</td>\n",
       "      <td>100.0</td>\n",
       "      <td>mg/dL</td>\n",
       "    </tr>\n",
       "    <tr>\n",
       "      <th>K</th>\n",
       "      <td>Potassium(serum)</td>\n",
       "      <td>3.1</td>\n",
       "      <td>5.1</td>\n",
       "      <td>mg/dL</td>\n",
       "    </tr>\n",
       "    <tr>\n",
       "      <th>Na</th>\n",
       "      <td>Sodium(serum)</td>\n",
       "      <td>131.0</td>\n",
       "      <td>145.0</td>\n",
       "      <td>mg/dL</td>\n",
       "    </tr>\n",
       "    <tr>\n",
       "      <th>ABX</th>\n",
       "      <th>Vanco[trough]</th>\n",
       "      <td>Vancomycin(serum)(trough)</td>\n",
       "      <td>11.0</td>\n",
       "      <td>20.0</td>\n",
       "      <td>mg/dL</td>\n",
       "    </tr>\n",
       "  </tbody>\n",
       "</table>\n",
       "</div>"
      ],
      "text/plain": [
       "                                          name    low   high   unit\n",
       "class id                                                           \n",
       "Chem  CO_3                         Bicarbonate   10.0   40.0  mg/dL\n",
       "      Ca                        Calcium(serum)    8.1   10.0  mg/dL\n",
       "      GLU                              Glucose   90.0  100.0  mg/dL\n",
       "      K                       Potassium(serum)    3.1    5.1  mg/dL\n",
       "      Na                         Sodium(serum)  131.0  145.0  mg/dL\n",
       "ABX   Vanco[trough]  Vancomycin(serum)(trough)   11.0   20.0  mg/dL"
      ]
     },
     "execution_count": 169,
     "metadata": {},
     "output_type": "execute_result"
    }
   ],
   "source": [
    "NA = LabReference(\"Na\",\"Sodium(serum)\",131,145,\"mg/dL\")\n",
    "K = LabReference(\"K\",\"Potassium(serum)\",3.1,5.1,\"mg/dL\")\n",
    "CA = LabReference(\"Ca\",\"Calcium(serum)\",8.1,10,\"mg/dL\")\n",
    "CO3 = LabReference(\"CO_3\",\"Bicarbonate\",10,40,\"mg/dL\")\n",
    "GLU = LabReference(\"GLU\",\"Glucose\",90,100,\"mg/dL\")\n",
    "VANC_TROUGH = LabReference(\"Vanco[trough]\",\"Vancomycin(serum)(trough)\",11,20,\"mg/dL\",\"ABX\")\n",
    "\n",
    "ALLLABS = [NA,K,CA,CO3,VANC_TROUGH,GLU]\n",
    "\n",
    "df = pd.DataFrame([x.as_dict() for x in ALLLABS])\n",
    "df.set_index([\"class\",\"id\"]).sort_values('name')"
   ]
  },
  {
   "cell_type": "code",
   "execution_count": null,
   "metadata": {},
   "outputs": [],
   "source": []
  }
 ],
 "metadata": {
  "interpreter": {
   "hash": "31f2aee4e71d21fbe5cf8b01ff0e069b9275f58929596ceb00d14d90e3e16cd6"
  },
  "kernelspec": {
   "display_name": "Python 3.8.2 64-bit",
   "language": "python",
   "name": "python3"
  },
  "language_info": {
   "codemirror_mode": {
    "name": "ipython",
    "version": 3
   },
   "file_extension": ".py",
   "mimetype": "text/x-python",
   "name": "python",
   "nbconvert_exporter": "python",
   "pygments_lexer": "ipython3",
   "version": "3.8.2"
  },
  "orig_nbformat": 4
 },
 "nbformat": 4,
 "nbformat_minor": 2
}
