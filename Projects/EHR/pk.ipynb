{
 "cells": [
  {
   "cell_type": "code",
   "execution_count": 56,
   "metadata": {},
   "outputs": [],
   "source": [
    "import pandas as pd\n",
    "import re"
   ]
  },
  {
   "cell_type": "code",
   "execution_count": 57,
   "metadata": {
    "vscode": {
     "languageId": "powershell"
    }
   },
   "outputs": [
    {
     "name": "stdout",
     "output_type": "stream",
     "text": [
      "Overwriting DrugExampleRanges.tsv\n"
     ]
    }
   ],
   "source": [
    "%%file DrugExampleRanges.tsv\n",
    "Drug | Range\n",
    "Digoxin | 0.5–2.0 ng/mL\n",
    "Lidocaine |  1.5–5.0 mg/L\n",
    "Lithium | 0.6–1.4 mEq/L\n",
    "Phenobarbital | 15–40 mg/L\n",
    "Phenytoin |  10–20 mg/L\n",
    "Quinidine |  2–5 mg/L\n",
    "Cyclosporin | 150–400 ng/mL\n",
    "Valproic acid | 50–100 mg/L\n",
    "Carbamazepine |  4–12 mcg/mL\n",
    "Ethosuxamide |  40–100 mg/L\n",
    "Primidone |  5–12 mg/L"
   ]
  },
  {
   "cell_type": "code",
   "execution_count": 58,
   "metadata": {},
   "outputs": [
    {
     "data": {
      "text/html": [
       "<div>\n",
       "<style scoped>\n",
       "    .dataframe tbody tr th:only-of-type {\n",
       "        vertical-align: middle;\n",
       "    }\n",
       "\n",
       "    .dataframe tbody tr th {\n",
       "        vertical-align: top;\n",
       "    }\n",
       "\n",
       "    .dataframe thead th {\n",
       "        text-align: right;\n",
       "    }\n",
       "</style>\n",
       "<table border=\"1\" class=\"dataframe\">\n",
       "  <thead>\n",
       "    <tr style=\"text-align: right;\">\n",
       "      <th></th>\n",
       "      <th>Drug</th>\n",
       "      <th>Range</th>\n",
       "    </tr>\n",
       "  </thead>\n",
       "  <tbody>\n",
       "    <tr>\n",
       "      <th>0</th>\n",
       "      <td>Digoxin</td>\n",
       "      <td>0.5–2.0 ng/mL</td>\n",
       "    </tr>\n",
       "    <tr>\n",
       "      <th>1</th>\n",
       "      <td>Lidocaine</td>\n",
       "      <td>1.5–5.0 mg/L</td>\n",
       "    </tr>\n",
       "    <tr>\n",
       "      <th>2</th>\n",
       "      <td>Lithium</td>\n",
       "      <td>0.6–1.4 mEq/L</td>\n",
       "    </tr>\n",
       "    <tr>\n",
       "      <th>3</th>\n",
       "      <td>Phenobarbital</td>\n",
       "      <td>15–40 mg/L</td>\n",
       "    </tr>\n",
       "    <tr>\n",
       "      <th>4</th>\n",
       "      <td>Phenytoin</td>\n",
       "      <td>10–20 mg/L</td>\n",
       "    </tr>\n",
       "    <tr>\n",
       "      <th>5</th>\n",
       "      <td>Quinidine</td>\n",
       "      <td>2–5 mg/L</td>\n",
       "    </tr>\n",
       "    <tr>\n",
       "      <th>6</th>\n",
       "      <td>Cyclosporin</td>\n",
       "      <td>150–400 ng/mL</td>\n",
       "    </tr>\n",
       "    <tr>\n",
       "      <th>7</th>\n",
       "      <td>Valproic acid</td>\n",
       "      <td>50–100 mg/L</td>\n",
       "    </tr>\n",
       "    <tr>\n",
       "      <th>8</th>\n",
       "      <td>Carbamazepine</td>\n",
       "      <td>4–12 mcg/mL</td>\n",
       "    </tr>\n",
       "    <tr>\n",
       "      <th>9</th>\n",
       "      <td>Ethosuxamide</td>\n",
       "      <td>40–100 mg/L</td>\n",
       "    </tr>\n",
       "    <tr>\n",
       "      <th>10</th>\n",
       "      <td>Primidone</td>\n",
       "      <td>5–12 mg/L</td>\n",
       "    </tr>\n",
       "  </tbody>\n",
       "</table>\n",
       "</div>"
      ],
      "text/plain": [
       "              Drug           Range\n",
       "0         Digoxin    0.5–2.0 ng/mL\n",
       "1       Lidocaine     1.5–5.0 mg/L\n",
       "2         Lithium    0.6–1.4 mEq/L\n",
       "3   Phenobarbital       15–40 mg/L\n",
       "4       Phenytoin       10–20 mg/L\n",
       "5       Quinidine         2–5 mg/L\n",
       "6     Cyclosporin    150–400 ng/mL\n",
       "7   Valproic acid      50–100 mg/L\n",
       "8   Carbamazepine      4–12 mcg/mL\n",
       "9    Ethosuxamide      40–100 mg/L\n",
       "10      Primidone        5–12 mg/L"
      ]
     },
     "execution_count": 58,
     "metadata": {},
     "output_type": "execute_result"
    }
   ],
   "source": [
    "df = pd.read_csv(\"DrugExampleRanges.tsv\",sep=\"|\")\n",
    "df.columns = df.columns.str.replace(' ','')\n",
    "df"
   ]
  },
  {
   "cell_type": "code",
   "execution_count": 59,
   "metadata": {},
   "outputs": [
    {
     "ename": "TypeError",
     "evalue": "unsupported operand type(s) for -: 'str' and 'str'",
     "output_type": "error",
     "traceback": [
      "\u001b[0;31m---------------------------------------------------------------------------\u001b[0m",
      "\u001b[0;31mTypeError\u001b[0m                                 Traceback (most recent call last)",
      "File \u001b[0;32m~/Library/Python/3.8/lib/python/site-packages/pandas/core/ops/array_ops.py:163\u001b[0m, in \u001b[0;36m_na_arithmetic_op\u001b[0;34m(left, right, op, is_cmp)\u001b[0m\n\u001b[1;32m    <a href='file:///Users/joshsteinbecker/Library/Python/3.8/lib/python/site-packages/pandas/core/ops/array_ops.py?line=161'>162</a>\u001b[0m \u001b[39mtry\u001b[39;00m:\n\u001b[0;32m--> <a href='file:///Users/joshsteinbecker/Library/Python/3.8/lib/python/site-packages/pandas/core/ops/array_ops.py?line=162'>163</a>\u001b[0m     result \u001b[39m=\u001b[39m func(left, right)\n\u001b[1;32m    <a href='file:///Users/joshsteinbecker/Library/Python/3.8/lib/python/site-packages/pandas/core/ops/array_ops.py?line=163'>164</a>\u001b[0m \u001b[39mexcept\u001b[39;00m \u001b[39mTypeError\u001b[39;00m:\n",
      "File \u001b[0;32m~/Library/Python/3.8/lib/python/site-packages/pandas/core/computation/expressions.py:239\u001b[0m, in \u001b[0;36mevaluate\u001b[0;34m(op, a, b, use_numexpr)\u001b[0m\n\u001b[1;32m    <a href='file:///Users/joshsteinbecker/Library/Python/3.8/lib/python/site-packages/pandas/core/computation/expressions.py?line=236'>237</a>\u001b[0m     \u001b[39mif\u001b[39;00m use_numexpr:\n\u001b[1;32m    <a href='file:///Users/joshsteinbecker/Library/Python/3.8/lib/python/site-packages/pandas/core/computation/expressions.py?line=237'>238</a>\u001b[0m         \u001b[39m# error: \"None\" not callable\u001b[39;00m\n\u001b[0;32m--> <a href='file:///Users/joshsteinbecker/Library/Python/3.8/lib/python/site-packages/pandas/core/computation/expressions.py?line=238'>239</a>\u001b[0m         \u001b[39mreturn\u001b[39;00m _evaluate(op, op_str, a, b)  \u001b[39m# type: ignore[misc]\u001b[39;00m\n\u001b[1;32m    <a href='file:///Users/joshsteinbecker/Library/Python/3.8/lib/python/site-packages/pandas/core/computation/expressions.py?line=239'>240</a>\u001b[0m \u001b[39mreturn\u001b[39;00m _evaluate_standard(op, op_str, a, b)\n",
      "File \u001b[0;32m~/Library/Python/3.8/lib/python/site-packages/pandas/core/computation/expressions.py:69\u001b[0m, in \u001b[0;36m_evaluate_standard\u001b[0;34m(op, op_str, a, b)\u001b[0m\n\u001b[1;32m     <a href='file:///Users/joshsteinbecker/Library/Python/3.8/lib/python/site-packages/pandas/core/computation/expressions.py?line=67'>68</a>\u001b[0m     _store_test_result(\u001b[39mFalse\u001b[39;00m)\n\u001b[0;32m---> <a href='file:///Users/joshsteinbecker/Library/Python/3.8/lib/python/site-packages/pandas/core/computation/expressions.py?line=68'>69</a>\u001b[0m \u001b[39mreturn\u001b[39;00m op(a, b)\n",
      "\u001b[0;31mTypeError\u001b[0m: unsupported operand type(s) for -: 'str' and 'str'",
      "\nDuring handling of the above exception, another exception occurred:\n",
      "\u001b[0;31mTypeError\u001b[0m                                 Traceback (most recent call last)",
      "\u001b[1;32m/Users/joshsteinbecker/jts_project/Projects/EHR/pk.ipynb Cell 4'\u001b[0m in \u001b[0;36m<module>\u001b[0;34m\u001b[0m\n\u001b[1;32m      <a href='vscode-notebook-cell:/Users/joshsteinbecker/jts_project/Projects/EHR/pk.ipynb#ch0000004?line=1'>2</a>\u001b[0m df[\u001b[39m'\u001b[39m\u001b[39mlo\u001b[39m\u001b[39m'\u001b[39m] \u001b[39m=\u001b[39m [df[\u001b[39m'\u001b[39m\u001b[39m_range\u001b[39m\u001b[39m'\u001b[39m]\u001b[39m.\u001b[39miloc[x][\u001b[39m0\u001b[39m] \u001b[39mfor\u001b[39;00m x \u001b[39min\u001b[39;00m \u001b[39mrange\u001b[39m(\u001b[39mlen\u001b[39m(df))]\n\u001b[1;32m      <a href='vscode-notebook-cell:/Users/joshsteinbecker/jts_project/Projects/EHR/pk.ipynb#ch0000004?line=2'>3</a>\u001b[0m df[\u001b[39m'\u001b[39m\u001b[39mhi\u001b[39m\u001b[39m'\u001b[39m] \u001b[39m=\u001b[39m [df[\u001b[39m'\u001b[39m\u001b[39m_range\u001b[39m\u001b[39m'\u001b[39m]\u001b[39m.\u001b[39miloc[x][\u001b[39m1\u001b[39m] \u001b[39mfor\u001b[39;00m x \u001b[39min\u001b[39;00m \u001b[39mrange\u001b[39m(\u001b[39mlen\u001b[39m(df))]\n\u001b[0;32m----> <a href='vscode-notebook-cell:/Users/joshsteinbecker/jts_project/Projects/EHR/pk.ipynb#ch0000004?line=3'>4</a>\u001b[0m df[\u001b[39m'\u001b[39m\u001b[39mspan\u001b[39m\u001b[39m'\u001b[39m] \u001b[39m=\u001b[39m df\u001b[39m.\u001b[39;49mhi \u001b[39m-\u001b[39;49m df\u001b[39m.\u001b[39;49mlo\n\u001b[1;32m      <a href='vscode-notebook-cell:/Users/joshsteinbecker/jts_project/Projects/EHR/pk.ipynb#ch0000004?line=4'>5</a>\u001b[0m df[\u001b[39m'\u001b[39m\u001b[39mtherindex\u001b[39m\u001b[39m'\u001b[39m] \u001b[39m=\u001b[39m df\u001b[39m.\u001b[39mspan \u001b[39m/\u001b[39m (df\u001b[39m.\u001b[39mhi \u001b[39m-\u001b[39m (df\u001b[39m.\u001b[39mspan \u001b[39m/\u001b[39m \u001b[39m2\u001b[39m)) \n\u001b[1;32m      <a href='vscode-notebook-cell:/Users/joshsteinbecker/jts_project/Projects/EHR/pk.ipynb#ch0000004?line=5'>6</a>\u001b[0m \u001b[39mdel\u001b[39;00m df[\u001b[39m'\u001b[39m\u001b[39m_range\u001b[39m\u001b[39m'\u001b[39m]\n",
      "File \u001b[0;32m~/Library/Python/3.8/lib/python/site-packages/pandas/core/ops/common.py:70\u001b[0m, in \u001b[0;36m_unpack_zerodim_and_defer.<locals>.new_method\u001b[0;34m(self, other)\u001b[0m\n\u001b[1;32m     <a href='file:///Users/joshsteinbecker/Library/Python/3.8/lib/python/site-packages/pandas/core/ops/common.py?line=65'>66</a>\u001b[0m             \u001b[39mreturn\u001b[39;00m \u001b[39mNotImplemented\u001b[39m\n\u001b[1;32m     <a href='file:///Users/joshsteinbecker/Library/Python/3.8/lib/python/site-packages/pandas/core/ops/common.py?line=67'>68</a>\u001b[0m other \u001b[39m=\u001b[39m item_from_zerodim(other)\n\u001b[0;32m---> <a href='file:///Users/joshsteinbecker/Library/Python/3.8/lib/python/site-packages/pandas/core/ops/common.py?line=69'>70</a>\u001b[0m \u001b[39mreturn\u001b[39;00m method(\u001b[39mself\u001b[39;49m, other)\n",
      "File \u001b[0;32m~/Library/Python/3.8/lib/python/site-packages/pandas/core/arraylike.py:108\u001b[0m, in \u001b[0;36mOpsMixin.__sub__\u001b[0;34m(self, other)\u001b[0m\n\u001b[1;32m    <a href='file:///Users/joshsteinbecker/Library/Python/3.8/lib/python/site-packages/pandas/core/arraylike.py?line=105'>106</a>\u001b[0m \u001b[39m@unpack_zerodim_and_defer\u001b[39m(\u001b[39m\"\u001b[39m\u001b[39m__sub__\u001b[39m\u001b[39m\"\u001b[39m)\n\u001b[1;32m    <a href='file:///Users/joshsteinbecker/Library/Python/3.8/lib/python/site-packages/pandas/core/arraylike.py?line=106'>107</a>\u001b[0m \u001b[39mdef\u001b[39;00m \u001b[39m__sub__\u001b[39m(\u001b[39mself\u001b[39m, other):\n\u001b[0;32m--> <a href='file:///Users/joshsteinbecker/Library/Python/3.8/lib/python/site-packages/pandas/core/arraylike.py?line=107'>108</a>\u001b[0m     \u001b[39mreturn\u001b[39;00m \u001b[39mself\u001b[39;49m\u001b[39m.\u001b[39;49m_arith_method(other, operator\u001b[39m.\u001b[39;49msub)\n",
      "File \u001b[0;32m~/Library/Python/3.8/lib/python/site-packages/pandas/core/series.py:5636\u001b[0m, in \u001b[0;36mSeries._arith_method\u001b[0;34m(self, other, op)\u001b[0m\n\u001b[1;32m   <a href='file:///Users/joshsteinbecker/Library/Python/3.8/lib/python/site-packages/pandas/core/series.py?line=5633'>5634</a>\u001b[0m \u001b[39mdef\u001b[39;00m \u001b[39m_arith_method\u001b[39m(\u001b[39mself\u001b[39m, other, op):\n\u001b[1;32m   <a href='file:///Users/joshsteinbecker/Library/Python/3.8/lib/python/site-packages/pandas/core/series.py?line=5634'>5635</a>\u001b[0m     \u001b[39mself\u001b[39m, other \u001b[39m=\u001b[39m ops\u001b[39m.\u001b[39malign_method_SERIES(\u001b[39mself\u001b[39m, other)\n\u001b[0;32m-> <a href='file:///Users/joshsteinbecker/Library/Python/3.8/lib/python/site-packages/pandas/core/series.py?line=5635'>5636</a>\u001b[0m     \u001b[39mreturn\u001b[39;00m base\u001b[39m.\u001b[39;49mIndexOpsMixin\u001b[39m.\u001b[39;49m_arith_method(\u001b[39mself\u001b[39;49m, other, op)\n",
      "File \u001b[0;32m~/Library/Python/3.8/lib/python/site-packages/pandas/core/base.py:1295\u001b[0m, in \u001b[0;36mIndexOpsMixin._arith_method\u001b[0;34m(self, other, op)\u001b[0m\n\u001b[1;32m   <a href='file:///Users/joshsteinbecker/Library/Python/3.8/lib/python/site-packages/pandas/core/base.py?line=1291'>1292</a>\u001b[0m rvalues \u001b[39m=\u001b[39m ensure_wrapped_if_datetimelike(rvalues)\n\u001b[1;32m   <a href='file:///Users/joshsteinbecker/Library/Python/3.8/lib/python/site-packages/pandas/core/base.py?line=1293'>1294</a>\u001b[0m \u001b[39mwith\u001b[39;00m np\u001b[39m.\u001b[39merrstate(\u001b[39mall\u001b[39m\u001b[39m=\u001b[39m\u001b[39m\"\u001b[39m\u001b[39mignore\u001b[39m\u001b[39m\"\u001b[39m):\n\u001b[0;32m-> <a href='file:///Users/joshsteinbecker/Library/Python/3.8/lib/python/site-packages/pandas/core/base.py?line=1294'>1295</a>\u001b[0m     result \u001b[39m=\u001b[39m ops\u001b[39m.\u001b[39;49marithmetic_op(lvalues, rvalues, op)\n\u001b[1;32m   <a href='file:///Users/joshsteinbecker/Library/Python/3.8/lib/python/site-packages/pandas/core/base.py?line=1296'>1297</a>\u001b[0m \u001b[39mreturn\u001b[39;00m \u001b[39mself\u001b[39m\u001b[39m.\u001b[39m_construct_result(result, name\u001b[39m=\u001b[39mres_name)\n",
      "File \u001b[0;32m~/Library/Python/3.8/lib/python/site-packages/pandas/core/ops/array_ops.py:222\u001b[0m, in \u001b[0;36marithmetic_op\u001b[0;34m(left, right, op)\u001b[0m\n\u001b[1;32m    <a href='file:///Users/joshsteinbecker/Library/Python/3.8/lib/python/site-packages/pandas/core/ops/array_ops.py?line=216'>217</a>\u001b[0m \u001b[39melse\u001b[39;00m:\n\u001b[1;32m    <a href='file:///Users/joshsteinbecker/Library/Python/3.8/lib/python/site-packages/pandas/core/ops/array_ops.py?line=217'>218</a>\u001b[0m     \u001b[39m# TODO we should handle EAs consistently and move this check before the if/else\u001b[39;00m\n\u001b[1;32m    <a href='file:///Users/joshsteinbecker/Library/Python/3.8/lib/python/site-packages/pandas/core/ops/array_ops.py?line=218'>219</a>\u001b[0m     \u001b[39m# (https://github.com/pandas-dev/pandas/issues/41165)\u001b[39;00m\n\u001b[1;32m    <a href='file:///Users/joshsteinbecker/Library/Python/3.8/lib/python/site-packages/pandas/core/ops/array_ops.py?line=219'>220</a>\u001b[0m     _bool_arith_check(op, left, right)\n\u001b[0;32m--> <a href='file:///Users/joshsteinbecker/Library/Python/3.8/lib/python/site-packages/pandas/core/ops/array_ops.py?line=221'>222</a>\u001b[0m     res_values \u001b[39m=\u001b[39m _na_arithmetic_op(left, right, op)\n\u001b[1;32m    <a href='file:///Users/joshsteinbecker/Library/Python/3.8/lib/python/site-packages/pandas/core/ops/array_ops.py?line=223'>224</a>\u001b[0m \u001b[39mreturn\u001b[39;00m res_values\n",
      "File \u001b[0;32m~/Library/Python/3.8/lib/python/site-packages/pandas/core/ops/array_ops.py:170\u001b[0m, in \u001b[0;36m_na_arithmetic_op\u001b[0;34m(left, right, op, is_cmp)\u001b[0m\n\u001b[1;32m    <a href='file:///Users/joshsteinbecker/Library/Python/3.8/lib/python/site-packages/pandas/core/ops/array_ops.py?line=163'>164</a>\u001b[0m \u001b[39mexcept\u001b[39;00m \u001b[39mTypeError\u001b[39;00m:\n\u001b[1;32m    <a href='file:///Users/joshsteinbecker/Library/Python/3.8/lib/python/site-packages/pandas/core/ops/array_ops.py?line=164'>165</a>\u001b[0m     \u001b[39mif\u001b[39;00m \u001b[39mnot\u001b[39;00m is_cmp \u001b[39mand\u001b[39;00m (is_object_dtype(left\u001b[39m.\u001b[39mdtype) \u001b[39mor\u001b[39;00m is_object_dtype(right)):\n\u001b[1;32m    <a href='file:///Users/joshsteinbecker/Library/Python/3.8/lib/python/site-packages/pandas/core/ops/array_ops.py?line=165'>166</a>\u001b[0m         \u001b[39m# For object dtype, fallback to a masked operation (only operating\u001b[39;00m\n\u001b[1;32m    <a href='file:///Users/joshsteinbecker/Library/Python/3.8/lib/python/site-packages/pandas/core/ops/array_ops.py?line=166'>167</a>\u001b[0m         \u001b[39m#  on the non-missing values)\u001b[39;00m\n\u001b[1;32m    <a href='file:///Users/joshsteinbecker/Library/Python/3.8/lib/python/site-packages/pandas/core/ops/array_ops.py?line=167'>168</a>\u001b[0m         \u001b[39m# Don't do this for comparisons, as that will handle complex numbers\u001b[39;00m\n\u001b[1;32m    <a href='file:///Users/joshsteinbecker/Library/Python/3.8/lib/python/site-packages/pandas/core/ops/array_ops.py?line=168'>169</a>\u001b[0m         \u001b[39m#  incorrectly, see GH#32047\u001b[39;00m\n\u001b[0;32m--> <a href='file:///Users/joshsteinbecker/Library/Python/3.8/lib/python/site-packages/pandas/core/ops/array_ops.py?line=169'>170</a>\u001b[0m         result \u001b[39m=\u001b[39m _masked_arith_op(left, right, op)\n\u001b[1;32m    <a href='file:///Users/joshsteinbecker/Library/Python/3.8/lib/python/site-packages/pandas/core/ops/array_ops.py?line=170'>171</a>\u001b[0m     \u001b[39melse\u001b[39;00m:\n\u001b[1;32m    <a href='file:///Users/joshsteinbecker/Library/Python/3.8/lib/python/site-packages/pandas/core/ops/array_ops.py?line=171'>172</a>\u001b[0m         \u001b[39mraise\u001b[39;00m\n",
      "File \u001b[0;32m~/Library/Python/3.8/lib/python/site-packages/pandas/core/ops/array_ops.py:108\u001b[0m, in \u001b[0;36m_masked_arith_op\u001b[0;34m(x, y, op)\u001b[0m\n\u001b[1;32m    <a href='file:///Users/joshsteinbecker/Library/Python/3.8/lib/python/site-packages/pandas/core/ops/array_ops.py?line=105'>106</a>\u001b[0m     \u001b[39m# See GH#5284, GH#5035, GH#19448 for historical reference\u001b[39;00m\n\u001b[1;32m    <a href='file:///Users/joshsteinbecker/Library/Python/3.8/lib/python/site-packages/pandas/core/ops/array_ops.py?line=106'>107</a>\u001b[0m     \u001b[39mif\u001b[39;00m mask\u001b[39m.\u001b[39many():\n\u001b[0;32m--> <a href='file:///Users/joshsteinbecker/Library/Python/3.8/lib/python/site-packages/pandas/core/ops/array_ops.py?line=107'>108</a>\u001b[0m         result[mask] \u001b[39m=\u001b[39m op(xrav[mask], yrav[mask])\n\u001b[1;32m    <a href='file:///Users/joshsteinbecker/Library/Python/3.8/lib/python/site-packages/pandas/core/ops/array_ops.py?line=109'>110</a>\u001b[0m \u001b[39melse\u001b[39;00m:\n\u001b[1;32m    <a href='file:///Users/joshsteinbecker/Library/Python/3.8/lib/python/site-packages/pandas/core/ops/array_ops.py?line=110'>111</a>\u001b[0m     \u001b[39mif\u001b[39;00m \u001b[39mnot\u001b[39;00m is_scalar(y):\n",
      "\u001b[0;31mTypeError\u001b[0m: unsupported operand type(s) for -: 'str' and 'str'"
     ]
    }
   ],
   "source": [
    "df['_range'] = [re.findall('\\d+\\.*\\d*', x) for x in df['Range']]\n",
    "df['lo'] = [df['_range'].iloc[x][0] for x in range(len(df))]\n",
    "df['hi'] = [df['_range'].iloc[x][1] for x in range(len(df))]\n",
    "df['span'] = df.hi - df.lo\n",
    "df['therindex'] = df.span / (df.hi - (df.span / 2)) \n",
    "del df['_range']\n",
    "df.sample(5)"
   ]
  },
  {
   "cell_type": "code",
   "execution_count": null,
   "metadata": {},
   "outputs": [],
   "source": []
  }
 ],
 "metadata": {
  "interpreter": {
   "hash": "31f2aee4e71d21fbe5cf8b01ff0e069b9275f58929596ceb00d14d90e3e16cd6"
  },
  "kernelspec": {
   "display_name": "Python 3.8.2 64-bit",
   "language": "python",
   "name": "python3"
  },
  "language_info": {
   "codemirror_mode": {
    "name": "ipython",
    "version": 3
   },
   "file_extension": ".py",
   "mimetype": "text/x-python",
   "name": "python",
   "nbconvert_exporter": "python",
   "pygments_lexer": "ipython3",
   "version": "3.8.2"
  },
  "orig_nbformat": 4
 },
 "nbformat": 4,
 "nbformat_minor": 2
}
