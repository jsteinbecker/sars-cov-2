{
 "cells": [
  {
   "cell_type": "code",
   "execution_count": 1,
   "metadata": {},
   "outputs": [],
   "source": [
    "import pandas as pd\n",
    "import re"
   ]
  },
  {
   "cell_type": "code",
   "execution_count": 2,
   "metadata": {
    "vscode": {
     "languageId": "powershell"
    }
   },
   "outputs": [
    {
     "name": "stdout",
     "output_type": "stream",
     "text": [
      "Overwriting DrugExampleRanges.tsv\n"
     ]
    }
   ],
   "source": [
    "%%file DrugExampleRanges.tsv\n",
    "Drug | Range\n",
    "Digoxin | 0.5–2.0 ng/mL\n",
    "Lidocaine |  1.5–5.0 mg/L\n",
    "Lithium | 0.6–1.4 mEq/L\n",
    "Phenobarbital | 15–40 mg/L\n",
    "Phenytoin |  10–20 mg/L\n",
    "Quinidine |  2–5 mg/L\n",
    "Cyclosporin | 150–400 ng/mL\n",
    "Valproic acid | 50–100 mg/L\n",
    "Carbamazepine |  4–12 mcg/mL\n",
    "Ethosuxamide |  40–100 mg/L\n",
    "Primidone |  5–12 mg/L"
   ]
  },
  {
   "cell_type": "code",
   "execution_count": 3,
   "metadata": {},
   "outputs": [
    {
     "data": {
      "text/html": [
       "<div>\n",
       "<style scoped>\n",
       "    .dataframe tbody tr th:only-of-type {\n",
       "        vertical-align: middle;\n",
       "    }\n",
       "\n",
       "    .dataframe tbody tr th {\n",
       "        vertical-align: top;\n",
       "    }\n",
       "\n",
       "    .dataframe thead th {\n",
       "        text-align: right;\n",
       "    }\n",
       "</style>\n",
       "<table border=\"1\" class=\"dataframe\">\n",
       "  <thead>\n",
       "    <tr style=\"text-align: right;\">\n",
       "      <th></th>\n",
       "      <th>Drug</th>\n",
       "      <th>Range</th>\n",
       "    </tr>\n",
       "  </thead>\n",
       "  <tbody>\n",
       "    <tr>\n",
       "      <th>0</th>\n",
       "      <td>Digoxin</td>\n",
       "      <td>0.5–2.0 ng/mL</td>\n",
       "    </tr>\n",
       "    <tr>\n",
       "      <th>1</th>\n",
       "      <td>Lidocaine</td>\n",
       "      <td>1.5–5.0 mg/L</td>\n",
       "    </tr>\n",
       "    <tr>\n",
       "      <th>2</th>\n",
       "      <td>Lithium</td>\n",
       "      <td>0.6–1.4 mEq/L</td>\n",
       "    </tr>\n",
       "    <tr>\n",
       "      <th>3</th>\n",
       "      <td>Phenobarbital</td>\n",
       "      <td>15–40 mg/L</td>\n",
       "    </tr>\n",
       "    <tr>\n",
       "      <th>4</th>\n",
       "      <td>Phenytoin</td>\n",
       "      <td>10–20 mg/L</td>\n",
       "    </tr>\n",
       "    <tr>\n",
       "      <th>5</th>\n",
       "      <td>Quinidine</td>\n",
       "      <td>2–5 mg/L</td>\n",
       "    </tr>\n",
       "    <tr>\n",
       "      <th>6</th>\n",
       "      <td>Cyclosporin</td>\n",
       "      <td>150–400 ng/mL</td>\n",
       "    </tr>\n",
       "    <tr>\n",
       "      <th>7</th>\n",
       "      <td>Valproic acid</td>\n",
       "      <td>50–100 mg/L</td>\n",
       "    </tr>\n",
       "    <tr>\n",
       "      <th>8</th>\n",
       "      <td>Carbamazepine</td>\n",
       "      <td>4–12 mcg/mL</td>\n",
       "    </tr>\n",
       "    <tr>\n",
       "      <th>9</th>\n",
       "      <td>Ethosuxamide</td>\n",
       "      <td>40–100 mg/L</td>\n",
       "    </tr>\n",
       "    <tr>\n",
       "      <th>10</th>\n",
       "      <td>Primidone</td>\n",
       "      <td>5–12 mg/L</td>\n",
       "    </tr>\n",
       "  </tbody>\n",
       "</table>\n",
       "</div>"
      ],
      "text/plain": [
       "              Drug           Range\n",
       "0         Digoxin    0.5–2.0 ng/mL\n",
       "1       Lidocaine     1.5–5.0 mg/L\n",
       "2         Lithium    0.6–1.4 mEq/L\n",
       "3   Phenobarbital       15–40 mg/L\n",
       "4       Phenytoin       10–20 mg/L\n",
       "5       Quinidine         2–5 mg/L\n",
       "6     Cyclosporin    150–400 ng/mL\n",
       "7   Valproic acid      50–100 mg/L\n",
       "8   Carbamazepine      4–12 mcg/mL\n",
       "9    Ethosuxamide      40–100 mg/L\n",
       "10      Primidone        5–12 mg/L"
      ]
     },
     "execution_count": 3,
     "metadata": {},
     "output_type": "execute_result"
    }
   ],
   "source": [
    "df = pd.read_csv(\"DrugExampleRanges.tsv\",sep=\"|\")\n",
    "df.columns = df.columns.str.replace(' ','')\n",
    "df"
   ]
  },
  {
   "cell_type": "code",
   "execution_count": 12,
   "metadata": {},
   "outputs": [
    {
     "data": {
      "text/html": [
       "<div>\n",
       "<style scoped>\n",
       "    .dataframe tbody tr th:only-of-type {\n",
       "        vertical-align: middle;\n",
       "    }\n",
       "\n",
       "    .dataframe tbody tr th {\n",
       "        vertical-align: top;\n",
       "    }\n",
       "\n",
       "    .dataframe thead th {\n",
       "        text-align: right;\n",
       "    }\n",
       "</style>\n",
       "<table border=\"1\" class=\"dataframe\">\n",
       "  <thead>\n",
       "    <tr style=\"text-align: right;\">\n",
       "      <th></th>\n",
       "      <th>Drug</th>\n",
       "      <th>Range</th>\n",
       "      <th>lo</th>\n",
       "      <th>hi</th>\n",
       "      <th>span</th>\n",
       "    </tr>\n",
       "  </thead>\n",
       "  <tbody>\n",
       "    <tr>\n",
       "      <th>10</th>\n",
       "      <td>Primidone</td>\n",
       "      <td>5–12 mg/L</td>\n",
       "      <td>5.0</td>\n",
       "      <td>12.0</td>\n",
       "      <td>7.0</td>\n",
       "    </tr>\n",
       "    <tr>\n",
       "      <th>1</th>\n",
       "      <td>Lidocaine</td>\n",
       "      <td>1.5–5.0 mg/L</td>\n",
       "      <td>1.5</td>\n",
       "      <td>5.0</td>\n",
       "      <td>3.5</td>\n",
       "    </tr>\n",
       "    <tr>\n",
       "      <th>2</th>\n",
       "      <td>Lithium</td>\n",
       "      <td>0.6–1.4 mEq/L</td>\n",
       "      <td>0.6</td>\n",
       "      <td>1.4</td>\n",
       "      <td>0.8</td>\n",
       "    </tr>\n",
       "    <tr>\n",
       "      <th>8</th>\n",
       "      <td>Carbamazepine</td>\n",
       "      <td>4–12 mcg/mL</td>\n",
       "      <td>4.0</td>\n",
       "      <td>12.0</td>\n",
       "      <td>8.0</td>\n",
       "    </tr>\n",
       "    <tr>\n",
       "      <th>3</th>\n",
       "      <td>Phenobarbital</td>\n",
       "      <td>15–40 mg/L</td>\n",
       "      <td>15.0</td>\n",
       "      <td>40.0</td>\n",
       "      <td>25.0</td>\n",
       "    </tr>\n",
       "  </tbody>\n",
       "</table>\n",
       "</div>"
      ],
      "text/plain": [
       "              Drug           Range    lo    hi  span\n",
       "10      Primidone        5–12 mg/L   5.0  12.0   7.0\n",
       "1       Lidocaine     1.5–5.0 mg/L   1.5   5.0   3.5\n",
       "2         Lithium    0.6–1.4 mEq/L   0.6   1.4   0.8\n",
       "8   Carbamazepine      4–12 mcg/mL   4.0  12.0   8.0\n",
       "3   Phenobarbital       15–40 mg/L  15.0  40.0  25.0"
      ]
     },
     "execution_count": 12,
     "metadata": {},
     "output_type": "execute_result"
    }
   ],
   "source": [
    "df['_range'] = [re.findall('\\d+\\.*\\d*', x) for x in df['Range']]\n",
    "df['lo'] = [float(df['_range'].iloc[x][0]) for x in range(len(df))]\n",
    "df['hi'] = [float(df['_range'].iloc[x][1]) for x in range(len(df))]\n",
    "df['span'] = df.hi - df.lo\n",
    "\n",
    "del df['_range']\n",
    "df.sample(5)"
   ]
  },
  {
   "cell_type": "code",
   "execution_count": null,
   "metadata": {},
   "outputs": [],
   "source": []
  }
 ],
 "metadata": {
  "interpreter": {
   "hash": "31f2aee4e71d21fbe5cf8b01ff0e069b9275f58929596ceb00d14d90e3e16cd6"
  },
  "kernelspec": {
   "display_name": "Python 3.8.2 64-bit",
   "language": "python",
   "name": "python3"
  },
  "language_info": {
   "codemirror_mode": {
    "name": "ipython",
    "version": 3
   },
   "file_extension": ".py",
   "mimetype": "text/x-python",
   "name": "python",
   "nbconvert_exporter": "python",
   "pygments_lexer": "ipython3",
   "version": "3.8.2"
  },
  "orig_nbformat": 4
 },
 "nbformat": 4,
 "nbformat_minor": 2
}
