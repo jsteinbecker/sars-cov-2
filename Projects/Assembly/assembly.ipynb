{
 "cells": [
  {
   "cell_type": "markdown",
   "metadata": {},
   "source": [
    "# Assembly and Its Challenges"
   ]
  },
  {
   "cell_type": "markdown",
   "metadata": {},
   "source": [
    "## Code"
   ]
  },
  {
   "cell_type": "code",
   "execution_count": 11,
   "metadata": {},
   "outputs": [],
   "source": [
    "def k_minus_1_mer (string:str , k:int):\n",
    "   \"\"\"K-1merizer\n",
    "   Args:\n",
    "       >>> string (str) : Input\n",
    "       >>> k      (int) : Length of reads\n",
    "   \"\"\"\n",
    "   runcount = len(string) - k + 1\n",
    "   rng = range (runcount)\n",
    "   st = []\n",
    "   for i in rng:\n",
    "      kmer = []\n",
    "      for j in range(k):\n",
    "         kmerunit = string[i+j]\n",
    "         kmer.append(kmerunit)\n",
    "      st.append(\"\".join(kmer))\n",
    "   return st\n",
    " \n",
    "def unique_in_list (lst:list):\n",
    "   st = []\n",
    "   dups= []\n",
    "   for unit in lst:\n",
    "      if unit in st:\n",
    "         dups.append(unit)\n",
    "      else:\n",
    "         st.append(unit)\n",
    "   return st, dups\n",
    "\n",
    "def dupes_in_list (lst:list):\n",
    "   st = []\n",
    "   for unit in lst:\n",
    "      if unit in st:\n",
    "         st.append(unit) \n",
    "   return st\n",
    "\n",
    "def run (string,k):\n",
    "   a = k_minus_1_mer(string,k)\n",
    "   b = unique_in_list(a)\n",
    "   dup = len(a)-len(b)\n",
    "   print(f'string:\\t\\t\\t{string}\\nk:\\t\\t\\t{k}\\nk-mer set:\\t\\t{a}\\n\\nUnique:\\t\\t\\t{b[0]}\\n\\nDuplicates:\\t\\t{dup} ({dup}/{len(a)}  ,  {round((dup)/len(a)*100,2)}%)\\nDuplicate set:\\t\\t{b[1]}')"
   ]
  },
  {
   "cell_type": "markdown",
   "metadata": {},
   "source": [
    "## Examples"
   ]
  },
  {
   "cell_type": "code",
   "execution_count": 12,
   "metadata": {},
   "outputs": [
    {
     "name": "stdout",
     "output_type": "stream",
     "text": [
      "string:\t\t\tACGTGGACGGTGCGCGGGTGA\n",
      "k:\t\t\t2\n",
      "k-mer set:\t\t['AC', 'CG', 'GT', 'TG', 'GG', 'GA', 'AC', 'CG', 'GG', 'GT', 'TG', 'GC', 'CG', 'GC', 'CG', 'GG', 'GG', 'GT', 'TG', 'GA']\n",
      "\n",
      "Unique:\t\t\t['AC', 'CG', 'GT', 'TG', 'GG', 'GA', 'GC']\n",
      "\n",
      "Duplicates:\t\t18 (18/20  ,  90.0%)\n",
      "Duplicate set:\t\t['AC', 'CG', 'GG', 'GT', 'TG', 'CG', 'GC', 'CG', 'GG', 'GG', 'GT', 'TG', 'GA']\n"
     ]
    }
   ],
   "source": [
    "run(\"ACGTGGACGGTGCGCGGGTGA\", k= 2)"
   ]
  },
  {
   "cell_type": "code",
   "execution_count": 13,
   "metadata": {},
   "outputs": [
    {
     "name": "stdout",
     "output_type": "stream",
     "text": [
      "string:\t\t\tONCE UPON A TIME, IN A FAR OFF LAND, THERE LAY A SMALL VILLAGE AT THE EDGE OF THE WOOD.\n",
      "k:\t\t\t3\n",
      "k-mer set:\t\t['ONC', 'NCE', 'CE ', 'E U', ' UP', 'UPO', 'PON', 'ON ', 'N A', ' A ', 'A T', ' TI', 'TIM', 'IME', 'ME,', 'E, ', ', I', ' IN', 'IN ', 'N A', ' A ', 'A F', ' FA', 'FAR', 'AR ', 'R O', ' OF', 'OFF', 'FF ', 'F L', ' LA', 'LAN', 'AND', 'ND,', 'D, ', ', T', ' TH', 'THE', 'HER', 'ERE', 'RE ', 'E L', ' LA', 'LAY', 'AY ', 'Y A', ' A ', 'A S', ' SM', 'SMA', 'MAL', 'ALL', 'LL ', 'L V', ' VI', 'VIL', 'ILL', 'LLA', 'LAG', 'AGE', 'GE ', 'E A', ' AT', 'AT ', 'T T', ' TH', 'THE', 'HE ', 'E E', ' ED', 'EDG', 'DGE', 'GE ', 'E O', ' OF', 'OF ', 'F T', ' TH', 'THE', 'HE ', 'E W', ' WO', 'WOO', 'OOD', 'OD.']\n",
      "\n",
      "Unique:\t\t\t['ONC', 'NCE', 'CE ', 'E U', ' UP', 'UPO', 'PON', 'ON ', 'N A', ' A ', 'A T', ' TI', 'TIM', 'IME', 'ME,', 'E, ', ', I', ' IN', 'IN ', 'A F', ' FA', 'FAR', 'AR ', 'R O', ' OF', 'OFF', 'FF ', 'F L', ' LA', 'LAN', 'AND', 'ND,', 'D, ', ', T', ' TH', 'THE', 'HER', 'ERE', 'RE ', 'E L', 'LAY', 'AY ', 'Y A', 'A S', ' SM', 'SMA', 'MAL', 'ALL', 'LL ', 'L V', ' VI', 'VIL', 'ILL', 'LLA', 'LAG', 'AGE', 'GE ', 'E A', ' AT', 'AT ', 'T T', 'HE ', 'E E', ' ED', 'EDG', 'DGE', 'E O', 'OF ', 'F T', 'E W', ' WO', 'WOO', 'OOD', 'OD.']\n",
      "\n",
      "Duplicates:\t\t83 (83/85  ,  97.65%)\n",
      "Duplicate set:\t\t['N A', ' A ', ' LA', ' A ', ' TH', 'THE', 'GE ', ' OF', ' TH', 'THE', 'HE ']\n"
     ]
    }
   ],
   "source": [
    "run (\"ONCE UPON A TIME, IN A FAR OFF LAND, THERE LAY A SMALL VILLAGE AT THE EDGE OF THE WOOD.\",3)"
   ]
  },
  {
   "cell_type": "code",
   "execution_count": null,
   "metadata": {},
   "outputs": [],
   "source": []
  }
 ],
 "metadata": {
  "interpreter": {
   "hash": "31f2aee4e71d21fbe5cf8b01ff0e069b9275f58929596ceb00d14d90e3e16cd6"
  },
  "kernelspec": {
   "display_name": "Python 3.8.2 64-bit",
   "language": "python",
   "name": "python3"
  },
  "language_info": {
   "codemirror_mode": {
    "name": "ipython",
    "version": 3
   },
   "file_extension": ".py",
   "mimetype": "text/x-python",
   "name": "python",
   "nbconvert_exporter": "python",
   "pygments_lexer": "ipython3",
   "version": "3.8.2"
  },
  "orig_nbformat": 4
 },
 "nbformat": 4,
 "nbformat_minor": 2
}
