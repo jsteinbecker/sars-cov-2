{
 "cells": [
  {
   "cell_type": "code",
   "execution_count": 1,
   "metadata": {
    "vscode": {
     "languageId": "bat"
    }
   },
   "outputs": [
    {
     "name": "stdout",
     "output_type": "stream",
     "text": [
      "Requirement already satisfied: sympy in /workspace/.pip-modules/lib/python3.8/site-packages (1.10.1)\n",
      "Requirement already satisfied: mpmath>=0.19 in /workspace/.pip-modules/lib/python3.8/site-packages (from sympy) (1.2.1)\n"
     ]
    }
   ],
   "source": [
    "!pip3 install sympy"
   ]
  },
  {
   "cell_type": "code",
   "execution_count": 2,
   "metadata": {},
   "outputs": [],
   "source": [
    "#import functions.math as math\n",
    "import sympy as sp\n",
    "from IPython.display import display, Markdown\n",
    "\n",
    "\n",
    "\n",
    "def solveEq(equation,  solvefor,   displayTable=True) -> display :\n",
    "   \"\"\"\n",
    "   |--MARKDOWN DISPLAY FUNCTION--------------------|\n",
    "   \n",
    "      SOLVE SYMPY EQUATION, DISPLAYS BOXED ANSWER  \n",
    "   |===============================================|\n",
    "   |\n",
    "   |        >>> 1. equation    : sympy\n",
    "   |        >>> 2. solveFor    : sp.Symbol\n",
    "   |      \n",
    "   |        >>> *3. displayTable   = True\n",
    "   |_______________________________________________|\n",
    "   \"\"\"\n",
    "\n",
    "   try:\n",
    "      # GOOD RESPONSE ASSUMING SP PUT SOLUTION IN LIST\n",
    "      s = sp.solve(equation, solvefor)[0]\n",
    "   except:\n",
    "      return \"UNSOLVABLE\"\n",
    "   eq = sp.Eq(solvefor, s)\n",
    "\n",
    "   #display (Markdown(\"$~~~~~~~~~~\\\\boxed{\"+eq._repr_latex_().replace(\"$\",\"\")+\"}$\"))\n",
    "   if displayTable == True:\n",
    "      solved = \"$\\\\boxed{\"+eq._repr_latex_().replace(\"$\", \"\")+\"}$\"\n",
    "      equa = eq._repr_latex_()\n",
    "      table = f'Equation | *Solve for {solvefor._repr_latex_()} :*\\n---|---------\\n{equation._repr_latex_()} | {solved}'\n",
    "      MD = Markdown(table)\n",
    "\n",
    "      return display(MD)\n",
    "   \n",
    "   else:\n",
    "      pass\n",
    "   #===========================================\n",
    "    \n",
    "def mortgagepayment(P, apr, yrs) -> float :\n",
    "   \"\"\"----MORTGAGE PAYMENT--------------------------------\n",
    "                                  --> MONTHLY PAYMENT IN $\n",
    "   -------------------------------------------------------\n",
    "      >>> P     : principle\n",
    "      >>> apr   : decimal APR\n",
    "      >>> yrs   : length of term in years\n",
    "   ======================================================\n",
    "   \"\"\"\n",
    "\n",
    "   r = apr / 12      # MONTHLY PERC. RATE\n",
    "   n = yrs * 12      # NUMBER OF MONTHS/ TERM\n",
    "\n",
    "   mp = round(P * r * ((r+1)**n) / ((r+1)**n-1), 2)\n",
    "   #print (f'Monthly Payment:\\t\\t${mp}')\n",
    "   return mp\n",
    "   #-----------------------------------------------------\n",
    "\n",
    "class EQN:\n",
    "   class MonthlyPayment:\n",
    "      \"\"\"---Monthly Payment----------------------------\n",
    "      \n",
    "         ~~~~~~~~~~~~~~~~~~~~~~~~~~~~~~~\n",
    "         >>> P     PRINCIPLE\n",
    "         >>> r     RATE/APR\n",
    "         >>> n     NO. OF MONTHS\n",
    "         >>> mp    MONTHLY PAYMENT \n",
    "         ~~~~~~~~~~~~~~~~~~~~~~~~~~~~~~~\n",
    "      =================================================\n",
    "      \"\"\"\n",
    "      P, r, n, mp = sp.symbols(\"P r n [PAY_{mo}]\")\n",
    "\n",
    "      equation = sp.Eq(mp, P * r * (((1 + r) ** n) / ((1 + r) ** n - 1)))\n",
    "\n",
    "      def solveMP(Principle, rate:float, n_months:int, display=0):\n",
    "         \"\"\" \n",
    "         ~~~~~~~~~~~~~~~~~~~~~~~~~~~~~~~~~~~~~~~~~~~~\n",
    "         >>> Principle      $$ of Loan\n",
    "         >>> rate           APR as decimal # (0.01 = 1%)\n",
    "         >>> n_months       No. of Months of Term\n",
    "         ~~~~~~~~~~~~~~~~~~~~~~~~~~~~~~~~~~~~~~~~~~~~\n",
    "         \"\"\"\n",
    "         eq = EQN.MonthlyPayment.equation\n",
    "         s = EQN.MonthlyPayment\n",
    "         mp = EQN.MonthlyPayment.mp\n",
    "\n",
    "         f = eq.subs({s.P: Principle,   s.n: n_months,  s.r: rate})\n",
    "\n",
    "         if display == 0:\n",
    "            return round(sp.solve(f, s.mp)[0], 2)\n",
    "         else:\n",
    "            return f\n",
    "\n",
    "class EQ_pH (EQN):\n",
    "   pH, H3O = sp.symbols(\"pH [H_{3}O]\")\n",
    "   symbols = pH, H3O\n",
    "   equation = sp.Eq(pH , -sp.log(H3O,10))\n",
    "   def solve_pH (self, pH):\n",
    "      return sp.solve(EQ_pH.equation.subs({EQ_pH.pH:pH}),EQ_pH.H3O)\n",
    "\n",
    "class s :\n",
    "      pH, pOH = sp.symbols(\"pH pOH\")\n",
    "\n",
    "class EQ_pH_POH (EQ_pH):\n",
    "   symbols = s.pH, s.pOH\n",
    "   equation = sp.Eq(s.pH + s.pOH , 14)\n",
    "   def solve (pH_in=s.pH,pOH_in=s.pOH):\n",
    "      return EQ_pH_POH.equation.evalf(subs={s.pH:pH_in,s.pOH:pH_in})\n",
    "\n",
    "def roundUpToMultiple(number: float, multiple: int) -> int:\n",
    "    \"\"\"\n",
    "    RETURNS VALUE ROUNDED TO A NEAREST MULTIPLE \n",
    "    >>> number\n",
    "    >>> multiple    to round up to\n",
    "    ======================================================\n",
    "    \n",
    "    (Reduces sig figs by factor of provided multiple when \n",
    "    multiple is a factor of 10)\n",
    "    ------------------------------------------------\n",
    "    Example: \n",
    "        Multiple of 100\n",
    "        >>> 12501 --> 12600\n",
    "        >>> 12500 --> 12500\n",
    "        \n",
    "    ================================================= \n",
    "    \"\"\"\n",
    "\n",
    "    rounded = number + (multiple - 1)\n",
    "    return int(rounded - (rounded % multiple))\n"
   ]
  },
  {
   "cell_type": "markdown",
   "metadata": {},
   "source": [
    "# The pH Equation\n"
   ]
  },
  {
   "cell_type": "markdown",
   "metadata": {},
   "source": [
    "####  Calculate the concentration of protons in a solution with $pH = 7$"
   ]
  },
  {
   "cell_type": "code",
   "execution_count": 3,
   "metadata": {},
   "outputs": [
    {
     "data": {
      "text/latex": [
       "$\\displaystyle pH = - \\frac{\\log{\\left([H_{3}O] \\right)}}{\\log{\\left(10 \\right)}}$"
      ],
      "text/plain": [
       "Eq(pH, -log([H_{3}O])/log(10))"
      ]
     },
     "execution_count": 3,
     "metadata": {},
     "output_type": "execute_result"
    }
   ],
   "source": [
    "eq = EQ_pH    \n",
    "eq.equation"
   ]
  },
  {
   "cell_type": "code",
   "execution_count": 8,
   "metadata": {},
   "outputs": [
    {
     "data": {
      "text/plain": [
       "1e-10"
      ]
     },
     "execution_count": 8,
     "metadata": {},
     "output_type": "execute_result"
    }
   ],
   "source": [
    "sub = eq.equation.subs({eq.pH: 7})\n",
    "float(EQ_pH.solve_pH(eq.equation, 10)[0])"
   ]
  },
  {
   "cell_type": "markdown",
   "metadata": {},
   "source": [
    "#### Calculate the pOH of a solution with $pH = 2.2$"
   ]
  },
  {
   "cell_type": "code",
   "execution_count": 5,
   "metadata": {},
   "outputs": [
    {
     "data": {
      "text/latex": [
       "$\\displaystyle pH + pOH = 14$"
      ],
      "text/plain": [
       "Eq(pH + pOH, 14)"
      ]
     },
     "execution_count": 5,
     "metadata": {},
     "output_type": "execute_result"
    }
   ],
   "source": [
    "eq = EQ_pH_POH\n",
    "eq.equation"
   ]
  },
  {
   "cell_type": "code",
   "execution_count": 12,
   "metadata": {},
   "outputs": [
    {
     "data": {
      "text/latex": [
       "$\\displaystyle 2.0 pH = 14.0$"
      ],
      "text/plain": [
       "Eq(2.0*pH, 14.0)"
      ]
     },
     "execution_count": 12,
     "metadata": {},
     "output_type": "execute_result"
    }
   ],
   "source": [
    "\"Not working??\"\n",
    "eq.solve(eq.pH)\n"
   ]
  },
  {
   "cell_type": "code",
   "execution_count": null,
   "metadata": {},
   "outputs": [],
   "source": []
  }
 ],
 "metadata": {
  "interpreter": {
   "hash": "31f2aee4e71d21fbe5cf8b01ff0e069b9275f58929596ceb00d14d90e3e16cd6"
  },
  "kernelspec": {
   "display_name": "Python 3.8.2 64-bit",
   "language": "python",
   "name": "python3"
  },
  "language_info": {
   "codemirror_mode": {
    "name": "ipython",
    "version": 3
   },
   "file_extension": ".py",
   "mimetype": "text/x-python",
   "name": "python",
   "nbconvert_exporter": "python",
   "pygments_lexer": "ipython3",
   "version": "3.8.2"
  },
  "orig_nbformat": 4
 },
 "nbformat": 4,
 "nbformat_minor": 2
}
