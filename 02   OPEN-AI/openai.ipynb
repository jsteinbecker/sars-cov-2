{
 "cells": [
  {
   "cell_type": "code",
   "execution_count": 4,
   "metadata": {},
   "outputs": [
    {
     "name": "stdout",
     "output_type": "stream",
     "text": [
      "WARNING: pip is being invoked by an old script wrapper. This will fail in a future version of pip.\n",
      "Please see https://github.com/pypa/pip/issues/5599 for advice on fixing the underlying issue.\n",
      "To avoid this problem you can invoke Python with '-m pip' instead of running pip directly.\n",
      "Defaulting to user installation because normal site-packages is not writeable\n",
      "Collecting openai\n",
      "  Downloading openai-0.18.1.tar.gz (42 kB)\n",
      "     |████████████████████████████████| 42 kB 190 kB/s            \n",
      "\u001b[?25h\u001b[33m  WARNING: Value for prefixed-purelib does not match. Please report this to <https://github.com/pypa/pip/issues/10151>\n",
      "  distutils: /private/var/folders/sz/0lyp_0wx3mgdzpg0t_hg1zh40000gn/T/pip-build-env-lbt2k64p/normal/lib/python3.8/site-packages\n",
      "  sysconfig: /Library/Python/3.8/site-packages\u001b[0m\n",
      "\u001b[33m  WARNING: Value for prefixed-platlib does not match. Please report this to <https://github.com/pypa/pip/issues/10151>\n",
      "  distutils: /private/var/folders/sz/0lyp_0wx3mgdzpg0t_hg1zh40000gn/T/pip-build-env-lbt2k64p/normal/lib/python3.8/site-packages\n",
      "  sysconfig: /Library/Python/3.8/site-packages\u001b[0m\n",
      "\u001b[33m  WARNING: Additional context:\n",
      "  user = False\n",
      "  home = None\n",
      "  root = None\n",
      "  prefix = '/private/var/folders/sz/0lyp_0wx3mgdzpg0t_hg1zh40000gn/T/pip-build-env-lbt2k64p/normal'\u001b[0m\n",
      "\u001b[33m  WARNING: Value for prefixed-purelib does not match. Please report this to <https://github.com/pypa/pip/issues/10151>\n",
      "  distutils: /private/var/folders/sz/0lyp_0wx3mgdzpg0t_hg1zh40000gn/T/pip-build-env-lbt2k64p/overlay/lib/python3.8/site-packages\n",
      "  sysconfig: /Library/Python/3.8/site-packages\u001b[0m\n",
      "\u001b[33m  WARNING: Value for prefixed-platlib does not match. Please report this to <https://github.com/pypa/pip/issues/10151>\n",
      "  distutils: /private/var/folders/sz/0lyp_0wx3mgdzpg0t_hg1zh40000gn/T/pip-build-env-lbt2k64p/overlay/lib/python3.8/site-packages\n",
      "  sysconfig: /Library/Python/3.8/site-packages\u001b[0m\n",
      "\u001b[33m  WARNING: Additional context:\n",
      "  user = False\n",
      "  home = None\n",
      "  root = None\n",
      "  prefix = '/private/var/folders/sz/0lyp_0wx3mgdzpg0t_hg1zh40000gn/T/pip-build-env-lbt2k64p/overlay'\u001b[0m\n",
      "  Installing build dependencies ... \u001b[?25ldone\n",
      "\u001b[?25h  Getting requirements to build wheel ... \u001b[?25ldone\n",
      "\u001b[?25h  Preparing metadata (pyproject.toml) ... \u001b[?25ldone\n",
      "\u001b[?25hRequirement already satisfied: requests>=2.20 in /Users/joshsteinbecker/Library/Python/3.8/lib/python/site-packages (from openai) (2.27.1)\n",
      "Requirement already satisfied: tqdm in /Users/joshsteinbecker/Library/Python/3.8/lib/python/site-packages (from openai) (4.64.0)\n",
      "Collecting pandas-stubs>=1.1.0.11\n",
      "  Downloading pandas_stubs-1.2.0.58-py3-none-any.whl (162 kB)\n",
      "     |████████████████████████████████| 162 kB 698 kB/s            \n",
      "\u001b[?25hRequirement already satisfied: pandas>=1.2.3 in /Users/joshsteinbecker/Library/Python/3.8/lib/python/site-packages (from openai) (1.4.0)\n",
      "Collecting openpyxl>=3.0.7\n",
      "  Downloading openpyxl-3.0.9-py2.py3-none-any.whl (242 kB)\n",
      "     |████████████████████████████████| 242 kB 8.1 MB/s            \n",
      "\u001b[?25hCollecting et-xmlfile\n",
      "  Downloading et_xmlfile-1.1.0-py3-none-any.whl (4.7 kB)\n",
      "Requirement already satisfied: numpy>=1.18.5 in /Users/joshsteinbecker/Library/Python/3.8/lib/python/site-packages (from pandas>=1.2.3->openai) (1.22.0)\n",
      "Requirement already satisfied: pytz>=2020.1 in /Users/joshsteinbecker/Library/Python/3.8/lib/python/site-packages (from pandas>=1.2.3->openai) (2021.3)\n",
      "Requirement already satisfied: python-dateutil>=2.8.1 in /Users/joshsteinbecker/Library/Python/3.8/lib/python/site-packages (from pandas>=1.2.3->openai) (2.8.2)\n",
      "Requirement already satisfied: charset-normalizer~=2.0.0 in /Users/joshsteinbecker/Library/Python/3.8/lib/python/site-packages (from requests>=2.20->openai) (2.0.10)\n",
      "Requirement already satisfied: certifi>=2017.4.17 in /Users/joshsteinbecker/Library/Python/3.8/lib/python/site-packages (from requests>=2.20->openai) (2021.10.8)\n",
      "Requirement already satisfied: urllib3<1.27,>=1.21.1 in /Users/joshsteinbecker/Library/Python/3.8/lib/python/site-packages (from requests>=2.20->openai) (1.26.8)\n",
      "Requirement already satisfied: idna<4,>=2.5 in /Users/joshsteinbecker/Library/Python/3.8/lib/python/site-packages (from requests>=2.20->openai) (3.3)\n",
      "Requirement already satisfied: six>=1.5 in /Library/Developer/CommandLineTools/Library/Frameworks/Python3.framework/Versions/3.8/lib/python3.8/site-packages (from python-dateutil>=2.8.1->pandas>=1.2.3->openai) (1.15.0)\n",
      "Building wheels for collected packages: openai\n",
      "  Building wheel for openai (pyproject.toml) ... \u001b[?25ldone\n",
      "\u001b[?25h  Created wheel for openai: filename=openai-0.18.1-py3-none-any.whl size=53155 sha256=f4fac046aa55a2dd2dab7688afe8f55700cc5ad402a78f8bcdc94e4f1113df57\n",
      "  Stored in directory: /Users/joshsteinbecker/Library/Caches/pip/wheels/ee/cc/1d/43d62a234d1a2eae513f28498fe7970f0bb507491850fc0dda\n",
      "Successfully built openai\n",
      "Installing collected packages: et-xmlfile, pandas-stubs, openpyxl, openai\n",
      "\u001b[33m  WARNING: The script openai is installed in '/Users/joshsteinbecker/Library/Python/3.8/bin' which is not on PATH.\n",
      "  Consider adding this directory to PATH or, if you prefer to suppress this warning, use --no-warn-script-location.\u001b[0m\n",
      "Successfully installed et-xmlfile-1.1.0 openai-0.18.1 openpyxl-3.0.9 pandas-stubs-1.2.0.58\n",
      "\u001b[33mWARNING: You are using pip version 21.3.1; however, version 22.0.4 is available.\n",
      "You should consider upgrading via the '/Library/Developer/CommandLineTools/usr/bin/python3 -m pip install --upgrade pip' command.\u001b[0m\n"
     ]
    }
   ],
   "source": [
    "!pip3 install openai"
   ]
  },
  {
   "cell_type": "code",
   "execution_count": 5,
   "metadata": {},
   "outputs": [],
   "source": [
    "import openai"
   ]
  },
  {
   "cell_type": "code",
   "execution_count": null,
   "metadata": {},
   "outputs": [],
   "source": [
    "openai.api_key = "
   ]
  }
 ],
 "metadata": {
  "interpreter": {
   "hash": "8fd295a7007e560b192f709854f66b36915a5382ae77c4fca9f0e6f21003d31e"
  },
  "kernelspec": {
   "display_name": "Python 3.9.5 ('base')",
   "language": "python",
   "name": "python3"
  },
  "language_info": {
   "codemirror_mode": {
    "name": "ipython",
    "version": 3
   },
   "file_extension": ".py",
   "mimetype": "text/x-python",
   "name": "python",
   "nbconvert_exporter": "python",
   "pygments_lexer": "ipython3",
   "version": "3.8.2"
  },
  "orig_nbformat": 4
 },
 "nbformat": 4,
 "nbformat_minor": 2
}
