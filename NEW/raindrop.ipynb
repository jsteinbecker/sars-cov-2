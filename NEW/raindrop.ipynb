{
 "cells": [
  {
   "cell_type": "code",
   "execution_count": 1,
   "metadata": {},
   "outputs": [
    {
     "name": "stdout",
     "output_type": "stream",
     "text": [
      "WARNING: pip is being invoked by an old script wrapper. This will fail in a future version of pip.\n",
      "Please see https://github.com/pypa/pip/issues/5599 for advice on fixing the underlying issue.\n",
      "To avoid this problem you can invoke Python with '-m pip' instead of running pip directly.\n",
      "Defaulting to user installation because normal site-packages is not writeable\n",
      "Requirement already satisfied: python-raindropio in /Users/joshsteinbecker/Library/Python/3.8/lib/python/site-packages (0.0.4)\n",
      "Requirement already satisfied: jashin>=0.0.6 in /Users/joshsteinbecker/Library/Python/3.8/lib/python/site-packages (from python-raindropio) (0.0.7)\n",
      "Requirement already satisfied: requests-oauthlib in /Users/joshsteinbecker/Library/Python/3.8/lib/python/site-packages (from python-raindropio) (1.3.1)\n",
      "Requirement already satisfied: python-dotenv in /Users/joshsteinbecker/Library/Python/3.8/lib/python/site-packages (from python-raindropio) (0.20.0)\n",
      "Requirement already satisfied: python-dateutil in /Users/joshsteinbecker/Library/Python/3.8/lib/python/site-packages (from python-raindropio) (2.8.2)\n",
      "Requirement already satisfied: requests in /Users/joshsteinbecker/Library/Python/3.8/lib/python/site-packages (from jashin>=0.0.6->python-raindropio) (2.27.1)\n",
      "Requirement already satisfied: six>=1.5 in /Library/Developer/CommandLineTools/Library/Frameworks/Python3.framework/Versions/3.8/lib/python3.8/site-packages (from python-dateutil->python-raindropio) (1.15.0)\n",
      "Requirement already satisfied: oauthlib>=3.0.0 in /Users/joshsteinbecker/Library/Python/3.8/lib/python/site-packages (from requests-oauthlib->python-raindropio) (3.2.0)\n",
      "Requirement already satisfied: idna<4,>=2.5 in /Users/joshsteinbecker/Library/Python/3.8/lib/python/site-packages (from requests->jashin>=0.0.6->python-raindropio) (3.3)\n",
      "Requirement already satisfied: urllib3<1.27,>=1.21.1 in /Users/joshsteinbecker/Library/Python/3.8/lib/python/site-packages (from requests->jashin>=0.0.6->python-raindropio) (1.26.8)\n",
      "Requirement already satisfied: certifi>=2017.4.17 in /Users/joshsteinbecker/Library/Python/3.8/lib/python/site-packages (from requests->jashin>=0.0.6->python-raindropio) (2021.10.8)\n",
      "Requirement already satisfied: charset-normalizer~=2.0.0 in /Users/joshsteinbecker/Library/Python/3.8/lib/python/site-packages (from requests->jashin>=0.0.6->python-raindropio) (2.0.10)\n",
      "\u001b[33mWARNING: You are using pip version 21.3.1; however, version 22.0.4 is available.\n",
      "You should consider upgrading via the '/Library/Developer/CommandLineTools/usr/bin/python3 -m pip install --upgrade pip' command.\u001b[0m\n"
     ]
    }
   ],
   "source": [
    "!pip3 install python-raindropio"
   ]
  }
 ],
 "metadata": {
  "interpreter": {
   "hash": "8fd295a7007e560b192f709854f66b36915a5382ae77c4fca9f0e6f21003d31e"
  },
  "kernelspec": {
   "display_name": "Python 3.9.5 ('base')",
   "language": "python",
   "name": "python3"
  },
  "language_info": {
   "codemirror_mode": {
    "name": "ipython",
    "version": 3
   },
   "file_extension": ".py",
   "mimetype": "text/x-python",
   "name": "python",
   "nbconvert_exporter": "python",
   "pygments_lexer": "ipython3",
   "version": "3.8.2"
  },
  "orig_nbformat": 4
 },
 "nbformat": 4,
 "nbformat_minor": 2
}
