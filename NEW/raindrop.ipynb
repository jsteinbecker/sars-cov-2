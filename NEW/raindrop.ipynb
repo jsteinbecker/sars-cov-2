{
 "cells": [
  {
   "cell_type": "code",
   "execution_count": 1,
   "metadata": {},
   "outputs": [
    {
     "name": "stdout",
     "output_type": "stream",
     "text": [
      "WARNING: pip is being invoked by an old script wrapper. This will fail in a future version of pip.\n",
      "Please see https://github.com/pypa/pip/issues/5599 for advice on fixing the underlying issue.\n",
      "To avoid this problem you can invoke Python with '-m pip' instead of running pip directly.\n",
      "Defaulting to user installation because normal site-packages is not writeable\n",
      "Requirement already satisfied: python-raindropio in /Users/joshsteinbecker/Library/Python/3.8/lib/python/site-packages (0.0.4)\n",
      "Requirement already satisfied: requests-oauthlib in /Users/joshsteinbecker/Library/Python/3.8/lib/python/site-packages (from python-raindropio) (1.3.1)\n",
      "Requirement already satisfied: python-dotenv in /Users/joshsteinbecker/Library/Python/3.8/lib/python/site-packages (from python-raindropio) (0.20.0)\n",
      "Requirement already satisfied: jashin>=0.0.6 in /Users/joshsteinbecker/Library/Python/3.8/lib/python/site-packages (from python-raindropio) (0.0.7)\n",
      "Requirement already satisfied: python-dateutil in /Users/joshsteinbecker/Library/Python/3.8/lib/python/site-packages (from python-raindropio) (2.8.2)\n",
      "Requirement already satisfied: requests in /Users/joshsteinbecker/Library/Python/3.8/lib/python/site-packages (from jashin>=0.0.6->python-raindropio) (2.27.1)\n",
      "Requirement already satisfied: six>=1.5 in /Library/Developer/CommandLineTools/Library/Frameworks/Python3.framework/Versions/3.8/lib/python3.8/site-packages (from python-dateutil->python-raindropio) (1.15.0)\n",
      "Requirement already satisfied: oauthlib>=3.0.0 in /Users/joshsteinbecker/Library/Python/3.8/lib/python/site-packages (from requests-oauthlib->python-raindropio) (3.2.0)\n",
      "Requirement already satisfied: idna<4,>=2.5 in /Users/joshsteinbecker/Library/Python/3.8/lib/python/site-packages (from requests->jashin>=0.0.6->python-raindropio) (3.3)\n",
      "Requirement already satisfied: urllib3<1.27,>=1.21.1 in /Users/joshsteinbecker/Library/Python/3.8/lib/python/site-packages (from requests->jashin>=0.0.6->python-raindropio) (1.26.8)\n",
      "Requirement already satisfied: charset-normalizer~=2.0.0 in /Users/joshsteinbecker/Library/Python/3.8/lib/python/site-packages (from requests->jashin>=0.0.6->python-raindropio) (2.0.10)\n",
      "Requirement already satisfied: certifi>=2017.4.17 in /Users/joshsteinbecker/Library/Python/3.8/lib/python/site-packages (from requests->jashin>=0.0.6->python-raindropio) (2021.10.8)\n",
      "\u001b[33mWARNING: You are using pip version 21.3.1; however, version 22.0.4 is available.\n",
      "You should consider upgrading via the '/Library/Developer/CommandLineTools/usr/bin/python3 -m pip install --upgrade pip' command.\u001b[0m\n"
     ]
    }
   ],
   "source": [
    "!pip3 install python-raindropio"
   ]
  },
  {
   "cell_type": "code",
   "execution_count": 2,
   "metadata": {},
   "outputs": [
    {
     "ename": "HTTPError",
     "evalue": "401 Client Error: Unauthorized for url: https://api.raindrop.io/rest/v1/collection",
     "output_type": "error",
     "traceback": [
      "\u001b[0;31m---------------------------------------------------------------------------\u001b[0m",
      "\u001b[0;31mHTTPError\u001b[0m                                 Traceback (most recent call last)",
      "\u001b[1;32m/Users/joshsteinbecker/jts_project/NEW/raindrop.ipynb Cell 2'\u001b[0m in \u001b[0;36m<module>\u001b[0;34m\u001b[0m\n\u001b[1;32m      <a href='vscode-notebook-cell:/Users/joshsteinbecker/jts_project/NEW/raindrop.ipynb#ch0000001?line=1'>2</a>\u001b[0m raidrop_access_token \u001b[39m=\u001b[39m \u001b[39m\"\u001b[39m\u001b[39m734bae7f-3cc5-4852-a6a8-a79d703e2418\u001b[39m\u001b[39m\"\u001b[39m\n\u001b[1;32m      <a href='vscode-notebook-cell:/Users/joshsteinbecker/jts_project/NEW/raindrop.ipynb#ch0000001?line=2'>3</a>\u001b[0m api \u001b[39m=\u001b[39m API(raidrop_access_token)\n\u001b[0;32m----> <a href='vscode-notebook-cell:/Users/joshsteinbecker/jts_project/NEW/raindrop.ipynb#ch0000001?line=4'>5</a>\u001b[0m c \u001b[39m=\u001b[39m Collection\u001b[39m.\u001b[39;49mcreate(api, title\u001b[39m=\u001b[39;49m\u001b[39m\"\u001b[39;49m\u001b[39mSample collection\u001b[39;49m\u001b[39m\"\u001b[39;49m)\n\u001b[1;32m      <a href='vscode-notebook-cell:/Users/joshsteinbecker/jts_project/NEW/raindrop.ipynb#ch0000001?line=5'>6</a>\u001b[0m \u001b[39mprint\u001b[39m(c\u001b[39m.\u001b[39mtitle)\n\u001b[1;32m      <a href='vscode-notebook-cell:/Users/joshsteinbecker/jts_project/NEW/raindrop.ipynb#ch0000001?line=6'>7</a>\u001b[0m c\u001b[39m.\u001b[39muser\u001b[39m.\u001b[39mvalues\n",
      "File \u001b[0;32m~/Library/Python/3.8/lib/python/site-packages/raindropio/models.py:145\u001b[0m, in \u001b[0;36mCollection.create\u001b[0;34m(cls, api, view, title, sort, public, parent, cover)\u001b[0m\n\u001b[1;32m    <a href='file:///Users/joshsteinbecker/Library/Python/3.8/lib/python/site-packages/raindropio/models.py?line=141'>142</a>\u001b[0m     args[\u001b[39m\"\u001b[39m\u001b[39mcover\u001b[39m\u001b[39m\"\u001b[39m] \u001b[39m=\u001b[39m cover\n\u001b[1;32m    <a href='file:///Users/joshsteinbecker/Library/Python/3.8/lib/python/site-packages/raindropio/models.py?line=143'>144</a>\u001b[0m URL \u001b[39m=\u001b[39m \u001b[39m\"\u001b[39m\u001b[39mhttps://api.raindrop.io/rest/v1/collection\u001b[39m\u001b[39m\"\u001b[39m\n\u001b[0;32m--> <a href='file:///Users/joshsteinbecker/Library/Python/3.8/lib/python/site-packages/raindropio/models.py?line=144'>145</a>\u001b[0m item \u001b[39m=\u001b[39m api\u001b[39m.\u001b[39;49mpost(URL, json\u001b[39m=\u001b[39;49margs)\u001b[39m.\u001b[39mjson()[\u001b[39m\"\u001b[39m\u001b[39mitem\u001b[39m\u001b[39m\"\u001b[39m]\n\u001b[1;32m    <a href='file:///Users/joshsteinbecker/Library/Python/3.8/lib/python/site-packages/raindropio/models.py?line=145'>146</a>\u001b[0m \u001b[39mreturn\u001b[39;00m Collection(item)\n",
      "File \u001b[0;32m~/Library/Python/3.8/lib/python/site-packages/raindropio/api.py:172\u001b[0m, in \u001b[0;36mAPI.post\u001b[0;34m(self, url, json)\u001b[0m\n\u001b[1;32m    <a href='file:///Users/joshsteinbecker/Library/Python/3.8/lib/python/site-packages/raindropio/api.py?line=169'>170</a>\u001b[0m \u001b[39massert\u001b[39;00m \u001b[39mself\u001b[39m\u001b[39m.\u001b[39msession\n\u001b[1;32m    <a href='file:///Users/joshsteinbecker/Library/Python/3.8/lib/python/site-packages/raindropio/api.py?line=170'>171</a>\u001b[0m ret \u001b[39m=\u001b[39m \u001b[39mself\u001b[39m\u001b[39m.\u001b[39msession\u001b[39m.\u001b[39mpost(url, headers\u001b[39m=\u001b[39m\u001b[39mself\u001b[39m\u001b[39m.\u001b[39m_request_headers(), data\u001b[39m=\u001b[39mjson)\n\u001b[0;32m--> <a href='file:///Users/joshsteinbecker/Library/Python/3.8/lib/python/site-packages/raindropio/api.py?line=171'>172</a>\u001b[0m \u001b[39mself\u001b[39;49m\u001b[39m.\u001b[39;49m_on_resp(ret)\n\u001b[1;32m    <a href='file:///Users/joshsteinbecker/Library/Python/3.8/lib/python/site-packages/raindropio/api.py?line=172'>173</a>\u001b[0m \u001b[39mreturn\u001b[39;00m ret\n",
      "File \u001b[0;32m~/Library/Python/3.8/lib/python/site-packages/raindropio/api.py:131\u001b[0m, in \u001b[0;36mAPI._on_resp\u001b[0;34m(self, resp)\u001b[0m\n\u001b[1;32m    <a href='file:///Users/joshsteinbecker/Library/Python/3.8/lib/python/site-packages/raindropio/api.py?line=127'>128</a>\u001b[0m \u001b[39mif\u001b[39;00m v \u001b[39mis\u001b[39;00m \u001b[39mnot\u001b[39;00m \u001b[39mNone\u001b[39;00m:\n\u001b[1;32m    <a href='file:///Users/joshsteinbecker/Library/Python/3.8/lib/python/site-packages/raindropio/api.py?line=128'>129</a>\u001b[0m     \u001b[39mself\u001b[39m\u001b[39m.\u001b[39mratelimit_reset \u001b[39m=\u001b[39m v\n\u001b[0;32m--> <a href='file:///Users/joshsteinbecker/Library/Python/3.8/lib/python/site-packages/raindropio/api.py?line=130'>131</a>\u001b[0m resp\u001b[39m.\u001b[39;49mraise_for_status()\n",
      "File \u001b[0;32m~/Library/Python/3.8/lib/python/site-packages/requests/models.py:960\u001b[0m, in \u001b[0;36mResponse.raise_for_status\u001b[0;34m(self)\u001b[0m\n\u001b[1;32m    <a href='file:///Users/joshsteinbecker/Library/Python/3.8/lib/python/site-packages/requests/models.py?line=956'>957</a>\u001b[0m     http_error_msg \u001b[39m=\u001b[39m \u001b[39mu\u001b[39m\u001b[39m'\u001b[39m\u001b[39m%s\u001b[39;00m\u001b[39m Server Error: \u001b[39m\u001b[39m%s\u001b[39;00m\u001b[39m for url: \u001b[39m\u001b[39m%s\u001b[39;00m\u001b[39m'\u001b[39m \u001b[39m%\u001b[39m (\u001b[39mself\u001b[39m\u001b[39m.\u001b[39mstatus_code, reason, \u001b[39mself\u001b[39m\u001b[39m.\u001b[39murl)\n\u001b[1;32m    <a href='file:///Users/joshsteinbecker/Library/Python/3.8/lib/python/site-packages/requests/models.py?line=958'>959</a>\u001b[0m \u001b[39mif\u001b[39;00m http_error_msg:\n\u001b[0;32m--> <a href='file:///Users/joshsteinbecker/Library/Python/3.8/lib/python/site-packages/requests/models.py?line=959'>960</a>\u001b[0m     \u001b[39mraise\u001b[39;00m HTTPError(http_error_msg, response\u001b[39m=\u001b[39m\u001b[39mself\u001b[39m)\n",
      "\u001b[0;31mHTTPError\u001b[0m: 401 Client Error: Unauthorized for url: https://api.raindrop.io/rest/v1/collection"
     ]
    }
   ],
   "source": [
    "from raindropio import API, Collection\n",
    "raidrop_access_token = \"734bae7f-3cc5-4852-a6a8-a79d703e2418\"\n",
    "api = API(raidrop_access_token)\n",
    "\n",
    "c = Collection.create(api, title=\"Sample collection\")\n",
    "print(c.title)\n",
    "c.user.values"
   ]
  },
  {
   "cell_type": "code",
   "execution_count": null,
   "metadata": {},
   "outputs": [],
   "source": []
  }
 ],
 "metadata": {
  "interpreter": {
   "hash": "8fd295a7007e560b192f709854f66b36915a5382ae77c4fca9f0e6f21003d31e"
  },
  "kernelspec": {
   "display_name": "Python 3.9.5 ('base')",
   "language": "python",
   "name": "python3"
  },
  "language_info": {
   "codemirror_mode": {
    "name": "ipython",
    "version": 3
   },
   "file_extension": ".py",
   "mimetype": "text/x-python",
   "name": "python",
   "nbconvert_exporter": "python",
   "pygments_lexer": "ipython3",
   "version": "3.8.2"
  },
  "orig_nbformat": 4
 },
 "nbformat": 4,
 "nbformat_minor": 2
}
