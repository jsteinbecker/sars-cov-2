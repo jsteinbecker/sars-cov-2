{
 "cells": [
  {
   "cell_type": "code",
   "execution_count": 1,
   "metadata": {},
   "outputs": [
    {
     "data": {
      "text/html": [
       "<img src=\"https://mermaid.ink/img/CmdyYXBoIExSOwogICAgQS0tPiBCICYgQyAmIEQ7CiAgICBCLS0+IEEgJiBFOwogICAgQy0tPiBBICYgRTsKICAgIEQtLT4gQSAmIEU7CiAgICBFLS0+IEIgJiBDICYgRDsK\"/>"
      ],
      "text/plain": [
       "<IPython.core.display.Image object>"
      ]
     },
     "metadata": {},
     "output_type": "display_data"
    }
   ],
   "source": [
    "import base64\n",
    "from IPython.display import Image, display\n",
    "import matplotlib.pyplot as plt\n",
    "\n",
    "def mm(graph):\n",
    "  graphbytes = graph.encode(\"ascii\")\n",
    "  base64_bytes = base64.b64encode(graphbytes)\n",
    "  base64_string = base64_bytes.decode(\"ascii\")\n",
    "  display(Image(url=\"https://mermaid.ink/img/\" + base64_string))\n",
    "\n",
    "mm(\"\"\"\n",
    "graph LR;\n",
    "    A--> B & C & D;\n",
    "    B--> A & E;\n",
    "    C--> A & E;\n",
    "    D--> A & E;\n",
    "    E--> B & C & D;\n",
    "\"\"\")"
   ]
  },
  {
   "cell_type": "code",
   "execution_count": 2,
   "metadata": {},
   "outputs": [
    {
     "data": {
      "text/html": [
       "<img src=\"https://mermaid.ink/img/CmdyYXBoIFREOwogICBJVigoSVZSb29tKSkgLS0+IE1Je01JfSAmIDdDezdDfSAmIEVJICYgTgogICBSKChSdW5uZXIpKSAtLT4gN0MgJiBNSSAmIEVQICYgMwogICBQRCgoUERlc2spKSAtLT4gN1AgJiBFUCAmIE4K\"/>"
      ],
      "text/plain": [
       "<IPython.core.display.Image object>"
      ]
     },
     "metadata": {},
     "output_type": "display_data"
    }
   ],
   "source": [
    "g = \"\"\"\n",
    "graph TD;\n",
    "   IV((IVRoom)) --> MI{MI} & 7C{7C} & EI & N\n",
    "   R((Runner)) --> 7C & MI & EP & 3\n",
    "   PD((PDesk)) --> 7P & EP & N\n",
    "\"\"\"\n",
    "mm(g)"
   ]
  },
  {
   "cell_type": "code",
   "execution_count": 33,
   "metadata": {},
   "outputs": [
    {
     "data": {
      "text/html": [
       "<img src=\"https://mermaid.ink/img/CiUle2luaXQ6IHsndGhlbWUnOiAnYmFzZScsICd0aGVtZVZhcmlhYmxlcyc6IHsgJ3ByaW1hcnlDb2xvcic6ICcjZmZjY2NjJywgJ2VkZ2VMYWJlbEJhY2tncm91bmQnOicjYWFhYWFhJywgJ3RlcnRpYXJ5Q29sb3InOiAnI2ZmZjBmMCcsICdiYWNrZ3JvdW5kJzonI2VlZWVlZSd9fX0lJQogICAgICAgIGdyYXBoIFRECiAgICAgICAgICBBW0NocmlzdG1hc10gLS0+fCBmYTpmYS1tb25leSBHZXQgbW9uZXkgLnwgQihHbyBzaG9wcGluZykKICAgICAgICAgIEIgLS0+IEN7ZmE6ZmEtY2xvdWQgPGJyPiBMZXQgbWUgdGhpbmt9CiAgICAgICAgICBCIC0tPiBHWy9Bbm90aGVyL10KICAgICAgICAgIEMgPT0+fE9uZXwgRFtmYTpmYS1sYXB0b3AgTGFwdG9wIC5dCiAgICAgICAgICBDIC0tPnxUd298IEVbZmE6ZmEtbW9iaWxlIGlQaG9uZSAuXQogICAgICAgICAgQyAtLT58VGhyZWV8IEZbZmE6ZmEtY2FyIENhciAuXQogICAgICAgICAgc3ViZ3JhcGggc2VjdGlvbgogICAgICAgICAgICBDCiAgICAgICAgICAgIEQKICAgICAgICAgICAgRQogICAgICAgICAgICBGCiAgICAgICAgICAgIEcKICAgICAgICAgIGVuZA==\"/>"
      ],
      "text/plain": [
       "<IPython.core.display.Image object>"
      ]
     },
     "metadata": {},
     "output_type": "display_data"
    }
   ],
   "source": [
    "g = \"\"\"\n",
    "%%{init: {'theme': 'base', 'themeVariables': { 'primaryColor': '#ffcccc', 'edgeLabelBackground':'#aaaaaa', 'tertiaryColor': '#fff0f0', 'background':'#eeeeee'}}}%%\n",
    "        graph TD\n",
    "          A[Christmas] -->| fa:fa-money Get money .| B(Go shopping)\n",
    "          B --> C{fa:fa-cloud <br> Let me think}\n",
    "          B --> G[/Another/]\n",
    "          C ==>|One| D[fa:fa-laptop Laptop .]\n",
    "          C -->|Two| E[fa:fa-mobile iPhone .]\n",
    "          C -->|Three| F[fa:fa-car Car .]\n",
    "          subgraph section\n",
    "            C\n",
    "            D\n",
    "            E\n",
    "            F\n",
    "            G\n",
    "          end\"\"\"\n",
    "mm(g)"
   ]
  },
  {
   "cell_type": "code",
   "execution_count": 44,
   "metadata": {},
   "outputs": [
    {
     "data": {
      "text/html": [
       "<p>hjk\n",
       "<link href=\"{% static 'fontawesomefree/css/all.min.css' %}\" rel=\"stylesheet\" type=\"text/css\"></p>\n"
      ],
      "text/plain": [
       "<IPython.core.display.HTML object>"
      ]
     },
     "metadata": {},
     "output_type": "display_data"
    }
   ],
   "source": [
    "%%HTML\n",
    "<p>hjk\n",
    "<link href=\"{% static 'fontawesomefree/css/all.min.css' %}\" rel=\"stylesheet\" type=\"text/css\"></p>"
   ]
  }
 ],
 "metadata": {
  "interpreter": {
   "hash": "8fd295a7007e560b192f709854f66b36915a5382ae77c4fca9f0e6f21003d31e"
  },
  "kernelspec": {
   "display_name": "Python 3.9.5 ('base')",
   "language": "python",
   "name": "python3"
  },
  "language_info": {
   "codemirror_mode": {
    "name": "ipython",
    "version": 3
   },
   "file_extension": ".py",
   "mimetype": "text/x-python",
   "name": "python",
   "nbconvert_exporter": "python",
   "pygments_lexer": "ipython3",
   "version": "3.8.2"
  },
  "orig_nbformat": 4
 },
 "nbformat": 4,
 "nbformat_minor": 2
}
