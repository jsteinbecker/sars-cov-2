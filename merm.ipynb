{
 "cells": [
  {
   "cell_type": "code",
   "execution_count": 2,
   "metadata": {},
   "outputs": [
    {
     "data": {
      "text/html": [
       "<img src=\"https://mermaid.ink/img/CmdyYXBoIExSOwogICAgQS0tPiBCICYgQyAmIEQ7CiAgICBCLS0+IEEgJiBFOwogICAgQy0tPiBBICYgRTsKICAgIEQtLT4gQSAmIEU7CiAgICBFLS0+IEIgJiBDICYgRDsK\"/>"
      ],
      "text/plain": [
       "<IPython.core.display.Image object>"
      ]
     },
     "metadata": {},
     "output_type": "display_data"
    }
   ],
   "source": [
    "import base64\n",
    "from IPython.display import Image, display\n",
    "import matplotlib.pyplot as plt\n",
    "\n",
    "def mm(graph):\n",
    "  graphbytes = graph.encode(\"ascii\")\n",
    "  base64_bytes = base64.b64encode(graphbytes)\n",
    "  base64_string = base64_bytes.decode(\"ascii\")\n",
    "  display(Image(url=\"https://mermaid.ink/img/\" + base64_string))\n",
    "\n",
    "mm(\"\"\"\n",
    "graph LR;\n",
    "    A--> B & C & D;\n",
    "    B--> A & E;\n",
    "    C--> A & E;\n",
    "    D--> A & E;\n",
    "    E--> B & C & D;\n",
    "\"\"\")"
   ]
  },
  {
   "cell_type": "code",
   "execution_count": 10,
   "metadata": {},
   "outputs": [
    {
     "data": {
      "text/html": [
       "<img src=\"https://mermaid.ink/img/CmdyYXBoIExSOwogICBzdWJncmFwaCAiQU0iCiAgICAgIE1JCiAgICAgIDdDCiAgICAgIDdQCiAgICAgIFMKICAgZW5kCiAgIHN1YmdyYXBoICJQTSIgCiAgICAgIEVJCiAgICAgIEVQCiAgICAgIDMKICAgZW5kCgogICBJVigoSVZSb29tKSkgLS0+IE1Je01JfSAmIDdDezdDfSAmIEVJICYgTgogICBSKChSdW5uZXIpKSAtLT4gN0MgJiBNSSAmIEVQICYgMwogICBQRCgoUERlc2spKSAtLT4gN1AgJiBFUCAmIE4KICAgCg==\"/>"
      ],
      "text/plain": [
       "<IPython.core.display.Image object>"
      ]
     },
     "metadata": {},
     "output_type": "display_data"
    }
   ],
   "source": [
    "g = \"\"\"\n",
    "graph LR;\n",
    "   subgraph \"AM\"\n",
    "      MI\n",
    "      7C\n",
    "      7P\n",
    "      S\n",
    "   end\n",
    "   subgraph \"PM\" \n",
    "      EI\n",
    "      EP\n",
    "      3\n",
    "   end\n",
    "\n",
    "   IV((IVRoom)) --> MI{MI} & 7C{7C} & EI & N\n",
    "   R((Runner)) --> 7C & MI & EP & 3\n",
    "   PD((PDesk)) --> 7P & EP & N\n",
    "   \n",
    "\"\"\"\n",
    "mm(g)"
   ]
  },
  {
   "cell_type": "code",
   "execution_count": 21,
   "metadata": {},
   "outputs": [
    {
     "data": {
      "text/html": [
       "<img src=\"https://mermaid.ink/img/CiUle2luaXQ6IHsndGhlbWUnOiAnYmFzZScsICd0aGVtZVZhcmlhYmxlcyc6IHsgJ3ByaW1hcnlDb2xvcic6ICcjZmZjY2NjJywgJ2VkZ2VMYWJlbEJhY2tncm91bmQnOicjYWFhYWFhJywgJ3RlcnRpYXJ5Q29sb3InOiAnI2ZmZjBmMCcsICdiYWNrZ3JvdW5kJzonI2VlZWVlZSd9fX0lJQogICAgICAgIGdyYXBoIFRECiAgICAgICAgICBBW0NocmlzdG1hcyA8YnI+ZmE6ZmEtdHJlZV0gLS0+fCBmYTpmYS1tb25leSBHZXQgbW9uZXkgLnwgQihHbyBzaG9wcGluZyA8YnI+ZmE6ZmEtc3RvcmUpCiAgICAgICAgICBCIC0tPiBDe2ZhOmZhLWNsb3VkIDxicj4gTGV0IG1lIHRoaW5rIGZhOmZhLXF1ZXN0aW9uIF99CiAgICAgICAgICBCIC0tPiBHWy9Bbm90aGVyIGZhOmZhLXR3by9dCiAgICAgICAgICBDID09PnxPbmV8IERbZmE6ZmEtbGFwdG9wIExhcHRvcCAuXQogICAgICAgICAgQyAtLT58VHdvfCBFW2ZhOmZhLW1vYmlsZSBpUGhvbmUgLl0KICAgICAgICAgIEMgLS0+fFRocmVlfCBGW2ZhOmZhLWNhciBDYXIgLl0KICAgICAgICAgIHN1YmdyYXBoICJzZWN0aW9uPGJyPiBmYTpmYS1zeXJpbmdlIgogICAgICAgICAgICBDCiAgICAgICAgICAgIEQKICAgICAgICAgICAgRQogICAgICAgICAgICBGCiAgICAgICAgICAgIEcKICAgICAgICAgIGVuZA==\"/>"
      ],
      "text/plain": [
       "<IPython.core.display.Image object>"
      ]
     },
     "metadata": {},
     "output_type": "display_data"
    }
   ],
   "source": [
    "g = \"\"\"\n",
    "%%{init: {'theme': 'base', 'themeVariables': { 'primaryColor': '#ffcccc', 'edgeLabelBackground':'#aaaaaa', 'tertiaryColor': '#fff0f0', 'background':'#eeeeee'}}}%%\n",
    "        graph TD\n",
    "          A[Christmas <br>fa:fa-tree] -->| fa:fa-money Get money .| B(Go shopping <br>fa:fa-store)\n",
    "          B --> C{fa:fa-cloud <br> Let me think fa:fa-question _}\n",
    "          B --> G[/Another fa:fa-two/]\n",
    "          C ==>|One| D[fa:fa-laptop Laptop .]\n",
    "          C -->|Two| E[fa:fa-mobile iPhone .]\n",
    "          C -->|Three| F[fa:fa-car Car .]\n",
    "          subgraph \"section<br> fa:fa-syringe\"\n",
    "            C\n",
    "            D\n",
    "            E\n",
    "            F\n",
    "            G\n",
    "          end\"\"\"\n",
    "mm(g)"
   ]
  },
  {
   "cell_type": "code",
   "execution_count": 5,
   "metadata": {},
   "outputs": [
    {
     "data": {
      "text/html": [
       "<img src=\"https://mermaid.ink/img/Z3JhcGggTFI7CiAgIHN1YmdyYXBoIFJ1c3NpYTsKICAgICAgUHV0aW4KICAgICAgR29yYmVjaG92CiAgIGVuZAogICAKICAgc3ViZ3JhcGggVWtyYWluZTsKICAgICAgWmVsZW5za3l5CiAgIGVuZAogICAKICAgUHV0aW4gLS0tIFplbGVuc2t5eQogICAK\"/>"
      ],
      "text/plain": [
       "<IPython.core.display.Image object>"
      ]
     },
     "metadata": {},
     "output_type": "display_data"
    }
   ],
   "source": [
    "GRAPH = \"\"\"graph LR;\n",
    "   subgraph Russia;\n",
    "      Putin\n",
    "      Gorbechov\n",
    "   end\n",
    "   \n",
    "   subgraph Ukraine;\n",
    "      Zelenskyy\n",
    "   end\n",
    "   \n",
    "   Putin --- Zelenskyy\n",
    "   \n",
    "\"\"\"\n",
    "mm(GRAPH)"
   ]
  },
  {
   "cell_type": "code",
   "execution_count": null,
   "metadata": {},
   "outputs": [],
   "source": []
  }
 ],
 "metadata": {
  "interpreter": {
   "hash": "8fd295a7007e560b192f709854f66b36915a5382ae77c4fca9f0e6f21003d31e"
  },
  "kernelspec": {
   "display_name": "Python 3.9.5 ('base')",
   "language": "python",
   "name": "python3"
  },
  "language_info": {
   "codemirror_mode": {
    "name": "ipython",
    "version": 3
   },
   "file_extension": ".py",
   "mimetype": "text/x-python",
   "name": "python",
   "nbconvert_exporter": "python",
   "pygments_lexer": "ipython3",
   "version": "3.8.2"
  },
  "orig_nbformat": 4
 },
 "nbformat": 4,
 "nbformat_minor": 2
}
