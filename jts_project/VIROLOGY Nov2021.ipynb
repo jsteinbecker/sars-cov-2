{
 "cells": [
  {
   "cell_type": "markdown",
   "metadata": {},
   "source": [
    "# GENERAL VIROLOGY NOTES - NOVEMBER 2021\n",
    "\n",
    "## The Difference a Vaccine Makes\n",
    "### \n",
    "*Data from New York, 11/21,TWiV 830(?)*| April 2021 | November 2021\n",
    "---|---|---\n",
    "$Vac_{~rt}$    |(High VR)|(Low VR)\n",
    "Daily Infections | ~4000 | ~4000\n",
    "Daily Hospitalizations| ~30 | >300"
   ]
  },
  {
   "cell_type": "markdown",
   "metadata": {},
   "source": []
  }
 ],
 "metadata": {
  "interpreter": {
   "hash": "767d51c1340bd893661ea55ea3124f6de3c7a262a8b4abca0554b478b1e2ff90"
  },
  "kernelspec": {
   "display_name": "Python 2.7.16 64-bit",
   "language": "python",
   "name": "python3"
  },
  "language_info": {
   "name": "python",
   "version": "3.6.13"
  },
  "orig_nbformat": 4
 },
 "nbformat": 4,
 "nbformat_minor": 2
}
