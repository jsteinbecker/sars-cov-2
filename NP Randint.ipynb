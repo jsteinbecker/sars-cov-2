{
  "cells": [
    {
      "cell_type": "markdown",
      "metadata": {
        "colab_type": "text",
        "id": "view-in-github"
      },
      "source": [
        "<a href=\"https://colab.research.google.com/github/jsteinbecker/jts/blob/main/NP%20Randint.ipynb\" target=\"_parent\"><img src=\"https://colab.research.google.com/assets/colab-badge.svg\" alt=\"Open In Colab\"/></a>"
      ]
    },
    {
      "cell_type": "code",
      "execution_count": 5,
      "metadata": {
        "id": "3SLU-WmlcomR"
      },
      "outputs": [],
      "source": [
        "import numpy as np\n",
        "import random as rn"
      ]
    },
    {
      "cell_type": "markdown",
      "metadata": {},
      "source": [
        "## Generate List of Random Integers\n",
        "\n",
        "- `Length`: 100\n",
        "- `Range`: 1 to 225"
      ]
    },
    {
      "cell_type": "code",
      "execution_count": 6,
      "metadata": {
        "colab": {
          "base_uri": "https://localhost:8080/"
        },
        "id": "r7AWOpR9Eak3",
        "outputId": "5cfa0d9a-f747-43c4-9d64-4d5ea85295b3"
      },
      "outputs": [
        {
          "name": "stdout",
          "output_type": "stream",
          "text": [
            "[116, 219, 104, 16, 74, 182, 65, 29, 66, 23, 134, 113, 215, 176, 69, 199, 169, 23, 109, 150, 77, 218, 23, 104, 136, 40, 77, 9, 120, 171, 12, 163, 49, 207, 28, 182, 11, 187, 113, 17, 163, 118, 56, 6, 63, 126, 24, 56, 161, 46, 40, 207, 48, 215, 91, 202, 61, 111, 108, 48, 202, 23, 111, 146, 193, 85, 212, 14, 170, 184, 122, 167, 171, 80, 66, 83, 63, 114, 89, 78, 121, 24, 114, 192, 172, 207, 87, 134, 152, 110, 200, 170, 224, 198, 219, 60, 189, 222, 41, 161]\n"
          ]
        }
      ],
      "source": [
        "x = [1]*100\n",
        "xl = [i*np.random.randint(1,225) for i in x]\n",
        "print(xl)"
      ]
    },
    {
      "cell_type": "code",
      "execution_count": 7,
      "metadata": {
        "id": "C5wUYH8ZE4C6"
      },
      "outputs": [
        {
          "name": "stdout",
          "output_type": "stream",
          "text": [
            "AVERAGE:  115.15\n",
            "TRUE AVG: 112.5\n"
          ]
        }
      ],
      "source": [
        "print(f'AVERAGE:  {np.average(xl)}')\n",
        "print(f'TRUE AVG: {225/2}')\n"
      ]
    },
    {
      "cell_type": "code",
      "execution_count": 14,
      "metadata": {},
      "outputs": [
        {
          "data": {
            "text/plain": [
              "['agccggcgc', 'gtgagatgt', 'cacgaggga', 'cccgaacac']"
            ]
          },
          "execution_count": 14,
          "metadata": {},
          "output_type": "execute_result"
        }
      ],
      "source": [
        "l = [[rn.choice([\"a\",\"c\",\"g\",\"t\"]) for x in range(9)] for x in range(4)]\n",
        "out = []\n",
        "for i in l:\n",
        "   out.append(\"\".join(i))\n",
        "out"
      ]
    },
    {
      "cell_type": "code",
      "execution_count": null,
      "metadata": {},
      "outputs": [],
      "source": []
    },
    {
      "cell_type": "code",
      "execution_count": null,
      "metadata": {},
      "outputs": [],
      "source": []
    }
  ],
  "metadata": {
    "colab": {
      "authorship_tag": "ABX9TyN6VKKWxNGdpbSX8rBnVTrg",
      "include_colab_link": true,
      "name": "Untitled0.ipynb",
      "provenance": []
    },
    "kernelspec": {
      "display_name": "Python 3",
      "name": "python3"
    },
    "language_info": {
      "codemirror_mode": {
        "name": "ipython",
        "version": 3
      },
      "file_extension": ".py",
      "mimetype": "text/x-python",
      "name": "python",
      "nbconvert_exporter": "python",
      "pygments_lexer": "ipython3",
      "version": "3.8.2"
    }
  },
  "nbformat": 4,
  "nbformat_minor": 0
}
