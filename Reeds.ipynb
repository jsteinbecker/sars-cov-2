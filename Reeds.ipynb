{
 "cells": [
  {
   "cell_type": "code",
   "execution_count": 2,
   "metadata": {},
   "outputs": [
    {
     "name": "stdout",
     "output_type": "stream",
     "text": [
      "Collecting pandas\n",
      "  Downloading pandas-1.4.2-cp38-cp38-manylinux_2_17_x86_64.manylinux2014_x86_64.whl (11.7 MB)\n",
      "\u001b[2K     \u001b[90m━━━━━━━━━━━━━━━━━━━━━━━━━━━━━━━━━━━━━━━\u001b[0m \u001b[32m11.7/11.7 MB\u001b[0m \u001b[31m124.1 MB/s\u001b[0m eta \u001b[36m0:00:00\u001b[0m00:01\u001b[0m00:01\u001b[0m\n",
      "\u001b[?25hRequirement already satisfied: python-dateutil>=2.8.1 in /home/gitpod/.pyenv/versions/3.8.13/lib/python3.8/site-packages (from pandas) (2.8.2)\n",
      "Collecting pytz>=2020.1\n",
      "  Downloading pytz-2022.1-py2.py3-none-any.whl (503 kB)\n",
      "\u001b[2K     \u001b[90m━━━━━━━━━━━━━━━━━━━━━━━━━━━━━━━━━━━━━\u001b[0m \u001b[32m503.5/503.5 KB\u001b[0m \u001b[31m113.2 MB/s\u001b[0m eta \u001b[36m0:00:00\u001b[0m\n",
      "\u001b[?25hCollecting numpy>=1.18.5\n",
      "  Downloading numpy-1.22.3-cp38-cp38-manylinux_2_17_x86_64.manylinux2014_x86_64.whl (16.8 MB)\n",
      "\u001b[2K     \u001b[90m━━━━━━━━━━━━━━━━━━━━━━━━━━━━━━━━━━━━━━━\u001b[0m \u001b[32m16.8/16.8 MB\u001b[0m \u001b[31m133.2 MB/s\u001b[0m eta \u001b[36m0:00:00\u001b[0m00:01\u001b[0m00:01\u001b[0m\n",
      "\u001b[?25hRequirement already satisfied: six>=1.5 in /home/gitpod/.pyenv/versions/3.8.13/lib/python3.8/site-packages (from python-dateutil>=2.8.1->pandas) (1.16.0)\n",
      "Installing collected packages: pytz, numpy, pandas\n",
      "Successfully installed numpy-1.22.3 pandas-1.4.2 pytz-2022.1\n",
      "\u001b[33mWARNING: You are using pip version 22.0.4; however, version 22.1 is available.\n",
      "You should consider upgrading via the '/home/gitpod/.pyenv/versions/3.8.13/bin/python3.8 -m pip install --upgrade pip' command.\u001b[0m\u001b[33m\n",
      "\u001b[0m"
     ]
    }
   ],
   "source": [
    "!pip3 install pandas"
   ]
  },
  {
   "cell_type": "code",
   "execution_count": 3,
   "metadata": {},
   "outputs": [],
   "source": [
    "from datetime import date\n",
    "import pandas as pd"
   ]
  },
  {
   "cell_type": "code",
   "execution_count": 11,
   "metadata": {},
   "outputs": [],
   "source": [
    "class Reed :\n",
    "   colors = {\n",
    "      \"R\" : \"Red\",\n",
    "      \"B\" : \"Blue\",\n",
    "      \"PU\" : \"Purple\",\n",
    "      \"PI\" : \"Pink\",\n",
    "      \"HAL\" : \"Halloween\",\n",
    "      \"BER\" : \"Berry\",\n",
    "      \"MIN\" : \"Mint\"\n",
    "   }\n",
    "   staples = {\n",
    "      \"EB\" : \"E-Brass\",\n",
    "      \"OB\" : \"O-Brass\",\n",
    "      \"HC\" : \"Hard Cork\",\n",
    "      \"SC\" : \"Soft Cork\"\n",
    "   }\n",
    "   \n",
    "   def __init__ (self,      color , staple,    len_init_mm,   year,mo,day):\n",
    "      \"\"\" \n",
    "      ======================================================\n",
    "      INPUT\n",
    "         >>> color      from :\n",
    "                           \"R\" Red  \"B\" Blue \"PU\" Purple\n",
    "                           \"PI\" Pink    \"HAL\" Halloween\n",
    "                           \"BER\" Berry  \"MIN\" Mint\n",
    "         >>> staple     from :\n",
    "                           \"OB\" O-Brass   \"EB\" E-Brass\n",
    "                           \"SC\" Soft Cork \"HC\" Hard Cork\n",
    "         >>> initial Len      float\n",
    "         >>> date    --> day, month, year\n",
    "         \n",
    "      ======================================================\n",
    "      \"\"\"\n",
    "      self.color   = Reed.colors[color]\n",
    "      self.staple   = Reed.staples[staple]\n",
    "\n",
    "      self.datemade     =  date(year,mo,day)   \n",
    "      self.lenInitial   =  len_init_mm\n",
    "      self.pitchscores  =  []\n",
    "      self.respscores   =  []\n",
    "      self.resoscores   =  []\n",
    "      \n",
    "      self.isAlive = True\n",
    "      \n",
    "   @property\n",
    "   def pitch (self):\n",
    "      return sum(self.pitchscores)/len(self.pitchscores)\n",
    "   @property\n",
    "   def response (self):\n",
    "      return sum(self.respscores)/len(self.respscores)\n",
    "   @property\n",
    "   def resonance (self):\n",
    "      return sum(self.resoscores)/len(self.resoscores)\n",
    "   @property\n",
    "   def lifespan (self):\n",
    "      if self.isAlive == True:\n",
    "         return (date.today() - self.datemade).days\n",
    "      \n",
    "   def __repr__ (self):\n",
    "      c = self.color\n",
    "      li = self.lenInitial\n",
    "      d = f'{self.datemade.month}/{self.datemade.day}'\n",
    "      return f'[[ REED {d} | {c} | ({li}mm) ]]'\n",
    "   \n",
    "   def rec (self, pitch, resp, reso):\n",
    "      self.pitchscores.append(pitch)\n",
    "      self.respscores.append(resp)\n",
    "      self.resoscores.append(reso)\n",
    "      scores = [ round(sum(x) / len(x),1) for x in [self.pitchscores, self.respscores, self.resoscores]]\n",
    "      return scores\n",
    "   \n",
    "   @property\n",
    "   def asdict (self):\n",
    "      return {\n",
    "         \"name\" : f'Reed {self.datemade.month}/{self.datemade.day}',\n",
    "         \"color\" : self.color ,\n",
    "         \"len_init\" : self.lenInitial,\n",
    "         \"date made\" : self.datemade,\n",
    "         \"life\" : self.lifespan\n",
    "      }\n",
    "   \n",
    "class ReedCase :\n",
    "   def __init__ (self, caseName):\n",
    "      self.name = caseName\n",
    "      self.reeds = []\n",
    "   \n",
    "   @property\n",
    "   def df (self):\n",
    "      return pd.DataFrame([r.asdict for r in self.reeds])\n",
    "      \n",
    "   def newReed (self,      color , staple,    len_init_mm,   year,mo,day):\n",
    "      \"\"\" \n",
    "      ======================================================\n",
    "      INPUT\n",
    "         >>> color      from :\n",
    "                           \"R\" Red  \"B\" Blue \"PU\" Purple\n",
    "                           \"PI\" Pink    \"HAL\" Halloween\n",
    "                           \"BER\" Berry  \"MIN\" Mint\n",
    "         >>> staple     from :\n",
    "                           \"OB\" O-Brass   \"EB\" E-Brass\n",
    "                           \"SC\" Soft Cork \"HC\" Hard Cork\n",
    "         >>> initial Len      float\n",
    "         >>> date    --> day, month, year\n",
    "         \n",
    "      ======================================================\n",
    "      \"\"\"\n",
    "      reed = Reed (color, staple, len_init_mm, year,mo,day)\n",
    "      self.reeds.append(reed)\n",
    "      return reed\n",
    "   \n",
    "   @property\n",
    "   def initLenAverage (self):\n",
    "      return round(self.df.len_init.mean(),3)"
   ]
  },
  {
   "cell_type": "code",
   "execution_count": 12,
   "metadata": {},
   "outputs": [
    {
     "data": {
      "text/html": [
       "<style type=\"text/css\">\n",
       "</style>\n",
       "<table id=\"T_6c61e\">\n",
       "  <thead>\n",
       "    <tr>\n",
       "      <th class=\"blank level0\" >&nbsp;</th>\n",
       "      <th id=\"T_6c61e_level0_col0\" class=\"col_heading level0 col0\" >len_init</th>\n",
       "      <th id=\"T_6c61e_level0_col1\" class=\"col_heading level0 col1\" >life</th>\n",
       "    </tr>\n",
       "  </thead>\n",
       "  <tbody>\n",
       "    <tr>\n",
       "      <th id=\"T_6c61e_level0_row0\" class=\"row_heading level0 row0\" >count</th>\n",
       "      <td id=\"T_6c61e_row0_col0\" class=\"data row0 col0\" >3</td>\n",
       "      <td id=\"T_6c61e_row0_col1\" class=\"data row0 col1\" >3</td>\n",
       "    </tr>\n",
       "    <tr>\n",
       "      <th id=\"T_6c61e_level0_row1\" class=\"row_heading level0 row1\" >mean</th>\n",
       "      <td id=\"T_6c61e_row1_col0\" class=\"data row1 col0\" >72</td>\n",
       "      <td id=\"T_6c61e_row1_col1\" class=\"data row1 col1\" >8</td>\n",
       "    </tr>\n",
       "    <tr>\n",
       "      <th id=\"T_6c61e_level0_row2\" class=\"row_heading level0 row2\" >std</th>\n",
       "      <td id=\"T_6c61e_row2_col0\" class=\"data row2 col0\" >0.252</td>\n",
       "      <td id=\"T_6c61e_row2_col1\" class=\"data row2 col1\" >1.73</td>\n",
       "    </tr>\n",
       "    <tr>\n",
       "      <th id=\"T_6c61e_level0_row3\" class=\"row_heading level0 row3\" >min</th>\n",
       "      <td id=\"T_6c61e_row3_col0\" class=\"data row3 col0\" >71.8</td>\n",
       "      <td id=\"T_6c61e_row3_col1\" class=\"data row3 col1\" >6</td>\n",
       "    </tr>\n",
       "    <tr>\n",
       "      <th id=\"T_6c61e_level0_row4\" class=\"row_heading level0 row4\" >25%</th>\n",
       "      <td id=\"T_6c61e_row4_col0\" class=\"data row4 col0\" >71.9</td>\n",
       "      <td id=\"T_6c61e_row4_col1\" class=\"data row4 col1\" >7.5</td>\n",
       "    </tr>\n",
       "    <tr>\n",
       "      <th id=\"T_6c61e_level0_row5\" class=\"row_heading level0 row5\" >50%</th>\n",
       "      <td id=\"T_6c61e_row5_col0\" class=\"data row5 col0\" >72</td>\n",
       "      <td id=\"T_6c61e_row5_col1\" class=\"data row5 col1\" >9</td>\n",
       "    </tr>\n",
       "    <tr>\n",
       "      <th id=\"T_6c61e_level0_row6\" class=\"row_heading level0 row6\" >75%</th>\n",
       "      <td id=\"T_6c61e_row6_col0\" class=\"data row6 col0\" >72.2</td>\n",
       "      <td id=\"T_6c61e_row6_col1\" class=\"data row6 col1\" >9</td>\n",
       "    </tr>\n",
       "    <tr>\n",
       "      <th id=\"T_6c61e_level0_row7\" class=\"row_heading level0 row7\" >max</th>\n",
       "      <td id=\"T_6c61e_row7_col0\" class=\"data row7 col0\" >72.3</td>\n",
       "      <td id=\"T_6c61e_row7_col1\" class=\"data row7 col1\" >9</td>\n",
       "    </tr>\n",
       "  </tbody>\n",
       "</table>\n"
      ],
      "text/plain": [
       "<pandas.io.formats.style.Styler at 0x7f4f8a06db20>"
      ]
     },
     "execution_count": 12,
     "metadata": {},
     "output_type": "execute_result"
    }
   ],
   "source": [
    "JTS = ReedCase(\"Josh's Reeds\")\n",
    "\n",
    "JTS.newReed(\"PI\",\"OB\",72.3,2022,5,4)\n",
    "JTS.newReed(\"MIN\",\"SC\",72,2022,5,4)\n",
    "JTS.newReed(\"B\",\"EB\",71.8,2022,5,7)\n",
    "\n",
    "JTS.df.describe().style.format(\"{:.3g}\")"
   ]
  },
  {
   "cell_type": "code",
   "execution_count": 14,
   "metadata": {},
   "outputs": [
    {
     "name": "stdout",
     "output_type": "stream",
     "text": [
      "INITIAL LENGTH (MEAN): 72.033\n"
     ]
    }
   ],
   "source": [
    "print(\n",
    "    \"INITIAL LENGTH (MEAN):\", JTS.initLenAverage\n",
    "    )"
   ]
  },
  {
   "cell_type": "code",
   "execution_count": null,
   "metadata": {},
   "outputs": [],
   "source": []
  }
 ],
 "metadata": {
  "kernelspec": {
   "display_name": "Python 3.8.13 64-bit ('3.8.13')",
   "language": "python",
   "name": "python3"
  },
  "language_info": {
   "codemirror_mode": {
    "name": "ipython",
    "version": 3
   },
   "file_extension": ".py",
   "mimetype": "text/x-python",
   "name": "python",
   "nbconvert_exporter": "python",
   "pygments_lexer": "ipython3",
   "version": "3.8.13"
  },
  "orig_nbformat": 4,
  "vscode": {
   "interpreter": {
    "hash": "110cc1dee26208153f2972f08a2ad52b6a56238dc66d48e87fb757ef2996db56"
   }
  }
 },
 "nbformat": 4,
 "nbformat_minor": 2
}
