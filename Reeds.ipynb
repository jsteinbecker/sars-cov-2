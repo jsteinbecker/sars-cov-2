{
 "cells": [
  {
   "cell_type": "code",
   "execution_count": 44,
   "metadata": {},
   "outputs": [],
   "source": [
    "from datetime import date"
   ]
  },
  {
   "cell_type": "code",
   "execution_count": 47,
   "metadata": {},
   "outputs": [],
   "source": [
    "class Reed :\n",
    "   \n",
    "   colors = ['RED','BLUE','PURPLE','MINT','ORANGE','BERRY']\n",
    "   \n",
    "   def __init__ (self, date,     color ,     len_init_mm):\n",
    "      \"\"\" \n",
    "      ======================================================\n",
    "      INPUT\n",
    "         >>> date\n",
    "         >>> color      from :\n",
    "                           0 Red, 1 Blue, 2 Purple, 3 Mint,\n",
    "                           4 Orange, 5 Berry \n",
    "         >>> initial Len\n",
    "      ======================================================\n",
    "      \"\"\"\n",
    "      if type(color) == int:\n",
    "         self.color = Reed.colors[color]\n",
    "      if type(color) == str:\n",
    "         self.color = color\n",
    "      self.lenInitial = len_init_mm\n",
    "      self.pitchscores = []\n",
    "      self.respscores =  []\n",
    "      self.resoscores =  []\n",
    "      \n",
    "      \n",
    "   @property\n",
    "   def pitch (self):\n",
    "      return sum(self.pitchscores)/len(self.pitchscores)\n",
    "   @property\n",
    "   def response (self):\n",
    "      return sum(self.respscores)/len(self.respscores)\n",
    "   @property\n",
    "   def resonance (self):\n",
    "      return sum(self.resoscores)/len(self.resoscores)\n",
    "      \n",
    "   def __repr__ (self):\n",
    "      c = self.color\n",
    "      li = self.lenInitial\n",
    "      return f'[[ REED | {c} | ({li}mm) ]]'\n",
    "   \n",
    "   def rec (self, pitch, resp, reso):\n",
    "      self.pitchscores.append(pitch)\n",
    "      self.respscores.append(resp)\n",
    "      self.resoscores.append(reso)\n",
    "      scores = [ round(sum(x) / len(x),1) for x in [self.pitchscores, self.respscores, self.resoscores]]\n",
    "      return scores"
   ]
  },
  {
   "cell_type": "code",
   "execution_count": 45,
   "metadata": {},
   "outputs": [
    {
     "data": {
      "text/plain": [
       "[[ REED | BERRY | (72.1mm) ]]"
      ]
     },
     "execution_count": 45,
     "metadata": {},
     "output_type": "execute_result"
    }
   ],
   "source": [
    "A5 = Reed(5,72.1)\n",
    "\n",
    "A5.rec (100, 50, 35)\n",
    "A5.rec (99,  72, 18)\n",
    "A5.rec (45,  70, 70)\n",
    "A5.rec (22,  90, 54)\n",
    "A5"
   ]
  }
 ],
 "metadata": {
  "interpreter": {
   "hash": "8fd295a7007e560b192f709854f66b36915a5382ae77c4fca9f0e6f21003d31e"
  },
  "kernelspec": {
   "display_name": "Python 3.9.5 ('base')",
   "language": "python",
   "name": "python3"
  },
  "language_info": {
   "codemirror_mode": {
    "name": "ipython",
    "version": 3
   },
   "file_extension": ".py",
   "mimetype": "text/x-python",
   "name": "python",
   "nbconvert_exporter": "python",
   "pygments_lexer": "ipython3",
   "version": "3.8.2"
  },
  "orig_nbformat": 4
 },
 "nbformat": 4,
 "nbformat_minor": 2
}
