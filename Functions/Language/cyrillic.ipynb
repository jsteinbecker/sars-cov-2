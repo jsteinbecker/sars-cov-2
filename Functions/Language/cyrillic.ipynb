{
 "cells": [
  {
   "cell_type": "code",
   "execution_count": 3,
   "metadata": {},
   "outputs": [
    {
     "name": "stdout",
     "output_type": "stream",
     "text": [
      "Collecting transliterate\n",
      "  Downloading transliterate-1.10.2-py2.py3-none-any.whl (45 kB)\n",
      "\u001b[2K     \u001b[90m━━━━━━━━━━━━━━━━━━━━━━━━━━━━━━━━━━━━━━━━\u001b[0m \u001b[32m45.8/45.8 KB\u001b[0m \u001b[31m6.3 MB/s\u001b[0m eta \u001b[36m0:00:00\u001b[0m\n",
      "\u001b[?25hRequirement already satisfied: six>=1.1.0 in /home/gitpod/.pyenv/versions/3.8.13/lib/python3.8/site-packages (from transliterate) (1.16.0)\n",
      "Installing collected packages: transliterate\n",
      "Successfully installed transliterate-1.10.2\n",
      "\u001b[33mWARNING: You are using pip version 22.0.4; however, version 22.1 is available.\n",
      "You should consider upgrading via the '/home/gitpod/.pyenv/versions/3.8.13/bin/python3.8 -m pip install --upgrade pip' command.\u001b[0m\u001b[33m\n",
      "\u001b[0m"
     ]
    }
   ],
   "source": [
    "!pip3 install transliterate"
   ]
  },
  {
   "cell_type": "code",
   "execution_count": 1,
   "metadata": {},
   "outputs": [],
   "source": [
    "from IPython.core.interactiveshell import InteractiveShell\n",
    "InteractiveShell.ast_node_interactivity = \"all\""
   ]
  },
  {
   "cell_type": "markdown",
   "metadata": {},
   "source": [
    "# Ukrainian Transliteration"
   ]
  },
  {
   "cell_type": "code",
   "execution_count": 4,
   "metadata": {},
   "outputs": [],
   "source": [
    "from transliterate import translit\n",
    "\n",
    "# UKRAINIAN\n",
    "ukr = lambda x : translit(x,\"uk\")\n",
    "\n",
    "# RUSSIAN\n",
    "rus = lambda x : translit(x,\"ru\")"
   ]
  },
  {
   "cell_type": "code",
   "execution_count": 7,
   "metadata": {},
   "outputs": [
    {
     "name": "stdout",
     "output_type": "stream",
     "text": [
      "Josh Thomas Steinbecker\n",
      "Йош Тгомас Стеінбеcкер\n",
      "Йош Тхомас Стеинбецкер\n",
      "\n",
      "\n",
      "Maxim Isakov Yesepenko\n",
      "Маxім Ісаков Єсепенко\n",
      "Маxим Исаков Ыесепенко\n",
      "\n",
      "\n",
      "Molly Sweeney-McKeil\n",
      "Молли Сwеенеи-МcКеіл\n",
      "Моллы Сwеенеы-МцКеил\n",
      "\n",
      "\n"
     ]
    }
   ],
   "source": [
    "LIST = [\"Josh Thomas Steinbecker\", \"Maxim Isakov Yesepenko\", \"Molly Sweeney-McKeil\"]\n",
    "for name in LIST:\n",
    "   print (f'{name}\\n{ukr(name)}\\n{rus(name)}\\n\\n')"
   ]
  },
  {
   "cell_type": "code",
   "execution_count": null,
   "metadata": {},
   "outputs": [
    {
     "name": "stdout",
     "output_type": "stream",
     "text": [
      "Аа Бб Cc Дд\tЕе Фф Ґґ Гг\n",
      "Іі Йй Кк Лл\tМм Нн Оо Пп\n",
      "Qq Рр Сс Тт\tУу Вв Ww Xx\n",
      "Ии Зз Шш\n",
      "-- -- -- --\t-- -- -- --\n",
      "Аа Бб Цц Дд\tЕе Фф Гг Хх\n",
      "Ии Йй Кк Лл\tМм Нн Оо Пп\n",
      "Qq Рр Сс Тт\tУу Вв Ww Xx\n",
      "Ыы Зз Шш\n"
     ]
    }
   ],
   "source": [
    "ABC = f'Aa Bb Cc Dd\\tEe Ff Gg Hh\\nIi Jj Kk Ll\\tMm Nn Oo Pp\\nQq Rr Ss Tt\\tUu Vv Ww Xx\\nYy Zz Shsh'\n",
    "print (ukr(ABC))\n",
    "print (\"-- -- -- --\\t-- -- -- --\")\n",
    "print (rus(ABC))"
   ]
  },
  {
   "cell_type": "code",
   "execution_count": null,
   "metadata": {},
   "outputs": [],
   "source": []
  }
 ],
 "metadata": {
  "kernelspec": {
   "display_name": "Python 3.8.13 64-bit ('3.8.13')",
   "language": "python",
   "name": "python3"
  },
  "language_info": {
   "codemirror_mode": {
    "name": "ipython",
    "version": 3
   },
   "file_extension": ".py",
   "mimetype": "text/x-python",
   "name": "python",
   "nbconvert_exporter": "python",
   "pygments_lexer": "ipython3",
   "version": "3.8.13"
  },
  "orig_nbformat": 4,
  "vscode": {
   "interpreter": {
    "hash": "110cc1dee26208153f2972f08a2ad52b6a56238dc66d48e87fb757ef2996db56"
   }
  }
 },
 "nbformat": 4,
 "nbformat_minor": 2
}
