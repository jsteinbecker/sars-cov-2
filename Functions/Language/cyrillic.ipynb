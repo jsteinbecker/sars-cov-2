{
 "cells": [
  {
   "cell_type": "code",
   "execution_count": 15,
   "metadata": {},
   "outputs": [],
   "source": [
    "from IPython.core.interactiveshell import InteractiveShell\n",
    "InteractiveShell.ast_node_interactivity = \"all\""
   ]
  },
  {
   "cell_type": "markdown",
   "metadata": {},
   "source": [
    "# Ukrainian Transliteration"
   ]
  },
  {
   "cell_type": "code",
   "execution_count": 1,
   "metadata": {},
   "outputs": [],
   "source": [
    "from transliterate import translit\n",
    "\n",
    "# UKRAINIAN\n",
    "ukr = lambda x : translit(x,\"uk\")\n",
    "\n",
    "# RUSSIAN\n",
    "rus = lambda x : translit(x,\"ru\")"
   ]
  },
  {
   "cell_type": "code",
   "execution_count": 6,
   "metadata": {},
   "outputs": [
    {
     "name": "stdout",
     "output_type": "stream",
     "text": [
      "Йош Тгомас Стеінбеcкер\n",
      "Йош Тхомас Стеинбецкер\n",
      "\n",
      "\n",
      "Маxім Слава Єсепенко\n",
      "Маxим Слава Ыесепенко\n",
      "\n",
      "\n",
      "Молли Сwеенеи-МcКеіл\n",
      "Моллы Сwеенеы-МцКеил\n",
      "\n",
      "\n"
     ]
    }
   ],
   "source": [
    "LIST = [\"Josh Thomas Steinbecker\", \"Maxim Slava Yesepenko\", \"Molly Sweeney-McKeil\"]\n",
    "for name in LIST:\n",
    "   print (f'{ukr(name)}\\n{rus(name)}\\n\\n')"
   ]
  },
  {
   "cell_type": "code",
   "execution_count": 15,
   "metadata": {},
   "outputs": [
    {
     "name": "stdout",
     "output_type": "stream",
     "text": [
      "Аа Бб Cc Дд\tЕе Фф Ґґ Гг\n",
      "Іі Йй Кк Лл\tМм Нн Оо Пп\n",
      "Qq Рр Сс Тт\tУу Вв Ww Xx\n",
      "Ии Зз Шш\n",
      "-- -- -- --\t-- -- -- --\n",
      "Аа Бб Цц Дд\tЕе Фф Гг Хх\n",
      "Ии Йй Кк Лл\tМм Нн Оо Пп\n",
      "Qq Рр Сс Тт\tУу Вв Ww Xx\n",
      "Ыы Зз Шш\n"
     ]
    }
   ],
   "source": [
    "ABC = f'Aa Bb Cc Dd\\tEe Ff Gg Hh\\nIi Jj Kk Ll\\tMm Nn Oo Pp\\nQq Rr Ss Tt\\tUu Vv Ww Xx\\nYy Zz Shsh'\n",
    "print (ukr(ABC))\n",
    "print (\"-- -- -- --\\t-- -- -- --\")\n",
    "print (rus(ABC))"
   ]
  },
  {
   "cell_type": "code",
   "execution_count": null,
   "metadata": {},
   "outputs": [],
   "source": []
  }
 ],
 "metadata": {
  "interpreter": {
   "hash": "31f2aee4e71d21fbe5cf8b01ff0e069b9275f58929596ceb00d14d90e3e16cd6"
  },
  "kernelspec": {
   "display_name": "Python 3.8.2 64-bit",
   "language": "python",
   "name": "python3"
  },
  "language_info": {
   "codemirror_mode": {
    "name": "ipython",
    "version": 3
   },
   "file_extension": ".py",
   "mimetype": "text/x-python",
   "name": "python",
   "nbconvert_exporter": "python",
   "pygments_lexer": "ipython3",
   "version": "3.8.2"
  },
  "orig_nbformat": 4
 },
 "nbformat": 4,
 "nbformat_minor": 2
}
