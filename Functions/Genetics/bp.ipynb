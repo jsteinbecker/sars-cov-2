{
 "cells": [
  {
   "cell_type": "code",
   "execution_count": 9,
   "metadata": {},
   "outputs": [],
   "source": [
    "from Bio import Seq"
   ]
  },
  {
   "cell_type": "markdown",
   "metadata": {},
   "source": [
    "# BioPython.Seq"
   ]
  },
  {
   "cell_type": "code",
   "execution_count": 2,
   "metadata": {},
   "outputs": [],
   "source": [
    "from Bio.Seq import Seq"
   ]
  },
  {
   "cell_type": "code",
   "execution_count": 49,
   "metadata": {},
   "outputs": [
    {
     "name": "stdout",
     "output_type": "stream",
     "text": [
      "12 ACTGTGAAGGGN DNA\n",
      "12 ACUGUGAAGGGN RNA\n",
      "4 TVKG POLYPEPTIDE\n"
     ]
    }
   ],
   "source": [
    "s = Seq.Seq (\"actgtgaagggn\".upper())\n",
    "print(len(s),s, 'DNA')\n",
    "tx = s.transcribe()\n",
    "print(len(tx),tx,'RNA')\n",
    "tn = tx.translate()\n",
    "print(len(tn),tn,'POLYPEPTIDE')"
   ]
  },
  {
   "cell_type": "code",
   "execution_count": 48,
   "metadata": {},
   "outputs": [
    {
     "name": "stdout",
     "output_type": "stream",
     "text": [
      "TGACACTTCCCN COMPLEMENT\n",
      "ACTGTGAAGGGN SEQUENCE\n",
      "NCCCTTCACAGT REV.COMPL.\n"
     ]
    }
   ],
   "source": [
    "print(s.complement(),'COMPLEMENT')\n",
    "print(s,'SEQUENCE')\n",
    "print(s.reverse_complement(),'REV.COMPL.')"
   ]
  },
  {
   "cell_type": "markdown",
   "metadata": {},
   "source": [
    "# yaml\n",
    "```yml\n",
    "Josh : Steinbecker\n",
    "Mahler 3 : sym\n",
    "```\n"
   ]
  },
  {
   "cell_type": "markdown",
   "metadata": {},
   "source": [
    "# Meow"
   ]
  },
  {
   "cell_type": "markdown",
   "metadata": {},
   "source": []
  },
  {
   "cell_type": "code",
   "execution_count": null,
   "metadata": {},
   "outputs": [],
   "source": []
  }
 ],
 "metadata": {
  "interpreter": {
   "hash": "8fd295a7007e560b192f709854f66b36915a5382ae77c4fca9f0e6f21003d31e"
  },
  "kernelspec": {
   "display_name": "Python 3.9.5 64-bit ('base': conda)",
   "language": "python",
   "name": "python3"
  },
  "language_info": {
   "codemirror_mode": {
    "name": "ipython",
    "version": 3
   },
   "file_extension": ".py",
   "mimetype": "text/x-python",
   "name": "python",
   "nbconvert_exporter": "python",
   "pygments_lexer": "ipython3",
   "version": "3.9.5"
  },
  "orig_nbformat": 4
 },
 "nbformat": 4,
 "nbformat_minor": 2
}
