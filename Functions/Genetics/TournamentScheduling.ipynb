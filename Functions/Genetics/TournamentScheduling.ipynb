{
 "cells": [
  {
   "cell_type": "code",
   "execution_count": 71,
   "metadata": {},
   "outputs": [],
   "source": [
    "import networkx as nx"
   ]
  },
  {
   "cell_type": "markdown",
   "metadata": {},
   "source": [
    "# Problem"
   ]
  },
  {
   "cell_type": "markdown",
   "metadata": {},
   "source": [
    "> There are 13 teams. Create a schedule so each team plays all other teams once."
   ]
  },
  {
   "cell_type": "code",
   "execution_count": 72,
   "metadata": {},
   "outputs": [],
   "source": [
    "# BASIC INFORMATION\n",
    "nT = 6    # number of teams\n",
    "nF = nT // 2  # number of fields to play on"
   ]
  },
  {
   "cell_type": "code",
   "execution_count": 73,
   "metadata": {},
   "outputs": [
    {
     "name": "stdout",
     "output_type": "stream",
     "text": [
      "['TEAM1', 'TEAM2', 'TEAM3', 'TEAM4', 'TEAM5', 'TEAM6']\n"
     ]
    }
   ],
   "source": [
    "TEAMS = [\"TEAM\" + str(i) for i in range(1,nT+1)]\n",
    "print(TEAMS)"
   ]
  },
  {
   "cell_type": "code",
   "execution_count": 74,
   "metadata": {},
   "outputs": [
    {
     "name": "stdout",
     "output_type": "stream",
     "text": [
      "['FIELD1', 'FIELD2', 'FIELD3']\n"
     ]
    }
   ],
   "source": [
    "FIELDS = ['FIELD' + str(i) for i in range (1,nF+1)]\n",
    "print(FIELDS)"
   ]
  },
  {
   "cell_type": "code",
   "execution_count": 75,
   "metadata": {},
   "outputs": [
    {
     "name": "stdout",
     "output_type": "stream",
     "text": [
      "['TIMESLOT1', 'TIMESLOT2', 'TIMESLOT3', 'TIMESLOT4']\n"
     ]
    }
   ],
   "source": [
    "TIMESLOTS = ['TIMESLOT' + str(i) for i in range (1,nF+2)]\n",
    "nTS = len(TIMESLOTS)\n",
    "print(TIMESLOTS)"
   ]
  },
  {
   "cell_type": "code",
   "execution_count": 78,
   "metadata": {},
   "outputs": [],
   "source": [
    "if nT % 2 == 0:\n",
    "   rotating_list = TEAMS[1:]\n",
    "   center = TEAMS[0]\n",
    "else:\n",
    "   rotating_list = TEAMS\n",
    "\n",
    "def move_last_to_first (List):\n",
    "   new = List[1:]\n",
    "   new.append(List[0])\n",
    "   return new\n",
    "\n",
    "a = []\n",
    "for x in range(len(TIMESLOTS)):\n",
    "   a.append(fieldAssignment)\n",
    "   fieldAssignment = move_last_to_first(fieldAssignment)"
   ]
  },
  {
   "cell_type": "code",
   "execution_count": 80,
   "metadata": {},
   "outputs": [
    {
     "data": {
      "text/html": [
       "<div>\n",
       "<style scoped>\n",
       "    .dataframe tbody tr th:only-of-type {\n",
       "        vertical-align: middle;\n",
       "    }\n",
       "\n",
       "    .dataframe tbody tr th {\n",
       "        vertical-align: top;\n",
       "    }\n",
       "\n",
       "    .dataframe thead th {\n",
       "        text-align: right;\n",
       "    }\n",
       "</style>\n",
       "<table border=\"1\" class=\"dataframe\">\n",
       "  <thead>\n",
       "    <tr style=\"text-align: right;\">\n",
       "      <th></th>\n",
       "      <th>0</th>\n",
       "      <th>1</th>\n",
       "      <th>2</th>\n",
       "    </tr>\n",
       "  </thead>\n",
       "  <tbody>\n",
       "    <tr>\n",
       "      <th>0</th>\n",
       "      <td>1</td>\n",
       "      <td>2</td>\n",
       "      <td>0</td>\n",
       "    </tr>\n",
       "    <tr>\n",
       "      <th>1</th>\n",
       "      <td>2</td>\n",
       "      <td>0</td>\n",
       "      <td>1</td>\n",
       "    </tr>\n",
       "    <tr>\n",
       "      <th>2</th>\n",
       "      <td>0</td>\n",
       "      <td>1</td>\n",
       "      <td>2</td>\n",
       "    </tr>\n",
       "    <tr>\n",
       "      <th>3</th>\n",
       "      <td>1</td>\n",
       "      <td>2</td>\n",
       "      <td>0</td>\n",
       "    </tr>\n",
       "  </tbody>\n",
       "</table>\n",
       "</div>"
      ],
      "text/plain": [
       "   0  1  2\n",
       "0  1  2  0\n",
       "1  2  0  1\n",
       "2  0  1  2\n",
       "3  1  2  0"
      ]
     },
     "execution_count": 80,
     "metadata": {},
     "output_type": "execute_result"
    }
   ],
   "source": [
    "import pandas as pd\n",
    "df = pd.DataFrame(a)\n",
    "df"
   ]
  },
  {
   "cell_type": "code",
   "execution_count": 4,
   "metadata": {},
   "outputs": [
    {
     "data": {
      "text/plain": [
       "0"
      ]
     },
     "execution_count": 4,
     "metadata": {},
     "output_type": "execute_result"
    }
   ],
   "source": [
    "4%2"
   ]
  },
  {
   "cell_type": "code",
   "execution_count": 6,
   "metadata": {},
   "outputs": [
    {
     "name": "stdout",
     "output_type": "stream",
     "text": [
      "<zip object at 0x11b3bfc40>\n",
      "<zip object at 0x11b0107c0>\n",
      "<zip object at 0x11b0107c0>\n",
      "<zip object at 0x11b0107c0>\n",
      "<zip object at 0x11b0107c0>\n"
     ]
    },
    {
     "ename": "NameError",
     "evalue": "name 'reduce' is not defined",
     "output_type": "error",
     "traceback": [
      "\u001b[0;31m---------------------------------------------------------------------------\u001b[0m",
      "\u001b[0;31mNameError\u001b[0m                                 Traceback (most recent call last)",
      "\u001b[1;32m/Users/joshsteinbecker/jts_project/Functions/Genetics/TournamentScheduling.ipynb Cell 11'\u001b[0m in \u001b[0;36m<module>\u001b[0;34m\u001b[0m\n\u001b[1;32m     <a href='vscode-notebook-cell:/Users/joshsteinbecker/jts_project/Functions/Genetics/TournamentScheduling.ipynb#ch0000010?line=27'>28</a>\u001b[0m reverse_teams \u001b[39m=\u001b[39m [\u001b[39mlist\u001b[39m(x) \u001b[39mfor\u001b[39;00m x \u001b[39min\u001b[39;00m \u001b[39mzip\u001b[39m(teams[\u001b[39m1\u001b[39m::\u001b[39m2\u001b[39m], teams[::\u001b[39m2\u001b[39m])]\n\u001b[1;32m     <a href='vscode-notebook-cell:/Users/joshsteinbecker/jts_project/Functions/Genetics/TournamentScheduling.ipynb#ch0000010?line=28'>29</a>\u001b[0m \u001b[39m# swap team1 with team2, and so on ....\u001b[39;00m\n\u001b[0;32m---> <a href='vscode-notebook-cell:/Users/joshsteinbecker/jts_project/Functions/Genetics/TournamentScheduling.ipynb#ch0000010?line=29'>30</a>\u001b[0m reverse_teams \u001b[39m=\u001b[39m reduce(operator\u001b[39m.\u001b[39madd,  reverse_teams)\n\u001b[1;32m     <a href='vscode-notebook-cell:/Users/joshsteinbecker/jts_project/Functions/Genetics/TournamentScheduling.ipynb#ch0000010?line=31'>32</a>\u001b[0m \u001b[39m#then run the fixtures again\u001b[39;00m\n\u001b[1;32m     <a href='vscode-notebook-cell:/Users/joshsteinbecker/jts_project/Functions/Genetics/TournamentScheduling.ipynb#ch0000010?line=32'>33</a>\u001b[0m matches \u001b[39m=\u001b[39m fixtures(reverse_teams)\n",
      "\u001b[0;31mNameError\u001b[0m: name 'reduce' is not defined"
     ]
    }
   ],
   "source": [
    "import operator\n",
    "\n",
    "\n",
    "def fixtures(teams):\n",
    "    if len(teams) % 2:\n",
    "        # if team number is odd - use 'day off' as fake team\n",
    "        teams.append('Day off')\n",
    "\n",
    "    rotation = list(teams)       # copy the list\n",
    "\n",
    "    fixtures = []\n",
    "    for i in range(0, len(teams)-1):\n",
    "        fixtures.append(rotation)\n",
    "        rotation = [rotation[0]] + [rotation[-1]] + rotation[1:-1]\n",
    "\n",
    "    return fixtures\n",
    "\n",
    "\n",
    "# demo code\n",
    "teams = [\"Team1\", \"Team2\", \"Team3\", \"Team4\", \"Team5\"]\n",
    "\n",
    "# for one match each - use this block only\n",
    "matches = fixtures(teams)\n",
    "for f in matches:\n",
    "    print (zip(*[iter(f)]*2))\n",
    "\n",
    "# if you want return matches\n",
    "reverse_teams = [list(x) for x in zip(teams[1::2], teams[::2])]\n",
    "# swap team1 with team2, and so on ....\n",
    "reverse_teams = reduce(operator.add,  reverse_teams)\n",
    "\n",
    "#then run the fixtures again\n",
    "matches = fixtures(reverse_teams)\n",
    "\n",
    "print (\"return matches\")\n",
    "for f in matches:\n",
    "    print (f)\n"
   ]
  },
  {
   "cell_type": "code",
   "execution_count": null,
   "metadata": {},
   "outputs": [],
   "source": []
  }
 ],
 "metadata": {
  "interpreter": {
   "hash": "8fd295a7007e560b192f709854f66b36915a5382ae77c4fca9f0e6f21003d31e"
  },
  "kernelspec": {
   "display_name": "Python 3.9.5 ('base')",
   "language": "python",
   "name": "python3"
  },
  "language_info": {
   "codemirror_mode": {
    "name": "ipython",
    "version": 3
   },
   "file_extension": ".py",
   "mimetype": "text/x-python",
   "name": "python",
   "nbconvert_exporter": "python",
   "pygments_lexer": "ipython3",
   "version": "3.8.2"
  },
  "orig_nbformat": 4
 },
 "nbformat": 4,
 "nbformat_minor": 2
}
