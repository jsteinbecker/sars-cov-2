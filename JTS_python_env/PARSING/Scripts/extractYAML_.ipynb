{
 "cells": [
  {
   "cell_type": "code",
   "execution_count": 1,
   "metadata": {},
   "outputs": [],
   "source": [
    "import yaml\n",
    "from yaml import load, dump, Loader, Dumper\n",
    "import re"
   ]
  },
  {
   "cell_type": "markdown",
   "metadata": {},
   "source": [
    "# Get Authors"
   ]
  },
  {
   "cell_type": "code",
   "execution_count": 2,
   "metadata": {},
   "outputs": [],
   "source": [
    "def Authors (text:str) :\n",
    "   \"\"\"\n",
    "      |-Pattern for Extraction---------|\n",
    "      |================================|\n",
    "      |     Authors :   Auth1, Auth2   |\n",
    "      |________________________________|\n",
    "   \"\"\"\n",
    "   \n",
    "   pattern = \"(?<=```yaml\\nAuthors : )[\\w\\W]*?(?=\\n```)\"\n",
    "   search = re.findall(pattern,text)\n",
    "\n",
    "   return search"
   ]
  },
  {
   "cell_type": "code",
   "execution_count": 3,
   "metadata": {},
   "outputs": [
    {
     "data": {
      "text/plain": [
       "['[ Edward C. Holmes , Andrew Rambaut , Kristian G. Andersen ]']"
      ]
     },
     "execution_count": 3,
     "metadata": {},
     "output_type": "execute_result"
    }
   ],
   "source": [
    "fl = open(\"/Users/joshsteinbecker/jts_project/JTS_python_env/PARSING/Docs/# Pandemics: spend on surveillance, not .md\")\n",
    "data = fl.read()\n",
    "Authors(data)"
   ]
  },
  {
   "cell_type": "code",
   "execution_count": 4,
   "metadata": {},
   "outputs": [
    {
     "data": {
      "text/plain": [
       "'# Pandemics: spend on surveillance, not prediction\\n> Trust is undermined when scientists make overblown promises about disease prevention, warn Edward C. Holmes, Andrew Rambaut and Kristian G. Andersen.\\n\\n```yaml\\nAuthors : [ Edward C. Holmes , Andrew Rambaut , Kristian G. Andersen ]\\n```\\n\\nThe resurgence of Ebola virus in the Democratic Republic of the Congo this May is a stark reminder that no amount of DNA sequencing can tell us when or where the next virus outbreak will appear. More genome sequence data were obtained for the 2013–16 Ebola epidemic than for any other single disease outbreak. Still, health workers in Mbandaka, the country’s northwestern provincial capital, are scrambling to contain a growing number of cases.\\n\\nOver the past 15 years or so, outbreaks caused by viruses such as Ebola, SARS and Zika have cost governments billions of US dollars. Combined with a perception among scientists, health workers and citizens that responses to outbreaks have been inadequate, this has fuelled what seems like a compelling idea. Namely, that if researchers can identify the next pandemic virus before the first case appears, communities could drastically improve strategies for control, and even stop a virus from taking hold1,2. Indeed, since 2009, the US Agency for International Development has spent US$170 million on evaluating the “feasibility of preemptively mitigating pandemic threats”1.\\n\\nVarious experts have flagged up problems with this approach (including the three of us) ^3^ ^4^ . Nonetheless, an ambitious biodiversity-based approach to outbreak prediction — the Global Virome Project — was announced in February this year, with its proponents soliciting $1.2 billion in funding from around the world (see ‘High stakes’). They estimate that other mammals and birds contain 1.67 million unknown viruses from the families of viruses that are most likely to jump to humans, and will use the funding to conduct a genomic survey of these unknown viruses, with the aim of predi ...'"
      ]
     },
     "execution_count": 4,
     "metadata": {},
     "output_type": "execute_result"
    }
   ],
   "source": [
    "data[0:2000] + \" ...\""
   ]
  },
  {
   "cell_type": "markdown",
   "metadata": {},
   "source": [
    "# Get Notes\n",
    "Scheme : \n",
    "```python\n",
    "\\``` yaml note\n",
    "      {EXTRACTS}\n",
    "\\```\n",
    "```"
   ]
  },
  {
   "cell_type": "code",
   "execution_count": 5,
   "metadata": {},
   "outputs": [],
   "source": [
    "def getNotes (text:str) :\n",
    "   pattern = \"(?<=```yaml note\\n)[\\w\\W]*?(?=\\n```)\"\n",
    "   search = re.findall(pattern,text)\n",
    "\n",
    "   return search"
   ]
  },
  {
   "cell_type": "markdown",
   "metadata": {},
   "source": [
    "### Execute \"getNotes\""
   ]
  },
  {
   "cell_type": "code",
   "execution_count": 6,
   "metadata": {},
   "outputs": [
    {
     "name": "stdout",
     "output_type": "stream",
     "text": [
      "Public Criticism of researchers during outbreaks:\n",
      "   - Ebola response : TOO SLOW\n",
      "   - 2009 H1N1 : SEVERITY EXAGGERATED?\n"
     ]
    }
   ],
   "source": [
    "print (getNotes (data)[0])"
   ]
  },
  {
   "cell_type": "code",
   "execution_count": 18,
   "metadata": {},
   "outputs": [],
   "source": [
    "class Highlights :\n",
    "   def __init__ (self,text):\n",
    "      self.values = getHighlights(text)\n",
    "   def formatter (self):\n",
    "      output = \"\"\n",
    "      for x in self.values:\n",
    "         output += x + \"\\n\" + \"- \"*50 + \"\\n\"\n",
    "      print(output)\n",
    "         \n",
    "   \n",
    "def getHighlights (text:str) :\n",
    "   pattern = \"(?<=\\s`)[\\w\\W]*?(?=`\\s)\" #note\n",
    "\n",
    "   search = re.findall(pattern,text)\n",
    "\n",
    "   return search"
   ]
  },
  {
   "cell_type": "code",
   "execution_count": 19,
   "metadata": {},
   "outputs": [
    {
     "name": "stdout",
     "output_type": "stream",
     "text": [
      "``yaml\n",
      "Authors : [ Edward C. Holmes , Andrew Rambaut , Kristian G. Andersen ]\n",
      "``\n",
      "- - - - - - - - - - - - - - - - - - - - - - - - - - - - - - - - - - - - - - - - - - - - - - - - - - \n",
      "``yaml note\n",
      "Public Criticism of researchers during outbreaks:\n",
      "   - Ebola response : TOO SLOW\n",
      "   - 2009 H1N1 : SEVERITY EXAGGERATED?\n",
      "``\n",
      "- - - - - - - - - - - - - - - - - - - - - - - - - - - - - - - - - - - - - - - - - - - - - - - - - - \n",
      "For instance, in the 2013–16 Ebola epidemic, genome sequencing of the virus proved that a person could sexually transmit the disease more than a year after becoming infected. This prompted the WHO to increase its recommended number of tests for persistent infection in survivors of the disease.\n",
      "- - - - - - - - - - - - - - - - - - - - - - - - - - - - - - - - - - - - - - - - - - - - - - - - - - \n",
      "discovery\n",
      "- - - - - - - - - - - - - - - - - - - - - - - - - - - - - - - - - - - - - - - - - - - - - - - - - - \n",
      "New viruses will continue to emerge unexpectedly. There is a lot we can and must do to be better prepared.\n",
      "- - - - - - - - - - - - - - - - - - - - - - - - - - - - - - - - - - - - - - - - - - - - - - - - - - \n",
      "\n"
     ]
    }
   ],
   "source": [
    "myhighlights = Highlights(data)\n",
    "myhighlights.formatter()"
   ]
  },
  {
   "cell_type": "code",
   "execution_count": null,
   "metadata": {},
   "outputs": [],
   "source": []
  }
 ],
 "metadata": {
  "interpreter": {
   "hash": "8fd295a7007e560b192f709854f66b36915a5382ae77c4fca9f0e6f21003d31e"
  },
  "kernelspec": {
   "display_name": "Python 3.9.5 ('base')",
   "language": "python",
   "name": "python3"
  },
  "language_info": {
   "codemirror_mode": {
    "name": "ipython",
    "version": 3
   },
   "file_extension": ".py",
   "mimetype": "text/x-python",
   "name": "python",
   "nbconvert_exporter": "python",
   "pygments_lexer": "ipython3",
   "version": "3.9.5"
  },
  "orig_nbformat": 4
 },
 "nbformat": 4,
 "nbformat_minor": 2
}
