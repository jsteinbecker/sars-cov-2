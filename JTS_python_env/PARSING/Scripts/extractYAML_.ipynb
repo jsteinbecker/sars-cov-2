{
 "cells": [
  {
   "cell_type": "code",
   "execution_count": 55,
   "metadata": {},
   "outputs": [],
   "source": [
    "import yaml\n",
    "from yaml import load, dump, Loader, Dumper\n",
    "import re"
   ]
  },
  {
   "cell_type": "markdown",
   "metadata": {},
   "source": [
    "# Get Authors"
   ]
  },
  {
   "cell_type": "code",
   "execution_count": 56,
   "metadata": {},
   "outputs": [],
   "source": [
    "def Authors (text:str) :\n",
    "   pattern = \"(?<=```yaml\\nAuthors : )[\\w\\W]*?(?=\\n```)\"\n",
    "   search = re.findall(pattern,text)\n",
    "\n",
    "   return search"
   ]
  },
  {
   "cell_type": "code",
   "execution_count": 57,
   "metadata": {},
   "outputs": [
    {
     "data": {
      "text/plain": [
       "['[ Edward C. Holmes , Andrew Rambaut , Kristian G. Andersen ]']"
      ]
     },
     "execution_count": 57,
     "metadata": {},
     "output_type": "execute_result"
    }
   ],
   "source": [
    "fl = open(\"/Users/joshsteinbecker/jts_project/JTS_python_env/PARSING/Docs/# Pandemics: spend on surveillance, not .md\")\n",
    "data = fl.read()\n",
    "Authors(data)"
   ]
  },
  {
   "cell_type": "code",
   "execution_count": 58,
   "metadata": {},
   "outputs": [
    {
     "data": {
      "text/plain": [
       "'# Pandemics: spend on surveillance, not prediction\\n> Trust is undermined when scientists make overblown promises about disease prevention, warn Edward C. Holmes, Andrew Rambaut and Kristian G. Andersen.\\n\\n```yaml\\nAuthors : [ Edward C. Holmes , Andrew Rambaut , Kristian G. Andersen ]\\n```\\n\\nThe resurgence of Ebola virus in the Democratic Republic of the Congo this May is a stark reminder that no amount of DNA sequencing can tell us when or where the next virus outbreak will appear. More genome sequence data were obtained for the 2013–16 Ebola epidemic than for any other single disease outbreak. Still, health workers in Mbandaka, the country’s northwestern provincial capital, are scrambling to contain a growing number of cases.\\n\\nOver the past 15 years or so, outbreaks caused by viruses such as Ebola, SARS and Zika have cost governments billions of US dollars. Combined with a perception among scientists, health workers and citizens that responses to outbreaks have been inadequate, this has fuelled what seems like a compelling idea. Namely, that if researchers can identify the next pandemic virus before the first case appears, communities could drastically improve strategies for control, and even stop a virus from taking hold1,2. Indeed, since 2009, the US Agency for International Development has spent US$170 million on evaluating the “feasibility of preemptively mitigating pandemic threats”1.\\n\\nVarious experts have flagged up problems with this approach (including the three of us) ^3^ ^4^ . Nonetheless, an ambitious biodiversity-based approach to outbreak prediction — the Global Virome Project — was announced in February this year, with its proponents soliciting $1.2 billion in funding from around the world (see ‘High stakes’). They estimate that other mammals and birds contain 1.67 million unknown viruses from the families of viruses that are most likely to jump to humans, and will use the funding to conduct a genomic survey of these unknown viruses, with the aim of predi ...'"
      ]
     },
     "execution_count": 58,
     "metadata": {},
     "output_type": "execute_result"
    }
   ],
   "source": [
    "data[0:2000] + \" ...\""
   ]
  },
  {
   "cell_type": "markdown",
   "metadata": {},
   "source": [
    "# Get Notes\n",
    "Scheme : \n",
    "```\n",
    "` ` ` yaml note\n",
    "      {EXTRACTS}\n",
    "` ` `\n",
    "```"
   ]
  },
  {
   "cell_type": "code",
   "execution_count": 59,
   "metadata": {},
   "outputs": [],
   "source": [
    "def getNotes (text:str) :\n",
    "   pattern = \"(?<=```yaml note\\n)[\\w\\W]*?(?=\\n```)\"\n",
    "   search = re.findall(pattern,text)\n",
    "\n",
    "   return search"
   ]
  },
  {
   "cell_type": "code",
   "execution_count": 60,
   "metadata": {},
   "outputs": [
    {
     "name": "stdout",
     "output_type": "stream",
     "text": [
      "Public Criticism of researchers during outbreaks:\n",
      "   - Ebola response : TOO SLOW\n",
      "   - 2009 H1N1 : SEVERITY EXAGGERATED?\n"
     ]
    }
   ],
   "source": [
    "print (getNotes (data)[0])"
   ]
  },
  {
   "cell_type": "code",
   "execution_count": 76,
   "metadata": {},
   "outputs": [],
   "source": [
    "def getHighlights (text:str) :\n",
    "   pattern = \"(?<===)[\\w\\W]*?(?===\\s)\" #note\n",
    "\n",
    "   search = re.findall(pattern,text)\n",
    "\n",
    "   return search"
   ]
  },
  {
   "cell_type": "code",
   "execution_count": 77,
   "metadata": {},
   "outputs": [
    {
     "name": "stdout",
     "output_type": "stream",
     "text": [
      "The public has increasingly questioned the scientific credibility of researchers working on outbreaks.==* In the 2013–16 Ebola epidemic, for instance, the international response was repeatedly criticized for being too slow. And during the 2009 H1N1 influenza epidemic, people asked whether the severity of the virus had been overblown, and if the stockpiling of pharmaceuticals was even necessary5. Making promises about disease prevention and control that cannot be kept will only further undermine trust.\n",
      "\n",
      "```yaml note\n",
      "Public Criticism of researchers during outbreaks:\n",
      "   - Ebola response : TOO SLOW\n",
      "   - 2009 H1N1 : SEVERITY EXAGGERATED?\n",
      "```\n",
      "\n",
      "## Forecasting fallacy\n",
      "\n",
      "Supporters of outbreak prediction maintain that if biologists genetically characterize all of the viruses circulating in animal populations (especially in groups such as bats and rodents that have previously acted as reservoirs for emerging viruses), they can determine which ones are likely to emerge next, and ultimately prevent them from doing so. With enough data, coupled with artificial intelligence and machine learning, they argue, the process could be similar to predicting the weather6.\n",
      "\n",
      "A Congolese child washes her hands as a preventive measure against Ebola in DRC, May 2018\n",
      "People in Mbandaka are taking extra precautionary measures to stop the spread of Ebola virus.Credit: Kenny Katombe/Reuters\n",
      "\n",
      "Reams of data are available to train models to predict the weather. By contrast, it is exceedingly rare for viruses to emerge and cause outbreaks. Around 250 human viruses have been described, and only a small subset of these have caused major epidemics this century.\n",
      "\n",
      "Advocates of prediction also argue that it will be possible to anticipate how likely a virus is to emerge in people on the basis of its sequence, and by using knowledge of how it interacts with cells (obtained, for instance, by studying the virus in human cell cultures).\n",
      "\n",
      "This is misguided. Determining which of more than 1.6 million animal viruses are capable of replicating in humans and transmitting between them would require many decades’ worth of laboratory work in cell cultures and animals. Even if researchers managed to link each virus genome sequence to substantial experimental data, all sorts of other factors determine whether a virus jumps species and emerges in a human population, such as the distribution and density of animal hosts. Influenza viruses have circulated in horses since the 1950s and in dogs since the early 2000s, for instance7. These viruses have not emerged in human populations, and perhaps never will — for unknown reasons.\n",
      "\n",
      "In short, there aren’t enough data on virus outbreaks for researchers to be able to accurately predict the next outbreak strain. Nor is there a good enough understanding of what drives viruses to jump hosts, making it difficult to construct predictive models.\n",
      "\n",
      "Biodiversity-based prediction also ignores the fact that viruses are not fixed entities. New variants of RNA viruses appear every day. This speedy evolution means that surveys would need to be done continuously to be informative. The cost would dwarf the proposed $1.2-billion budget for one-time sequencing.\n",
      "\n",
      "Even if it were possible to identify which viruses are likely to emerge in humans, thousands of candidates could end up being identified, each with a low probability of causing an outbreak. What should be done in that case? Costs would skyrocket if vaccines and therapeutics were proposed for even a handful of these.\n",
      "\n",
      "## Screen and sequence\n",
      "\n",
      "Currently, the most effective and realistic way to fight outbreaks is to monitor human populations in the countries and locations that are most vulnerable to infectious disease. This can be done by local clinicians, health workers in non-governmental organizations such as Médecins Sans Frontières (MSF; also known as Doctors Without Borders), and global institutions such as the World Health Organization (WHO).\n",
      "\n",
      "We advocate the detailed screening of people who are exhibiting symptoms that cannot easily be diagnosed. Such tests should use the latest sequencing technologies to characterize all the pathogens that have infected an individual — the human ‘infectome’8. To track previous infections, investigators should also assess each person’s immune response, by analysing components of their blood using broad-scale serology9.\n",
      "\n",
      "Emerging diseases are commonly associated with population expansions — when people encroach on habitats occupied by animals — as well as with environmental disturbances and climate change. Deforestation, for instance, can promote human interactions with animals that carry new threats, and can increase encounters with new vector species such as ticks and mosquitoes10. Animal die-offs, for example that of bar-headed geese (Anser indicus) at Lake Qinghai in China in 2005 (which was caused by the H5N1 influenza virus), can also flag problem regions or emerging pathogens. Surveillance efforts should therefore focus on communities that live and work in such environments.\n",
      "\n",
      "Identifying which pathogen is causing an outbreak is no longer the bottleneck it once was. It took researchers two years to determine HIV as the cause of AIDS in the early 1980s using microscopy and other techniques. By contrast, in 2012 it took only weeks for investigators using genomic technologies to discover the coronavirus that caused Middle East respiratory syndrome (MERS).\n",
      "\n",
      "==Rapid identification of viruses can be achieved only if such technologies — and the people trained to use them — are globally available, including in resource-limited regions where the risk of outbreaks might be higher.\n",
      "--------------------------------------------------\n",
      " Thankfully, relevant capacity-building programmes are now beginning to be established, such as the Human Heredity and Health in Africa (H3Africa) Initiative, run by the UK Wellcome Trust and the US National Institutes of Health11.\n",
      "\n",
      "Once an emerging outbreak virus has been identified, it needs to be analysed quickly to establish what type it is; which molecular mechanisms (such as receptor type) enable it to jump between individuals; how it spreads through human populations; and how it affects those infected. In other words, at least four kinds of analysis are needed: genomic, virological, epidemiological and clinical. And the data must be passed to key stakeholders, from researchers and health workers on the ground to international agencies such as the WHO and the MSF. Data must be kept as free of restrictions as possible, within the constraints of protections of patient privacy and other ethical issues.\n",
      "\n",
      "This will best be achieved through an established global network of highly trained local researchers, such as the WHO Global Outbreak Alert and Response Network (GOARN). Real-time tools for reconstructing and tracking outbreaks at the genomic level, such as portable sequencing devices, are improving fast8. Information gathered during recent outbreaks has quickly had tangible impacts on public-health decisions, largely owing to data generation and analysis by many research teams within days of people being infected12.\n",
      "\n",
      "For instance, in the 2013–16 Ebola epidemic, genome sequencing of the virus proved that a person could sexually transmit the disease more than a year after becoming infected. This prompted the WHO to increase its recommended number of tests for persistent infection in survivors of the disease.\n",
      "\n",
      "Ultimately, the challenge is to link genomic, clinical and epidemiological data within days of an outbreak being detected, including information about how people in an affected community are interacting. Such an open, collaborative approach to tackling the emergence of infectious disease is now possible. This is partly thanks to technology, but is mainly due to a shift in perception about the importance of this approach. At least in genomic epidemiology, there is a growing move towards real-time, open-access data and analysis, aided by the use of preprint servers and wikis such as Virological (http://virological.org). This type of collaborative effort can complement the work of agencies including the WHO and the MSF, which focus predominantly on providing information, isolating those who have been infected, and so on.\n",
      "\n",
      "So far, researchers have sampled little of the viral universe. Surveys of animals will undoubtedly result in the ==discovery\n",
      "--------------------------------------------------\n"
     ]
    }
   ],
   "source": [
    "for x in getHighlights (data):\n",
    "   print(x)\n",
    "   print(\"-\"*50)"
   ]
  },
  {
   "cell_type": "code",
   "execution_count": null,
   "metadata": {},
   "outputs": [],
   "source": []
  }
 ],
 "metadata": {
  "interpreter": {
   "hash": "8fd295a7007e560b192f709854f66b36915a5382ae77c4fca9f0e6f21003d31e"
  },
  "kernelspec": {
   "display_name": "Python 3.9.5 ('base')",
   "language": "python",
   "name": "python3"
  },
  "language_info": {
   "codemirror_mode": {
    "name": "ipython",
    "version": 3
   },
   "file_extension": ".py",
   "mimetype": "text/x-python",
   "name": "python",
   "nbconvert_exporter": "python",
   "pygments_lexer": "ipython3",
   "version": "3.9.5"
  },
  "orig_nbformat": 4
 },
 "nbformat": 4,
 "nbformat_minor": 2
}
