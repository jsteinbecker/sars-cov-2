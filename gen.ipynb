{
 "cells": [
  {
   "cell_type": "markdown",
   "metadata": {},
   "source": [
    "*Imports*"
   ]
  },
  {
   "cell_type": "code",
   "execution_count": null,
   "metadata": {},
   "outputs": [
    {
     "ename": "",
     "evalue": "",
     "output_type": "error",
     "traceback": [
      "\u001b[1;31mFailed to start the Kernel. \n",
      "Failed to start the Kernel '3.8.13 (Python 3.8.13)'. \n",
      "View Jupyter <a href='command:jupyter.viewOutput'>log</a> for further details. Cannot read properties of undefined (reading 'baseUrl')"
     ]
    }
   ],
   "source": [
    "import functions.genetics as gen\n",
    "import pandas as pd\n",
    "import numpy as np\n",
    "import matplotlib.pyplot as plt"
   ]
  },
  {
   "cell_type": "markdown",
   "metadata": {},
   "source": [
    "*GC Content*"
   ]
  },
  {
   "cell_type": "code",
   "execution_count": null,
   "metadata": {},
   "outputs": [
    {
     "data": {
      "text/plain": [
       "0.6957"
      ]
     },
     "execution_count": 46,
     "metadata": {},
     "output_type": "execute_result"
    },
    {
     "ename": "",
     "evalue": "",
     "output_type": "error",
     "traceback": [
      "\u001b[1;31mFailed to start the Kernel. \n",
      "Failed to start the Kernel 'Python 3.8.10 64-bit'. \n",
      "View Jupyter <a href='command:jupyter.viewOutput'>log</a> for further details. Cannot read properties of undefined (reading 'baseUrl')"
     ]
    },
    {
     "ename": "",
     "evalue": "",
     "output_type": "error",
     "traceback": [
      "\u001b[1;31mFailed to start the Kernel. \n",
      "Failed to start the Kernel '3.8.13 (Python 3.8.13)'. \n",
      "View Jupyter <a href='command:jupyter.viewOutput'>log</a> for further details. Cannot read properties of undefined (reading 'baseUrl')"
     ]
    },
    {
     "ename": "",
     "evalue": "",
     "output_type": "error",
     "traceback": [
      "\u001b[1;31mFailed to start the Kernel. \n",
      "Failed to start the Kernel '3.8.13 (Python 3.8.13)'. \n",
      "View Jupyter <a href='command:jupyter.viewOutput'>log</a> for further details. Cannot read properties of undefined (reading 'baseUrl')"
     ]
    },
    {
     "ename": "",
     "evalue": "",
     "output_type": "error",
     "traceback": [
      "\u001b[1;31mFailed to start the Kernel. \n",
      "Failed to start the Kernel '3.8.13 (Python 3.8.13)'. \n",
      "View Jupyter <a href='command:jupyter.viewOutput'>log</a> for further details. Cannot read properties of undefined (reading 'baseUrl')"
     ]
    }
   ],
   "source": [
    "# Define Sequence\n",
    "SEQ = \"accgtgcgtgacgtgcacggtgc\"\n",
    "# Calc. GC%\n",
    "gen.gcContent (SEQ)"
   ]
  },
  {
   "cell_type": "code",
   "execution_count": null,
   "metadata": {},
   "outputs": [
    {
     "ename": "",
     "evalue": "",
     "output_type": "error",
     "traceback": [
      "\u001b[1;31mFailed to start the Kernel. \n",
      "Failed to start the Kernel 'Python 3.8.10 64-bit'. \n",
      "View Jupyter <a href='command:jupyter.viewOutput'>log</a> for further details. Cannot read properties of undefined (reading 'baseUrl')"
     ]
    },
    {
     "ename": "",
     "evalue": "",
     "output_type": "error",
     "traceback": [
      "\u001b[1;31mFailed to start the Kernel. \n",
      "Failed to start the Kernel '3.8.13 (Python 3.8.13)'. \n",
      "View Jupyter <a href='command:jupyter.viewOutput'>log</a> for further details. Cannot read properties of undefined (reading 'baseUrl')"
     ]
    },
    {
     "ename": "",
     "evalue": "",
     "output_type": "error",
     "traceback": [
      "\u001b[1;31mFailed to start the Kernel. \n",
      "Failed to start the Kernel '3.8.13 (Python 3.8.13)'. \n",
      "View Jupyter <a href='command:jupyter.viewOutput'>log</a> for further details. Cannot read properties of undefined (reading 'baseUrl')"
     ]
    },
    {
     "ename": "",
     "evalue": "",
     "output_type": "error",
     "traceback": [
      "\u001b[1;31mFailed to start the Kernel. \n",
      "Failed to start the Kernel '3.8.13 (Python 3.8.13)'. \n",
      "View Jupyter <a href='command:jupyter.viewOutput'>log</a> for further details. Cannot read properties of undefined (reading 'baseUrl')"
     ]
    }
   ],
   "source": [
    "OLIGS = [gen.randomOligo (67) for n in range(200)] \n",
    "GCs = [gen.gcContent(OLIG) for OLIG in OLIGS]\n",
    "df = pd.DataFrame(pd.Series (GCs), columns=[\"Oligo Set\"])\n",
    "\n",
    "print (\"GC% of Random Oligos -- 2000 Runs, 67NT Length\")\n",
    "median = float(df.describe().median())\n",
    "print(round(median,3))\n",
    "\n",
    "\n",
    "def seriesBoxplot (df):\n",
    "   plt.title(\"GC CONTENT\")\n",
    "   return df.boxplot(vert=False,  figsize=(8,1.6))\n",
    "seriesBoxplot (df)"
   ]
  },
  {
   "cell_type": "markdown",
   "metadata": {},
   "source": []
  },
  {
   "cell_type": "code",
   "execution_count": null,
   "metadata": {},
   "outputs": [
    {
     "data": {
      "text/html": [
       "<style type=\"text/css\">\n",
       "#T_29fab_row0_col0, #T_29fab_row2_col0, #T_29fab_row5_col3, #T_29fab_row7_col0, #T_29fab_row7_col1, #T_29fab_row7_col2 {\n",
       "  color: red;\n",
       "  opacity: 60%;\n",
       "}\n",
       "#T_29fab_row0_col1, #T_29fab_row1_col3, #T_29fab_row2_col2, #T_29fab_row3_col2, #T_29fab_row3_col3, #T_29fab_row4_col0, #T_29fab_row4_col3, #T_29fab_row5_col0, #T_29fab_row5_col2, #T_29fab_row6_col0, #T_29fab_row6_col2, #T_29fab_row6_col3, #T_29fab_row8_col0, #T_29fab_row8_col2, #T_29fab_row9_col3 {\n",
       "  color: red;\n",
       "}\n",
       "#T_29fab_row0_col2, #T_29fab_row2_col3, #T_29fab_row9_col1 {\n",
       "  color: black;\n",
       "  background-color: gold;\n",
       "  color: white;\n",
       "  background-color: grey;\n",
       "}\n",
       "#T_29fab_row0_col3, #T_29fab_row2_col1, #T_29fab_row5_col1, #T_29fab_row9_col0 {\n",
       "  opacity: 60%;\n",
       "}\n",
       "#T_29fab_row1_col0, #T_29fab_row1_col1, #T_29fab_row1_col2, #T_29fab_row7_col3 {\n",
       "  color: red;\n",
       "  color: white;\n",
       "  background-color: maroon;\n",
       "  font-weight: bold;\n",
       "}\n",
       "#T_29fab_row3_col0 {\n",
       "  opacity: 60%;\n",
       "  color: black;\n",
       "  background-color: gold;\n",
       "  color: white;\n",
       "  background-color: grey;\n",
       "}\n",
       "</style>\n",
       "<table id=\"T_29fab\">\n",
       "  <thead>\n",
       "    <tr>\n",
       "      <th class=\"blank level0\" >&nbsp;</th>\n",
       "      <th id=\"T_29fab_level0_col0\" class=\"col_heading level0 col0\" >A</th>\n",
       "      <th id=\"T_29fab_level0_col1\" class=\"col_heading level0 col1\" >B</th>\n",
       "      <th id=\"T_29fab_level0_col2\" class=\"col_heading level0 col2\" >C</th>\n",
       "      <th id=\"T_29fab_level0_col3\" class=\"col_heading level0 col3\" >D</th>\n",
       "    </tr>\n",
       "  </thead>\n",
       "  <tbody>\n",
       "    <tr>\n",
       "      <th id=\"T_29fab_level0_row0\" class=\"row_heading level0 row0\" >0</th>\n",
       "      <td id=\"T_29fab_row0_col0\" class=\"data row0 col0\" >-0.259049</td>\n",
       "      <td id=\"T_29fab_row0_col1\" class=\"data row0 col1\" >-0.518318</td>\n",
       "      <td id=\"T_29fab_row0_col2\" class=\"data row0 col2\" >2.580187</td>\n",
       "      <td id=\"T_29fab_row0_col3\" class=\"data row0 col3\" >0.186146</td>\n",
       "    </tr>\n",
       "    <tr>\n",
       "      <th id=\"T_29fab_level0_row1\" class=\"row_heading level0 row1\" >1</th>\n",
       "      <td id=\"T_29fab_row1_col0\" class=\"data row1 col0\" >-1.163796</td>\n",
       "      <td id=\"T_29fab_row1_col1\" class=\"data row1 col1\" >-1.511667</td>\n",
       "      <td id=\"T_29fab_row1_col2\" class=\"data row1 col2\" >-1.525232</td>\n",
       "      <td id=\"T_29fab_row1_col3\" class=\"data row1 col3\" >-0.448570</td>\n",
       "    </tr>\n",
       "    <tr>\n",
       "      <th id=\"T_29fab_level0_row2\" class=\"row_heading level0 row2\" >2</th>\n",
       "      <td id=\"T_29fab_row2_col0\" class=\"data row2 col0\" >-0.181028</td>\n",
       "      <td id=\"T_29fab_row2_col1\" class=\"data row2 col1\" >0.098192</td>\n",
       "      <td id=\"T_29fab_row2_col2\" class=\"data row2 col2\" >-0.547883</td>\n",
       "      <td id=\"T_29fab_row2_col3\" class=\"data row2 col3\" >1.525703</td>\n",
       "    </tr>\n",
       "    <tr>\n",
       "      <th id=\"T_29fab_level0_row3\" class=\"row_heading level0 row3\" >3</th>\n",
       "      <td id=\"T_29fab_row3_col0\" class=\"data row3 col0\" >0.236544</td>\n",
       "      <td id=\"T_29fab_row3_col1\" class=\"data row3 col1\" >1.096471</td>\n",
       "      <td id=\"T_29fab_row3_col2\" class=\"data row3 col2\" >-1.353559</td>\n",
       "      <td id=\"T_29fab_row3_col3\" class=\"data row3 col3\" >-1.126969</td>\n",
       "    </tr>\n",
       "    <tr>\n",
       "      <th id=\"T_29fab_level0_row4\" class=\"row_heading level0 row4\" >4</th>\n",
       "      <td id=\"T_29fab_row4_col0\" class=\"data row4 col0\" >-0.734412</td>\n",
       "      <td id=\"T_29fab_row4_col1\" class=\"data row4 col1\" >0.368347</td>\n",
       "      <td id=\"T_29fab_row4_col2\" class=\"data row4 col2\" >1.298670</td>\n",
       "      <td id=\"T_29fab_row4_col3\" class=\"data row4 col3\" >-0.709678</td>\n",
       "    </tr>\n",
       "    <tr>\n",
       "      <th id=\"T_29fab_level0_row5\" class=\"row_heading level0 row5\" >5</th>\n",
       "      <td id=\"T_29fab_row5_col0\" class=\"data row5 col0\" >-0.663498</td>\n",
       "      <td id=\"T_29fab_row5_col1\" class=\"data row5 col1\" >0.293932</td>\n",
       "      <td id=\"T_29fab_row5_col2\" class=\"data row5 col2\" >-0.393827</td>\n",
       "      <td id=\"T_29fab_row5_col3\" class=\"data row5 col3\" >-0.251093</td>\n",
       "    </tr>\n",
       "    <tr>\n",
       "      <th id=\"T_29fab_level0_row6\" class=\"row_heading level0 row6\" >6</th>\n",
       "      <td id=\"T_29fab_row6_col0\" class=\"data row6 col0\" >-0.628852</td>\n",
       "      <td id=\"T_29fab_row6_col1\" class=\"data row6 col1\" >0.746275</td>\n",
       "      <td id=\"T_29fab_row6_col2\" class=\"data row6 col2\" >-0.618136</td>\n",
       "      <td id=\"T_29fab_row6_col3\" class=\"data row6 col3\" >-0.380296</td>\n",
       "    </tr>\n",
       "    <tr>\n",
       "      <th id=\"T_29fab_level0_row7\" class=\"row_heading level0 row7\" >7</th>\n",
       "      <td id=\"T_29fab_row7_col0\" class=\"data row7 col0\" >-0.202120</td>\n",
       "      <td id=\"T_29fab_row7_col1\" class=\"data row7 col1\" >-0.281345</td>\n",
       "      <td id=\"T_29fab_row7_col2\" class=\"data row7 col2\" >-0.058063</td>\n",
       "      <td id=\"T_29fab_row7_col3\" class=\"data row7 col3\" >-1.501903</td>\n",
       "    </tr>\n",
       "    <tr>\n",
       "      <th id=\"T_29fab_level0_row8\" class=\"row_heading level0 row8\" >8</th>\n",
       "      <td id=\"T_29fab_row8_col0\" class=\"data row8 col0\" >-0.325710</td>\n",
       "      <td id=\"T_29fab_row8_col1\" class=\"data row8 col1\" >0.331630</td>\n",
       "      <td id=\"T_29fab_row8_col2\" class=\"data row8 col2\" >-0.656702</td>\n",
       "      <td id=\"T_29fab_row8_col3\" class=\"data row8 col3\" >0.493157</td>\n",
       "    </tr>\n",
       "    <tr>\n",
       "      <th id=\"T_29fab_level0_row9\" class=\"row_heading level0 row9\" >9</th>\n",
       "      <td id=\"T_29fab_row9_col0\" class=\"data row9 col0\" >0.130228</td>\n",
       "      <td id=\"T_29fab_row9_col1\" class=\"data row9 col1\" >1.941582</td>\n",
       "      <td id=\"T_29fab_row9_col2\" class=\"data row9 col2\" >1.397304</td>\n",
       "      <td id=\"T_29fab_row9_col3\" class=\"data row9 col3\" >-0.591588</td>\n",
       "    </tr>\n",
       "  </tbody>\n",
       "</table>\n"
      ],
      "text/plain": [
       "<pandas.io.formats.style.Styler at 0x119be0790>"
      ]
     },
     "execution_count": 31,
     "metadata": {},
     "output_type": "execute_result"
    },
    {
     "ename": "",
     "evalue": "",
     "output_type": "error",
     "traceback": [
      "\u001b[1;31mFailed to start the Kernel. \n",
      "Failed to start the Kernel 'Python 3.8.10 64-bit'. \n",
      "View Jupyter <a href='command:jupyter.viewOutput'>log</a> for further details. Cannot read properties of undefined (reading 'baseUrl')"
     ]
    },
    {
     "ename": "",
     "evalue": "",
     "output_type": "error",
     "traceback": [
      "\u001b[1;31mFailed to start the Kernel. \n",
      "Failed to start the Kernel '3.8.13 (Python 3.8.13)'. \n",
      "View Jupyter <a href='command:jupyter.viewOutput'>log</a> for further details. Cannot read properties of undefined (reading 'baseUrl')"
     ]
    },
    {
     "ename": "",
     "evalue": "",
     "output_type": "error",
     "traceback": [
      "\u001b[1;31mFailed to start the Kernel. \n",
      "Failed to start the Kernel '3.8.13 (Python 3.8.13)'. \n",
      "View Jupyter <a href='command:jupyter.viewOutput'>log</a> for further details. Cannot read properties of undefined (reading 'baseUrl')"
     ]
    },
    {
     "ename": "",
     "evalue": "",
     "output_type": "error",
     "traceback": [
      "\u001b[1;31mFailed to start the Kernel. \n",
      "Failed to start the Kernel '3.8.13 (Python 3.8.13)'. \n",
      "View Jupyter <a href='command:jupyter.viewOutput'>log</a> for further details. Cannot read properties of undefined (reading 'baseUrl')"
     ]
    }
   ],
   "source": [
    "df2 = pd.DataFrame(np.random.randn(10, 4), columns=['A', 'B', 'C', 'D'])\n",
    "df2.style\n",
    "\n",
    "\n",
    "def style_negative(v, props=''):\n",
    "    \"\"\"\n",
    "    Example of Props to pass in:\n",
    "    >>> color:white;background-color:maroon;font-weight:bold\n",
    "    =============================================================\"\"\"\n",
    "    return props if v < 0 else None\n",
    "\n",
    "\n",
    "s2 = df2.style.applymap(style_negative, props='color:red;')\\\n",
    "              .applymap(lambda v: 'opacity: 60%;' if (v < 0.3) and (v > -0.3) else None)\n",
    "\n",
    "\n",
    "def style_negative(v, props=''):\n",
    "    return props if v < 0 else None\n",
    "\n",
    "\n",
    "def highlight_max(s, props=''):\n",
    "    return np.where(s == np.nanmax(s.values), props, '')\n",
    "def highlight_min(s, props=''):\n",
    "    return np.where(s == np.nanmin(s.values), props, '')\n",
    "\n",
    "\n",
    "s2.apply(highlight_min, props='color:white;background-color:maroon;font-weight:bold', axis=0)\n",
    "s2.apply(highlight_max, props='color:black;background-color:gold', axis=0)\n",
    "\n",
    "s2.apply(highlight_max, props='color:white;background-color:grey')\n",
    "s2\n"
   ]
  },
  {
   "cell_type": "code",
   "execution_count": null,
   "metadata": {},
   "outputs": [
    {
     "data": {
      "text/plain": [
       "<AxesSubplot:>"
      ]
     },
     "execution_count": 45,
     "metadata": {},
     "output_type": "execute_result"
    },
    {
     "data": {
      "image/png": "[encoded data removed]",
      "image/svg+xml": "<?xml version=\"1.0\" encoding=\"utf-8\" standalone=\"no\"?>\n<!DOCTYPE svg PUBLIC \"-//W3C//DTD SVG 1.1//EN\"\n  \"http://www.w3.org/Graphics/SVG/1.1/DTD/svg11.dtd\">\n<svg xmlns:xlink=\"http://www.w3.org/1999/xlink\" width=\"308.1pt\" height=\"139.798125pt\" viewBox=\"0 0 308.1 139.798125\" xmlns=\"http://www.w3.org/2000/svg\" version=\"1.1\">\n <metadata>\n  <rdf:RDF xmlns:dc=\"http://purl.org/dc/elements/1.1/\" xmlns:cc=\"http://creativecommons.org/ns#\" xmlns:rdf=\"http://www.w3.org/1999/02/22-rdf-syntax-ns#\">\n   <cc:Work>\n    <dc:type rdf:resource=\"http://purl.org/dc/dcmitype/StillImage\"/>\n    <dc:date>2022-05-05T09:48:18.399382</dc:date>\n    <dc:format>image/svg+xml</dc:format>\n    <dc:creator>\n     <cc:Agent>\n      <dc:title>Matplotlib v3.5.1, https://matplotlib.org/</dc:title>\n     </cc:Agent>\n    </dc:creator>\n   </cc:Work>\n  </rdf:RDF>\n </metadata>\n <defs>\n  <style type=\"text/css\">*{stroke-linejoin: round; stroke-linecap: butt}</style>\n </defs>\n <g id=\"figure_1\">\n  <g id=\"patch_1\">\n   <path d=\"M 0 139.798125 \nL 308.1 139.798125 \nL 308.1 0 \nL 0 0 \nL 0 139.798125 \nz\n\" style=\"fill: none\"/>\n  </g>\n  <g id=\"axes_1\">\n   <g id=\"patch_2\">\n    <path d=\"M 21.9 115.92 \nL 300.9 115.92 \nL 300.9 7.2 \nL 21.9 7.2 \nz\n\" style=\"fill: #ffffff\"/>\n   </g>\n   <g id=\"matplotlib.axis_1\">\n    <g id=\"xtick_1\">\n     <g id=\"line2d_1\">\n      <path d=\"M 67.031103 115.92 \nL 67.031103 7.2 \n\" clip-path=\"url(#pde16428174)\" style=\"fill: none; stroke: #b0b0b0; stroke-width: 0.8; stroke-linecap: square\"/>\n     </g>\n     <g id=\"line2d_2\">\n      <defs>\n       <path id=\"m8dafbf0a5c\" d=\"M 0 0 \nL 0 3.5 \n\" style=\"stroke: #000000; stroke-width: 0.8\"/>\n      </defs>\n      <g>\n       <use xlink:href=\"#m8dafbf0a5c\" x=\"67.031103\" y=\"115.92\" style=\"stroke: #000000; stroke-width: 0.8\"/>\n      </g>\n     </g>\n     <g id=\"text_1\">\n      <!-- −1 -->\n      <g transform=\"translate(59.660009 130.518437)scale(0.1 -0.1)\">\n       <defs>\n        <path id=\"DejaVuSans-2212\" d=\"M 678 2272 \nL 4684 2272 \nL 4684 1741 \nL 678 1741 \nL 678 2272 \nz\n\" transform=\"scale(0.015625)\"/>\n        <path id=\"DejaVuSans-31\" d=\"M 794 531 \nL 1825 531 \nL 1825 4091 \nL 703 3866 \nL 703 4441 \nL 1819 4666 \nL 2450 4666 \nL 2450 531 \nL 3481 531 \nL 3481 0 \nL 794 0 \nL 794 531 \nz\n\" transform=\"scale(0.015625)\"/>\n       </defs>\n       <use xlink:href=\"#DejaVuSans-2212\"/>\n       <use xlink:href=\"#DejaVuSans-31\" x=\"83.789062\"/>\n      </g>\n     </g>\n    </g>\n    <g id=\"xtick_2\">\n     <g id=\"line2d_3\">\n      <path d=\"M 128.811981 115.92 \nL 128.811981 7.2 \n\" clip-path=\"url(#pde16428174)\" style=\"fill: none; stroke: #b0b0b0; stroke-width: 0.8; stroke-linecap: square\"/>\n     </g>\n     <g id=\"line2d_4\">\n      <g>\n       <use xlink:href=\"#m8dafbf0a5c\" x=\"128.811981\" y=\"115.92\" style=\"stroke: #000000; stroke-width: 0.8\"/>\n      </g>\n     </g>\n     <g id=\"text_2\">\n      <!-- 0 -->\n      <g transform=\"translate(125.630731 130.518437)scale(0.1 -0.1)\">\n       <defs>\n        <path id=\"DejaVuSans-30\" d=\"M 2034 4250 \nQ 1547 4250 1301 3770 \nQ 1056 3291 1056 2328 \nQ 1056 1369 1301 889 \nQ 1547 409 2034 409 \nQ 2525 409 2770 889 \nQ 3016 1369 3016 2328 \nQ 3016 3291 2770 3770 \nQ 2525 4250 2034 4250 \nz\nM 2034 4750 \nQ 2819 4750 3233 4129 \nQ 3647 3509 3647 2328 \nQ 3647 1150 3233 529 \nQ 2819 -91 2034 -91 \nQ 1250 -91 836 529 \nQ 422 1150 422 2328 \nQ 422 3509 836 4129 \nQ 1250 4750 2034 4750 \nz\n\" transform=\"scale(0.015625)\"/>\n       </defs>\n       <use xlink:href=\"#DejaVuSans-30\"/>\n      </g>\n     </g>\n    </g>\n    <g id=\"xtick_3\">\n     <g id=\"line2d_5\">\n      <path d=\"M 190.59286 115.92 \nL 190.59286 7.2 \n\" clip-path=\"url(#pde16428174)\" style=\"fill: none; stroke: #b0b0b0; stroke-width: 0.8; stroke-linecap: square\"/>\n     </g>\n     <g id=\"line2d_6\">\n      <g>\n       <use xlink:href=\"#m8dafbf0a5c\" x=\"190.59286\" y=\"115.92\" style=\"stroke: #000000; stroke-width: 0.8\"/>\n      </g>\n     </g>\n     <g id=\"text_3\">\n      <!-- 1 -->\n      <g transform=\"translate(187.41161 130.518437)scale(0.1 -0.1)\">\n       <use xlink:href=\"#DejaVuSans-31\"/>\n      </g>\n     </g>\n    </g>\n    <g id=\"xtick_4\">\n     <g id=\"line2d_7\">\n      <path d=\"M 252.373738 115.92 \nL 252.373738 7.2 \n\" clip-path=\"url(#pde16428174)\" style=\"fill: none; stroke: #b0b0b0; stroke-width: 0.8; stroke-linecap: square\"/>\n     </g>\n     <g id=\"line2d_8\">\n      <g>\n       <use xlink:href=\"#m8dafbf0a5c\" x=\"252.373738\" y=\"115.92\" style=\"stroke: #000000; stroke-width: 0.8\"/>\n      </g>\n     </g>\n     <g id=\"text_4\">\n      <!-- 2 -->\n      <g transform=\"translate(249.192488 130.518437)scale(0.1 -0.1)\">\n       <defs>\n        <path id=\"DejaVuSans-32\" d=\"M 1228 531 \nL 3431 531 \nL 3431 0 \nL 469 0 \nL 469 531 \nQ 828 903 1448 1529 \nQ 2069 2156 2228 2338 \nQ 2531 2678 2651 2914 \nQ 2772 3150 2772 3378 \nQ 2772 3750 2511 3984 \nQ 2250 4219 1831 4219 \nQ 1534 4219 1204 4116 \nQ 875 4013 500 3803 \nL 500 4441 \nQ 881 4594 1212 4672 \nQ 1544 4750 1819 4750 \nQ 2544 4750 2975 4387 \nQ 3406 4025 3406 3419 \nQ 3406 3131 3298 2873 \nQ 3191 2616 2906 2266 \nQ 2828 2175 2409 1742 \nQ 1991 1309 1228 531 \nz\n\" transform=\"scale(0.015625)\"/>\n       </defs>\n       <use xlink:href=\"#DejaVuSans-32\"/>\n      </g>\n     </g>\n    </g>\n   </g>\n   <g id=\"matplotlib.axis_2\">\n    <g id=\"ytick_1\">\n     <g id=\"line2d_9\">\n      <path d=\"M 21.9 102.33 \nL 300.9 102.33 \n\" clip-path=\"url(#pde16428174)\" style=\"fill: none; stroke: #b0b0b0; stroke-width: 0.8; stroke-linecap: square\"/>\n     </g>\n     <g id=\"line2d_10\">\n      <defs>\n       <path id=\"m53b54d0d2e\" d=\"M 0 0 \nL -3.5 0 \n\" style=\"stroke: #000000; stroke-width: 0.8\"/>\n      </defs>\n      <g>\n       <use xlink:href=\"#m53b54d0d2e\" x=\"21.9\" y=\"102.33\" style=\"stroke: #000000; stroke-width: 0.8\"/>\n      </g>\n     </g>\n     <g id=\"text_5\">\n      <!-- A -->\n      <g transform=\"translate(8.059375 106.129219)scale(0.1 -0.1)\">\n       <defs>\n        <path id=\"DejaVuSans-41\" d=\"M 2188 4044 \nL 1331 1722 \nL 3047 1722 \nL 2188 4044 \nz\nM 1831 4666 \nL 2547 4666 \nL 4325 0 \nL 3669 0 \nL 3244 1197 \nL 1141 1197 \nL 716 0 \nL 50 0 \nL 1831 4666 \nz\n\" transform=\"scale(0.015625)\"/>\n       </defs>\n       <use xlink:href=\"#DejaVuSans-41\"/>\n      </g>\n     </g>\n    </g>\n    <g id=\"ytick_2\">\n     <g id=\"line2d_11\">\n      <path d=\"M 21.9 75.15 \nL 300.9 75.15 \n\" clip-path=\"url(#pde16428174)\" style=\"fill: none; stroke: #b0b0b0; stroke-width: 0.8; stroke-linecap: square\"/>\n     </g>\n     <g id=\"line2d_12\">\n      <g>\n       <use xlink:href=\"#m53b54d0d2e\" x=\"21.9\" y=\"75.15\" style=\"stroke: #000000; stroke-width: 0.8\"/>\n      </g>\n     </g>\n     <g id=\"text_6\">\n      <!-- B -->\n      <g transform=\"translate(8.039063 78.949219)scale(0.1 -0.1)\">\n       <defs>\n        <path id=\"DejaVuSans-42\" d=\"M 1259 2228 \nL 1259 519 \nL 2272 519 \nQ 2781 519 3026 730 \nQ 3272 941 3272 1375 \nQ 3272 1813 3026 2020 \nQ 2781 2228 2272 2228 \nL 1259 2228 \nz\nM 1259 4147 \nL 1259 2741 \nL 2194 2741 \nQ 2656 2741 2882 2914 \nQ 3109 3088 3109 3444 \nQ 3109 3797 2882 3972 \nQ 2656 4147 2194 4147 \nL 1259 4147 \nz\nM 628 4666 \nL 2241 4666 \nQ 2963 4666 3353 4366 \nQ 3744 4066 3744 3513 \nQ 3744 3084 3544 2831 \nQ 3344 2578 2956 2516 \nQ 3422 2416 3680 2098 \nQ 3938 1781 3938 1306 \nQ 3938 681 3513 340 \nQ 3088 0 2303 0 \nL 628 0 \nL 628 4666 \nz\n\" transform=\"scale(0.015625)\"/>\n       </defs>\n       <use xlink:href=\"#DejaVuSans-42\"/>\n      </g>\n     </g>\n    </g>\n    <g id=\"ytick_3\">\n     <g id=\"line2d_13\">\n      <path d=\"M 21.9 47.97 \nL 300.9 47.97 \n\" clip-path=\"url(#pde16428174)\" style=\"fill: none; stroke: #b0b0b0; stroke-width: 0.8; stroke-linecap: square\"/>\n     </g>\n     <g id=\"line2d_14\">\n      <g>\n       <use xlink:href=\"#m53b54d0d2e\" x=\"21.9\" y=\"47.97\" style=\"stroke: #000000; stroke-width: 0.8\"/>\n      </g>\n     </g>\n     <g id=\"text_7\">\n      <!-- C -->\n      <g transform=\"translate(7.917188 51.769219)scale(0.1 -0.1)\">\n       <defs>\n        <path id=\"DejaVuSans-43\" d=\"M 4122 4306 \nL 4122 3641 \nQ 3803 3938 3442 4084 \nQ 3081 4231 2675 4231 \nQ 1875 4231 1450 3742 \nQ 1025 3253 1025 2328 \nQ 1025 1406 1450 917 \nQ 1875 428 2675 428 \nQ 3081 428 3442 575 \nQ 3803 722 4122 1019 \nL 4122 359 \nQ 3791 134 3420 21 \nQ 3050 -91 2638 -91 \nQ 1578 -91 968 557 \nQ 359 1206 359 2328 \nQ 359 3453 968 4101 \nQ 1578 4750 2638 4750 \nQ 3056 4750 3426 4639 \nQ 3797 4528 4122 4306 \nz\n\" transform=\"scale(0.015625)\"/>\n       </defs>\n       <use xlink:href=\"#DejaVuSans-43\"/>\n      </g>\n     </g>\n    </g>\n    <g id=\"ytick_4\">\n     <g id=\"line2d_15\">\n      <path d=\"M 21.9 20.79 \nL 300.9 20.79 \n\" clip-path=\"url(#pde16428174)\" style=\"fill: none; stroke: #b0b0b0; stroke-width: 0.8; stroke-linecap: square\"/>\n     </g>\n     <g id=\"line2d_16\">\n      <g>\n       <use xlink:href=\"#m53b54d0d2e\" x=\"21.9\" y=\"20.79\" style=\"stroke: #000000; stroke-width: 0.8\"/>\n      </g>\n     </g>\n     <g id=\"text_8\">\n      <!-- D -->\n      <g transform=\"translate(7.2 24.589219)scale(0.1 -0.1)\">\n       <defs>\n        <path id=\"DejaVuSans-44\" d=\"M 1259 4147 \nL 1259 519 \nL 2022 519 \nQ 2988 519 3436 956 \nQ 3884 1394 3884 2338 \nQ 3884 3275 3436 3711 \nQ 2988 4147 2022 4147 \nL 1259 4147 \nz\nM 628 4666 \nL 1925 4666 \nQ 3281 4666 3915 4102 \nQ 4550 3538 4550 2338 \nQ 4550 1131 3912 565 \nQ 3275 0 1925 0 \nL 628 0 \nL 628 4666 \nz\n\" transform=\"scale(0.015625)\"/>\n       </defs>\n       <use xlink:href=\"#DejaVuSans-44\"/>\n      </g>\n     </g>\n    </g>\n   </g>\n   <g id=\"line2d_17\">\n    <path d=\"M 88.355612 108.4455 \nL 88.355612 96.2145 \nL 117.30213 96.2145 \nL 117.30213 108.4455 \nL 88.355612 108.4455 \n\" clip-path=\"url(#pde16428174)\" style=\"fill: none; stroke: #1f77b4; stroke-linecap: square\"/>\n   </g>\n   <g id=\"line2d_18\">\n    <path d=\"M 88.355612 102.33 \nL 56.911663 102.33 \n\" clip-path=\"url(#pde16428174)\" style=\"fill: none; stroke: #1f77b4; stroke-linecap: square\"/>\n   </g>\n   <g id=\"line2d_19\">\n    <path d=\"M 117.30213 102.33 \nL 143.425866 102.33 \n\" clip-path=\"url(#pde16428174)\" style=\"fill: none; stroke: #1f77b4; stroke-linecap: square\"/>\n   </g>\n   <g id=\"line2d_20\">\n    <path d=\"M 56.911663 105.38775 \nL 56.911663 99.27225 \n\" clip-path=\"url(#pde16428174)\" style=\"fill: none; stroke: #000000; stroke-linecap: square\"/>\n   </g>\n   <g id=\"line2d_21\">\n    <path d=\"M 143.425866 105.38775 \nL 143.425866 99.27225 \n\" clip-path=\"url(#pde16428174)\" style=\"fill: none; stroke: #000000; stroke-linecap: square\"/>\n   </g>\n   <g id=\"line2d_22\"/>\n   <g id=\"line2d_23\">\n    <path d=\"M 117.292271 81.2655 \nL 117.292271 69.0345 \nL 169.080301 69.0345 \nL 169.080301 81.2655 \nL 117.292271 81.2655 \n\" clip-path=\"url(#pde16428174)\" style=\"fill: none; stroke: #1f77b4; stroke-linecap: square\"/>\n   </g>\n   <g id=\"line2d_24\">\n    <path d=\"M 117.292271 75.15 \nL 96.789819 75.15 \n\" clip-path=\"url(#pde16428174)\" style=\"fill: none; stroke: #1f77b4; stroke-linecap: square\"/>\n   </g>\n   <g id=\"line2d_25\">\n    <path d=\"M 169.080301 75.15 \nL 196.552915 75.15 \n\" clip-path=\"url(#pde16428174)\" style=\"fill: none; stroke: #1f77b4; stroke-linecap: square\"/>\n   </g>\n   <g id=\"line2d_26\">\n    <path d=\"M 96.789819 78.20775 \nL 96.789819 72.09225 \n\" clip-path=\"url(#pde16428174)\" style=\"fill: none; stroke: #000000; stroke-linecap: square\"/>\n   </g>\n   <g id=\"line2d_27\">\n    <path d=\"M 196.552915 78.20775 \nL 196.552915 72.09225 \n\" clip-path=\"url(#pde16428174)\" style=\"fill: none; stroke: #000000; stroke-linecap: square\"/>\n   </g>\n   <g id=\"line2d_28\">\n    <defs>\n     <path id=\"me2b031f5d4\" d=\"M 0 3 \nC 0.795609 3 1.55874 2.683901 2.12132 2.12132 \nC 2.683901 1.55874 3 0.795609 3 0 \nC 3 -0.795609 2.683901 -1.55874 2.12132 -2.12132 \nC 1.55874 -2.683901 0.795609 -3 0 -3 \nC -0.795609 -3 -1.55874 -2.683901 -2.12132 -2.12132 \nC -2.683901 -1.55874 -3 -0.795609 -3 0 \nC -3 0.795609 -2.683901 1.55874 -2.12132 2.12132 \nC -1.55874 2.683901 -0.795609 3 0 3 \nz\n\" style=\"stroke: #000000\"/>\n    </defs>\n    <g clip-path=\"url(#pde16428174)\">\n     <use xlink:href=\"#me2b031f5d4\" x=\"35.419848\" y=\"75.15\" style=\"fill-opacity: 0; stroke: #000000\"/>\n     <use xlink:href=\"#me2b031f5d4\" x=\"248.764609\" y=\"75.15\" style=\"fill-opacity: 0; stroke: #000000\"/>\n    </g>\n   </g>\n   <g id=\"line2d_29\">\n    <path d=\"M 88.83603 54.0855 \nL 88.83603 41.8545 \nL 188.089918 41.8545 \nL 188.089918 54.0855 \nL 88.83603 54.0855 \n\" clip-path=\"url(#pde16428174)\" style=\"fill: none; stroke: #1f77b4; stroke-linecap: square\"/>\n   </g>\n   <g id=\"line2d_30\">\n    <path d=\"M 88.83603 47.97 \nL 34.581818 47.97 \n\" clip-path=\"url(#pde16428174)\" style=\"fill: none; stroke: #1f77b4; stroke-linecap: square\"/>\n   </g>\n   <g id=\"line2d_31\">\n    <path d=\"M 188.089918 47.97 \nL 288.218182 47.97 \n\" clip-path=\"url(#pde16428174)\" style=\"fill: none; stroke: #1f77b4; stroke-linecap: square\"/>\n   </g>\n   <g id=\"line2d_32\">\n    <path d=\"M 34.581818 51.02775 \nL 34.581818 44.91225 \n\" clip-path=\"url(#pde16428174)\" style=\"fill: none; stroke: #000000; stroke-linecap: square\"/>\n   </g>\n   <g id=\"line2d_33\">\n    <path d=\"M 288.218182 51.02775 \nL 288.218182 44.91225 \n\" clip-path=\"url(#pde16428174)\" style=\"fill: none; stroke: #000000; stroke-linecap: square\"/>\n   </g>\n   <g id=\"line2d_34\"/>\n   <g id=\"line2d_35\">\n    <path d=\"M 86.791357 26.9055 \nL 86.791357 14.6745 \nL 133.558989 14.6745 \nL 133.558989 26.9055 \nL 86.791357 26.9055 \n\" clip-path=\"url(#pde16428174)\" style=\"fill: none; stroke: #1f77b4; stroke-linecap: square\"/>\n   </g>\n   <g id=\"line2d_36\">\n    <path d=\"M 86.791357 20.79 \nL 36.023101 20.79 \n\" clip-path=\"url(#pde16428174)\" style=\"fill: none; stroke: #1f77b4; stroke-linecap: square\"/>\n   </g>\n   <g id=\"line2d_37\">\n    <path d=\"M 133.558989 20.79 \nL 159.27968 20.79 \n\" clip-path=\"url(#pde16428174)\" style=\"fill: none; stroke: #1f77b4; stroke-linecap: square\"/>\n   </g>\n   <g id=\"line2d_38\">\n    <path d=\"M 36.023101 23.84775 \nL 36.023101 17.73225 \n\" clip-path=\"url(#pde16428174)\" style=\"fill: none; stroke: #000000; stroke-linecap: square\"/>\n   </g>\n   <g id=\"line2d_39\">\n    <path d=\"M 159.27968 23.84775 \nL 159.27968 17.73225 \n\" clip-path=\"url(#pde16428174)\" style=\"fill: none; stroke: #000000; stroke-linecap: square\"/>\n   </g>\n   <g id=\"line2d_40\">\n    <g clip-path=\"url(#pde16428174)\">\n     <use xlink:href=\"#me2b031f5d4\" x=\"223.071271\" y=\"20.79\" style=\"fill-opacity: 0; stroke: #000000\"/>\n    </g>\n   </g>\n   <g id=\"line2d_41\">\n    <path d=\"M 110.748509 108.4455 \nL 110.748509 96.2145 \n\" clip-path=\"url(#pde16428174)\" style=\"fill: none; stroke: #2ca02c; stroke-linecap: square\"/>\n   </g>\n   <g id=\"line2d_42\">\n    <path d=\"M 148.13586 81.2655 \nL 148.13586 69.0345 \n\" clip-path=\"url(#pde16428174)\" style=\"fill: none; stroke: #2ca02c; stroke-linecap: square\"/>\n   </g>\n   <g id=\"line2d_43\">\n    <path d=\"M 99.722166 54.0855 \nL 99.722166 41.8545 \n\" clip-path=\"url(#pde16428174)\" style=\"fill: none; stroke: #2ca02c; stroke-linecap: square\"/>\n   </g>\n   <g id=\"line2d_44\">\n    <path d=\"M 103.20793 26.9055 \nL 103.20793 14.6745 \n\" clip-path=\"url(#pde16428174)\" style=\"fill: none; stroke: #2ca02c; stroke-linecap: square\"/>\n   </g>\n   <g id=\"patch_3\">\n    <path d=\"M 21.9 115.92 \nL 21.9 7.2 \n\" style=\"fill: none; stroke: #000000; stroke-width: 0.8; stroke-linejoin: miter; stroke-linecap: square\"/>\n   </g>\n   <g id=\"patch_4\">\n    <path d=\"M 300.9 115.92 \nL 300.9 7.2 \n\" style=\"fill: none; stroke: #000000; stroke-width: 0.8; stroke-linejoin: miter; stroke-linecap: square\"/>\n   </g>\n   <g id=\"patch_5\">\n    <path d=\"M 21.9 115.92 \nL 300.9 115.92 \n\" style=\"fill: none; stroke: #000000; stroke-width: 0.8; stroke-linejoin: miter; stroke-linecap: square\"/>\n   </g>\n   <g id=\"patch_6\">\n    <path d=\"M 21.9 7.2 \nL 300.9 7.2 \n\" style=\"fill: none; stroke: #000000; stroke-width: 0.8; stroke-linejoin: miter; stroke-linecap: square\"/>\n   </g>\n  </g>\n </g>\n <defs>\n  <clipPath id=\"pde16428174\">\n   <rect x=\"21.9\" y=\"7.2\" width=\"279\" height=\"108.72\"/>\n  </clipPath>\n </defs>\n</svg>\n",
      "text/plain": [
       "<Figure size 360x144 with 1 Axes>"
      ]
     },
     "metadata": {
      "needs_background": "light"
     },
     "output_type": "display_data"
    },
    {
     "ename": "",
     "evalue": "",
     "output_type": "error",
     "traceback": [
      "\u001b[1;31mFailed to start the Kernel. \n",
      "Failed to start the Kernel 'Python 3.8.10 64-bit'. \n",
      "View Jupyter <a href='command:jupyter.viewOutput'>log</a> for further details. Cannot read properties of undefined (reading 'baseUrl')"
     ]
    },
    {
     "ename": "",
     "evalue": "",
     "output_type": "error",
     "traceback": [
      "\u001b[1;31mFailed to start the Kernel. \n",
      "Failed to start the Kernel '3.8.13 (Python 3.8.13)'. \n",
      "View Jupyter <a href='command:jupyter.viewOutput'>log</a> for further details. Cannot read properties of undefined (reading 'baseUrl')"
     ]
    },
    {
     "ename": "",
     "evalue": "",
     "output_type": "error",
     "traceback": [
      "\u001b[1;31mFailed to start the Kernel. \n",
      "Failed to start the Kernel '3.8.13 (Python 3.8.13)'. \n",
      "View Jupyter <a href='command:jupyter.viewOutput'>log</a> for further details. Cannot read properties of undefined (reading 'baseUrl')"
     ]
    },
    {
     "ename": "",
     "evalue": "",
     "output_type": "error",
     "traceback": [
      "\u001b[1;31mFailed to start the Kernel. \n",
      "Failed to start the Kernel '3.8.13 (Python 3.8.13)'. \n",
      "View Jupyter <a href='command:jupyter.viewOutput'>log</a> for further details. Cannot read properties of undefined (reading 'baseUrl')"
     ]
    }
   ],
   "source": [
    "df2.boxplot(vert=False,figsize=(5,2))"
   ]
  }
 ],
 "metadata": {
  "kernelspec": {
   "display_name": "Python 3.8.13 64-bit ('3.8.13')",
   "language": "python",
   "name": "python3"
  },
  "language_info": {
   "codemirror_mode": {
    "name": "ipython",
    "version": 3
   },
   "file_extension": ".py",
   "mimetype": "text/x-python",
   "name": "python",
   "nbconvert_exporter": "python",
   "pygments_lexer": "ipython3",
   "version": "3.8.13"
  },
  "orig_nbformat": 4,
  "vscode": {
   "interpreter": {
    "hash": "110cc1dee26208153f2972f08a2ad52b6a56238dc66d48e87fb757ef2996db56"
   }
  }
 },
 "nbformat": 4,
 "nbformat_minor": 2
}
