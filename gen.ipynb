{
 "cells": [
  {
   "cell_type": "markdown",
   "metadata": {},
   "source": [
    "*Imports*"
   ]
  },
  {
   "cell_type": "code",
   "execution_count": 47,
   "metadata": {},
   "outputs": [],
   "source": [
    "import functions.genetics as gen\n",
    "import pandas as pd\n",
    "import numpy as np\n",
    "import matplotlib.pyplot as plt"
   ]
  },
  {
   "cell_type": "markdown",
   "metadata": {},
   "source": [
    "*GC Content*"
   ]
  },
  {
   "cell_type": "code",
   "execution_count": 46,
   "metadata": {},
   "outputs": [
    {
     "data": {
      "text/plain": [
       "0.6957"
      ]
     },
     "execution_count": 46,
     "metadata": {},
     "output_type": "execute_result"
    }
   ],
   "source": [
    "# Define Sequence\n",
    "SEQ = \"accgtgcgtgacgtgcacggtgc\"\n",
    "# Calc. GC%\n",
    "gen.gcContent (SEQ)"
   ]
  },
  {
   "cell_type": "code",
   "execution_count": 58,
   "metadata": {},
   "outputs": [
    {
     "name": "stdout",
     "output_type": "stream",
     "text": [
      "GC% of Random Oligos -- 2000 Runs, 67NT Length\n",
      "0.496\n"
     ]
    },
    {
     "data": {
      "text/plain": [
       "<AxesSubplot:>"
      ]
     },
     "execution_count": 58,
     "metadata": {},
     "output_type": "execute_result"
    },
    {
     "data": {
      "image/png": "[encoded data removed]",
      "image/svg+xml": "<?xml version=\"1.0\" encoding=\"utf-8\" standalone=\"no\"?>\n<!DOCTYPE svg PUBLIC \"-//W3C//DTD SVG 1.1//EN\"\n  \"http://www.w3.org/Graphics/SVG/1.1/DTD/svg11.dtd\">\n<svg xmlns:xlink=\"http://www.w3.org/1999/xlink\" width=\"513.295312pt\" height=\"118.054125pt\" viewBox=\"0 0 513.295312 118.054125\" xmlns=\"http://www.w3.org/2000/svg\" version=\"1.1\">\n <metadata>\n  <rdf:RDF xmlns:dc=\"http://purl.org/dc/elements/1.1/\" xmlns:cc=\"http://creativecommons.org/ns#\" xmlns:rdf=\"http://www.w3.org/1999/02/22-rdf-syntax-ns#\">\n   <cc:Work>\n    <dc:type rdf:resource=\"http://purl.org/dc/dcmitype/StillImage\"/>\n    <dc:date>2022-05-05T10:16:15.099243</dc:date>\n    <dc:format>image/svg+xml</dc:format>\n    <dc:creator>\n     <cc:Agent>\n      <dc:title>Matplotlib v3.5.1, https://matplotlib.org/</dc:title>\n     </cc:Agent>\n    </dc:creator>\n   </cc:Work>\n  </rdf:RDF>\n </metadata>\n <defs>\n  <style type=\"text/css\">*{stroke-linejoin: round; stroke-linecap: butt}</style>\n </defs>\n <g id=\"figure_1\">\n  <g id=\"patch_1\">\n   <path d=\"M 0 118.054125 \nL 513.295312 118.054125 \nL 513.295312 0 \nL 0 0 \nL 0 118.054125 \nz\n\" style=\"fill: none\"/>\n  </g>\n  <g id=\"axes_1\">\n   <g id=\"patch_2\">\n    <path d=\"M 59.695313 94.176 \nL 506.095312 94.176 \nL 506.095312 7.2 \nL 59.695313 7.2 \nz\n\" style=\"fill: #ffffff\"/>\n   </g>\n   <g id=\"matplotlib.axis_1\">\n    <g id=\"xtick_1\">\n     <g id=\"line2d_1\">\n      <path d=\"M 105.527226 94.176 \nL 105.527226 7.2 \n\" clip-path=\"url(#pd67f9429b8)\" style=\"fill: none; stroke: #b0b0b0; stroke-width: 0.8; stroke-linecap: square\"/>\n     </g>\n     <g id=\"line2d_2\">\n      <defs>\n       <path id=\"m1f32c471ee\" d=\"M 0 0 \nL 0 3.5 \n\" style=\"stroke: #000000; stroke-width: 0.8\"/>\n      </defs>\n      <g>\n       <use xlink:href=\"#m1f32c471ee\" x=\"105.527226\" y=\"94.176\" style=\"stroke: #000000; stroke-width: 0.8\"/>\n      </g>\n     </g>\n     <g id=\"text_1\">\n      <!-- 0.35 -->\n      <g transform=\"translate(94.394414 108.774438)scale(0.1 -0.1)\">\n       <defs>\n        <path id=\"DejaVuSans-30\" d=\"M 2034 4250 \nQ 1547 4250 1301 3770 \nQ 1056 3291 1056 2328 \nQ 1056 1369 1301 889 \nQ 1547 409 2034 409 \nQ 2525 409 2770 889 \nQ 3016 1369 3016 2328 \nQ 3016 3291 2770 3770 \nQ 2525 4250 2034 4250 \nz\nM 2034 4750 \nQ 2819 4750 3233 4129 \nQ 3647 3509 3647 2328 \nQ 3647 1150 3233 529 \nQ 2819 -91 2034 -91 \nQ 1250 -91 836 529 \nQ 422 1150 422 2328 \nQ 422 3509 836 4129 \nQ 1250 4750 2034 4750 \nz\n\" transform=\"scale(0.015625)\"/>\n        <path id=\"DejaVuSans-2e\" d=\"M 684 794 \nL 1344 794 \nL 1344 0 \nL 684 0 \nL 684 794 \nz\n\" transform=\"scale(0.015625)\"/>\n        <path id=\"DejaVuSans-33\" d=\"M 2597 2516 \nQ 3050 2419 3304 2112 \nQ 3559 1806 3559 1356 \nQ 3559 666 3084 287 \nQ 2609 -91 1734 -91 \nQ 1441 -91 1130 -33 \nQ 819 25 488 141 \nL 488 750 \nQ 750 597 1062 519 \nQ 1375 441 1716 441 \nQ 2309 441 2620 675 \nQ 2931 909 2931 1356 \nQ 2931 1769 2642 2001 \nQ 2353 2234 1838 2234 \nL 1294 2234 \nL 1294 2753 \nL 1863 2753 \nQ 2328 2753 2575 2939 \nQ 2822 3125 2822 3475 \nQ 2822 3834 2567 4026 \nQ 2313 4219 1838 4219 \nQ 1578 4219 1281 4162 \nQ 984 4106 628 3988 \nL 628 4550 \nQ 988 4650 1302 4700 \nQ 1616 4750 1894 4750 \nQ 2613 4750 3031 4423 \nQ 3450 4097 3450 3541 \nQ 3450 3153 3228 2886 \nQ 3006 2619 2597 2516 \nz\n\" transform=\"scale(0.015625)\"/>\n        <path id=\"DejaVuSans-35\" d=\"M 691 4666 \nL 3169 4666 \nL 3169 4134 \nL 1269 4134 \nL 1269 2991 \nQ 1406 3038 1543 3061 \nQ 1681 3084 1819 3084 \nQ 2600 3084 3056 2656 \nQ 3513 2228 3513 1497 \nQ 3513 744 3044 326 \nQ 2575 -91 1722 -91 \nQ 1428 -91 1123 -41 \nQ 819 9 494 109 \nL 494 744 \nQ 775 591 1075 516 \nQ 1375 441 1709 441 \nQ 2250 441 2565 725 \nQ 2881 1009 2881 1497 \nQ 2881 1984 2565 2268 \nQ 2250 2553 1709 2553 \nQ 1456 2553 1204 2497 \nQ 953 2441 691 2322 \nL 691 4666 \nz\n\" transform=\"scale(0.015625)\"/>\n       </defs>\n       <use xlink:href=\"#DejaVuSans-30\"/>\n       <use xlink:href=\"#DejaVuSans-2e\" x=\"63.623047\"/>\n       <use xlink:href=\"#DejaVuSans-33\" x=\"95.410156\"/>\n       <use xlink:href=\"#DejaVuSans-35\" x=\"159.033203\"/>\n      </g>\n     </g>\n    </g>\n    <g id=\"xtick_2\">\n     <g id=\"line2d_3\">\n      <path d=\"M 164.649922 94.176 \nL 164.649922 7.2 \n\" clip-path=\"url(#pd67f9429b8)\" style=\"fill: none; stroke: #b0b0b0; stroke-width: 0.8; stroke-linecap: square\"/>\n     </g>\n     <g id=\"line2d_4\">\n      <g>\n       <use xlink:href=\"#m1f32c471ee\" x=\"164.649922\" y=\"94.176\" style=\"stroke: #000000; stroke-width: 0.8\"/>\n      </g>\n     </g>\n     <g id=\"text_2\">\n      <!-- 0.40 -->\n      <g transform=\"translate(153.517109 108.774438)scale(0.1 -0.1)\">\n       <defs>\n        <path id=\"DejaVuSans-34\" d=\"M 2419 4116 \nL 825 1625 \nL 2419 1625 \nL 2419 4116 \nz\nM 2253 4666 \nL 3047 4666 \nL 3047 1625 \nL 3713 1625 \nL 3713 1100 \nL 3047 1100 \nL 3047 0 \nL 2419 0 \nL 2419 1100 \nL 313 1100 \nL 313 1709 \nL 2253 4666 \nz\n\" transform=\"scale(0.015625)\"/>\n       </defs>\n       <use xlink:href=\"#DejaVuSans-30\"/>\n       <use xlink:href=\"#DejaVuSans-2e\" x=\"63.623047\"/>\n       <use xlink:href=\"#DejaVuSans-34\" x=\"95.410156\"/>\n       <use xlink:href=\"#DejaVuSans-30\" x=\"159.033203\"/>\n      </g>\n     </g>\n    </g>\n    <g id=\"xtick_3\">\n     <g id=\"line2d_5\">\n      <path d=\"M 223.772617 94.176 \nL 223.772617 7.2 \n\" clip-path=\"url(#pd67f9429b8)\" style=\"fill: none; stroke: #b0b0b0; stroke-width: 0.8; stroke-linecap: square\"/>\n     </g>\n     <g id=\"line2d_6\">\n      <g>\n       <use xlink:href=\"#m1f32c471ee\" x=\"223.772617\" y=\"94.176\" style=\"stroke: #000000; stroke-width: 0.8\"/>\n      </g>\n     </g>\n     <g id=\"text_3\">\n      <!-- 0.45 -->\n      <g transform=\"translate(212.639805 108.774438)scale(0.1 -0.1)\">\n       <use xlink:href=\"#DejaVuSans-30\"/>\n       <use xlink:href=\"#DejaVuSans-2e\" x=\"63.623047\"/>\n       <use xlink:href=\"#DejaVuSans-34\" x=\"95.410156\"/>\n       <use xlink:href=\"#DejaVuSans-35\" x=\"159.033203\"/>\n      </g>\n     </g>\n    </g>\n    <g id=\"xtick_4\">\n     <g id=\"line2d_7\">\n      <path d=\"M 282.895313 94.176 \nL 282.895313 7.2 \n\" clip-path=\"url(#pd67f9429b8)\" style=\"fill: none; stroke: #b0b0b0; stroke-width: 0.8; stroke-linecap: square\"/>\n     </g>\n     <g id=\"line2d_8\">\n      <g>\n       <use xlink:href=\"#m1f32c471ee\" x=\"282.895313\" y=\"94.176\" style=\"stroke: #000000; stroke-width: 0.8\"/>\n      </g>\n     </g>\n     <g id=\"text_4\">\n      <!-- 0.50 -->\n      <g transform=\"translate(271.7625 108.774438)scale(0.1 -0.1)\">\n       <use xlink:href=\"#DejaVuSans-30\"/>\n       <use xlink:href=\"#DejaVuSans-2e\" x=\"63.623047\"/>\n       <use xlink:href=\"#DejaVuSans-35\" x=\"95.410156\"/>\n       <use xlink:href=\"#DejaVuSans-30\" x=\"159.033203\"/>\n      </g>\n     </g>\n    </g>\n    <g id=\"xtick_5\">\n     <g id=\"line2d_9\">\n      <path d=\"M 342.018008 94.176 \nL 342.018008 7.2 \n\" clip-path=\"url(#pd67f9429b8)\" style=\"fill: none; stroke: #b0b0b0; stroke-width: 0.8; stroke-linecap: square\"/>\n     </g>\n     <g id=\"line2d_10\">\n      <g>\n       <use xlink:href=\"#m1f32c471ee\" x=\"342.018008\" y=\"94.176\" style=\"stroke: #000000; stroke-width: 0.8\"/>\n      </g>\n     </g>\n     <g id=\"text_5\">\n      <!-- 0.55 -->\n      <g transform=\"translate(330.885195 108.774438)scale(0.1 -0.1)\">\n       <use xlink:href=\"#DejaVuSans-30\"/>\n       <use xlink:href=\"#DejaVuSans-2e\" x=\"63.623047\"/>\n       <use xlink:href=\"#DejaVuSans-35\" x=\"95.410156\"/>\n       <use xlink:href=\"#DejaVuSans-35\" x=\"159.033203\"/>\n      </g>\n     </g>\n    </g>\n    <g id=\"xtick_6\">\n     <g id=\"line2d_11\">\n      <path d=\"M 401.140703 94.176 \nL 401.140703 7.2 \n\" clip-path=\"url(#pd67f9429b8)\" style=\"fill: none; stroke: #b0b0b0; stroke-width: 0.8; stroke-linecap: square\"/>\n     </g>\n     <g id=\"line2d_12\">\n      <g>\n       <use xlink:href=\"#m1f32c471ee\" x=\"401.140703\" y=\"94.176\" style=\"stroke: #000000; stroke-width: 0.8\"/>\n      </g>\n     </g>\n     <g id=\"text_6\">\n      <!-- 0.60 -->\n      <g transform=\"translate(390.007891 108.774438)scale(0.1 -0.1)\">\n       <defs>\n        <path id=\"DejaVuSans-36\" d=\"M 2113 2584 \nQ 1688 2584 1439 2293 \nQ 1191 2003 1191 1497 \nQ 1191 994 1439 701 \nQ 1688 409 2113 409 \nQ 2538 409 2786 701 \nQ 3034 994 3034 1497 \nQ 3034 2003 2786 2293 \nQ 2538 2584 2113 2584 \nz\nM 3366 4563 \nL 3366 3988 \nQ 3128 4100 2886 4159 \nQ 2644 4219 2406 4219 \nQ 1781 4219 1451 3797 \nQ 1122 3375 1075 2522 \nQ 1259 2794 1537 2939 \nQ 1816 3084 2150 3084 \nQ 2853 3084 3261 2657 \nQ 3669 2231 3669 1497 \nQ 3669 778 3244 343 \nQ 2819 -91 2113 -91 \nQ 1303 -91 875 529 \nQ 447 1150 447 2328 \nQ 447 3434 972 4092 \nQ 1497 4750 2381 4750 \nQ 2619 4750 2861 4703 \nQ 3103 4656 3366 4563 \nz\n\" transform=\"scale(0.015625)\"/>\n       </defs>\n       <use xlink:href=\"#DejaVuSans-30\"/>\n       <use xlink:href=\"#DejaVuSans-2e\" x=\"63.623047\"/>\n       <use xlink:href=\"#DejaVuSans-36\" x=\"95.410156\"/>\n       <use xlink:href=\"#DejaVuSans-30\" x=\"159.033203\"/>\n      </g>\n     </g>\n    </g>\n    <g id=\"xtick_7\">\n     <g id=\"line2d_13\">\n      <path d=\"M 460.263399 94.176 \nL 460.263399 7.2 \n\" clip-path=\"url(#pd67f9429b8)\" style=\"fill: none; stroke: #b0b0b0; stroke-width: 0.8; stroke-linecap: square\"/>\n     </g>\n     <g id=\"line2d_14\">\n      <g>\n       <use xlink:href=\"#m1f32c471ee\" x=\"460.263399\" y=\"94.176\" style=\"stroke: #000000; stroke-width: 0.8\"/>\n      </g>\n     </g>\n     <g id=\"text_7\">\n      <!-- 0.65 -->\n      <g transform=\"translate(449.130586 108.774438)scale(0.1 -0.1)\">\n       <use xlink:href=\"#DejaVuSans-30\"/>\n       <use xlink:href=\"#DejaVuSans-2e\" x=\"63.623047\"/>\n       <use xlink:href=\"#DejaVuSans-36\" x=\"95.410156\"/>\n       <use xlink:href=\"#DejaVuSans-35\" x=\"159.033203\"/>\n      </g>\n     </g>\n    </g>\n   </g>\n   <g id=\"matplotlib.axis_2\">\n    <g id=\"ytick_1\">\n     <g id=\"line2d_15\">\n      <path d=\"M 59.695313 50.688 \nL 506.095312 50.688 \n\" clip-path=\"url(#pd67f9429b8)\" style=\"fill: none; stroke: #b0b0b0; stroke-width: 0.8; stroke-linecap: square\"/>\n     </g>\n     <g id=\"line2d_16\">\n      <defs>\n       <path id=\"m5a6685d08e\" d=\"M 0 0 \nL -3.5 0 \n\" style=\"stroke: #000000; stroke-width: 0.8\"/>\n      </defs>\n      <g>\n       <use xlink:href=\"#m5a6685d08e\" x=\"59.695313\" y=\"50.688\" style=\"stroke: #000000; stroke-width: 0.8\"/>\n      </g>\n     </g>\n     <g id=\"text_8\">\n      <!-- Oligo Set -->\n      <g transform=\"translate(7.2 54.487219)scale(0.1 -0.1)\">\n       <defs>\n        <path id=\"DejaVuSans-4f\" d=\"M 2522 4238 \nQ 1834 4238 1429 3725 \nQ 1025 3213 1025 2328 \nQ 1025 1447 1429 934 \nQ 1834 422 2522 422 \nQ 3209 422 3611 934 \nQ 4013 1447 4013 2328 \nQ 4013 3213 3611 3725 \nQ 3209 4238 2522 4238 \nz\nM 2522 4750 \nQ 3503 4750 4090 4092 \nQ 4678 3434 4678 2328 \nQ 4678 1225 4090 567 \nQ 3503 -91 2522 -91 \nQ 1538 -91 948 565 \nQ 359 1222 359 2328 \nQ 359 3434 948 4092 \nQ 1538 4750 2522 4750 \nz\n\" transform=\"scale(0.015625)\"/>\n        <path id=\"DejaVuSans-6c\" d=\"M 603 4863 \nL 1178 4863 \nL 1178 0 \nL 603 0 \nL 603 4863 \nz\n\" transform=\"scale(0.015625)\"/>\n        <path id=\"DejaVuSans-69\" d=\"M 603 3500 \nL 1178 3500 \nL 1178 0 \nL 603 0 \nL 603 3500 \nz\nM 603 4863 \nL 1178 4863 \nL 1178 4134 \nL 603 4134 \nL 603 4863 \nz\n\" transform=\"scale(0.015625)\"/>\n        <path id=\"DejaVuSans-67\" d=\"M 2906 1791 \nQ 2906 2416 2648 2759 \nQ 2391 3103 1925 3103 \nQ 1463 3103 1205 2759 \nQ 947 2416 947 1791 \nQ 947 1169 1205 825 \nQ 1463 481 1925 481 \nQ 2391 481 2648 825 \nQ 2906 1169 2906 1791 \nz\nM 3481 434 \nQ 3481 -459 3084 -895 \nQ 2688 -1331 1869 -1331 \nQ 1566 -1331 1297 -1286 \nQ 1028 -1241 775 -1147 \nL 775 -588 \nQ 1028 -725 1275 -790 \nQ 1522 -856 1778 -856 \nQ 2344 -856 2625 -561 \nQ 2906 -266 2906 331 \nL 2906 616 \nQ 2728 306 2450 153 \nQ 2172 0 1784 0 \nQ 1141 0 747 490 \nQ 353 981 353 1791 \nQ 353 2603 747 3093 \nQ 1141 3584 1784 3584 \nQ 2172 3584 2450 3431 \nQ 2728 3278 2906 2969 \nL 2906 3500 \nL 3481 3500 \nL 3481 434 \nz\n\" transform=\"scale(0.015625)\"/>\n        <path id=\"DejaVuSans-6f\" d=\"M 1959 3097 \nQ 1497 3097 1228 2736 \nQ 959 2375 959 1747 \nQ 959 1119 1226 758 \nQ 1494 397 1959 397 \nQ 2419 397 2687 759 \nQ 2956 1122 2956 1747 \nQ 2956 2369 2687 2733 \nQ 2419 3097 1959 3097 \nz\nM 1959 3584 \nQ 2709 3584 3137 3096 \nQ 3566 2609 3566 1747 \nQ 3566 888 3137 398 \nQ 2709 -91 1959 -91 \nQ 1206 -91 779 398 \nQ 353 888 353 1747 \nQ 353 2609 779 3096 \nQ 1206 3584 1959 3584 \nz\n\" transform=\"scale(0.015625)\"/>\n        <path id=\"DejaVuSans-20\" transform=\"scale(0.015625)\"/>\n        <path id=\"DejaVuSans-53\" d=\"M 3425 4513 \nL 3425 3897 \nQ 3066 4069 2747 4153 \nQ 2428 4238 2131 4238 \nQ 1616 4238 1336 4038 \nQ 1056 3838 1056 3469 \nQ 1056 3159 1242 3001 \nQ 1428 2844 1947 2747 \nL 2328 2669 \nQ 3034 2534 3370 2195 \nQ 3706 1856 3706 1288 \nQ 3706 609 3251 259 \nQ 2797 -91 1919 -91 \nQ 1588 -91 1214 -16 \nQ 841 59 441 206 \nL 441 856 \nQ 825 641 1194 531 \nQ 1563 422 1919 422 \nQ 2459 422 2753 634 \nQ 3047 847 3047 1241 \nQ 3047 1584 2836 1778 \nQ 2625 1972 2144 2069 \nL 1759 2144 \nQ 1053 2284 737 2584 \nQ 422 2884 422 3419 \nQ 422 4038 858 4394 \nQ 1294 4750 2059 4750 \nQ 2388 4750 2728 4690 \nQ 3069 4631 3425 4513 \nz\n\" transform=\"scale(0.015625)\"/>\n        <path id=\"DejaVuSans-65\" d=\"M 3597 1894 \nL 3597 1613 \nL 953 1613 \nQ 991 1019 1311 708 \nQ 1631 397 2203 397 \nQ 2534 397 2845 478 \nQ 3156 559 3463 722 \nL 3463 178 \nQ 3153 47 2828 -22 \nQ 2503 -91 2169 -91 \nQ 1331 -91 842 396 \nQ 353 884 353 1716 \nQ 353 2575 817 3079 \nQ 1281 3584 2069 3584 \nQ 2775 3584 3186 3129 \nQ 3597 2675 3597 1894 \nz\nM 3022 2063 \nQ 3016 2534 2758 2815 \nQ 2500 3097 2075 3097 \nQ 1594 3097 1305 2825 \nQ 1016 2553 972 2059 \nL 3022 2063 \nz\n\" transform=\"scale(0.015625)\"/>\n        <path id=\"DejaVuSans-74\" d=\"M 1172 4494 \nL 1172 3500 \nL 2356 3500 \nL 2356 3053 \nL 1172 3053 \nL 1172 1153 \nQ 1172 725 1289 603 \nQ 1406 481 1766 481 \nL 2356 481 \nL 2356 0 \nL 1766 0 \nQ 1100 0 847 248 \nQ 594 497 594 1153 \nL 594 3053 \nL 172 3053 \nL 172 3500 \nL 594 3500 \nL 594 4494 \nL 1172 4494 \nz\n\" transform=\"scale(0.015625)\"/>\n       </defs>\n       <use xlink:href=\"#DejaVuSans-4f\"/>\n       <use xlink:href=\"#DejaVuSans-6c\" x=\"78.710938\"/>\n       <use xlink:href=\"#DejaVuSans-69\" x=\"106.494141\"/>\n       <use xlink:href=\"#DejaVuSans-67\" x=\"134.277344\"/>\n       <use xlink:href=\"#DejaVuSans-6f\" x=\"197.753906\"/>\n       <use xlink:href=\"#DejaVuSans-20\" x=\"258.935547\"/>\n       <use xlink:href=\"#DejaVuSans-53\" x=\"290.722656\"/>\n       <use xlink:href=\"#DejaVuSans-65\" x=\"354.199219\"/>\n       <use xlink:href=\"#DejaVuSans-74\" x=\"415.722656\"/>\n      </g>\n     </g>\n    </g>\n   </g>\n   <g id=\"line2d_17\">\n    <path d=\"M 221.171218 57.2112 \nL 221.171218 44.1648 \nL 344.619407 44.1648 \nL 344.619407 57.2112 \nL 221.171218 57.2112 \n\" clip-path=\"url(#pd67f9429b8)\" style=\"fill: none; stroke: #1f77b4; stroke-linecap: square\"/>\n   </g>\n   <g id=\"line2d_18\">\n    <path d=\"M 221.171218 50.688 \nL 79.986222 50.688 \n\" clip-path=\"url(#pd67f9429b8)\" style=\"fill: none; stroke: #1f77b4; stroke-linecap: square\"/>\n   </g>\n   <g id=\"line2d_19\">\n    <path d=\"M 344.619407 50.688 \nL 485.804403 50.688 \n\" clip-path=\"url(#pd67f9429b8)\" style=\"fill: none; stroke: #1f77b4; stroke-linecap: square\"/>\n   </g>\n   <g id=\"line2d_20\">\n    <path d=\"M 79.986222 53.9496 \nL 79.986222 47.4264 \n\" clip-path=\"url(#pd67f9429b8)\" style=\"fill: none; stroke: #000000; stroke-linecap: square\"/>\n   </g>\n   <g id=\"line2d_21\">\n    <path d=\"M 485.804403 53.9496 \nL 485.804403 47.4264 \n\" clip-path=\"url(#pd67f9429b8)\" style=\"fill: none; stroke: #000000; stroke-linecap: square\"/>\n   </g>\n   <g id=\"line2d_22\"/>\n   <g id=\"line2d_23\">\n    <path d=\"M 274.026908 57.2112 \nL 274.026908 44.1648 \n\" clip-path=\"url(#pd67f9429b8)\" style=\"fill: none; stroke: #2ca02c; stroke-linecap: square\"/>\n   </g>\n   <g id=\"patch_3\">\n    <path d=\"M 59.695313 94.176 \nL 59.695313 7.2 \n\" style=\"fill: none; stroke: #000000; stroke-width: 0.8; stroke-linejoin: miter; stroke-linecap: square\"/>\n   </g>\n   <g id=\"patch_4\">\n    <path d=\"M 506.095312 94.176 \nL 506.095312 7.2 \n\" style=\"fill: none; stroke: #000000; stroke-width: 0.8; stroke-linejoin: miter; stroke-linecap: square\"/>\n   </g>\n   <g id=\"patch_5\">\n    <path d=\"M 59.695312 94.176 \nL 506.095312 94.176 \n\" style=\"fill: none; stroke: #000000; stroke-width: 0.8; stroke-linejoin: miter; stroke-linecap: square\"/>\n   </g>\n   <g id=\"patch_6\">\n    <path d=\"M 59.695312 7.2 \nL 506.095312 7.2 \n\" style=\"fill: none; stroke: #000000; stroke-width: 0.8; stroke-linejoin: miter; stroke-linecap: square\"/>\n   </g>\n  </g>\n </g>\n <defs>\n  <clipPath id=\"pd67f9429b8\">\n   <rect x=\"59.695313\" y=\"7.2\" width=\"446.4\" height=\"86.976\"/>\n  </clipPath>\n </defs>\n</svg>\n",
      "text/plain": [
       "<Figure size 576x115.2 with 1 Axes>"
      ]
     },
     "metadata": {
      "needs_background": "light"
     },
     "output_type": "display_data"
    }
   ],
   "source": [
    "OLIGS = [gen.randomOligo (67) for n in range(200)] \n",
    "GCs = [gen.gcContent(OLIG) for OLIG in OLIGS]\n",
    "df = pd.DataFrame(pd.Series (GCs), columns=[\"Oligo Set\"])\n",
    "\n",
    "print (\"GC% of Random Oligos -- 2000 Runs, 67NT Length\")\n",
    "median = float(df.describe().median())\n",
    "print(round(median,3))\n",
    "\n",
    "\n",
    "def seriesBoxplot (df):\n",
    "   return df.boxplot(vert=False,  figsize=(8,1.6))\n",
    "seriesBoxplot (df)"
   ]
  },
  {
   "cell_type": "markdown",
   "metadata": {},
   "source": []
  },
  {
   "cell_type": "code",
   "execution_count": 31,
   "metadata": {},
   "outputs": [
    {
     "data": {
      "text/html": [
       "<style type=\"text/css\">\n",
       "#T_29fab_row0_col0, #T_29fab_row2_col0, #T_29fab_row5_col3, #T_29fab_row7_col0, #T_29fab_row7_col1, #T_29fab_row7_col2 {\n",
       "  color: red;\n",
       "  opacity: 60%;\n",
       "}\n",
       "#T_29fab_row0_col1, #T_29fab_row1_col3, #T_29fab_row2_col2, #T_29fab_row3_col2, #T_29fab_row3_col3, #T_29fab_row4_col0, #T_29fab_row4_col3, #T_29fab_row5_col0, #T_29fab_row5_col2, #T_29fab_row6_col0, #T_29fab_row6_col2, #T_29fab_row6_col3, #T_29fab_row8_col0, #T_29fab_row8_col2, #T_29fab_row9_col3 {\n",
       "  color: red;\n",
       "}\n",
       "#T_29fab_row0_col2, #T_29fab_row2_col3, #T_29fab_row9_col1 {\n",
       "  color: black;\n",
       "  background-color: gold;\n",
       "  color: white;\n",
       "  background-color: grey;\n",
       "}\n",
       "#T_29fab_row0_col3, #T_29fab_row2_col1, #T_29fab_row5_col1, #T_29fab_row9_col0 {\n",
       "  opacity: 60%;\n",
       "}\n",
       "#T_29fab_row1_col0, #T_29fab_row1_col1, #T_29fab_row1_col2, #T_29fab_row7_col3 {\n",
       "  color: red;\n",
       "  color: white;\n",
       "  background-color: maroon;\n",
       "  font-weight: bold;\n",
       "}\n",
       "#T_29fab_row3_col0 {\n",
       "  opacity: 60%;\n",
       "  color: black;\n",
       "  background-color: gold;\n",
       "  color: white;\n",
       "  background-color: grey;\n",
       "}\n",
       "</style>\n",
       "<table id=\"T_29fab\">\n",
       "  <thead>\n",
       "    <tr>\n",
       "      <th class=\"blank level0\" >&nbsp;</th>\n",
       "      <th id=\"T_29fab_level0_col0\" class=\"col_heading level0 col0\" >A</th>\n",
       "      <th id=\"T_29fab_level0_col1\" class=\"col_heading level0 col1\" >B</th>\n",
       "      <th id=\"T_29fab_level0_col2\" class=\"col_heading level0 col2\" >C</th>\n",
       "      <th id=\"T_29fab_level0_col3\" class=\"col_heading level0 col3\" >D</th>\n",
       "    </tr>\n",
       "  </thead>\n",
       "  <tbody>\n",
       "    <tr>\n",
       "      <th id=\"T_29fab_level0_row0\" class=\"row_heading level0 row0\" >0</th>\n",
       "      <td id=\"T_29fab_row0_col0\" class=\"data row0 col0\" >-0.259049</td>\n",
       "      <td id=\"T_29fab_row0_col1\" class=\"data row0 col1\" >-0.518318</td>\n",
       "      <td id=\"T_29fab_row0_col2\" class=\"data row0 col2\" >2.580187</td>\n",
       "      <td id=\"T_29fab_row0_col3\" class=\"data row0 col3\" >0.186146</td>\n",
       "    </tr>\n",
       "    <tr>\n",
       "      <th id=\"T_29fab_level0_row1\" class=\"row_heading level0 row1\" >1</th>\n",
       "      <td id=\"T_29fab_row1_col0\" class=\"data row1 col0\" >-1.163796</td>\n",
       "      <td id=\"T_29fab_row1_col1\" class=\"data row1 col1\" >-1.511667</td>\n",
       "      <td id=\"T_29fab_row1_col2\" class=\"data row1 col2\" >-1.525232</td>\n",
       "      <td id=\"T_29fab_row1_col3\" class=\"data row1 col3\" >-0.448570</td>\n",
       "    </tr>\n",
       "    <tr>\n",
       "      <th id=\"T_29fab_level0_row2\" class=\"row_heading level0 row2\" >2</th>\n",
       "      <td id=\"T_29fab_row2_col0\" class=\"data row2 col0\" >-0.181028</td>\n",
       "      <td id=\"T_29fab_row2_col1\" class=\"data row2 col1\" >0.098192</td>\n",
       "      <td id=\"T_29fab_row2_col2\" class=\"data row2 col2\" >-0.547883</td>\n",
       "      <td id=\"T_29fab_row2_col3\" class=\"data row2 col3\" >1.525703</td>\n",
       "    </tr>\n",
       "    <tr>\n",
       "      <th id=\"T_29fab_level0_row3\" class=\"row_heading level0 row3\" >3</th>\n",
       "      <td id=\"T_29fab_row3_col0\" class=\"data row3 col0\" >0.236544</td>\n",
       "      <td id=\"T_29fab_row3_col1\" class=\"data row3 col1\" >1.096471</td>\n",
       "      <td id=\"T_29fab_row3_col2\" class=\"data row3 col2\" >-1.353559</td>\n",
       "      <td id=\"T_29fab_row3_col3\" class=\"data row3 col3\" >-1.126969</td>\n",
       "    </tr>\n",
       "    <tr>\n",
       "      <th id=\"T_29fab_level0_row4\" class=\"row_heading level0 row4\" >4</th>\n",
       "      <td id=\"T_29fab_row4_col0\" class=\"data row4 col0\" >-0.734412</td>\n",
       "      <td id=\"T_29fab_row4_col1\" class=\"data row4 col1\" >0.368347</td>\n",
       "      <td id=\"T_29fab_row4_col2\" class=\"data row4 col2\" >1.298670</td>\n",
       "      <td id=\"T_29fab_row4_col3\" class=\"data row4 col3\" >-0.709678</td>\n",
       "    </tr>\n",
       "    <tr>\n",
       "      <th id=\"T_29fab_level0_row5\" class=\"row_heading level0 row5\" >5</th>\n",
       "      <td id=\"T_29fab_row5_col0\" class=\"data row5 col0\" >-0.663498</td>\n",
       "      <td id=\"T_29fab_row5_col1\" class=\"data row5 col1\" >0.293932</td>\n",
       "      <td id=\"T_29fab_row5_col2\" class=\"data row5 col2\" >-0.393827</td>\n",
       "      <td id=\"T_29fab_row5_col3\" class=\"data row5 col3\" >-0.251093</td>\n",
       "    </tr>\n",
       "    <tr>\n",
       "      <th id=\"T_29fab_level0_row6\" class=\"row_heading level0 row6\" >6</th>\n",
       "      <td id=\"T_29fab_row6_col0\" class=\"data row6 col0\" >-0.628852</td>\n",
       "      <td id=\"T_29fab_row6_col1\" class=\"data row6 col1\" >0.746275</td>\n",
       "      <td id=\"T_29fab_row6_col2\" class=\"data row6 col2\" >-0.618136</td>\n",
       "      <td id=\"T_29fab_row6_col3\" class=\"data row6 col3\" >-0.380296</td>\n",
       "    </tr>\n",
       "    <tr>\n",
       "      <th id=\"T_29fab_level0_row7\" class=\"row_heading level0 row7\" >7</th>\n",
       "      <td id=\"T_29fab_row7_col0\" class=\"data row7 col0\" >-0.202120</td>\n",
       "      <td id=\"T_29fab_row7_col1\" class=\"data row7 col1\" >-0.281345</td>\n",
       "      <td id=\"T_29fab_row7_col2\" class=\"data row7 col2\" >-0.058063</td>\n",
       "      <td id=\"T_29fab_row7_col3\" class=\"data row7 col3\" >-1.501903</td>\n",
       "    </tr>\n",
       "    <tr>\n",
       "      <th id=\"T_29fab_level0_row8\" class=\"row_heading level0 row8\" >8</th>\n",
       "      <td id=\"T_29fab_row8_col0\" class=\"data row8 col0\" >-0.325710</td>\n",
       "      <td id=\"T_29fab_row8_col1\" class=\"data row8 col1\" >0.331630</td>\n",
       "      <td id=\"T_29fab_row8_col2\" class=\"data row8 col2\" >-0.656702</td>\n",
       "      <td id=\"T_29fab_row8_col3\" class=\"data row8 col3\" >0.493157</td>\n",
       "    </tr>\n",
       "    <tr>\n",
       "      <th id=\"T_29fab_level0_row9\" class=\"row_heading level0 row9\" >9</th>\n",
       "      <td id=\"T_29fab_row9_col0\" class=\"data row9 col0\" >0.130228</td>\n",
       "      <td id=\"T_29fab_row9_col1\" class=\"data row9 col1\" >1.941582</td>\n",
       "      <td id=\"T_29fab_row9_col2\" class=\"data row9 col2\" >1.397304</td>\n",
       "      <td id=\"T_29fab_row9_col3\" class=\"data row9 col3\" >-0.591588</td>\n",
       "    </tr>\n",
       "  </tbody>\n",
       "</table>\n"
      ],
      "text/plain": [
       "<pandas.io.formats.style.Styler at 0x119be0790>"
      ]
     },
     "execution_count": 31,
     "metadata": {},
     "output_type": "execute_result"
    }
   ],
   "source": [
    "df2 = pd.DataFrame(np.random.randn(10, 4), columns=['A', 'B', 'C', 'D'])\n",
    "df2.style\n",
    "\n",
    "\n",
    "def style_negative(v, props=''):\n",
    "    \"\"\"\n",
    "    Example of Props to pass in:\n",
    "    >>> color:white;background-color:maroon;font-weight:bold\n",
    "    =============================================================\"\"\"\n",
    "    return props if v < 0 else None\n",
    "\n",
    "\n",
    "s2 = df2.style.applymap(style_negative, props='color:red;')\\\n",
    "              .applymap(lambda v: 'opacity: 60%;' if (v < 0.3) and (v > -0.3) else None)\n",
    "\n",
    "\n",
    "def style_negative(v, props=''):\n",
    "    return props if v < 0 else None\n",
    "\n",
    "\n",
    "def highlight_max(s, props=''):\n",
    "    return np.where(s == np.nanmax(s.values), props, '')\n",
    "def highlight_min(s, props=''):\n",
    "    return np.where(s == np.nanmin(s.values), props, '')\n",
    "\n",
    "\n",
    "s2.apply(highlight_min, props='color:white;background-color:maroon;font-weight:bold', axis=0)\n",
    "s2.apply(highlight_max, props='color:black;background-color:gold', axis=0)\n",
    "\n",
    "s2.apply(highlight_max, props='color:white;background-color:grey')\n",
    "s2\n"
   ]
  },
  {
   "cell_type": "code",
   "execution_count": 45,
   "metadata": {},
   "outputs": [
    {
     "data": {
      "text/plain": [
       "<AxesSubplot:>"
      ]
     },
     "execution_count": 45,
     "metadata": {},
     "output_type": "execute_result"
    },
    {
     "data": {
      "image/png": "[encoded data removed]",
      "image/svg+xml": "<?xml version=\"1.0\" encoding=\"utf-8\" standalone=\"no\"?>\n<!DOCTYPE svg PUBLIC \"-//W3C//DTD SVG 1.1//EN\"\n  \"http://www.w3.org/Graphics/SVG/1.1/DTD/svg11.dtd\">\n<svg xmlns:xlink=\"http://www.w3.org/1999/xlink\" width=\"308.1pt\" height=\"139.798125pt\" viewBox=\"0 0 308.1 139.798125\" xmlns=\"http://www.w3.org/2000/svg\" version=\"1.1\">\n <metadata>\n  <rdf:RDF xmlns:dc=\"http://purl.org/dc/elements/1.1/\" xmlns:cc=\"http://creativecommons.org/ns#\" xmlns:rdf=\"http://www.w3.org/1999/02/22-rdf-syntax-ns#\">\n   <cc:Work>\n    <dc:type rdf:resource=\"http://purl.org/dc/dcmitype/StillImage\"/>\n    <dc:date>2022-05-05T09:48:18.399382</dc:date>\n    <dc:format>image/svg+xml</dc:format>\n    <dc:creator>\n     <cc:Agent>\n      <dc:title>Matplotlib v3.5.1, https://matplotlib.org/</dc:title>\n     </cc:Agent>\n    </dc:creator>\n   </cc:Work>\n  </rdf:RDF>\n </metadata>\n <defs>\n  <style type=\"text/css\">*{stroke-linejoin: round; stroke-linecap: butt}</style>\n </defs>\n <g id=\"figure_1\">\n  <g id=\"patch_1\">\n   <path d=\"M 0 139.798125 \nL 308.1 139.798125 \nL 308.1 0 \nL 0 0 \nL 0 139.798125 \nz\n\" style=\"fill: none\"/>\n  </g>\n  <g id=\"axes_1\">\n   <g id=\"patch_2\">\n    <path d=\"M 21.9 115.92 \nL 300.9 115.92 \nL 300.9 7.2 \nL 21.9 7.2 \nz\n\" style=\"fill: #ffffff\"/>\n   </g>\n   <g id=\"matplotlib.axis_1\">\n    <g id=\"xtick_1\">\n     <g id=\"line2d_1\">\n      <path d=\"M 67.031103 115.92 \nL 67.031103 7.2 \n\" clip-path=\"url(#pde16428174)\" style=\"fill: none; stroke: #b0b0b0; stroke-width: 0.8; stroke-linecap: square\"/>\n     </g>\n     <g id=\"line2d_2\">\n      <defs>\n       <path id=\"m8dafbf0a5c\" d=\"M 0 0 \nL 0 3.5 \n\" style=\"stroke: #000000; stroke-width: 0.8\"/>\n      </defs>\n      <g>\n       <use xlink:href=\"#m8dafbf0a5c\" x=\"67.031103\" y=\"115.92\" style=\"stroke: #000000; stroke-width: 0.8\"/>\n      </g>\n     </g>\n     <g id=\"text_1\">\n      <!-- −1 -->\n      <g transform=\"translate(59.660009 130.518437)scale(0.1 -0.1)\">\n       <defs>\n        <path id=\"DejaVuSans-2212\" d=\"M 678 2272 \nL 4684 2272 \nL 4684 1741 \nL 678 1741 \nL 678 2272 \nz\n\" transform=\"scale(0.015625)\"/>\n        <path id=\"DejaVuSans-31\" d=\"M 794 531 \nL 1825 531 \nL 1825 4091 \nL 703 3866 \nL 703 4441 \nL 1819 4666 \nL 2450 4666 \nL 2450 531 \nL 3481 531 \nL 3481 0 \nL 794 0 \nL 794 531 \nz\n\" transform=\"scale(0.015625)\"/>\n       </defs>\n       <use xlink:href=\"#DejaVuSans-2212\"/>\n       <use xlink:href=\"#DejaVuSans-31\" x=\"83.789062\"/>\n      </g>\n     </g>\n    </g>\n    <g id=\"xtick_2\">\n     <g id=\"line2d_3\">\n      <path d=\"M 128.811981 115.92 \nL 128.811981 7.2 \n\" clip-path=\"url(#pde16428174)\" style=\"fill: none; stroke: #b0b0b0; stroke-width: 0.8; stroke-linecap: square\"/>\n     </g>\n     <g id=\"line2d_4\">\n      <g>\n       <use xlink:href=\"#m8dafbf0a5c\" x=\"128.811981\" y=\"115.92\" style=\"stroke: #000000; stroke-width: 0.8\"/>\n      </g>\n     </g>\n     <g id=\"text_2\">\n      <!-- 0 -->\n      <g transform=\"translate(125.630731 130.518437)scale(0.1 -0.1)\">\n       <defs>\n        <path id=\"DejaVuSans-30\" d=\"M 2034 4250 \nQ 1547 4250 1301 3770 \nQ 1056 3291 1056 2328 \nQ 1056 1369 1301 889 \nQ 1547 409 2034 409 \nQ 2525 409 2770 889 \nQ 3016 1369 3016 2328 \nQ 3016 3291 2770 3770 \nQ 2525 4250 2034 4250 \nz\nM 2034 4750 \nQ 2819 4750 3233 4129 \nQ 3647 3509 3647 2328 \nQ 3647 1150 3233 529 \nQ 2819 -91 2034 -91 \nQ 1250 -91 836 529 \nQ 422 1150 422 2328 \nQ 422 3509 836 4129 \nQ 1250 4750 2034 4750 \nz\n\" transform=\"scale(0.015625)\"/>\n       </defs>\n       <use xlink:href=\"#DejaVuSans-30\"/>\n      </g>\n     </g>\n    </g>\n    <g id=\"xtick_3\">\n     <g id=\"line2d_5\">\n      <path d=\"M 190.59286 115.92 \nL 190.59286 7.2 \n\" clip-path=\"url(#pde16428174)\" style=\"fill: none; stroke: #b0b0b0; stroke-width: 0.8; stroke-linecap: square\"/>\n     </g>\n     <g id=\"line2d_6\">\n      <g>\n       <use xlink:href=\"#m8dafbf0a5c\" x=\"190.59286\" y=\"115.92\" style=\"stroke: #000000; stroke-width: 0.8\"/>\n      </g>\n     </g>\n     <g id=\"text_3\">\n      <!-- 1 -->\n      <g transform=\"translate(187.41161 130.518437)scale(0.1 -0.1)\">\n       <use xlink:href=\"#DejaVuSans-31\"/>\n      </g>\n     </g>\n    </g>\n    <g id=\"xtick_4\">\n     <g id=\"line2d_7\">\n      <path d=\"M 252.373738 115.92 \nL 252.373738 7.2 \n\" clip-path=\"url(#pde16428174)\" style=\"fill: none; stroke: #b0b0b0; stroke-width: 0.8; stroke-linecap: square\"/>\n     </g>\n     <g id=\"line2d_8\">\n      <g>\n       <use xlink:href=\"#m8dafbf0a5c\" x=\"252.373738\" y=\"115.92\" style=\"stroke: #000000; stroke-width: 0.8\"/>\n      </g>\n     </g>\n     <g id=\"text_4\">\n      <!-- 2 -->\n      <g transform=\"translate(249.192488 130.518437)scale(0.1 -0.1)\">\n       <defs>\n        <path id=\"DejaVuSans-32\" d=\"M 1228 531 \nL 3431 531 \nL 3431 0 \nL 469 0 \nL 469 531 \nQ 828 903 1448 1529 \nQ 2069 2156 2228 2338 \nQ 2531 2678 2651 2914 \nQ 2772 3150 2772 3378 \nQ 2772 3750 2511 3984 \nQ 2250 4219 1831 4219 \nQ 1534 4219 1204 4116 \nQ 875 4013 500 3803 \nL 500 4441 \nQ 881 4594 1212 4672 \nQ 1544 4750 1819 4750 \nQ 2544 4750 2975 4387 \nQ 3406 4025 3406 3419 \nQ 3406 3131 3298 2873 \nQ 3191 2616 2906 2266 \nQ 2828 2175 2409 1742 \nQ 1991 1309 1228 531 \nz\n\" transform=\"scale(0.015625)\"/>\n       </defs>\n       <use xlink:href=\"#DejaVuSans-32\"/>\n      </g>\n     </g>\n    </g>\n   </g>\n   <g id=\"matplotlib.axis_2\">\n    <g id=\"ytick_1\">\n     <g id=\"line2d_9\">\n      <path d=\"M 21.9 102.33 \nL 300.9 102.33 \n\" clip-path=\"url(#pde16428174)\" style=\"fill: none; stroke: #b0b0b0; stroke-width: 0.8; stroke-linecap: square\"/>\n     </g>\n     <g id=\"line2d_10\">\n      <defs>\n       <path id=\"m53b54d0d2e\" d=\"M 0 0 \nL -3.5 0 \n\" style=\"stroke: #000000; stroke-width: 0.8\"/>\n      </defs>\n      <g>\n       <use xlink:href=\"#m53b54d0d2e\" x=\"21.9\" y=\"102.33\" style=\"stroke: #000000; stroke-width: 0.8\"/>\n      </g>\n     </g>\n     <g id=\"text_5\">\n      <!-- A -->\n      <g transform=\"translate(8.059375 106.129219)scale(0.1 -0.1)\">\n       <defs>\n        <path id=\"DejaVuSans-41\" d=\"M 2188 4044 \nL 1331 1722 \nL 3047 1722 \nL 2188 4044 \nz\nM 1831 4666 \nL 2547 4666 \nL 4325 0 \nL 3669 0 \nL 3244 1197 \nL 1141 1197 \nL 716 0 \nL 50 0 \nL 1831 4666 \nz\n\" transform=\"scale(0.015625)\"/>\n       </defs>\n       <use xlink:href=\"#DejaVuSans-41\"/>\n      </g>\n     </g>\n    </g>\n    <g id=\"ytick_2\">\n     <g id=\"line2d_11\">\n      <path d=\"M 21.9 75.15 \nL 300.9 75.15 \n\" clip-path=\"url(#pde16428174)\" style=\"fill: none; stroke: #b0b0b0; stroke-width: 0.8; stroke-linecap: square\"/>\n     </g>\n     <g id=\"line2d_12\">\n      <g>\n       <use xlink:href=\"#m53b54d0d2e\" x=\"21.9\" y=\"75.15\" style=\"stroke: #000000; stroke-width: 0.8\"/>\n      </g>\n     </g>\n     <g id=\"text_6\">\n      <!-- B -->\n      <g transform=\"translate(8.039063 78.949219)scale(0.1 -0.1)\">\n       <defs>\n        <path id=\"DejaVuSans-42\" d=\"M 1259 2228 \nL 1259 519 \nL 2272 519 \nQ 2781 519 3026 730 \nQ 3272 941 3272 1375 \nQ 3272 1813 3026 2020 \nQ 2781 2228 2272 2228 \nL 1259 2228 \nz\nM 1259 4147 \nL 1259 2741 \nL 2194 2741 \nQ 2656 2741 2882 2914 \nQ 3109 3088 3109 3444 \nQ 3109 3797 2882 3972 \nQ 2656 4147 2194 4147 \nL 1259 4147 \nz\nM 628 4666 \nL 2241 4666 \nQ 2963 4666 3353 4366 \nQ 3744 4066 3744 3513 \nQ 3744 3084 3544 2831 \nQ 3344 2578 2956 2516 \nQ 3422 2416 3680 2098 \nQ 3938 1781 3938 1306 \nQ 3938 681 3513 340 \nQ 3088 0 2303 0 \nL 628 0 \nL 628 4666 \nz\n\" transform=\"scale(0.015625)\"/>\n       </defs>\n       <use xlink:href=\"#DejaVuSans-42\"/>\n      </g>\n     </g>\n    </g>\n    <g id=\"ytick_3\">\n     <g id=\"line2d_13\">\n      <path d=\"M 21.9 47.97 \nL 300.9 47.97 \n\" clip-path=\"url(#pde16428174)\" style=\"fill: none; stroke: #b0b0b0; stroke-width: 0.8; stroke-linecap: square\"/>\n     </g>\n     <g id=\"line2d_14\">\n      <g>\n       <use xlink:href=\"#m53b54d0d2e\" x=\"21.9\" y=\"47.97\" style=\"stroke: #000000; stroke-width: 0.8\"/>\n      </g>\n     </g>\n     <g id=\"text_7\">\n      <!-- C -->\n      <g transform=\"translate(7.917188 51.769219)scale(0.1 -0.1)\">\n       <defs>\n        <path id=\"DejaVuSans-43\" d=\"M 4122 4306 \nL 4122 3641 \nQ 3803 3938 3442 4084 \nQ 3081 4231 2675 4231 \nQ 1875 4231 1450 3742 \nQ 1025 3253 1025 2328 \nQ 1025 1406 1450 917 \nQ 1875 428 2675 428 \nQ 3081 428 3442 575 \nQ 3803 722 4122 1019 \nL 4122 359 \nQ 3791 134 3420 21 \nQ 3050 -91 2638 -91 \nQ 1578 -91 968 557 \nQ 359 1206 359 2328 \nQ 359 3453 968 4101 \nQ 1578 4750 2638 4750 \nQ 3056 4750 3426 4639 \nQ 3797 4528 4122 4306 \nz\n\" transform=\"scale(0.015625)\"/>\n       </defs>\n       <use xlink:href=\"#DejaVuSans-43\"/>\n      </g>\n     </g>\n    </g>\n    <g id=\"ytick_4\">\n     <g id=\"line2d_15\">\n      <path d=\"M 21.9 20.79 \nL 300.9 20.79 \n\" clip-path=\"url(#pde16428174)\" style=\"fill: none; stroke: #b0b0b0; stroke-width: 0.8; stroke-linecap: square\"/>\n     </g>\n     <g id=\"line2d_16\">\n      <g>\n       <use xlink:href=\"#m53b54d0d2e\" x=\"21.9\" y=\"20.79\" style=\"stroke: #000000; stroke-width: 0.8\"/>\n      </g>\n     </g>\n     <g id=\"text_8\">\n      <!-- D -->\n      <g transform=\"translate(7.2 24.589219)scale(0.1 -0.1)\">\n       <defs>\n        <path id=\"DejaVuSans-44\" d=\"M 1259 4147 \nL 1259 519 \nL 2022 519 \nQ 2988 519 3436 956 \nQ 3884 1394 3884 2338 \nQ 3884 3275 3436 3711 \nQ 2988 4147 2022 4147 \nL 1259 4147 \nz\nM 628 4666 \nL 1925 4666 \nQ 3281 4666 3915 4102 \nQ 4550 3538 4550 2338 \nQ 4550 1131 3912 565 \nQ 3275 0 1925 0 \nL 628 0 \nL 628 4666 \nz\n\" transform=\"scale(0.015625)\"/>\n       </defs>\n       <use xlink:href=\"#DejaVuSans-44\"/>\n      </g>\n     </g>\n    </g>\n   </g>\n   <g id=\"line2d_17\">\n    <path d=\"M 88.355612 108.4455 \nL 88.355612 96.2145 \nL 117.30213 96.2145 \nL 117.30213 108.4455 \nL 88.355612 108.4455 \n\" clip-path=\"url(#pde16428174)\" style=\"fill: none; stroke: #1f77b4; stroke-linecap: square\"/>\n   </g>\n   <g id=\"line2d_18\">\n    <path d=\"M 88.355612 102.33 \nL 56.911663 102.33 \n\" clip-path=\"url(#pde16428174)\" style=\"fill: none; stroke: #1f77b4; stroke-linecap: square\"/>\n   </g>\n   <g id=\"line2d_19\">\n    <path d=\"M 117.30213 102.33 \nL 143.425866 102.33 \n\" clip-path=\"url(#pde16428174)\" style=\"fill: none; stroke: #1f77b4; stroke-linecap: square\"/>\n   </g>\n   <g id=\"line2d_20\">\n    <path d=\"M 56.911663 105.38775 \nL 56.911663 99.27225 \n\" clip-path=\"url(#pde16428174)\" style=\"fill: none; stroke: #000000; stroke-linecap: square\"/>\n   </g>\n   <g id=\"line2d_21\">\n    <path d=\"M 143.425866 105.38775 \nL 143.425866 99.27225 \n\" clip-path=\"url(#pde16428174)\" style=\"fill: none; stroke: #000000; stroke-linecap: square\"/>\n   </g>\n   <g id=\"line2d_22\"/>\n   <g id=\"line2d_23\">\n    <path d=\"M 117.292271 81.2655 \nL 117.292271 69.0345 \nL 169.080301 69.0345 \nL 169.080301 81.2655 \nL 117.292271 81.2655 \n\" clip-path=\"url(#pde16428174)\" style=\"fill: none; stroke: #1f77b4; stroke-linecap: square\"/>\n   </g>\n   <g id=\"line2d_24\">\n    <path d=\"M 117.292271 75.15 \nL 96.789819 75.15 \n\" clip-path=\"url(#pde16428174)\" style=\"fill: none; stroke: #1f77b4; stroke-linecap: square\"/>\n   </g>\n   <g id=\"line2d_25\">\n    <path d=\"M 169.080301 75.15 \nL 196.552915 75.15 \n\" clip-path=\"url(#pde16428174)\" style=\"fill: none; stroke: #1f77b4; stroke-linecap: square\"/>\n   </g>\n   <g id=\"line2d_26\">\n    <path d=\"M 96.789819 78.20775 \nL 96.789819 72.09225 \n\" clip-path=\"url(#pde16428174)\" style=\"fill: none; stroke: #000000; stroke-linecap: square\"/>\n   </g>\n   <g id=\"line2d_27\">\n    <path d=\"M 196.552915 78.20775 \nL 196.552915 72.09225 \n\" clip-path=\"url(#pde16428174)\" style=\"fill: none; stroke: #000000; stroke-linecap: square\"/>\n   </g>\n   <g id=\"line2d_28\">\n    <defs>\n     <path id=\"me2b031f5d4\" d=\"M 0 3 \nC 0.795609 3 1.55874 2.683901 2.12132 2.12132 \nC 2.683901 1.55874 3 0.795609 3 0 \nC 3 -0.795609 2.683901 -1.55874 2.12132 -2.12132 \nC 1.55874 -2.683901 0.795609 -3 0 -3 \nC -0.795609 -3 -1.55874 -2.683901 -2.12132 -2.12132 \nC -2.683901 -1.55874 -3 -0.795609 -3 0 \nC -3 0.795609 -2.683901 1.55874 -2.12132 2.12132 \nC -1.55874 2.683901 -0.795609 3 0 3 \nz\n\" style=\"stroke: #000000\"/>\n    </defs>\n    <g clip-path=\"url(#pde16428174)\">\n     <use xlink:href=\"#me2b031f5d4\" x=\"35.419848\" y=\"75.15\" style=\"fill-opacity: 0; stroke: #000000\"/>\n     <use xlink:href=\"#me2b031f5d4\" x=\"248.764609\" y=\"75.15\" style=\"fill-opacity: 0; stroke: #000000\"/>\n    </g>\n   </g>\n   <g id=\"line2d_29\">\n    <path d=\"M 88.83603 54.0855 \nL 88.83603 41.8545 \nL 188.089918 41.8545 \nL 188.089918 54.0855 \nL 88.83603 54.0855 \n\" clip-path=\"url(#pde16428174)\" style=\"fill: none; stroke: #1f77b4; stroke-linecap: square\"/>\n   </g>\n   <g id=\"line2d_30\">\n    <path d=\"M 88.83603 47.97 \nL 34.581818 47.97 \n\" clip-path=\"url(#pde16428174)\" style=\"fill: none; stroke: #1f77b4; stroke-linecap: square\"/>\n   </g>\n   <g id=\"line2d_31\">\n    <path d=\"M 188.089918 47.97 \nL 288.218182 47.97 \n\" clip-path=\"url(#pde16428174)\" style=\"fill: none; stroke: #1f77b4; stroke-linecap: square\"/>\n   </g>\n   <g id=\"line2d_32\">\n    <path d=\"M 34.581818 51.02775 \nL 34.581818 44.91225 \n\" clip-path=\"url(#pde16428174)\" style=\"fill: none; stroke: #000000; stroke-linecap: square\"/>\n   </g>\n   <g id=\"line2d_33\">\n    <path d=\"M 288.218182 51.02775 \nL 288.218182 44.91225 \n\" clip-path=\"url(#pde16428174)\" style=\"fill: none; stroke: #000000; stroke-linecap: square\"/>\n   </g>\n   <g id=\"line2d_34\"/>\n   <g id=\"line2d_35\">\n    <path d=\"M 86.791357 26.9055 \nL 86.791357 14.6745 \nL 133.558989 14.6745 \nL 133.558989 26.9055 \nL 86.791357 26.9055 \n\" clip-path=\"url(#pde16428174)\" style=\"fill: none; stroke: #1f77b4; stroke-linecap: square\"/>\n   </g>\n   <g id=\"line2d_36\">\n    <path d=\"M 86.791357 20.79 \nL 36.023101 20.79 \n\" clip-path=\"url(#pde16428174)\" style=\"fill: none; stroke: #1f77b4; stroke-linecap: square\"/>\n   </g>\n   <g id=\"line2d_37\">\n    <path d=\"M 133.558989 20.79 \nL 159.27968 20.79 \n\" clip-path=\"url(#pde16428174)\" style=\"fill: none; stroke: #1f77b4; stroke-linecap: square\"/>\n   </g>\n   <g id=\"line2d_38\">\n    <path d=\"M 36.023101 23.84775 \nL 36.023101 17.73225 \n\" clip-path=\"url(#pde16428174)\" style=\"fill: none; stroke: #000000; stroke-linecap: square\"/>\n   </g>\n   <g id=\"line2d_39\">\n    <path d=\"M 159.27968 23.84775 \nL 159.27968 17.73225 \n\" clip-path=\"url(#pde16428174)\" style=\"fill: none; stroke: #000000; stroke-linecap: square\"/>\n   </g>\n   <g id=\"line2d_40\">\n    <g clip-path=\"url(#pde16428174)\">\n     <use xlink:href=\"#me2b031f5d4\" x=\"223.071271\" y=\"20.79\" style=\"fill-opacity: 0; stroke: #000000\"/>\n    </g>\n   </g>\n   <g id=\"line2d_41\">\n    <path d=\"M 110.748509 108.4455 \nL 110.748509 96.2145 \n\" clip-path=\"url(#pde16428174)\" style=\"fill: none; stroke: #2ca02c; stroke-linecap: square\"/>\n   </g>\n   <g id=\"line2d_42\">\n    <path d=\"M 148.13586 81.2655 \nL 148.13586 69.0345 \n\" clip-path=\"url(#pde16428174)\" style=\"fill: none; stroke: #2ca02c; stroke-linecap: square\"/>\n   </g>\n   <g id=\"line2d_43\">\n    <path d=\"M 99.722166 54.0855 \nL 99.722166 41.8545 \n\" clip-path=\"url(#pde16428174)\" style=\"fill: none; stroke: #2ca02c; stroke-linecap: square\"/>\n   </g>\n   <g id=\"line2d_44\">\n    <path d=\"M 103.20793 26.9055 \nL 103.20793 14.6745 \n\" clip-path=\"url(#pde16428174)\" style=\"fill: none; stroke: #2ca02c; stroke-linecap: square\"/>\n   </g>\n   <g id=\"patch_3\">\n    <path d=\"M 21.9 115.92 \nL 21.9 7.2 \n\" style=\"fill: none; stroke: #000000; stroke-width: 0.8; stroke-linejoin: miter; stroke-linecap: square\"/>\n   </g>\n   <g id=\"patch_4\">\n    <path d=\"M 300.9 115.92 \nL 300.9 7.2 \n\" style=\"fill: none; stroke: #000000; stroke-width: 0.8; stroke-linejoin: miter; stroke-linecap: square\"/>\n   </g>\n   <g id=\"patch_5\">\n    <path d=\"M 21.9 115.92 \nL 300.9 115.92 \n\" style=\"fill: none; stroke: #000000; stroke-width: 0.8; stroke-linejoin: miter; stroke-linecap: square\"/>\n   </g>\n   <g id=\"patch_6\">\n    <path d=\"M 21.9 7.2 \nL 300.9 7.2 \n\" style=\"fill: none; stroke: #000000; stroke-width: 0.8; stroke-linejoin: miter; stroke-linecap: square\"/>\n   </g>\n  </g>\n </g>\n <defs>\n  <clipPath id=\"pde16428174\">\n   <rect x=\"21.9\" y=\"7.2\" width=\"279\" height=\"108.72\"/>\n  </clipPath>\n </defs>\n</svg>\n",
      "text/plain": [
       "<Figure size 360x144 with 1 Axes>"
      ]
     },
     "metadata": {
      "needs_background": "light"
     },
     "output_type": "display_data"
    }
   ],
   "source": [
    "df2.boxplot(vert=False,figsize=(5,2))"
   ]
  }
 ],
 "metadata": {
  "interpreter": {
   "hash": "31f2aee4e71d21fbe5cf8b01ff0e069b9275f58929596ceb00d14d90e3e16cd6"
  },
  "kernelspec": {
   "display_name": "Python 3.8.2 64-bit",
   "language": "python",
   "name": "python3"
  },
  "language_info": {
   "codemirror_mode": {
    "name": "ipython",
    "version": 3
   },
   "file_extension": ".py",
   "mimetype": "text/x-python",
   "name": "python",
   "nbconvert_exporter": "python",
   "pygments_lexer": "ipython3",
   "version": "3.8.2"
  },
  "orig_nbformat": 4
 },
 "nbformat": 4,
 "nbformat_minor": 2
}
