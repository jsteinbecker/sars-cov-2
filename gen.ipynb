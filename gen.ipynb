{
 "cells": [
  {
   "cell_type": "code",
   "execution_count": 77,
   "metadata": {},
   "outputs": [],
   "source": [
    "import functions.genetics as gen\n",
    "import pandas as pd"
   ]
  },
  {
   "cell_type": "code",
   "execution_count": 78,
   "metadata": {},
   "outputs": [],
   "source": [
    "SEQ = \"accgtgcgtgacgtgcacggtgc\""
   ]
  },
  {
   "cell_type": "code",
   "execution_count": 79,
   "metadata": {},
   "outputs": [
    {
     "data": {
      "text/plain": [
       "0.6957"
      ]
     },
     "execution_count": 79,
     "metadata": {},
     "output_type": "execute_result"
    }
   ],
   "source": [
    "gen.gcContent (SEQ)"
   ]
  },
  {
   "cell_type": "code",
   "execution_count": 80,
   "metadata": {},
   "outputs": [
    {
     "name": "stdout",
     "output_type": "stream",
     "text": [
      "GC% of Random Oligos -- 2000 Runs, 67NT Length\n",
      "             0\n",
      "count  2000.00\n",
      "mean      0.50\n",
      "std       0.06\n",
      "min       0.28\n",
      "25%       0.46\n",
      "50%       0.49\n",
      "75%       0.54\n",
      "max       0.70\n"
     ]
    }
   ],
   "source": [
    "OLIGS = [gen.randomOligo (67) for n in range(2000)] \n",
    "GCs = [gen.gcContent(OLIG) for OLIG in OLIGS]\n",
    "df = pd.DataFrame(pd.Series (GCs))\n",
    "print (\"GC% of Random Oligos -- 2000 Runs, 67NT Length\")\n",
    "print(round(df.describe(),2))"
   ]
  }
 ],
 "metadata": {
  "interpreter": {
   "hash": "31f2aee4e71d21fbe5cf8b01ff0e069b9275f58929596ceb00d14d90e3e16cd6"
  },
  "kernelspec": {
   "display_name": "Python 3.8.2 64-bit",
   "language": "python",
   "name": "python3"
  },
  "language_info": {
   "codemirror_mode": {
    "name": "ipython",
    "version": 3
   },
   "file_extension": ".py",
   "mimetype": "text/x-python",
   "name": "python",
   "nbconvert_exporter": "python",
   "pygments_lexer": "ipython3",
   "version": "3.8.2"
  },
  "orig_nbformat": 4
 },
 "nbformat": 4,
 "nbformat_minor": 2
}
