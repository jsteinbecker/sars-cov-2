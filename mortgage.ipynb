{
 "cells": [
  {
   "cell_type": "code",
   "execution_count": 1,
   "metadata": {},
   "outputs": [],
   "source": [
    "import sympy as sp\n",
    "import pandas as pd\n",
    "import numpy as np\n",
    "import matplotlib.pyplot as plt\n",
    "from IPython.display import Markdown, display"
   ]
  },
  {
   "cell_type": "markdown",
   "metadata": {},
   "source": [
    "## Monthly Payment Equation"
   ]
  },
  {
   "cell_type": "markdown",
   "metadata": {},
   "source": [
    "Useable:\n",
    "```py\n",
    "1. EQUATION_MONTHLYPAYMENT\n",
    "\n",
    "2. mortgagepayment(P=,apr=,yrs=)  -> int\n",
    "\n",
    "3. mortgagePayTable(P=,apr=,yrs=) -> dataFrame\n",
    "```"
   ]
  },
  {
   "cell_type": "code",
   "execution_count": 2,
   "metadata": {},
   "outputs": [
    {
     "data": {
      "text/latex": [
       "$\\displaystyle [PAY_{mo}] = \\frac{P r \\left(r + 1\\right)^{n}}{\\left(r + 1\\right)^{n} - 1}$"
      ],
      "text/plain": [
       "Eq([PAY_{mo}], P*r*(r + 1)**n/((r + 1)**n - 1))"
      ]
     },
     "execution_count": 2,
     "metadata": {},
     "output_type": "execute_result"
    }
   ],
   "source": [
    "P, r, n, mp= sp.symbols(\"P r n [PAY_{mo}]\")\n",
    "EQUATION_MONTHLYPAYMENT = sp.Eq(mp , P* r* (((1 + r)** n) / ((1 + r)** n - 1)))\n",
    "EQUATION_MONTHLYPAYMENT"
   ]
  },
  {
   "cell_type": "code",
   "execution_count": 3,
   "metadata": {},
   "outputs": [
    {
     "data": {
      "text/latex": [
       "$\\displaystyle [PAY_{mo}] = 678.788209467464$"
      ],
      "text/plain": [
       "Eq([PAY_{mo}], 678.788209467464)"
      ]
     },
     "execution_count": 3,
     "metadata": {},
     "output_type": "execute_result"
    }
   ],
   "source": [
    "EQUATION_MONTHLYPAYMENT.subs({P:100000,   n:12*30,    r:0.006})"
   ]
  },
  {
   "cell_type": "code",
   "execution_count": 6,
   "metadata": {},
   "outputs": [],
   "source": [
    "def mortgagepayment (P,apr,yrs) -> float:\n",
    "   \n",
    "   \"\"\"----MORTGAGE PAYMENT--------------------------------\n",
    "                                  --> MONTHLY PAYMENT IN $\n",
    "   -------------------------------------------------------\n",
    "      >>> P     : principle\n",
    "      >>> apr   : decimal APR\n",
    "      >>> yrs   : length of term in years\n",
    "   ======================================================\n",
    "   \"\"\"\n",
    "      \n",
    "   r = apr / 12      # MONTHLY PERC. RATE\n",
    "   n = yrs * 12      # NUMBER OF MONTHS/ TERM\n",
    "   \n",
    "   mp = round(P * r * ((r+1)**n) / ((r+1)**n-1) , 2)\n",
    "   #print (f'Monthly Payment:\\t\\t${mp}')\n",
    "   return mp\n",
    "   #-----------------------------------------------------"
   ]
  },
  {
   "cell_type": "code",
   "execution_count": 7,
   "metadata": {},
   "outputs": [],
   "source": [
    "def mortgagePayTable (P, apr, yrs):\n",
    "   \"\"\"---MORTGAGE PAY TABLE--------------------------------------\n",
    "     Returns a  DATAFRAME of the payment details\n",
    "     ------------------------------------------------------------ \n",
    "     from:\n",
    "         >>> P       :principle\n",
    "         >>> apr     :decimal APR\n",
    "         >>> yrs     :length of term (yrs)\n",
    "      ===========================================================\n",
    "   \"\"\"\n",
    "   r = apr / 12 #mpr\n",
    "   n = yrs * 12 #months in term\n",
    "   \n",
    "   mp = round(P * r * ((r+1)**n) / ((r+1)**n-1) , 2)\n",
    "   \n",
    "   aprpc = round(apr*100)\n",
    "   totalPaid = mp * yrs * 12\n",
    "   interest = totalPaid - P\n",
    "   interest_asPercent = round(interest / (totalPaid) * 100 ,1)\n",
    "   \n",
    "   i_display = f'${round(interest,2)} ({interest_asPercent}%)'\n",
    "   APR = f'{aprpc}%'\n",
    "   data = [P,APR,yrs,mp,i_display]\n",
    "   cols = [\"Principle\",\"APR %\",\"Years\",\"MONTHLY Payment\",\"Total Interest\"]\n",
    "   \n",
    "   return round(pd.DataFrame(data,index=cols,columns=[\"RESULT\"]))\n",
    "   #-------------------------------------------------------------------"
   ]
  },
  {
   "cell_type": "code",
   "execution_count": 8,
   "metadata": {},
   "outputs": [
    {
     "data": {
      "text/html": [
       "<div>\n",
       "<style scoped>\n",
       "    .dataframe tbody tr th:only-of-type {\n",
       "        vertical-align: middle;\n",
       "    }\n",
       "\n",
       "    .dataframe tbody tr th {\n",
       "        vertical-align: top;\n",
       "    }\n",
       "\n",
       "    .dataframe thead th {\n",
       "        text-align: right;\n",
       "    }\n",
       "</style>\n",
       "<table border=\"1\" class=\"dataframe\">\n",
       "  <thead>\n",
       "    <tr style=\"text-align: right;\">\n",
       "      <th></th>\n",
       "      <th>RESULT</th>\n",
       "      <th>RESULT</th>\n",
       "      <th>RESULT</th>\n",
       "      <th>RESULT</th>\n",
       "    </tr>\n",
       "  </thead>\n",
       "  <tbody>\n",
       "    <tr>\n",
       "      <th>Principle</th>\n",
       "      <td>104000</td>\n",
       "      <td>249000</td>\n",
       "      <td>249000</td>\n",
       "      <td>89000</td>\n",
       "    </tr>\n",
       "    <tr>\n",
       "      <th>APR %</th>\n",
       "      <td>3%</td>\n",
       "      <td>3%</td>\n",
       "      <td>4%</td>\n",
       "      <td>7%</td>\n",
       "    </tr>\n",
       "    <tr>\n",
       "      <th>Years</th>\n",
       "      <td>18</td>\n",
       "      <td>23</td>\n",
       "      <td>23</td>\n",
       "      <td>23</td>\n",
       "    </tr>\n",
       "    <tr>\n",
       "      <th>MONTHLY Payment</th>\n",
       "      <td>628.85</td>\n",
       "      <td>1230.97</td>\n",
       "      <td>1361.16</td>\n",
       "      <td>649.63</td>\n",
       "    </tr>\n",
       "    <tr>\n",
       "      <th>Total Interest</th>\n",
       "      <td>$31831.6 (23.4%)</td>\n",
       "      <td>$90747.72 (26.7%)</td>\n",
       "      <td>$126680.16 (33.7%)</td>\n",
       "      <td>$90297.88 (50.4%)</td>\n",
       "    </tr>\n",
       "  </tbody>\n",
       "</table>\n",
       "</div>"
      ],
      "text/plain": [
       "                           RESULT             RESULT              RESULT  \\\n",
       "Principle                  104000             249000              249000   \n",
       "APR %                          3%                 3%                  4%   \n",
       "Years                          18                 23                  23   \n",
       "MONTHLY Payment            628.85            1230.97             1361.16   \n",
       "Total Interest   $31831.6 (23.4%)  $90747.72 (26.7%)  $126680.16 (33.7%)   \n",
       "\n",
       "                            RESULT  \n",
       "Principle                    89000  \n",
       "APR %                           7%  \n",
       "Years                           23  \n",
       "MONTHLY Payment             649.63  \n",
       "Total Interest   $90297.88 (50.4%)  "
      ]
     },
     "execution_count": 8,
     "metadata": {},
     "output_type": "execute_result"
    }
   ],
   "source": [
    "table = pd.concat(\n",
    "   (mortgagePayTable (104_000 , 0.031 , 18) ,\n",
    "   mortgagePayTable  (249_000 , 0.0285 , 23) ,\n",
    "   mortgagePayTable  (249_000 , apr=0.0385 , yrs=23),\n",
    "   mortgagePayTable  (89_000 , apr= 0.07 , yrs= 23)) ,\n",
    "   axis=1\n",
    ")\n",
    "table"
   ]
  },
  {
   "cell_type": "markdown",
   "metadata": {},
   "source": [
    "## Mortgage APR Table"
   ]
  },
  {
   "cell_type": "code",
   "execution_count": 9,
   "metadata": {},
   "outputs": [],
   "source": [
    "def APRtable (minAPR, maxAPR, principle, years):\n",
    "   listAPR = np.linspace(minAPR,maxAPR,10)\n",
    "   \n",
    "   df = pd.DataFrame(listAPR,columns=['APR'])\n",
    "   df['APR%'] = round(df['APR'] * 100,1)\n",
    "   df['Monthly$'] = mortgagepayment(principle, df['APR'], years)\n",
    "   display(Markdown(\"### PRINCIPLE = $\" + str(principle)))\n",
    "   return df.loc[:,'APR%':]"
   ]
  },
  {
   "cell_type": "code",
   "execution_count": 10,
   "metadata": {},
   "outputs": [
    {
     "data": {
      "text/markdown": [
       "### PRINCIPLE = $20000"
      ],
      "text/plain": [
       "<IPython.core.display.Markdown object>"
      ]
     },
     "metadata": {},
     "output_type": "display_data"
    },
    {
     "data": {
      "text/html": [
       "<div>\n",
       "<style scoped>\n",
       "    .dataframe tbody tr th:only-of-type {\n",
       "        vertical-align: middle;\n",
       "    }\n",
       "\n",
       "    .dataframe tbody tr th {\n",
       "        vertical-align: top;\n",
       "    }\n",
       "\n",
       "    .dataframe thead th {\n",
       "        text-align: right;\n",
       "    }\n",
       "</style>\n",
       "<table border=\"1\" class=\"dataframe\">\n",
       "  <thead>\n",
       "    <tr style=\"text-align: right;\">\n",
       "      <th></th>\n",
       "      <th>APR%</th>\n",
       "      <th>Monthly$</th>\n",
       "    </tr>\n",
       "  </thead>\n",
       "  <tbody>\n",
       "    <tr>\n",
       "      <th>0</th>\n",
       "      <td>3.0</td>\n",
       "      <td>859.62</td>\n",
       "    </tr>\n",
       "    <tr>\n",
       "      <th>1</th>\n",
       "      <td>3.8</td>\n",
       "      <td>866.52</td>\n",
       "    </tr>\n",
       "    <tr>\n",
       "      <th>2</th>\n",
       "      <td>4.6</td>\n",
       "      <td>873.45</td>\n",
       "    </tr>\n",
       "    <tr>\n",
       "      <th>3</th>\n",
       "      <td>5.3</td>\n",
       "      <td>880.42</td>\n",
       "    </tr>\n",
       "    <tr>\n",
       "      <th>4</th>\n",
       "      <td>6.1</td>\n",
       "      <td>887.41</td>\n",
       "    </tr>\n",
       "    <tr>\n",
       "      <th>5</th>\n",
       "      <td>6.9</td>\n",
       "      <td>894.44</td>\n",
       "    </tr>\n",
       "    <tr>\n",
       "      <th>6</th>\n",
       "      <td>7.7</td>\n",
       "      <td>901.51</td>\n",
       "    </tr>\n",
       "    <tr>\n",
       "      <th>7</th>\n",
       "      <td>8.4</td>\n",
       "      <td>908.61</td>\n",
       "    </tr>\n",
       "    <tr>\n",
       "      <th>8</th>\n",
       "      <td>9.2</td>\n",
       "      <td>915.74</td>\n",
       "    </tr>\n",
       "    <tr>\n",
       "      <th>9</th>\n",
       "      <td>10.0</td>\n",
       "      <td>922.90</td>\n",
       "    </tr>\n",
       "  </tbody>\n",
       "</table>\n",
       "</div>"
      ],
      "text/plain": [
       "   APR%  Monthly$\n",
       "0   3.0    859.62\n",
       "1   3.8    866.52\n",
       "2   4.6    873.45\n",
       "3   5.3    880.42\n",
       "4   6.1    887.41\n",
       "5   6.9    894.44\n",
       "6   7.7    901.51\n",
       "7   8.4    908.61\n",
       "8   9.2    915.74\n",
       "9  10.0    922.90"
      ]
     },
     "metadata": {},
     "output_type": "display_data"
    },
    {
     "data": {
      "text/markdown": [
       "*Stats of Monthly$*"
      ],
      "text/plain": [
       "<IPython.core.display.Markdown object>"
      ]
     },
     "metadata": {},
     "output_type": "display_data"
    },
    {
     "data": {
      "text/plain": [
       "count     10.0\n",
       "mean     891.1\n",
       "std       21.3\n",
       "min      859.6\n",
       "25%      875.2\n",
       "50%      890.9\n",
       "75%      906.8\n",
       "max      922.9\n",
       "Name: Monthly$, dtype: float64"
      ]
     },
     "metadata": {},
     "output_type": "display_data"
    },
    {
     "data": {
      "image/png": "[encoded data removed]",
      "text/plain": [
       "<Figure size 432x288 with 1 Axes>"
      ]
     },
     "metadata": {
      "needs_background": "light"
     },
     "output_type": "display_data"
    }
   ],
   "source": [
    "dta = APRtable(0.03,0.1,20000,2)\n",
    "display(dta)\n",
    "plt.plot(dta['APR%'],dta['Monthly$'])\n",
    "display(Markdown('*Stats of Monthly$*'),round(dta['Monthly$'].describe(),1))"
   ]
  },
  {
   "cell_type": "code",
   "execution_count": null,
   "metadata": {},
   "outputs": [
    {
     "data": {
      "text/markdown": [
       "### PRINCIPLE = $110000"
      ],
      "text/plain": [
       "<IPython.core.display.Markdown object>"
      ]
     },
     "metadata": {},
     "output_type": "display_data"
    },
    {
     "data": {
      "text/html": [
       "<div>\n",
       "<style scoped>\n",
       "    .dataframe tbody tr th:only-of-type {\n",
       "        vertical-align: middle;\n",
       "    }\n",
       "\n",
       "    .dataframe tbody tr th {\n",
       "        vertical-align: top;\n",
       "    }\n",
       "\n",
       "    .dataframe thead th {\n",
       "        text-align: right;\n",
       "    }\n",
       "</style>\n",
       "<table border=\"1\" class=\"dataframe\">\n",
       "  <thead>\n",
       "    <tr style=\"text-align: right;\">\n",
       "      <th></th>\n",
       "      <th>APR%</th>\n",
       "      <th>Monthly$</th>\n",
       "    </tr>\n",
       "  </thead>\n",
       "  <tbody>\n",
       "    <tr>\n",
       "      <th>0</th>\n",
       "      <td>0.5</td>\n",
       "      <td>421.99</td>\n",
       "    </tr>\n",
       "    <tr>\n",
       "      <th>1</th>\n",
       "      <td>1.2</td>\n",
       "      <td>457.95</td>\n",
       "    </tr>\n",
       "    <tr>\n",
       "      <th>2</th>\n",
       "      <td>2.0</td>\n",
       "      <td>495.78</td>\n",
       "    </tr>\n",
       "    <tr>\n",
       "      <th>3</th>\n",
       "      <td>2.7</td>\n",
       "      <td>535.46</td>\n",
       "    </tr>\n",
       "    <tr>\n",
       "      <th>4</th>\n",
       "      <td>3.4</td>\n",
       "      <td>576.95</td>\n",
       "    </tr>\n",
       "    <tr>\n",
       "      <th>5</th>\n",
       "      <td>4.2</td>\n",
       "      <td>620.21</td>\n",
       "    </tr>\n",
       "    <tr>\n",
       "      <th>6</th>\n",
       "      <td>4.9</td>\n",
       "      <td>665.18</td>\n",
       "    </tr>\n",
       "    <tr>\n",
       "      <th>7</th>\n",
       "      <td>5.6</td>\n",
       "      <td>711.82</td>\n",
       "    </tr>\n",
       "    <tr>\n",
       "      <th>8</th>\n",
       "      <td>6.4</td>\n",
       "      <td>760.04</td>\n",
       "    </tr>\n",
       "    <tr>\n",
       "      <th>9</th>\n",
       "      <td>7.1</td>\n",
       "      <td>809.78</td>\n",
       "    </tr>\n",
       "  </tbody>\n",
       "</table>\n",
       "</div>"
      ],
      "text/plain": [
       "   APR%  Monthly$\n",
       "0   0.5    421.99\n",
       "1   1.2    457.95\n",
       "2   2.0    495.78\n",
       "3   2.7    535.46\n",
       "4   3.4    576.95\n",
       "5   4.2    620.21\n",
       "6   4.9    665.18\n",
       "7   5.6    711.82\n",
       "8   6.4    760.04\n",
       "9   7.1    809.78"
      ]
     },
     "execution_count": 43,
     "metadata": {},
     "output_type": "execute_result"
    }
   ],
   "source": [
    "APRtable(0.005,0.071, 110000, 23)"
   ]
  },
  {
   "cell_type": "markdown",
   "metadata": {},
   "source": [
    "SYMBOL | Represents\n",
    "-------|-----------------\n",
    "$moPmnt$|`MONTHLY PAYMENT`\n",
    "$P$|`PRINCIPLE`\n",
    "$n$|`No. MONTHS`\n",
    "$r$|`INTEREST RATE (MONTHLY)`"
   ]
  },
  {
   "cell_type": "code",
   "execution_count": null,
   "metadata": {},
   "outputs": [],
   "source": [
    "def apr_vs_cost_change (apr1,apr2,cost1,cost2) :\n",
    "   ch_apr = apr2 - apr1\n",
    "   ch_mo_pmnt = round((cost2 / cost1-1)*100, 1)\n",
    "   output = f'{ch_apr}% change APR -> \\n{ch_mo_pmnt}% change monthly cost'\n",
    "   print (output)"
   ]
  },
  {
   "cell_type": "code",
   "execution_count": null,
   "metadata": {},
   "outputs": [
    {
     "name": "stdout",
     "output_type": "stream",
     "text": [
      "2.0% change APR -> \n",
      "20.0% change monthly cost\n"
     ]
    }
   ],
   "source": [
    "apr_vs_cost_change (1.5 , 3.5, 579, 695)"
   ]
  },
  {
   "cell_type": "code",
   "execution_count": null,
   "metadata": {},
   "outputs": [
    {
     "name": "stdout",
     "output_type": "stream",
     "text": [
      "5.0% change APR -> \n",
      "54.4% change monthly cost\n"
     ]
    }
   ],
   "source": [
    "apr_vs_cost_change (1.5,6.5,579,894)"
   ]
  },
  {
   "cell_type": "code",
   "execution_count": null,
   "metadata": {},
   "outputs": [],
   "source": []
  }
 ],
 "metadata": {
  "interpreter": {
   "hash": "8fd295a7007e560b192f709854f66b36915a5382ae77c4fca9f0e6f21003d31e"
  },
  "kernelspec": {
   "display_name": "Python 3.9.5 ('base')",
   "language": "python",
   "name": "python3"
  },
  "language_info": {
   "codemirror_mode": {
    "name": "ipython",
    "version": 3
   },
   "file_extension": ".py",
   "mimetype": "text/x-python",
   "name": "python",
   "nbconvert_exporter": "python",
   "pygments_lexer": "ipython3",
   "version": "3.8.2"
  },
  "orig_nbformat": 4
 },
 "nbformat": 4,
 "nbformat_minor": 2
}
